{
  "nbformat": 4,
  "nbformat_minor": 0,
  "metadata": {
    "colab": {
      "provenance": [],
      "gpuType": "T4"
    },
    "kernelspec": {
      "name": "python3",
      "display_name": "Python 3"
    },
    "language_info": {
      "name": "python"
    },
    "accelerator": "GPU",
    "widgets": {
      "application/vnd.jupyter.widget-state+json": {
        "a81857d4fe8647f491e583e50e2b30d8": {
          "model_module": "@jupyter-widgets/controls",
          "model_name": "HBoxModel",
          "model_module_version": "1.5.0",
          "state": {
            "_dom_classes": [],
            "_model_module": "@jupyter-widgets/controls",
            "_model_module_version": "1.5.0",
            "_model_name": "HBoxModel",
            "_view_count": null,
            "_view_module": "@jupyter-widgets/controls",
            "_view_module_version": "1.5.0",
            "_view_name": "HBoxView",
            "box_style": "",
            "children": [
              "IPY_MODEL_7e33c154f9154a8ab2ccae843b167b9a",
              "IPY_MODEL_3ed4f8866ef941c8809fd9b5bbe69ccb",
              "IPY_MODEL_856b7b042ea24a8f994eaf5510974826"
            ],
            "layout": "IPY_MODEL_d1cc1bd95dcf4bdba0cee0dbaf38ae15"
          }
        },
        "7e33c154f9154a8ab2ccae843b167b9a": {
          "model_module": "@jupyter-widgets/controls",
          "model_name": "HTMLModel",
          "model_module_version": "1.5.0",
          "state": {
            "_dom_classes": [],
            "_model_module": "@jupyter-widgets/controls",
            "_model_module_version": "1.5.0",
            "_model_name": "HTMLModel",
            "_view_count": null,
            "_view_module": "@jupyter-widgets/controls",
            "_view_module_version": "1.5.0",
            "_view_name": "HTMLView",
            "description": "",
            "description_tooltip": null,
            "layout": "IPY_MODEL_568a7dcc591643cd8704968173de65f9",
            "placeholder": "​",
            "style": "IPY_MODEL_9f968c0ef6184fbaa93ca9ad78a9b8e3",
            "value": "Dl Completed...: 100%"
          }
        },
        "3ed4f8866ef941c8809fd9b5bbe69ccb": {
          "model_module": "@jupyter-widgets/controls",
          "model_name": "FloatProgressModel",
          "model_module_version": "1.5.0",
          "state": {
            "_dom_classes": [],
            "_model_module": "@jupyter-widgets/controls",
            "_model_module_version": "1.5.0",
            "_model_name": "FloatProgressModel",
            "_view_count": null,
            "_view_module": "@jupyter-widgets/controls",
            "_view_module_version": "1.5.0",
            "_view_name": "ProgressView",
            "bar_style": "success",
            "description": "",
            "description_tooltip": null,
            "layout": "IPY_MODEL_1af8c6b0419543ad89afffd0d582db82",
            "max": 1,
            "min": 0,
            "orientation": "horizontal",
            "style": "IPY_MODEL_2d102ffffbd54a439dfb6d01b4f97b30",
            "value": 1
          }
        },
        "856b7b042ea24a8f994eaf5510974826": {
          "model_module": "@jupyter-widgets/controls",
          "model_name": "HTMLModel",
          "model_module_version": "1.5.0",
          "state": {
            "_dom_classes": [],
            "_model_module": "@jupyter-widgets/controls",
            "_model_module_version": "1.5.0",
            "_model_name": "HTMLModel",
            "_view_count": null,
            "_view_module": "@jupyter-widgets/controls",
            "_view_module_version": "1.5.0",
            "_view_name": "HTMLView",
            "description": "",
            "description_tooltip": null,
            "layout": "IPY_MODEL_ab15deecbccd4134b09c8ce8ae76b554",
            "placeholder": "​",
            "style": "IPY_MODEL_e5af44ed404d4d9c95f322ec741eb865",
            "value": " 1/1 [00:14&lt;00:00, 14.92s/ url]"
          }
        },
        "d1cc1bd95dcf4bdba0cee0dbaf38ae15": {
          "model_module": "@jupyter-widgets/base",
          "model_name": "LayoutModel",
          "model_module_version": "1.2.0",
          "state": {
            "_model_module": "@jupyter-widgets/base",
            "_model_module_version": "1.2.0",
            "_model_name": "LayoutModel",
            "_view_count": null,
            "_view_module": "@jupyter-widgets/base",
            "_view_module_version": "1.2.0",
            "_view_name": "LayoutView",
            "align_content": null,
            "align_items": null,
            "align_self": null,
            "border": null,
            "bottom": null,
            "display": null,
            "flex": null,
            "flex_flow": null,
            "grid_area": null,
            "grid_auto_columns": null,
            "grid_auto_flow": null,
            "grid_auto_rows": null,
            "grid_column": null,
            "grid_gap": null,
            "grid_row": null,
            "grid_template_areas": null,
            "grid_template_columns": null,
            "grid_template_rows": null,
            "height": null,
            "justify_content": null,
            "justify_items": null,
            "left": null,
            "margin": null,
            "max_height": null,
            "max_width": null,
            "min_height": null,
            "min_width": null,
            "object_fit": null,
            "object_position": null,
            "order": null,
            "overflow": null,
            "overflow_x": null,
            "overflow_y": null,
            "padding": null,
            "right": null,
            "top": null,
            "visibility": null,
            "width": null
          }
        },
        "568a7dcc591643cd8704968173de65f9": {
          "model_module": "@jupyter-widgets/base",
          "model_name": "LayoutModel",
          "model_module_version": "1.2.0",
          "state": {
            "_model_module": "@jupyter-widgets/base",
            "_model_module_version": "1.2.0",
            "_model_name": "LayoutModel",
            "_view_count": null,
            "_view_module": "@jupyter-widgets/base",
            "_view_module_version": "1.2.0",
            "_view_name": "LayoutView",
            "align_content": null,
            "align_items": null,
            "align_self": null,
            "border": null,
            "bottom": null,
            "display": null,
            "flex": null,
            "flex_flow": null,
            "grid_area": null,
            "grid_auto_columns": null,
            "grid_auto_flow": null,
            "grid_auto_rows": null,
            "grid_column": null,
            "grid_gap": null,
            "grid_row": null,
            "grid_template_areas": null,
            "grid_template_columns": null,
            "grid_template_rows": null,
            "height": null,
            "justify_content": null,
            "justify_items": null,
            "left": null,
            "margin": null,
            "max_height": null,
            "max_width": null,
            "min_height": null,
            "min_width": null,
            "object_fit": null,
            "object_position": null,
            "order": null,
            "overflow": null,
            "overflow_x": null,
            "overflow_y": null,
            "padding": null,
            "right": null,
            "top": null,
            "visibility": null,
            "width": null
          }
        },
        "9f968c0ef6184fbaa93ca9ad78a9b8e3": {
          "model_module": "@jupyter-widgets/controls",
          "model_name": "DescriptionStyleModel",
          "model_module_version": "1.5.0",
          "state": {
            "_model_module": "@jupyter-widgets/controls",
            "_model_module_version": "1.5.0",
            "_model_name": "DescriptionStyleModel",
            "_view_count": null,
            "_view_module": "@jupyter-widgets/base",
            "_view_module_version": "1.2.0",
            "_view_name": "StyleView",
            "description_width": ""
          }
        },
        "1af8c6b0419543ad89afffd0d582db82": {
          "model_module": "@jupyter-widgets/base",
          "model_name": "LayoutModel",
          "model_module_version": "1.2.0",
          "state": {
            "_model_module": "@jupyter-widgets/base",
            "_model_module_version": "1.2.0",
            "_model_name": "LayoutModel",
            "_view_count": null,
            "_view_module": "@jupyter-widgets/base",
            "_view_module_version": "1.2.0",
            "_view_name": "LayoutView",
            "align_content": null,
            "align_items": null,
            "align_self": null,
            "border": null,
            "bottom": null,
            "display": null,
            "flex": null,
            "flex_flow": null,
            "grid_area": null,
            "grid_auto_columns": null,
            "grid_auto_flow": null,
            "grid_auto_rows": null,
            "grid_column": null,
            "grid_gap": null,
            "grid_row": null,
            "grid_template_areas": null,
            "grid_template_columns": null,
            "grid_template_rows": null,
            "height": null,
            "justify_content": null,
            "justify_items": null,
            "left": null,
            "margin": null,
            "max_height": null,
            "max_width": null,
            "min_height": null,
            "min_width": null,
            "object_fit": null,
            "object_position": null,
            "order": null,
            "overflow": null,
            "overflow_x": null,
            "overflow_y": null,
            "padding": null,
            "right": null,
            "top": null,
            "visibility": null,
            "width": "20px"
          }
        },
        "2d102ffffbd54a439dfb6d01b4f97b30": {
          "model_module": "@jupyter-widgets/controls",
          "model_name": "ProgressStyleModel",
          "model_module_version": "1.5.0",
          "state": {
            "_model_module": "@jupyter-widgets/controls",
            "_model_module_version": "1.5.0",
            "_model_name": "ProgressStyleModel",
            "_view_count": null,
            "_view_module": "@jupyter-widgets/base",
            "_view_module_version": "1.2.0",
            "_view_name": "StyleView",
            "bar_color": null,
            "description_width": ""
          }
        },
        "ab15deecbccd4134b09c8ce8ae76b554": {
          "model_module": "@jupyter-widgets/base",
          "model_name": "LayoutModel",
          "model_module_version": "1.2.0",
          "state": {
            "_model_module": "@jupyter-widgets/base",
            "_model_module_version": "1.2.0",
            "_model_name": "LayoutModel",
            "_view_count": null,
            "_view_module": "@jupyter-widgets/base",
            "_view_module_version": "1.2.0",
            "_view_name": "LayoutView",
            "align_content": null,
            "align_items": null,
            "align_self": null,
            "border": null,
            "bottom": null,
            "display": null,
            "flex": null,
            "flex_flow": null,
            "grid_area": null,
            "grid_auto_columns": null,
            "grid_auto_flow": null,
            "grid_auto_rows": null,
            "grid_column": null,
            "grid_gap": null,
            "grid_row": null,
            "grid_template_areas": null,
            "grid_template_columns": null,
            "grid_template_rows": null,
            "height": null,
            "justify_content": null,
            "justify_items": null,
            "left": null,
            "margin": null,
            "max_height": null,
            "max_width": null,
            "min_height": null,
            "min_width": null,
            "object_fit": null,
            "object_position": null,
            "order": null,
            "overflow": null,
            "overflow_x": null,
            "overflow_y": null,
            "padding": null,
            "right": null,
            "top": null,
            "visibility": null,
            "width": null
          }
        },
        "e5af44ed404d4d9c95f322ec741eb865": {
          "model_module": "@jupyter-widgets/controls",
          "model_name": "DescriptionStyleModel",
          "model_module_version": "1.5.0",
          "state": {
            "_model_module": "@jupyter-widgets/controls",
            "_model_module_version": "1.5.0",
            "_model_name": "DescriptionStyleModel",
            "_view_count": null,
            "_view_module": "@jupyter-widgets/base",
            "_view_module_version": "1.2.0",
            "_view_name": "StyleView",
            "description_width": ""
          }
        },
        "d3e25c12c3bc4a3bbf89798304e89ada": {
          "model_module": "@jupyter-widgets/controls",
          "model_name": "HBoxModel",
          "model_module_version": "1.5.0",
          "state": {
            "_dom_classes": [],
            "_model_module": "@jupyter-widgets/controls",
            "_model_module_version": "1.5.0",
            "_model_name": "HBoxModel",
            "_view_count": null,
            "_view_module": "@jupyter-widgets/controls",
            "_view_module_version": "1.5.0",
            "_view_name": "HBoxView",
            "box_style": "",
            "children": [
              "IPY_MODEL_c8bb808d8eb54306bf4943a246de1ade",
              "IPY_MODEL_752e9ded78c641c4b26c09b5016626d4",
              "IPY_MODEL_1b75822aaa6748d2a4b9f17859c0727c"
            ],
            "layout": "IPY_MODEL_ae59146bcd0644a8a5351e63ee1f7947"
          }
        },
        "c8bb808d8eb54306bf4943a246de1ade": {
          "model_module": "@jupyter-widgets/controls",
          "model_name": "HTMLModel",
          "model_module_version": "1.5.0",
          "state": {
            "_dom_classes": [],
            "_model_module": "@jupyter-widgets/controls",
            "_model_module_version": "1.5.0",
            "_model_name": "HTMLModel",
            "_view_count": null,
            "_view_module": "@jupyter-widgets/controls",
            "_view_module_version": "1.5.0",
            "_view_name": "HTMLView",
            "description": "",
            "description_tooltip": null,
            "layout": "IPY_MODEL_1e6c1ac5a1a34eee8cc1e258d13b96b7",
            "placeholder": "​",
            "style": "IPY_MODEL_c128280280644245948c96c256435148",
            "value": "Dl Size...: 100%"
          }
        },
        "752e9ded78c641c4b26c09b5016626d4": {
          "model_module": "@jupyter-widgets/controls",
          "model_name": "FloatProgressModel",
          "model_module_version": "1.5.0",
          "state": {
            "_dom_classes": [],
            "_model_module": "@jupyter-widgets/controls",
            "_model_module_version": "1.5.0",
            "_model_name": "FloatProgressModel",
            "_view_count": null,
            "_view_module": "@jupyter-widgets/controls",
            "_view_module_version": "1.5.0",
            "_view_name": "ProgressView",
            "bar_style": "success",
            "description": "",
            "description_tooltip": null,
            "layout": "IPY_MODEL_73b9c8bb0e54496e8910d3f0ab16e71e",
            "max": 1,
            "min": 0,
            "orientation": "horizontal",
            "style": "IPY_MODEL_2c65214b55d94e999865bce9889168d1",
            "value": 1
          }
        },
        "1b75822aaa6748d2a4b9f17859c0727c": {
          "model_module": "@jupyter-widgets/controls",
          "model_name": "HTMLModel",
          "model_module_version": "1.5.0",
          "state": {
            "_dom_classes": [],
            "_model_module": "@jupyter-widgets/controls",
            "_model_module_version": "1.5.0",
            "_model_name": "HTMLModel",
            "_view_count": null,
            "_view_module": "@jupyter-widgets/controls",
            "_view_module_version": "1.5.0",
            "_view_name": "HTMLView",
            "description": "",
            "description_tooltip": null,
            "layout": "IPY_MODEL_dffda8d7f3e44ecda586353f6b45259c",
            "placeholder": "​",
            "style": "IPY_MODEL_c58e2e356e8a40469f9d0b468d8e0caf",
            "value": " 80/80 [00:14&lt;00:00,  5.32 MiB/s]"
          }
        },
        "ae59146bcd0644a8a5351e63ee1f7947": {
          "model_module": "@jupyter-widgets/base",
          "model_name": "LayoutModel",
          "model_module_version": "1.2.0",
          "state": {
            "_model_module": "@jupyter-widgets/base",
            "_model_module_version": "1.2.0",
            "_model_name": "LayoutModel",
            "_view_count": null,
            "_view_module": "@jupyter-widgets/base",
            "_view_module_version": "1.2.0",
            "_view_name": "LayoutView",
            "align_content": null,
            "align_items": null,
            "align_self": null,
            "border": null,
            "bottom": null,
            "display": null,
            "flex": null,
            "flex_flow": null,
            "grid_area": null,
            "grid_auto_columns": null,
            "grid_auto_flow": null,
            "grid_auto_rows": null,
            "grid_column": null,
            "grid_gap": null,
            "grid_row": null,
            "grid_template_areas": null,
            "grid_template_columns": null,
            "grid_template_rows": null,
            "height": null,
            "justify_content": null,
            "justify_items": null,
            "left": null,
            "margin": null,
            "max_height": null,
            "max_width": null,
            "min_height": null,
            "min_width": null,
            "object_fit": null,
            "object_position": null,
            "order": null,
            "overflow": null,
            "overflow_x": null,
            "overflow_y": null,
            "padding": null,
            "right": null,
            "top": null,
            "visibility": null,
            "width": null
          }
        },
        "1e6c1ac5a1a34eee8cc1e258d13b96b7": {
          "model_module": "@jupyter-widgets/base",
          "model_name": "LayoutModel",
          "model_module_version": "1.2.0",
          "state": {
            "_model_module": "@jupyter-widgets/base",
            "_model_module_version": "1.2.0",
            "_model_name": "LayoutModel",
            "_view_count": null,
            "_view_module": "@jupyter-widgets/base",
            "_view_module_version": "1.2.0",
            "_view_name": "LayoutView",
            "align_content": null,
            "align_items": null,
            "align_self": null,
            "border": null,
            "bottom": null,
            "display": null,
            "flex": null,
            "flex_flow": null,
            "grid_area": null,
            "grid_auto_columns": null,
            "grid_auto_flow": null,
            "grid_auto_rows": null,
            "grid_column": null,
            "grid_gap": null,
            "grid_row": null,
            "grid_template_areas": null,
            "grid_template_columns": null,
            "grid_template_rows": null,
            "height": null,
            "justify_content": null,
            "justify_items": null,
            "left": null,
            "margin": null,
            "max_height": null,
            "max_width": null,
            "min_height": null,
            "min_width": null,
            "object_fit": null,
            "object_position": null,
            "order": null,
            "overflow": null,
            "overflow_x": null,
            "overflow_y": null,
            "padding": null,
            "right": null,
            "top": null,
            "visibility": null,
            "width": null
          }
        },
        "c128280280644245948c96c256435148": {
          "model_module": "@jupyter-widgets/controls",
          "model_name": "DescriptionStyleModel",
          "model_module_version": "1.5.0",
          "state": {
            "_model_module": "@jupyter-widgets/controls",
            "_model_module_version": "1.5.0",
            "_model_name": "DescriptionStyleModel",
            "_view_count": null,
            "_view_module": "@jupyter-widgets/base",
            "_view_module_version": "1.2.0",
            "_view_name": "StyleView",
            "description_width": ""
          }
        },
        "73b9c8bb0e54496e8910d3f0ab16e71e": {
          "model_module": "@jupyter-widgets/base",
          "model_name": "LayoutModel",
          "model_module_version": "1.2.0",
          "state": {
            "_model_module": "@jupyter-widgets/base",
            "_model_module_version": "1.2.0",
            "_model_name": "LayoutModel",
            "_view_count": null,
            "_view_module": "@jupyter-widgets/base",
            "_view_module_version": "1.2.0",
            "_view_name": "LayoutView",
            "align_content": null,
            "align_items": null,
            "align_self": null,
            "border": null,
            "bottom": null,
            "display": null,
            "flex": null,
            "flex_flow": null,
            "grid_area": null,
            "grid_auto_columns": null,
            "grid_auto_flow": null,
            "grid_auto_rows": null,
            "grid_column": null,
            "grid_gap": null,
            "grid_row": null,
            "grid_template_areas": null,
            "grid_template_columns": null,
            "grid_template_rows": null,
            "height": null,
            "justify_content": null,
            "justify_items": null,
            "left": null,
            "margin": null,
            "max_height": null,
            "max_width": null,
            "min_height": null,
            "min_width": null,
            "object_fit": null,
            "object_position": null,
            "order": null,
            "overflow": null,
            "overflow_x": null,
            "overflow_y": null,
            "padding": null,
            "right": null,
            "top": null,
            "visibility": null,
            "width": "20px"
          }
        },
        "2c65214b55d94e999865bce9889168d1": {
          "model_module": "@jupyter-widgets/controls",
          "model_name": "ProgressStyleModel",
          "model_module_version": "1.5.0",
          "state": {
            "_model_module": "@jupyter-widgets/controls",
            "_model_module_version": "1.5.0",
            "_model_name": "ProgressStyleModel",
            "_view_count": null,
            "_view_module": "@jupyter-widgets/base",
            "_view_module_version": "1.2.0",
            "_view_name": "StyleView",
            "bar_color": null,
            "description_width": ""
          }
        },
        "dffda8d7f3e44ecda586353f6b45259c": {
          "model_module": "@jupyter-widgets/base",
          "model_name": "LayoutModel",
          "model_module_version": "1.2.0",
          "state": {
            "_model_module": "@jupyter-widgets/base",
            "_model_module_version": "1.2.0",
            "_model_name": "LayoutModel",
            "_view_count": null,
            "_view_module": "@jupyter-widgets/base",
            "_view_module_version": "1.2.0",
            "_view_name": "LayoutView",
            "align_content": null,
            "align_items": null,
            "align_self": null,
            "border": null,
            "bottom": null,
            "display": null,
            "flex": null,
            "flex_flow": null,
            "grid_area": null,
            "grid_auto_columns": null,
            "grid_auto_flow": null,
            "grid_auto_rows": null,
            "grid_column": null,
            "grid_gap": null,
            "grid_row": null,
            "grid_template_areas": null,
            "grid_template_columns": null,
            "grid_template_rows": null,
            "height": null,
            "justify_content": null,
            "justify_items": null,
            "left": null,
            "margin": null,
            "max_height": null,
            "max_width": null,
            "min_height": null,
            "min_width": null,
            "object_fit": null,
            "object_position": null,
            "order": null,
            "overflow": null,
            "overflow_x": null,
            "overflow_y": null,
            "padding": null,
            "right": null,
            "top": null,
            "visibility": null,
            "width": null
          }
        },
        "c58e2e356e8a40469f9d0b468d8e0caf": {
          "model_module": "@jupyter-widgets/controls",
          "model_name": "DescriptionStyleModel",
          "model_module_version": "1.5.0",
          "state": {
            "_model_module": "@jupyter-widgets/controls",
            "_model_module_version": "1.5.0",
            "_model_name": "DescriptionStyleModel",
            "_view_count": null,
            "_view_module": "@jupyter-widgets/base",
            "_view_module_version": "1.2.0",
            "_view_name": "StyleView",
            "description_width": ""
          }
        },
        "c1537bb6aafd4dcbb2e7e16c1b3a85c5": {
          "model_module": "@jupyter-widgets/controls",
          "model_name": "HBoxModel",
          "model_module_version": "1.5.0",
          "state": {
            "_dom_classes": [],
            "_model_module": "@jupyter-widgets/controls",
            "_model_module_version": "1.5.0",
            "_model_name": "HBoxModel",
            "_view_count": null,
            "_view_module": "@jupyter-widgets/controls",
            "_view_module_version": "1.5.0",
            "_view_name": "HBoxView",
            "box_style": "",
            "children": [
              "IPY_MODEL_bbc26b9d3a0c42d6a272d144b09c4797",
              "IPY_MODEL_c68069f7d59245a78e6ba24b460a1b39",
              "IPY_MODEL_9c4f000fcbcb4f29ab489db94bc27f93"
            ],
            "layout": "IPY_MODEL_cf5a5cc09f454b4e87182358538776b5"
          }
        },
        "bbc26b9d3a0c42d6a272d144b09c4797": {
          "model_module": "@jupyter-widgets/controls",
          "model_name": "HTMLModel",
          "model_module_version": "1.5.0",
          "state": {
            "_dom_classes": [],
            "_model_module": "@jupyter-widgets/controls",
            "_model_module_version": "1.5.0",
            "_model_name": "HTMLModel",
            "_view_count": null,
            "_view_module": "@jupyter-widgets/controls",
            "_view_module_version": "1.5.0",
            "_view_name": "HTMLView",
            "description": "",
            "description_tooltip": null,
            "layout": "IPY_MODEL_a3b53812fb524cb2849a561f13d64396",
            "placeholder": "​",
            "style": "IPY_MODEL_f4fc2c248f77423c8e7701e96ce53199",
            "value": "Generating splits...: 100%"
          }
        },
        "c68069f7d59245a78e6ba24b460a1b39": {
          "model_module": "@jupyter-widgets/controls",
          "model_name": "FloatProgressModel",
          "model_module_version": "1.5.0",
          "state": {
            "_dom_classes": [],
            "_model_module": "@jupyter-widgets/controls",
            "_model_module_version": "1.5.0",
            "_model_name": "FloatProgressModel",
            "_view_count": null,
            "_view_module": "@jupyter-widgets/controls",
            "_view_module_version": "1.5.0",
            "_view_name": "ProgressView",
            "bar_style": "",
            "description": "",
            "description_tooltip": null,
            "layout": "IPY_MODEL_d5b625834acd4109bdfad602a19a5798",
            "max": 3,
            "min": 0,
            "orientation": "horizontal",
            "style": "IPY_MODEL_d666e04306e34892b05b8f65641ed78b",
            "value": 3
          }
        },
        "9c4f000fcbcb4f29ab489db94bc27f93": {
          "model_module": "@jupyter-widgets/controls",
          "model_name": "HTMLModel",
          "model_module_version": "1.5.0",
          "state": {
            "_dom_classes": [],
            "_model_module": "@jupyter-widgets/controls",
            "_model_module_version": "1.5.0",
            "_model_name": "HTMLModel",
            "_view_count": null,
            "_view_module": "@jupyter-widgets/controls",
            "_view_module_version": "1.5.0",
            "_view_name": "HTMLView",
            "description": "",
            "description_tooltip": null,
            "layout": "IPY_MODEL_1b322049863248f6af1bb2f56a0fc9e9",
            "placeholder": "​",
            "style": "IPY_MODEL_4ab46a26e9e54d618ffbaa92136ac019",
            "value": " 3/3 [00:44&lt;00:00, 15.41s/ splits]"
          }
        },
        "cf5a5cc09f454b4e87182358538776b5": {
          "model_module": "@jupyter-widgets/base",
          "model_name": "LayoutModel",
          "model_module_version": "1.2.0",
          "state": {
            "_model_module": "@jupyter-widgets/base",
            "_model_module_version": "1.2.0",
            "_model_name": "LayoutModel",
            "_view_count": null,
            "_view_module": "@jupyter-widgets/base",
            "_view_module_version": "1.2.0",
            "_view_name": "LayoutView",
            "align_content": null,
            "align_items": null,
            "align_self": null,
            "border": null,
            "bottom": null,
            "display": null,
            "flex": null,
            "flex_flow": null,
            "grid_area": null,
            "grid_auto_columns": null,
            "grid_auto_flow": null,
            "grid_auto_rows": null,
            "grid_column": null,
            "grid_gap": null,
            "grid_row": null,
            "grid_template_areas": null,
            "grid_template_columns": null,
            "grid_template_rows": null,
            "height": null,
            "justify_content": null,
            "justify_items": null,
            "left": null,
            "margin": null,
            "max_height": null,
            "max_width": null,
            "min_height": null,
            "min_width": null,
            "object_fit": null,
            "object_position": null,
            "order": null,
            "overflow": null,
            "overflow_x": null,
            "overflow_y": null,
            "padding": null,
            "right": null,
            "top": null,
            "visibility": "hidden",
            "width": null
          }
        },
        "a3b53812fb524cb2849a561f13d64396": {
          "model_module": "@jupyter-widgets/base",
          "model_name": "LayoutModel",
          "model_module_version": "1.2.0",
          "state": {
            "_model_module": "@jupyter-widgets/base",
            "_model_module_version": "1.2.0",
            "_model_name": "LayoutModel",
            "_view_count": null,
            "_view_module": "@jupyter-widgets/base",
            "_view_module_version": "1.2.0",
            "_view_name": "LayoutView",
            "align_content": null,
            "align_items": null,
            "align_self": null,
            "border": null,
            "bottom": null,
            "display": null,
            "flex": null,
            "flex_flow": null,
            "grid_area": null,
            "grid_auto_columns": null,
            "grid_auto_flow": null,
            "grid_auto_rows": null,
            "grid_column": null,
            "grid_gap": null,
            "grid_row": null,
            "grid_template_areas": null,
            "grid_template_columns": null,
            "grid_template_rows": null,
            "height": null,
            "justify_content": null,
            "justify_items": null,
            "left": null,
            "margin": null,
            "max_height": null,
            "max_width": null,
            "min_height": null,
            "min_width": null,
            "object_fit": null,
            "object_position": null,
            "order": null,
            "overflow": null,
            "overflow_x": null,
            "overflow_y": null,
            "padding": null,
            "right": null,
            "top": null,
            "visibility": null,
            "width": null
          }
        },
        "f4fc2c248f77423c8e7701e96ce53199": {
          "model_module": "@jupyter-widgets/controls",
          "model_name": "DescriptionStyleModel",
          "model_module_version": "1.5.0",
          "state": {
            "_model_module": "@jupyter-widgets/controls",
            "_model_module_version": "1.5.0",
            "_model_name": "DescriptionStyleModel",
            "_view_count": null,
            "_view_module": "@jupyter-widgets/base",
            "_view_module_version": "1.2.0",
            "_view_name": "StyleView",
            "description_width": ""
          }
        },
        "d5b625834acd4109bdfad602a19a5798": {
          "model_module": "@jupyter-widgets/base",
          "model_name": "LayoutModel",
          "model_module_version": "1.2.0",
          "state": {
            "_model_module": "@jupyter-widgets/base",
            "_model_module_version": "1.2.0",
            "_model_name": "LayoutModel",
            "_view_count": null,
            "_view_module": "@jupyter-widgets/base",
            "_view_module_version": "1.2.0",
            "_view_name": "LayoutView",
            "align_content": null,
            "align_items": null,
            "align_self": null,
            "border": null,
            "bottom": null,
            "display": null,
            "flex": null,
            "flex_flow": null,
            "grid_area": null,
            "grid_auto_columns": null,
            "grid_auto_flow": null,
            "grid_auto_rows": null,
            "grid_column": null,
            "grid_gap": null,
            "grid_row": null,
            "grid_template_areas": null,
            "grid_template_columns": null,
            "grid_template_rows": null,
            "height": null,
            "justify_content": null,
            "justify_items": null,
            "left": null,
            "margin": null,
            "max_height": null,
            "max_width": null,
            "min_height": null,
            "min_width": null,
            "object_fit": null,
            "object_position": null,
            "order": null,
            "overflow": null,
            "overflow_x": null,
            "overflow_y": null,
            "padding": null,
            "right": null,
            "top": null,
            "visibility": null,
            "width": null
          }
        },
        "d666e04306e34892b05b8f65641ed78b": {
          "model_module": "@jupyter-widgets/controls",
          "model_name": "ProgressStyleModel",
          "model_module_version": "1.5.0",
          "state": {
            "_model_module": "@jupyter-widgets/controls",
            "_model_module_version": "1.5.0",
            "_model_name": "ProgressStyleModel",
            "_view_count": null,
            "_view_module": "@jupyter-widgets/base",
            "_view_module_version": "1.2.0",
            "_view_name": "StyleView",
            "bar_color": null,
            "description_width": ""
          }
        },
        "1b322049863248f6af1bb2f56a0fc9e9": {
          "model_module": "@jupyter-widgets/base",
          "model_name": "LayoutModel",
          "model_module_version": "1.2.0",
          "state": {
            "_model_module": "@jupyter-widgets/base",
            "_model_module_version": "1.2.0",
            "_model_name": "LayoutModel",
            "_view_count": null,
            "_view_module": "@jupyter-widgets/base",
            "_view_module_version": "1.2.0",
            "_view_name": "LayoutView",
            "align_content": null,
            "align_items": null,
            "align_self": null,
            "border": null,
            "bottom": null,
            "display": null,
            "flex": null,
            "flex_flow": null,
            "grid_area": null,
            "grid_auto_columns": null,
            "grid_auto_flow": null,
            "grid_auto_rows": null,
            "grid_column": null,
            "grid_gap": null,
            "grid_row": null,
            "grid_template_areas": null,
            "grid_template_columns": null,
            "grid_template_rows": null,
            "height": null,
            "justify_content": null,
            "justify_items": null,
            "left": null,
            "margin": null,
            "max_height": null,
            "max_width": null,
            "min_height": null,
            "min_width": null,
            "object_fit": null,
            "object_position": null,
            "order": null,
            "overflow": null,
            "overflow_x": null,
            "overflow_y": null,
            "padding": null,
            "right": null,
            "top": null,
            "visibility": null,
            "width": null
          }
        },
        "4ab46a26e9e54d618ffbaa92136ac019": {
          "model_module": "@jupyter-widgets/controls",
          "model_name": "DescriptionStyleModel",
          "model_module_version": "1.5.0",
          "state": {
            "_model_module": "@jupyter-widgets/controls",
            "_model_module_version": "1.5.0",
            "_model_name": "DescriptionStyleModel",
            "_view_count": null,
            "_view_module": "@jupyter-widgets/base",
            "_view_module_version": "1.2.0",
            "_view_name": "StyleView",
            "description_width": ""
          }
        },
        "c6a0832247fe43bfa25eeee4c6edb885": {
          "model_module": "@jupyter-widgets/controls",
          "model_name": "HBoxModel",
          "model_module_version": "1.5.0",
          "state": {
            "_dom_classes": [],
            "_model_module": "@jupyter-widgets/controls",
            "_model_module_version": "1.5.0",
            "_model_name": "HBoxModel",
            "_view_count": null,
            "_view_module": "@jupyter-widgets/controls",
            "_view_module_version": "1.5.0",
            "_view_name": "HBoxView",
            "box_style": "",
            "children": [
              "IPY_MODEL_babe952401ba4b5bb9c2355e77dfa3d3",
              "IPY_MODEL_4c0ce066dc5a402f84874afac0217d39",
              "IPY_MODEL_25468ef3ed214d4bae32162a04ca2ecb"
            ],
            "layout": "IPY_MODEL_bef8b8425abd499d9cfa074b721d9c40"
          }
        },
        "babe952401ba4b5bb9c2355e77dfa3d3": {
          "model_module": "@jupyter-widgets/controls",
          "model_name": "HTMLModel",
          "model_module_version": "1.5.0",
          "state": {
            "_dom_classes": [],
            "_model_module": "@jupyter-widgets/controls",
            "_model_module_version": "1.5.0",
            "_model_name": "HTMLModel",
            "_view_count": null,
            "_view_module": "@jupyter-widgets/controls",
            "_view_module_version": "1.5.0",
            "_view_name": "HTMLView",
            "description": "",
            "description_tooltip": null,
            "layout": "IPY_MODEL_a0cde8fb579148ecb13d507a0cde0199",
            "placeholder": "​",
            "style": "IPY_MODEL_42c34172bbe0460d8332d3908de75bb3",
            "value": "Generating train examples...:  89%"
          }
        },
        "4c0ce066dc5a402f84874afac0217d39": {
          "model_module": "@jupyter-widgets/controls",
          "model_name": "FloatProgressModel",
          "model_module_version": "1.5.0",
          "state": {
            "_dom_classes": [],
            "_model_module": "@jupyter-widgets/controls",
            "_model_module_version": "1.5.0",
            "_model_name": "FloatProgressModel",
            "_view_count": null,
            "_view_module": "@jupyter-widgets/controls",
            "_view_module_version": "1.5.0",
            "_view_name": "ProgressView",
            "bar_style": "",
            "description": "",
            "description_tooltip": null,
            "layout": "IPY_MODEL_78ed43769771476dacda12070960cfeb",
            "max": 25000,
            "min": 0,
            "orientation": "horizontal",
            "style": "IPY_MODEL_71260cab9e154a3bada900a240a394d6",
            "value": 25000
          }
        },
        "25468ef3ed214d4bae32162a04ca2ecb": {
          "model_module": "@jupyter-widgets/controls",
          "model_name": "HTMLModel",
          "model_module_version": "1.5.0",
          "state": {
            "_dom_classes": [],
            "_model_module": "@jupyter-widgets/controls",
            "_model_module_version": "1.5.0",
            "_model_name": "HTMLModel",
            "_view_count": null,
            "_view_module": "@jupyter-widgets/controls",
            "_view_module_version": "1.5.0",
            "_view_name": "HTMLView",
            "description": "",
            "description_tooltip": null,
            "layout": "IPY_MODEL_2ba1ae48350a44a4a9d92158d075bdc7",
            "placeholder": "​",
            "style": "IPY_MODEL_d3187a9ff3e8439da7ee8300c96fa3c1",
            "value": " 22303/25000 [00:07&lt;00:00, 3698.91 examples/s]"
          }
        },
        "bef8b8425abd499d9cfa074b721d9c40": {
          "model_module": "@jupyter-widgets/base",
          "model_name": "LayoutModel",
          "model_module_version": "1.2.0",
          "state": {
            "_model_module": "@jupyter-widgets/base",
            "_model_module_version": "1.2.0",
            "_model_name": "LayoutModel",
            "_view_count": null,
            "_view_module": "@jupyter-widgets/base",
            "_view_module_version": "1.2.0",
            "_view_name": "LayoutView",
            "align_content": null,
            "align_items": null,
            "align_self": null,
            "border": null,
            "bottom": null,
            "display": null,
            "flex": null,
            "flex_flow": null,
            "grid_area": null,
            "grid_auto_columns": null,
            "grid_auto_flow": null,
            "grid_auto_rows": null,
            "grid_column": null,
            "grid_gap": null,
            "grid_row": null,
            "grid_template_areas": null,
            "grid_template_columns": null,
            "grid_template_rows": null,
            "height": null,
            "justify_content": null,
            "justify_items": null,
            "left": null,
            "margin": null,
            "max_height": null,
            "max_width": null,
            "min_height": null,
            "min_width": null,
            "object_fit": null,
            "object_position": null,
            "order": null,
            "overflow": null,
            "overflow_x": null,
            "overflow_y": null,
            "padding": null,
            "right": null,
            "top": null,
            "visibility": "hidden",
            "width": null
          }
        },
        "a0cde8fb579148ecb13d507a0cde0199": {
          "model_module": "@jupyter-widgets/base",
          "model_name": "LayoutModel",
          "model_module_version": "1.2.0",
          "state": {
            "_model_module": "@jupyter-widgets/base",
            "_model_module_version": "1.2.0",
            "_model_name": "LayoutModel",
            "_view_count": null,
            "_view_module": "@jupyter-widgets/base",
            "_view_module_version": "1.2.0",
            "_view_name": "LayoutView",
            "align_content": null,
            "align_items": null,
            "align_self": null,
            "border": null,
            "bottom": null,
            "display": null,
            "flex": null,
            "flex_flow": null,
            "grid_area": null,
            "grid_auto_columns": null,
            "grid_auto_flow": null,
            "grid_auto_rows": null,
            "grid_column": null,
            "grid_gap": null,
            "grid_row": null,
            "grid_template_areas": null,
            "grid_template_columns": null,
            "grid_template_rows": null,
            "height": null,
            "justify_content": null,
            "justify_items": null,
            "left": null,
            "margin": null,
            "max_height": null,
            "max_width": null,
            "min_height": null,
            "min_width": null,
            "object_fit": null,
            "object_position": null,
            "order": null,
            "overflow": null,
            "overflow_x": null,
            "overflow_y": null,
            "padding": null,
            "right": null,
            "top": null,
            "visibility": null,
            "width": null
          }
        },
        "42c34172bbe0460d8332d3908de75bb3": {
          "model_module": "@jupyter-widgets/controls",
          "model_name": "DescriptionStyleModel",
          "model_module_version": "1.5.0",
          "state": {
            "_model_module": "@jupyter-widgets/controls",
            "_model_module_version": "1.5.0",
            "_model_name": "DescriptionStyleModel",
            "_view_count": null,
            "_view_module": "@jupyter-widgets/base",
            "_view_module_version": "1.2.0",
            "_view_name": "StyleView",
            "description_width": ""
          }
        },
        "78ed43769771476dacda12070960cfeb": {
          "model_module": "@jupyter-widgets/base",
          "model_name": "LayoutModel",
          "model_module_version": "1.2.0",
          "state": {
            "_model_module": "@jupyter-widgets/base",
            "_model_module_version": "1.2.0",
            "_model_name": "LayoutModel",
            "_view_count": null,
            "_view_module": "@jupyter-widgets/base",
            "_view_module_version": "1.2.0",
            "_view_name": "LayoutView",
            "align_content": null,
            "align_items": null,
            "align_self": null,
            "border": null,
            "bottom": null,
            "display": null,
            "flex": null,
            "flex_flow": null,
            "grid_area": null,
            "grid_auto_columns": null,
            "grid_auto_flow": null,
            "grid_auto_rows": null,
            "grid_column": null,
            "grid_gap": null,
            "grid_row": null,
            "grid_template_areas": null,
            "grid_template_columns": null,
            "grid_template_rows": null,
            "height": null,
            "justify_content": null,
            "justify_items": null,
            "left": null,
            "margin": null,
            "max_height": null,
            "max_width": null,
            "min_height": null,
            "min_width": null,
            "object_fit": null,
            "object_position": null,
            "order": null,
            "overflow": null,
            "overflow_x": null,
            "overflow_y": null,
            "padding": null,
            "right": null,
            "top": null,
            "visibility": null,
            "width": null
          }
        },
        "71260cab9e154a3bada900a240a394d6": {
          "model_module": "@jupyter-widgets/controls",
          "model_name": "ProgressStyleModel",
          "model_module_version": "1.5.0",
          "state": {
            "_model_module": "@jupyter-widgets/controls",
            "_model_module_version": "1.5.0",
            "_model_name": "ProgressStyleModel",
            "_view_count": null,
            "_view_module": "@jupyter-widgets/base",
            "_view_module_version": "1.2.0",
            "_view_name": "StyleView",
            "bar_color": null,
            "description_width": ""
          }
        },
        "2ba1ae48350a44a4a9d92158d075bdc7": {
          "model_module": "@jupyter-widgets/base",
          "model_name": "LayoutModel",
          "model_module_version": "1.2.0",
          "state": {
            "_model_module": "@jupyter-widgets/base",
            "_model_module_version": "1.2.0",
            "_model_name": "LayoutModel",
            "_view_count": null,
            "_view_module": "@jupyter-widgets/base",
            "_view_module_version": "1.2.0",
            "_view_name": "LayoutView",
            "align_content": null,
            "align_items": null,
            "align_self": null,
            "border": null,
            "bottom": null,
            "display": null,
            "flex": null,
            "flex_flow": null,
            "grid_area": null,
            "grid_auto_columns": null,
            "grid_auto_flow": null,
            "grid_auto_rows": null,
            "grid_column": null,
            "grid_gap": null,
            "grid_row": null,
            "grid_template_areas": null,
            "grid_template_columns": null,
            "grid_template_rows": null,
            "height": null,
            "justify_content": null,
            "justify_items": null,
            "left": null,
            "margin": null,
            "max_height": null,
            "max_width": null,
            "min_height": null,
            "min_width": null,
            "object_fit": null,
            "object_position": null,
            "order": null,
            "overflow": null,
            "overflow_x": null,
            "overflow_y": null,
            "padding": null,
            "right": null,
            "top": null,
            "visibility": null,
            "width": null
          }
        },
        "d3187a9ff3e8439da7ee8300c96fa3c1": {
          "model_module": "@jupyter-widgets/controls",
          "model_name": "DescriptionStyleModel",
          "model_module_version": "1.5.0",
          "state": {
            "_model_module": "@jupyter-widgets/controls",
            "_model_module_version": "1.5.0",
            "_model_name": "DescriptionStyleModel",
            "_view_count": null,
            "_view_module": "@jupyter-widgets/base",
            "_view_module_version": "1.2.0",
            "_view_name": "StyleView",
            "description_width": ""
          }
        },
        "5d54b392485244bcb75f9f1978d86b5b": {
          "model_module": "@jupyter-widgets/controls",
          "model_name": "HBoxModel",
          "model_module_version": "1.5.0",
          "state": {
            "_dom_classes": [],
            "_model_module": "@jupyter-widgets/controls",
            "_model_module_version": "1.5.0",
            "_model_name": "HBoxModel",
            "_view_count": null,
            "_view_module": "@jupyter-widgets/controls",
            "_view_module_version": "1.5.0",
            "_view_name": "HBoxView",
            "box_style": "",
            "children": [
              "IPY_MODEL_564eee0378c44fa8866f9ce0f6061273",
              "IPY_MODEL_87adf5ed48834e36a79e0e343d2f3b16",
              "IPY_MODEL_8604358ab54e4b7e8f7afd6931ddf434"
            ],
            "layout": "IPY_MODEL_4c0efd21b5de42e69ca456b02c289c9c"
          }
        },
        "564eee0378c44fa8866f9ce0f6061273": {
          "model_module": "@jupyter-widgets/controls",
          "model_name": "HTMLModel",
          "model_module_version": "1.5.0",
          "state": {
            "_dom_classes": [],
            "_model_module": "@jupyter-widgets/controls",
            "_model_module_version": "1.5.0",
            "_model_name": "HTMLModel",
            "_view_count": null,
            "_view_module": "@jupyter-widgets/controls",
            "_view_module_version": "1.5.0",
            "_view_name": "HTMLView",
            "description": "",
            "description_tooltip": null,
            "layout": "IPY_MODEL_4000c9190ba348598a4bfaeb15fcd36b",
            "placeholder": "​",
            "style": "IPY_MODEL_e0249994b9a5492e97d06b0d21c829a2",
            "value": "Shuffling /root/tensorflow_datasets/imdb_reviews/plain_text/incomplete.67OEDI_1.0.0/imdb_reviews-train.tfrecord*...:   0%"
          }
        },
        "87adf5ed48834e36a79e0e343d2f3b16": {
          "model_module": "@jupyter-widgets/controls",
          "model_name": "FloatProgressModel",
          "model_module_version": "1.5.0",
          "state": {
            "_dom_classes": [],
            "_model_module": "@jupyter-widgets/controls",
            "_model_module_version": "1.5.0",
            "_model_name": "FloatProgressModel",
            "_view_count": null,
            "_view_module": "@jupyter-widgets/controls",
            "_view_module_version": "1.5.0",
            "_view_name": "ProgressView",
            "bar_style": "",
            "description": "",
            "description_tooltip": null,
            "layout": "IPY_MODEL_c1e1220ccab7435a8db189414e966f00",
            "max": 25000,
            "min": 0,
            "orientation": "horizontal",
            "style": "IPY_MODEL_928754884f024a609cac6b8c5c52f0c8",
            "value": 25000
          }
        },
        "8604358ab54e4b7e8f7afd6931ddf434": {
          "model_module": "@jupyter-widgets/controls",
          "model_name": "HTMLModel",
          "model_module_version": "1.5.0",
          "state": {
            "_dom_classes": [],
            "_model_module": "@jupyter-widgets/controls",
            "_model_module_version": "1.5.0",
            "_model_name": "HTMLModel",
            "_view_count": null,
            "_view_module": "@jupyter-widgets/controls",
            "_view_module_version": "1.5.0",
            "_view_name": "HTMLView",
            "description": "",
            "description_tooltip": null,
            "layout": "IPY_MODEL_8a31b619efba42f49d60cc66b65c7d64",
            "placeholder": "​",
            "style": "IPY_MODEL_5aa5989df6884e90ba206053d4af08d5",
            "value": " 0/25000 [00:00&lt;?, ? examples/s]"
          }
        },
        "4c0efd21b5de42e69ca456b02c289c9c": {
          "model_module": "@jupyter-widgets/base",
          "model_name": "LayoutModel",
          "model_module_version": "1.2.0",
          "state": {
            "_model_module": "@jupyter-widgets/base",
            "_model_module_version": "1.2.0",
            "_model_name": "LayoutModel",
            "_view_count": null,
            "_view_module": "@jupyter-widgets/base",
            "_view_module_version": "1.2.0",
            "_view_name": "LayoutView",
            "align_content": null,
            "align_items": null,
            "align_self": null,
            "border": null,
            "bottom": null,
            "display": null,
            "flex": null,
            "flex_flow": null,
            "grid_area": null,
            "grid_auto_columns": null,
            "grid_auto_flow": null,
            "grid_auto_rows": null,
            "grid_column": null,
            "grid_gap": null,
            "grid_row": null,
            "grid_template_areas": null,
            "grid_template_columns": null,
            "grid_template_rows": null,
            "height": null,
            "justify_content": null,
            "justify_items": null,
            "left": null,
            "margin": null,
            "max_height": null,
            "max_width": null,
            "min_height": null,
            "min_width": null,
            "object_fit": null,
            "object_position": null,
            "order": null,
            "overflow": null,
            "overflow_x": null,
            "overflow_y": null,
            "padding": null,
            "right": null,
            "top": null,
            "visibility": "hidden",
            "width": null
          }
        },
        "4000c9190ba348598a4bfaeb15fcd36b": {
          "model_module": "@jupyter-widgets/base",
          "model_name": "LayoutModel",
          "model_module_version": "1.2.0",
          "state": {
            "_model_module": "@jupyter-widgets/base",
            "_model_module_version": "1.2.0",
            "_model_name": "LayoutModel",
            "_view_count": null,
            "_view_module": "@jupyter-widgets/base",
            "_view_module_version": "1.2.0",
            "_view_name": "LayoutView",
            "align_content": null,
            "align_items": null,
            "align_self": null,
            "border": null,
            "bottom": null,
            "display": null,
            "flex": null,
            "flex_flow": null,
            "grid_area": null,
            "grid_auto_columns": null,
            "grid_auto_flow": null,
            "grid_auto_rows": null,
            "grid_column": null,
            "grid_gap": null,
            "grid_row": null,
            "grid_template_areas": null,
            "grid_template_columns": null,
            "grid_template_rows": null,
            "height": null,
            "justify_content": null,
            "justify_items": null,
            "left": null,
            "margin": null,
            "max_height": null,
            "max_width": null,
            "min_height": null,
            "min_width": null,
            "object_fit": null,
            "object_position": null,
            "order": null,
            "overflow": null,
            "overflow_x": null,
            "overflow_y": null,
            "padding": null,
            "right": null,
            "top": null,
            "visibility": null,
            "width": null
          }
        },
        "e0249994b9a5492e97d06b0d21c829a2": {
          "model_module": "@jupyter-widgets/controls",
          "model_name": "DescriptionStyleModel",
          "model_module_version": "1.5.0",
          "state": {
            "_model_module": "@jupyter-widgets/controls",
            "_model_module_version": "1.5.0",
            "_model_name": "DescriptionStyleModel",
            "_view_count": null,
            "_view_module": "@jupyter-widgets/base",
            "_view_module_version": "1.2.0",
            "_view_name": "StyleView",
            "description_width": ""
          }
        },
        "c1e1220ccab7435a8db189414e966f00": {
          "model_module": "@jupyter-widgets/base",
          "model_name": "LayoutModel",
          "model_module_version": "1.2.0",
          "state": {
            "_model_module": "@jupyter-widgets/base",
            "_model_module_version": "1.2.0",
            "_model_name": "LayoutModel",
            "_view_count": null,
            "_view_module": "@jupyter-widgets/base",
            "_view_module_version": "1.2.0",
            "_view_name": "LayoutView",
            "align_content": null,
            "align_items": null,
            "align_self": null,
            "border": null,
            "bottom": null,
            "display": null,
            "flex": null,
            "flex_flow": null,
            "grid_area": null,
            "grid_auto_columns": null,
            "grid_auto_flow": null,
            "grid_auto_rows": null,
            "grid_column": null,
            "grid_gap": null,
            "grid_row": null,
            "grid_template_areas": null,
            "grid_template_columns": null,
            "grid_template_rows": null,
            "height": null,
            "justify_content": null,
            "justify_items": null,
            "left": null,
            "margin": null,
            "max_height": null,
            "max_width": null,
            "min_height": null,
            "min_width": null,
            "object_fit": null,
            "object_position": null,
            "order": null,
            "overflow": null,
            "overflow_x": null,
            "overflow_y": null,
            "padding": null,
            "right": null,
            "top": null,
            "visibility": null,
            "width": null
          }
        },
        "928754884f024a609cac6b8c5c52f0c8": {
          "model_module": "@jupyter-widgets/controls",
          "model_name": "ProgressStyleModel",
          "model_module_version": "1.5.0",
          "state": {
            "_model_module": "@jupyter-widgets/controls",
            "_model_module_version": "1.5.0",
            "_model_name": "ProgressStyleModel",
            "_view_count": null,
            "_view_module": "@jupyter-widgets/base",
            "_view_module_version": "1.2.0",
            "_view_name": "StyleView",
            "bar_color": null,
            "description_width": ""
          }
        },
        "8a31b619efba42f49d60cc66b65c7d64": {
          "model_module": "@jupyter-widgets/base",
          "model_name": "LayoutModel",
          "model_module_version": "1.2.0",
          "state": {
            "_model_module": "@jupyter-widgets/base",
            "_model_module_version": "1.2.0",
            "_model_name": "LayoutModel",
            "_view_count": null,
            "_view_module": "@jupyter-widgets/base",
            "_view_module_version": "1.2.0",
            "_view_name": "LayoutView",
            "align_content": null,
            "align_items": null,
            "align_self": null,
            "border": null,
            "bottom": null,
            "display": null,
            "flex": null,
            "flex_flow": null,
            "grid_area": null,
            "grid_auto_columns": null,
            "grid_auto_flow": null,
            "grid_auto_rows": null,
            "grid_column": null,
            "grid_gap": null,
            "grid_row": null,
            "grid_template_areas": null,
            "grid_template_columns": null,
            "grid_template_rows": null,
            "height": null,
            "justify_content": null,
            "justify_items": null,
            "left": null,
            "margin": null,
            "max_height": null,
            "max_width": null,
            "min_height": null,
            "min_width": null,
            "object_fit": null,
            "object_position": null,
            "order": null,
            "overflow": null,
            "overflow_x": null,
            "overflow_y": null,
            "padding": null,
            "right": null,
            "top": null,
            "visibility": null,
            "width": null
          }
        },
        "5aa5989df6884e90ba206053d4af08d5": {
          "model_module": "@jupyter-widgets/controls",
          "model_name": "DescriptionStyleModel",
          "model_module_version": "1.5.0",
          "state": {
            "_model_module": "@jupyter-widgets/controls",
            "_model_module_version": "1.5.0",
            "_model_name": "DescriptionStyleModel",
            "_view_count": null,
            "_view_module": "@jupyter-widgets/base",
            "_view_module_version": "1.2.0",
            "_view_name": "StyleView",
            "description_width": ""
          }
        },
        "f0728a8326314078bdb9e1c2fede2903": {
          "model_module": "@jupyter-widgets/controls",
          "model_name": "HBoxModel",
          "model_module_version": "1.5.0",
          "state": {
            "_dom_classes": [],
            "_model_module": "@jupyter-widgets/controls",
            "_model_module_version": "1.5.0",
            "_model_name": "HBoxModel",
            "_view_count": null,
            "_view_module": "@jupyter-widgets/controls",
            "_view_module_version": "1.5.0",
            "_view_name": "HBoxView",
            "box_style": "",
            "children": [
              "IPY_MODEL_c3561d303ec346f097a8a5e94c841449",
              "IPY_MODEL_1ae6c681714e499db88b278a79ea90ec",
              "IPY_MODEL_9071e51907a144f49e084648c7cc9e06"
            ],
            "layout": "IPY_MODEL_fc6f6f0797da4b7aaba0333747b0e61b"
          }
        },
        "c3561d303ec346f097a8a5e94c841449": {
          "model_module": "@jupyter-widgets/controls",
          "model_name": "HTMLModel",
          "model_module_version": "1.5.0",
          "state": {
            "_dom_classes": [],
            "_model_module": "@jupyter-widgets/controls",
            "_model_module_version": "1.5.0",
            "_model_name": "HTMLModel",
            "_view_count": null,
            "_view_module": "@jupyter-widgets/controls",
            "_view_module_version": "1.5.0",
            "_view_name": "HTMLView",
            "description": "",
            "description_tooltip": null,
            "layout": "IPY_MODEL_f625eceee94b410c91f90dc141180ea7",
            "placeholder": "​",
            "style": "IPY_MODEL_a9bd59de01ae4adf91e8ffd4a7fd66d5",
            "value": "Generating test examples...:  82%"
          }
        },
        "1ae6c681714e499db88b278a79ea90ec": {
          "model_module": "@jupyter-widgets/controls",
          "model_name": "FloatProgressModel",
          "model_module_version": "1.5.0",
          "state": {
            "_dom_classes": [],
            "_model_module": "@jupyter-widgets/controls",
            "_model_module_version": "1.5.0",
            "_model_name": "FloatProgressModel",
            "_view_count": null,
            "_view_module": "@jupyter-widgets/controls",
            "_view_module_version": "1.5.0",
            "_view_name": "ProgressView",
            "bar_style": "",
            "description": "",
            "description_tooltip": null,
            "layout": "IPY_MODEL_15b79b8abf7842ba9d87d06038764eb1",
            "max": 25000,
            "min": 0,
            "orientation": "horizontal",
            "style": "IPY_MODEL_a1084587078d4e50850c96ca6d0e4b17",
            "value": 25000
          }
        },
        "9071e51907a144f49e084648c7cc9e06": {
          "model_module": "@jupyter-widgets/controls",
          "model_name": "HTMLModel",
          "model_module_version": "1.5.0",
          "state": {
            "_dom_classes": [],
            "_model_module": "@jupyter-widgets/controls",
            "_model_module_version": "1.5.0",
            "_model_name": "HTMLModel",
            "_view_count": null,
            "_view_module": "@jupyter-widgets/controls",
            "_view_module_version": "1.5.0",
            "_view_name": "HTMLView",
            "description": "",
            "description_tooltip": null,
            "layout": "IPY_MODEL_0572839b5b2a4e27b2ba9b10ca015fe7",
            "placeholder": "​",
            "style": "IPY_MODEL_f429d5dfa40a4cb7bd8e9fbae8c62268",
            "value": " 20547/25000 [00:05&lt;00:00, 4456.18 examples/s]"
          }
        },
        "fc6f6f0797da4b7aaba0333747b0e61b": {
          "model_module": "@jupyter-widgets/base",
          "model_name": "LayoutModel",
          "model_module_version": "1.2.0",
          "state": {
            "_model_module": "@jupyter-widgets/base",
            "_model_module_version": "1.2.0",
            "_model_name": "LayoutModel",
            "_view_count": null,
            "_view_module": "@jupyter-widgets/base",
            "_view_module_version": "1.2.0",
            "_view_name": "LayoutView",
            "align_content": null,
            "align_items": null,
            "align_self": null,
            "border": null,
            "bottom": null,
            "display": null,
            "flex": null,
            "flex_flow": null,
            "grid_area": null,
            "grid_auto_columns": null,
            "grid_auto_flow": null,
            "grid_auto_rows": null,
            "grid_column": null,
            "grid_gap": null,
            "grid_row": null,
            "grid_template_areas": null,
            "grid_template_columns": null,
            "grid_template_rows": null,
            "height": null,
            "justify_content": null,
            "justify_items": null,
            "left": null,
            "margin": null,
            "max_height": null,
            "max_width": null,
            "min_height": null,
            "min_width": null,
            "object_fit": null,
            "object_position": null,
            "order": null,
            "overflow": null,
            "overflow_x": null,
            "overflow_y": null,
            "padding": null,
            "right": null,
            "top": null,
            "visibility": "hidden",
            "width": null
          }
        },
        "f625eceee94b410c91f90dc141180ea7": {
          "model_module": "@jupyter-widgets/base",
          "model_name": "LayoutModel",
          "model_module_version": "1.2.0",
          "state": {
            "_model_module": "@jupyter-widgets/base",
            "_model_module_version": "1.2.0",
            "_model_name": "LayoutModel",
            "_view_count": null,
            "_view_module": "@jupyter-widgets/base",
            "_view_module_version": "1.2.0",
            "_view_name": "LayoutView",
            "align_content": null,
            "align_items": null,
            "align_self": null,
            "border": null,
            "bottom": null,
            "display": null,
            "flex": null,
            "flex_flow": null,
            "grid_area": null,
            "grid_auto_columns": null,
            "grid_auto_flow": null,
            "grid_auto_rows": null,
            "grid_column": null,
            "grid_gap": null,
            "grid_row": null,
            "grid_template_areas": null,
            "grid_template_columns": null,
            "grid_template_rows": null,
            "height": null,
            "justify_content": null,
            "justify_items": null,
            "left": null,
            "margin": null,
            "max_height": null,
            "max_width": null,
            "min_height": null,
            "min_width": null,
            "object_fit": null,
            "object_position": null,
            "order": null,
            "overflow": null,
            "overflow_x": null,
            "overflow_y": null,
            "padding": null,
            "right": null,
            "top": null,
            "visibility": null,
            "width": null
          }
        },
        "a9bd59de01ae4adf91e8ffd4a7fd66d5": {
          "model_module": "@jupyter-widgets/controls",
          "model_name": "DescriptionStyleModel",
          "model_module_version": "1.5.0",
          "state": {
            "_model_module": "@jupyter-widgets/controls",
            "_model_module_version": "1.5.0",
            "_model_name": "DescriptionStyleModel",
            "_view_count": null,
            "_view_module": "@jupyter-widgets/base",
            "_view_module_version": "1.2.0",
            "_view_name": "StyleView",
            "description_width": ""
          }
        },
        "15b79b8abf7842ba9d87d06038764eb1": {
          "model_module": "@jupyter-widgets/base",
          "model_name": "LayoutModel",
          "model_module_version": "1.2.0",
          "state": {
            "_model_module": "@jupyter-widgets/base",
            "_model_module_version": "1.2.0",
            "_model_name": "LayoutModel",
            "_view_count": null,
            "_view_module": "@jupyter-widgets/base",
            "_view_module_version": "1.2.0",
            "_view_name": "LayoutView",
            "align_content": null,
            "align_items": null,
            "align_self": null,
            "border": null,
            "bottom": null,
            "display": null,
            "flex": null,
            "flex_flow": null,
            "grid_area": null,
            "grid_auto_columns": null,
            "grid_auto_flow": null,
            "grid_auto_rows": null,
            "grid_column": null,
            "grid_gap": null,
            "grid_row": null,
            "grid_template_areas": null,
            "grid_template_columns": null,
            "grid_template_rows": null,
            "height": null,
            "justify_content": null,
            "justify_items": null,
            "left": null,
            "margin": null,
            "max_height": null,
            "max_width": null,
            "min_height": null,
            "min_width": null,
            "object_fit": null,
            "object_position": null,
            "order": null,
            "overflow": null,
            "overflow_x": null,
            "overflow_y": null,
            "padding": null,
            "right": null,
            "top": null,
            "visibility": null,
            "width": null
          }
        },
        "a1084587078d4e50850c96ca6d0e4b17": {
          "model_module": "@jupyter-widgets/controls",
          "model_name": "ProgressStyleModel",
          "model_module_version": "1.5.0",
          "state": {
            "_model_module": "@jupyter-widgets/controls",
            "_model_module_version": "1.5.0",
            "_model_name": "ProgressStyleModel",
            "_view_count": null,
            "_view_module": "@jupyter-widgets/base",
            "_view_module_version": "1.2.0",
            "_view_name": "StyleView",
            "bar_color": null,
            "description_width": ""
          }
        },
        "0572839b5b2a4e27b2ba9b10ca015fe7": {
          "model_module": "@jupyter-widgets/base",
          "model_name": "LayoutModel",
          "model_module_version": "1.2.0",
          "state": {
            "_model_module": "@jupyter-widgets/base",
            "_model_module_version": "1.2.0",
            "_model_name": "LayoutModel",
            "_view_count": null,
            "_view_module": "@jupyter-widgets/base",
            "_view_module_version": "1.2.0",
            "_view_name": "LayoutView",
            "align_content": null,
            "align_items": null,
            "align_self": null,
            "border": null,
            "bottom": null,
            "display": null,
            "flex": null,
            "flex_flow": null,
            "grid_area": null,
            "grid_auto_columns": null,
            "grid_auto_flow": null,
            "grid_auto_rows": null,
            "grid_column": null,
            "grid_gap": null,
            "grid_row": null,
            "grid_template_areas": null,
            "grid_template_columns": null,
            "grid_template_rows": null,
            "height": null,
            "justify_content": null,
            "justify_items": null,
            "left": null,
            "margin": null,
            "max_height": null,
            "max_width": null,
            "min_height": null,
            "min_width": null,
            "object_fit": null,
            "object_position": null,
            "order": null,
            "overflow": null,
            "overflow_x": null,
            "overflow_y": null,
            "padding": null,
            "right": null,
            "top": null,
            "visibility": null,
            "width": null
          }
        },
        "f429d5dfa40a4cb7bd8e9fbae8c62268": {
          "model_module": "@jupyter-widgets/controls",
          "model_name": "DescriptionStyleModel",
          "model_module_version": "1.5.0",
          "state": {
            "_model_module": "@jupyter-widgets/controls",
            "_model_module_version": "1.5.0",
            "_model_name": "DescriptionStyleModel",
            "_view_count": null,
            "_view_module": "@jupyter-widgets/base",
            "_view_module_version": "1.2.0",
            "_view_name": "StyleView",
            "description_width": ""
          }
        },
        "75c40194e75f4034ab85966c481e1829": {
          "model_module": "@jupyter-widgets/controls",
          "model_name": "HBoxModel",
          "model_module_version": "1.5.0",
          "state": {
            "_dom_classes": [],
            "_model_module": "@jupyter-widgets/controls",
            "_model_module_version": "1.5.0",
            "_model_name": "HBoxModel",
            "_view_count": null,
            "_view_module": "@jupyter-widgets/controls",
            "_view_module_version": "1.5.0",
            "_view_name": "HBoxView",
            "box_style": "",
            "children": [
              "IPY_MODEL_dc93d93eb0a6411193d23817cb8c8b4f",
              "IPY_MODEL_6676d9926ed344feaeaef3188499200f",
              "IPY_MODEL_350220e7715b4ce69675b988157aee22"
            ],
            "layout": "IPY_MODEL_fecc857da985489593909ed4c6c8b3e2"
          }
        },
        "dc93d93eb0a6411193d23817cb8c8b4f": {
          "model_module": "@jupyter-widgets/controls",
          "model_name": "HTMLModel",
          "model_module_version": "1.5.0",
          "state": {
            "_dom_classes": [],
            "_model_module": "@jupyter-widgets/controls",
            "_model_module_version": "1.5.0",
            "_model_name": "HTMLModel",
            "_view_count": null,
            "_view_module": "@jupyter-widgets/controls",
            "_view_module_version": "1.5.0",
            "_view_name": "HTMLView",
            "description": "",
            "description_tooltip": null,
            "layout": "IPY_MODEL_7266bbddace445198c6f677238ba303f",
            "placeholder": "​",
            "style": "IPY_MODEL_cde3d02ab7a94fb9ac4fe0e130733a7b",
            "value": "Shuffling /root/tensorflow_datasets/imdb_reviews/plain_text/incomplete.67OEDI_1.0.0/imdb_reviews-test.tfrecord*...:   0%"
          }
        },
        "6676d9926ed344feaeaef3188499200f": {
          "model_module": "@jupyter-widgets/controls",
          "model_name": "FloatProgressModel",
          "model_module_version": "1.5.0",
          "state": {
            "_dom_classes": [],
            "_model_module": "@jupyter-widgets/controls",
            "_model_module_version": "1.5.0",
            "_model_name": "FloatProgressModel",
            "_view_count": null,
            "_view_module": "@jupyter-widgets/controls",
            "_view_module_version": "1.5.0",
            "_view_name": "ProgressView",
            "bar_style": "",
            "description": "",
            "description_tooltip": null,
            "layout": "IPY_MODEL_bdf98b2c0d8c43f88dcf66c71570be62",
            "max": 25000,
            "min": 0,
            "orientation": "horizontal",
            "style": "IPY_MODEL_16884a655e5c47b6a183d171de948861",
            "value": 25000
          }
        },
        "350220e7715b4ce69675b988157aee22": {
          "model_module": "@jupyter-widgets/controls",
          "model_name": "HTMLModel",
          "model_module_version": "1.5.0",
          "state": {
            "_dom_classes": [],
            "_model_module": "@jupyter-widgets/controls",
            "_model_module_version": "1.5.0",
            "_model_name": "HTMLModel",
            "_view_count": null,
            "_view_module": "@jupyter-widgets/controls",
            "_view_module_version": "1.5.0",
            "_view_name": "HTMLView",
            "description": "",
            "description_tooltip": null,
            "layout": "IPY_MODEL_58b56bb061914ffd8418b73cd3099c11",
            "placeholder": "​",
            "style": "IPY_MODEL_990de8fa51614e75825059d54e1da566",
            "value": " 0/25000 [00:00&lt;?, ? examples/s]"
          }
        },
        "fecc857da985489593909ed4c6c8b3e2": {
          "model_module": "@jupyter-widgets/base",
          "model_name": "LayoutModel",
          "model_module_version": "1.2.0",
          "state": {
            "_model_module": "@jupyter-widgets/base",
            "_model_module_version": "1.2.0",
            "_model_name": "LayoutModel",
            "_view_count": null,
            "_view_module": "@jupyter-widgets/base",
            "_view_module_version": "1.2.0",
            "_view_name": "LayoutView",
            "align_content": null,
            "align_items": null,
            "align_self": null,
            "border": null,
            "bottom": null,
            "display": null,
            "flex": null,
            "flex_flow": null,
            "grid_area": null,
            "grid_auto_columns": null,
            "grid_auto_flow": null,
            "grid_auto_rows": null,
            "grid_column": null,
            "grid_gap": null,
            "grid_row": null,
            "grid_template_areas": null,
            "grid_template_columns": null,
            "grid_template_rows": null,
            "height": null,
            "justify_content": null,
            "justify_items": null,
            "left": null,
            "margin": null,
            "max_height": null,
            "max_width": null,
            "min_height": null,
            "min_width": null,
            "object_fit": null,
            "object_position": null,
            "order": null,
            "overflow": null,
            "overflow_x": null,
            "overflow_y": null,
            "padding": null,
            "right": null,
            "top": null,
            "visibility": "hidden",
            "width": null
          }
        },
        "7266bbddace445198c6f677238ba303f": {
          "model_module": "@jupyter-widgets/base",
          "model_name": "LayoutModel",
          "model_module_version": "1.2.0",
          "state": {
            "_model_module": "@jupyter-widgets/base",
            "_model_module_version": "1.2.0",
            "_model_name": "LayoutModel",
            "_view_count": null,
            "_view_module": "@jupyter-widgets/base",
            "_view_module_version": "1.2.0",
            "_view_name": "LayoutView",
            "align_content": null,
            "align_items": null,
            "align_self": null,
            "border": null,
            "bottom": null,
            "display": null,
            "flex": null,
            "flex_flow": null,
            "grid_area": null,
            "grid_auto_columns": null,
            "grid_auto_flow": null,
            "grid_auto_rows": null,
            "grid_column": null,
            "grid_gap": null,
            "grid_row": null,
            "grid_template_areas": null,
            "grid_template_columns": null,
            "grid_template_rows": null,
            "height": null,
            "justify_content": null,
            "justify_items": null,
            "left": null,
            "margin": null,
            "max_height": null,
            "max_width": null,
            "min_height": null,
            "min_width": null,
            "object_fit": null,
            "object_position": null,
            "order": null,
            "overflow": null,
            "overflow_x": null,
            "overflow_y": null,
            "padding": null,
            "right": null,
            "top": null,
            "visibility": null,
            "width": null
          }
        },
        "cde3d02ab7a94fb9ac4fe0e130733a7b": {
          "model_module": "@jupyter-widgets/controls",
          "model_name": "DescriptionStyleModel",
          "model_module_version": "1.5.0",
          "state": {
            "_model_module": "@jupyter-widgets/controls",
            "_model_module_version": "1.5.0",
            "_model_name": "DescriptionStyleModel",
            "_view_count": null,
            "_view_module": "@jupyter-widgets/base",
            "_view_module_version": "1.2.0",
            "_view_name": "StyleView",
            "description_width": ""
          }
        },
        "bdf98b2c0d8c43f88dcf66c71570be62": {
          "model_module": "@jupyter-widgets/base",
          "model_name": "LayoutModel",
          "model_module_version": "1.2.0",
          "state": {
            "_model_module": "@jupyter-widgets/base",
            "_model_module_version": "1.2.0",
            "_model_name": "LayoutModel",
            "_view_count": null,
            "_view_module": "@jupyter-widgets/base",
            "_view_module_version": "1.2.0",
            "_view_name": "LayoutView",
            "align_content": null,
            "align_items": null,
            "align_self": null,
            "border": null,
            "bottom": null,
            "display": null,
            "flex": null,
            "flex_flow": null,
            "grid_area": null,
            "grid_auto_columns": null,
            "grid_auto_flow": null,
            "grid_auto_rows": null,
            "grid_column": null,
            "grid_gap": null,
            "grid_row": null,
            "grid_template_areas": null,
            "grid_template_columns": null,
            "grid_template_rows": null,
            "height": null,
            "justify_content": null,
            "justify_items": null,
            "left": null,
            "margin": null,
            "max_height": null,
            "max_width": null,
            "min_height": null,
            "min_width": null,
            "object_fit": null,
            "object_position": null,
            "order": null,
            "overflow": null,
            "overflow_x": null,
            "overflow_y": null,
            "padding": null,
            "right": null,
            "top": null,
            "visibility": null,
            "width": null
          }
        },
        "16884a655e5c47b6a183d171de948861": {
          "model_module": "@jupyter-widgets/controls",
          "model_name": "ProgressStyleModel",
          "model_module_version": "1.5.0",
          "state": {
            "_model_module": "@jupyter-widgets/controls",
            "_model_module_version": "1.5.0",
            "_model_name": "ProgressStyleModel",
            "_view_count": null,
            "_view_module": "@jupyter-widgets/base",
            "_view_module_version": "1.2.0",
            "_view_name": "StyleView",
            "bar_color": null,
            "description_width": ""
          }
        },
        "58b56bb061914ffd8418b73cd3099c11": {
          "model_module": "@jupyter-widgets/base",
          "model_name": "LayoutModel",
          "model_module_version": "1.2.0",
          "state": {
            "_model_module": "@jupyter-widgets/base",
            "_model_module_version": "1.2.0",
            "_model_name": "LayoutModel",
            "_view_count": null,
            "_view_module": "@jupyter-widgets/base",
            "_view_module_version": "1.2.0",
            "_view_name": "LayoutView",
            "align_content": null,
            "align_items": null,
            "align_self": null,
            "border": null,
            "bottom": null,
            "display": null,
            "flex": null,
            "flex_flow": null,
            "grid_area": null,
            "grid_auto_columns": null,
            "grid_auto_flow": null,
            "grid_auto_rows": null,
            "grid_column": null,
            "grid_gap": null,
            "grid_row": null,
            "grid_template_areas": null,
            "grid_template_columns": null,
            "grid_template_rows": null,
            "height": null,
            "justify_content": null,
            "justify_items": null,
            "left": null,
            "margin": null,
            "max_height": null,
            "max_width": null,
            "min_height": null,
            "min_width": null,
            "object_fit": null,
            "object_position": null,
            "order": null,
            "overflow": null,
            "overflow_x": null,
            "overflow_y": null,
            "padding": null,
            "right": null,
            "top": null,
            "visibility": null,
            "width": null
          }
        },
        "990de8fa51614e75825059d54e1da566": {
          "model_module": "@jupyter-widgets/controls",
          "model_name": "DescriptionStyleModel",
          "model_module_version": "1.5.0",
          "state": {
            "_model_module": "@jupyter-widgets/controls",
            "_model_module_version": "1.5.0",
            "_model_name": "DescriptionStyleModel",
            "_view_count": null,
            "_view_module": "@jupyter-widgets/base",
            "_view_module_version": "1.2.0",
            "_view_name": "StyleView",
            "description_width": ""
          }
        },
        "d0dae65468ab47e2ab37c4cc117f4613": {
          "model_module": "@jupyter-widgets/controls",
          "model_name": "HBoxModel",
          "model_module_version": "1.5.0",
          "state": {
            "_dom_classes": [],
            "_model_module": "@jupyter-widgets/controls",
            "_model_module_version": "1.5.0",
            "_model_name": "HBoxModel",
            "_view_count": null,
            "_view_module": "@jupyter-widgets/controls",
            "_view_module_version": "1.5.0",
            "_view_name": "HBoxView",
            "box_style": "",
            "children": [
              "IPY_MODEL_e267e5ff57b646f28316ee79b6a6b159",
              "IPY_MODEL_295ba09f33ab43809a30ce6b3c214539",
              "IPY_MODEL_1d00f2648c774b4fb42efea4d20cc2ec"
            ],
            "layout": "IPY_MODEL_01c3b591169a47e887be4cb7cf301bd7"
          }
        },
        "e267e5ff57b646f28316ee79b6a6b159": {
          "model_module": "@jupyter-widgets/controls",
          "model_name": "HTMLModel",
          "model_module_version": "1.5.0",
          "state": {
            "_dom_classes": [],
            "_model_module": "@jupyter-widgets/controls",
            "_model_module_version": "1.5.0",
            "_model_name": "HTMLModel",
            "_view_count": null,
            "_view_module": "@jupyter-widgets/controls",
            "_view_module_version": "1.5.0",
            "_view_name": "HTMLView",
            "description": "",
            "description_tooltip": null,
            "layout": "IPY_MODEL_fdaf02950fa345688d68c4c40f24c841",
            "placeholder": "​",
            "style": "IPY_MODEL_ea374175182d4984bea2cbcd344a0732",
            "value": "Generating unsupervised examples...:  91%"
          }
        },
        "295ba09f33ab43809a30ce6b3c214539": {
          "model_module": "@jupyter-widgets/controls",
          "model_name": "FloatProgressModel",
          "model_module_version": "1.5.0",
          "state": {
            "_dom_classes": [],
            "_model_module": "@jupyter-widgets/controls",
            "_model_module_version": "1.5.0",
            "_model_name": "FloatProgressModel",
            "_view_count": null,
            "_view_module": "@jupyter-widgets/controls",
            "_view_module_version": "1.5.0",
            "_view_name": "ProgressView",
            "bar_style": "",
            "description": "",
            "description_tooltip": null,
            "layout": "IPY_MODEL_625b53e9d8be4e1b8a3f911ac3722275",
            "max": 50000,
            "min": 0,
            "orientation": "horizontal",
            "style": "IPY_MODEL_f97c9374011b420dbd09310b68170ea5",
            "value": 50000
          }
        },
        "1d00f2648c774b4fb42efea4d20cc2ec": {
          "model_module": "@jupyter-widgets/controls",
          "model_name": "HTMLModel",
          "model_module_version": "1.5.0",
          "state": {
            "_dom_classes": [],
            "_model_module": "@jupyter-widgets/controls",
            "_model_module_version": "1.5.0",
            "_model_name": "HTMLModel",
            "_view_count": null,
            "_view_module": "@jupyter-widgets/controls",
            "_view_module_version": "1.5.0",
            "_view_name": "HTMLView",
            "description": "",
            "description_tooltip": null,
            "layout": "IPY_MODEL_98242b2b53644c59b792a17d2b541126",
            "placeholder": "​",
            "style": "IPY_MODEL_4adae284f9744aaca5c9c8d95797cc8a",
            "value": " 45633/50000 [00:16&lt;00:01, 3828.47 examples/s]"
          }
        },
        "01c3b591169a47e887be4cb7cf301bd7": {
          "model_module": "@jupyter-widgets/base",
          "model_name": "LayoutModel",
          "model_module_version": "1.2.0",
          "state": {
            "_model_module": "@jupyter-widgets/base",
            "_model_module_version": "1.2.0",
            "_model_name": "LayoutModel",
            "_view_count": null,
            "_view_module": "@jupyter-widgets/base",
            "_view_module_version": "1.2.0",
            "_view_name": "LayoutView",
            "align_content": null,
            "align_items": null,
            "align_self": null,
            "border": null,
            "bottom": null,
            "display": null,
            "flex": null,
            "flex_flow": null,
            "grid_area": null,
            "grid_auto_columns": null,
            "grid_auto_flow": null,
            "grid_auto_rows": null,
            "grid_column": null,
            "grid_gap": null,
            "grid_row": null,
            "grid_template_areas": null,
            "grid_template_columns": null,
            "grid_template_rows": null,
            "height": null,
            "justify_content": null,
            "justify_items": null,
            "left": null,
            "margin": null,
            "max_height": null,
            "max_width": null,
            "min_height": null,
            "min_width": null,
            "object_fit": null,
            "object_position": null,
            "order": null,
            "overflow": null,
            "overflow_x": null,
            "overflow_y": null,
            "padding": null,
            "right": null,
            "top": null,
            "visibility": "hidden",
            "width": null
          }
        },
        "fdaf02950fa345688d68c4c40f24c841": {
          "model_module": "@jupyter-widgets/base",
          "model_name": "LayoutModel",
          "model_module_version": "1.2.0",
          "state": {
            "_model_module": "@jupyter-widgets/base",
            "_model_module_version": "1.2.0",
            "_model_name": "LayoutModel",
            "_view_count": null,
            "_view_module": "@jupyter-widgets/base",
            "_view_module_version": "1.2.0",
            "_view_name": "LayoutView",
            "align_content": null,
            "align_items": null,
            "align_self": null,
            "border": null,
            "bottom": null,
            "display": null,
            "flex": null,
            "flex_flow": null,
            "grid_area": null,
            "grid_auto_columns": null,
            "grid_auto_flow": null,
            "grid_auto_rows": null,
            "grid_column": null,
            "grid_gap": null,
            "grid_row": null,
            "grid_template_areas": null,
            "grid_template_columns": null,
            "grid_template_rows": null,
            "height": null,
            "justify_content": null,
            "justify_items": null,
            "left": null,
            "margin": null,
            "max_height": null,
            "max_width": null,
            "min_height": null,
            "min_width": null,
            "object_fit": null,
            "object_position": null,
            "order": null,
            "overflow": null,
            "overflow_x": null,
            "overflow_y": null,
            "padding": null,
            "right": null,
            "top": null,
            "visibility": null,
            "width": null
          }
        },
        "ea374175182d4984bea2cbcd344a0732": {
          "model_module": "@jupyter-widgets/controls",
          "model_name": "DescriptionStyleModel",
          "model_module_version": "1.5.0",
          "state": {
            "_model_module": "@jupyter-widgets/controls",
            "_model_module_version": "1.5.0",
            "_model_name": "DescriptionStyleModel",
            "_view_count": null,
            "_view_module": "@jupyter-widgets/base",
            "_view_module_version": "1.2.0",
            "_view_name": "StyleView",
            "description_width": ""
          }
        },
        "625b53e9d8be4e1b8a3f911ac3722275": {
          "model_module": "@jupyter-widgets/base",
          "model_name": "LayoutModel",
          "model_module_version": "1.2.0",
          "state": {
            "_model_module": "@jupyter-widgets/base",
            "_model_module_version": "1.2.0",
            "_model_name": "LayoutModel",
            "_view_count": null,
            "_view_module": "@jupyter-widgets/base",
            "_view_module_version": "1.2.0",
            "_view_name": "LayoutView",
            "align_content": null,
            "align_items": null,
            "align_self": null,
            "border": null,
            "bottom": null,
            "display": null,
            "flex": null,
            "flex_flow": null,
            "grid_area": null,
            "grid_auto_columns": null,
            "grid_auto_flow": null,
            "grid_auto_rows": null,
            "grid_column": null,
            "grid_gap": null,
            "grid_row": null,
            "grid_template_areas": null,
            "grid_template_columns": null,
            "grid_template_rows": null,
            "height": null,
            "justify_content": null,
            "justify_items": null,
            "left": null,
            "margin": null,
            "max_height": null,
            "max_width": null,
            "min_height": null,
            "min_width": null,
            "object_fit": null,
            "object_position": null,
            "order": null,
            "overflow": null,
            "overflow_x": null,
            "overflow_y": null,
            "padding": null,
            "right": null,
            "top": null,
            "visibility": null,
            "width": null
          }
        },
        "f97c9374011b420dbd09310b68170ea5": {
          "model_module": "@jupyter-widgets/controls",
          "model_name": "ProgressStyleModel",
          "model_module_version": "1.5.0",
          "state": {
            "_model_module": "@jupyter-widgets/controls",
            "_model_module_version": "1.5.0",
            "_model_name": "ProgressStyleModel",
            "_view_count": null,
            "_view_module": "@jupyter-widgets/base",
            "_view_module_version": "1.2.0",
            "_view_name": "StyleView",
            "bar_color": null,
            "description_width": ""
          }
        },
        "98242b2b53644c59b792a17d2b541126": {
          "model_module": "@jupyter-widgets/base",
          "model_name": "LayoutModel",
          "model_module_version": "1.2.0",
          "state": {
            "_model_module": "@jupyter-widgets/base",
            "_model_module_version": "1.2.0",
            "_model_name": "LayoutModel",
            "_view_count": null,
            "_view_module": "@jupyter-widgets/base",
            "_view_module_version": "1.2.0",
            "_view_name": "LayoutView",
            "align_content": null,
            "align_items": null,
            "align_self": null,
            "border": null,
            "bottom": null,
            "display": null,
            "flex": null,
            "flex_flow": null,
            "grid_area": null,
            "grid_auto_columns": null,
            "grid_auto_flow": null,
            "grid_auto_rows": null,
            "grid_column": null,
            "grid_gap": null,
            "grid_row": null,
            "grid_template_areas": null,
            "grid_template_columns": null,
            "grid_template_rows": null,
            "height": null,
            "justify_content": null,
            "justify_items": null,
            "left": null,
            "margin": null,
            "max_height": null,
            "max_width": null,
            "min_height": null,
            "min_width": null,
            "object_fit": null,
            "object_position": null,
            "order": null,
            "overflow": null,
            "overflow_x": null,
            "overflow_y": null,
            "padding": null,
            "right": null,
            "top": null,
            "visibility": null,
            "width": null
          }
        },
        "4adae284f9744aaca5c9c8d95797cc8a": {
          "model_module": "@jupyter-widgets/controls",
          "model_name": "DescriptionStyleModel",
          "model_module_version": "1.5.0",
          "state": {
            "_model_module": "@jupyter-widgets/controls",
            "_model_module_version": "1.5.0",
            "_model_name": "DescriptionStyleModel",
            "_view_count": null,
            "_view_module": "@jupyter-widgets/base",
            "_view_module_version": "1.2.0",
            "_view_name": "StyleView",
            "description_width": ""
          }
        },
        "3848190034054b14a409a0d70371934b": {
          "model_module": "@jupyter-widgets/controls",
          "model_name": "HBoxModel",
          "model_module_version": "1.5.0",
          "state": {
            "_dom_classes": [],
            "_model_module": "@jupyter-widgets/controls",
            "_model_module_version": "1.5.0",
            "_model_name": "HBoxModel",
            "_view_count": null,
            "_view_module": "@jupyter-widgets/controls",
            "_view_module_version": "1.5.0",
            "_view_name": "HBoxView",
            "box_style": "",
            "children": [
              "IPY_MODEL_b7d6cc1fe5f54bd8af3ae849b2290d9e",
              "IPY_MODEL_b42d759ced914969a0b24367b951686a",
              "IPY_MODEL_dd4d52f60261430b8433e759a811bcf7"
            ],
            "layout": "IPY_MODEL_b1b300c465a243d4a7e8cd2846a072af"
          }
        },
        "b7d6cc1fe5f54bd8af3ae849b2290d9e": {
          "model_module": "@jupyter-widgets/controls",
          "model_name": "HTMLModel",
          "model_module_version": "1.5.0",
          "state": {
            "_dom_classes": [],
            "_model_module": "@jupyter-widgets/controls",
            "_model_module_version": "1.5.0",
            "_model_name": "HTMLModel",
            "_view_count": null,
            "_view_module": "@jupyter-widgets/controls",
            "_view_module_version": "1.5.0",
            "_view_name": "HTMLView",
            "description": "",
            "description_tooltip": null,
            "layout": "IPY_MODEL_1dd56b9565bd40778214836682a1448c",
            "placeholder": "​",
            "style": "IPY_MODEL_83c897e203d843ccb729acd2ceb1229c",
            "value": "Shuffling /root/tensorflow_datasets/imdb_reviews/plain_text/incomplete.67OEDI_1.0.0/imdb_reviews-unsupervised.tfrecord*...:   0%"
          }
        },
        "b42d759ced914969a0b24367b951686a": {
          "model_module": "@jupyter-widgets/controls",
          "model_name": "FloatProgressModel",
          "model_module_version": "1.5.0",
          "state": {
            "_dom_classes": [],
            "_model_module": "@jupyter-widgets/controls",
            "_model_module_version": "1.5.0",
            "_model_name": "FloatProgressModel",
            "_view_count": null,
            "_view_module": "@jupyter-widgets/controls",
            "_view_module_version": "1.5.0",
            "_view_name": "ProgressView",
            "bar_style": "",
            "description": "",
            "description_tooltip": null,
            "layout": "IPY_MODEL_0858ed05cc444e0d9cb305fa88bd412c",
            "max": 50000,
            "min": 0,
            "orientation": "horizontal",
            "style": "IPY_MODEL_b14bfb1721874d36adde28d999ae2920",
            "value": 50000
          }
        },
        "dd4d52f60261430b8433e759a811bcf7": {
          "model_module": "@jupyter-widgets/controls",
          "model_name": "HTMLModel",
          "model_module_version": "1.5.0",
          "state": {
            "_dom_classes": [],
            "_model_module": "@jupyter-widgets/controls",
            "_model_module_version": "1.5.0",
            "_model_name": "HTMLModel",
            "_view_count": null,
            "_view_module": "@jupyter-widgets/controls",
            "_view_module_version": "1.5.0",
            "_view_name": "HTMLView",
            "description": "",
            "description_tooltip": null,
            "layout": "IPY_MODEL_96b0254b6ea1460c9b583f373d8fe955",
            "placeholder": "​",
            "style": "IPY_MODEL_0176ca5aff6f4c279f323a540a56e95f",
            "value": " 0/50000 [00:00&lt;?, ? examples/s]"
          }
        },
        "b1b300c465a243d4a7e8cd2846a072af": {
          "model_module": "@jupyter-widgets/base",
          "model_name": "LayoutModel",
          "model_module_version": "1.2.0",
          "state": {
            "_model_module": "@jupyter-widgets/base",
            "_model_module_version": "1.2.0",
            "_model_name": "LayoutModel",
            "_view_count": null,
            "_view_module": "@jupyter-widgets/base",
            "_view_module_version": "1.2.0",
            "_view_name": "LayoutView",
            "align_content": null,
            "align_items": null,
            "align_self": null,
            "border": null,
            "bottom": null,
            "display": null,
            "flex": null,
            "flex_flow": null,
            "grid_area": null,
            "grid_auto_columns": null,
            "grid_auto_flow": null,
            "grid_auto_rows": null,
            "grid_column": null,
            "grid_gap": null,
            "grid_row": null,
            "grid_template_areas": null,
            "grid_template_columns": null,
            "grid_template_rows": null,
            "height": null,
            "justify_content": null,
            "justify_items": null,
            "left": null,
            "margin": null,
            "max_height": null,
            "max_width": null,
            "min_height": null,
            "min_width": null,
            "object_fit": null,
            "object_position": null,
            "order": null,
            "overflow": null,
            "overflow_x": null,
            "overflow_y": null,
            "padding": null,
            "right": null,
            "top": null,
            "visibility": "hidden",
            "width": null
          }
        },
        "1dd56b9565bd40778214836682a1448c": {
          "model_module": "@jupyter-widgets/base",
          "model_name": "LayoutModel",
          "model_module_version": "1.2.0",
          "state": {
            "_model_module": "@jupyter-widgets/base",
            "_model_module_version": "1.2.0",
            "_model_name": "LayoutModel",
            "_view_count": null,
            "_view_module": "@jupyter-widgets/base",
            "_view_module_version": "1.2.0",
            "_view_name": "LayoutView",
            "align_content": null,
            "align_items": null,
            "align_self": null,
            "border": null,
            "bottom": null,
            "display": null,
            "flex": null,
            "flex_flow": null,
            "grid_area": null,
            "grid_auto_columns": null,
            "grid_auto_flow": null,
            "grid_auto_rows": null,
            "grid_column": null,
            "grid_gap": null,
            "grid_row": null,
            "grid_template_areas": null,
            "grid_template_columns": null,
            "grid_template_rows": null,
            "height": null,
            "justify_content": null,
            "justify_items": null,
            "left": null,
            "margin": null,
            "max_height": null,
            "max_width": null,
            "min_height": null,
            "min_width": null,
            "object_fit": null,
            "object_position": null,
            "order": null,
            "overflow": null,
            "overflow_x": null,
            "overflow_y": null,
            "padding": null,
            "right": null,
            "top": null,
            "visibility": null,
            "width": null
          }
        },
        "83c897e203d843ccb729acd2ceb1229c": {
          "model_module": "@jupyter-widgets/controls",
          "model_name": "DescriptionStyleModel",
          "model_module_version": "1.5.0",
          "state": {
            "_model_module": "@jupyter-widgets/controls",
            "_model_module_version": "1.5.0",
            "_model_name": "DescriptionStyleModel",
            "_view_count": null,
            "_view_module": "@jupyter-widgets/base",
            "_view_module_version": "1.2.0",
            "_view_name": "StyleView",
            "description_width": ""
          }
        },
        "0858ed05cc444e0d9cb305fa88bd412c": {
          "model_module": "@jupyter-widgets/base",
          "model_name": "LayoutModel",
          "model_module_version": "1.2.0",
          "state": {
            "_model_module": "@jupyter-widgets/base",
            "_model_module_version": "1.2.0",
            "_model_name": "LayoutModel",
            "_view_count": null,
            "_view_module": "@jupyter-widgets/base",
            "_view_module_version": "1.2.0",
            "_view_name": "LayoutView",
            "align_content": null,
            "align_items": null,
            "align_self": null,
            "border": null,
            "bottom": null,
            "display": null,
            "flex": null,
            "flex_flow": null,
            "grid_area": null,
            "grid_auto_columns": null,
            "grid_auto_flow": null,
            "grid_auto_rows": null,
            "grid_column": null,
            "grid_gap": null,
            "grid_row": null,
            "grid_template_areas": null,
            "grid_template_columns": null,
            "grid_template_rows": null,
            "height": null,
            "justify_content": null,
            "justify_items": null,
            "left": null,
            "margin": null,
            "max_height": null,
            "max_width": null,
            "min_height": null,
            "min_width": null,
            "object_fit": null,
            "object_position": null,
            "order": null,
            "overflow": null,
            "overflow_x": null,
            "overflow_y": null,
            "padding": null,
            "right": null,
            "top": null,
            "visibility": null,
            "width": null
          }
        },
        "b14bfb1721874d36adde28d999ae2920": {
          "model_module": "@jupyter-widgets/controls",
          "model_name": "ProgressStyleModel",
          "model_module_version": "1.5.0",
          "state": {
            "_model_module": "@jupyter-widgets/controls",
            "_model_module_version": "1.5.0",
            "_model_name": "ProgressStyleModel",
            "_view_count": null,
            "_view_module": "@jupyter-widgets/base",
            "_view_module_version": "1.2.0",
            "_view_name": "StyleView",
            "bar_color": null,
            "description_width": ""
          }
        },
        "96b0254b6ea1460c9b583f373d8fe955": {
          "model_module": "@jupyter-widgets/base",
          "model_name": "LayoutModel",
          "model_module_version": "1.2.0",
          "state": {
            "_model_module": "@jupyter-widgets/base",
            "_model_module_version": "1.2.0",
            "_model_name": "LayoutModel",
            "_view_count": null,
            "_view_module": "@jupyter-widgets/base",
            "_view_module_version": "1.2.0",
            "_view_name": "LayoutView",
            "align_content": null,
            "align_items": null,
            "align_self": null,
            "border": null,
            "bottom": null,
            "display": null,
            "flex": null,
            "flex_flow": null,
            "grid_area": null,
            "grid_auto_columns": null,
            "grid_auto_flow": null,
            "grid_auto_rows": null,
            "grid_column": null,
            "grid_gap": null,
            "grid_row": null,
            "grid_template_areas": null,
            "grid_template_columns": null,
            "grid_template_rows": null,
            "height": null,
            "justify_content": null,
            "justify_items": null,
            "left": null,
            "margin": null,
            "max_height": null,
            "max_width": null,
            "min_height": null,
            "min_width": null,
            "object_fit": null,
            "object_position": null,
            "order": null,
            "overflow": null,
            "overflow_x": null,
            "overflow_y": null,
            "padding": null,
            "right": null,
            "top": null,
            "visibility": null,
            "width": null
          }
        },
        "0176ca5aff6f4c279f323a540a56e95f": {
          "model_module": "@jupyter-widgets/controls",
          "model_name": "DescriptionStyleModel",
          "model_module_version": "1.5.0",
          "state": {
            "_model_module": "@jupyter-widgets/controls",
            "_model_module_version": "1.5.0",
            "_model_name": "DescriptionStyleModel",
            "_view_count": null,
            "_view_module": "@jupyter-widgets/base",
            "_view_module_version": "1.2.0",
            "_view_name": "StyleView",
            "description_width": ""
          }
        }
      }
    }
  },
  "cells": [
    {
      "cell_type": "code",
      "execution_count": null,
      "metadata": {
        "id": "qhi7xLbyV8rg"
      },
      "outputs": [],
      "source": [
        "import tensorflow as tf\n",
        "import tensorflow_datasets as tfds\n",
        "from tensorflow.keras import models, layers\n",
        "import numpy as np\n",
        "import matplotlib.pyplot as plt"
      ]
    },
    {
      "cell_type": "code",
      "source": [
        "tf.config.list_physical_devices(\"GPU\")"
      ],
      "metadata": {
        "colab": {
          "base_uri": "https://localhost:8080/"
        },
        "id": "PsAjGYXobHug",
        "outputId": "0f1f2de3-8eae-465e-99b1-481da9250e12"
      },
      "execution_count": null,
      "outputs": [
        {
          "output_type": "execute_result",
          "data": {
            "text/plain": [
              "[]"
            ]
          },
          "metadata": {},
          "execution_count": 2
        }
      ]
    },
    {
      "cell_type": "code",
      "source": [
        "!nvidia-smi"
      ],
      "metadata": {
        "colab": {
          "base_uri": "https://localhost:8080/"
        },
        "id": "ZbG4Z0CKcD-7",
        "outputId": "3d5548f1-22ba-4dea-aa6c-397426a4983c"
      },
      "execution_count": null,
      "outputs": [
        {
          "output_type": "stream",
          "name": "stdout",
          "text": [
            "/bin/bash: line 1: nvidia-smi: command not found\n"
          ]
        }
      ]
    },
    {
      "cell_type": "markdown",
      "source": [
        "## Load a dataset."
      ],
      "metadata": {
        "id": "0qErTmwidAv4"
      }
    },
    {
      "cell_type": "code",
      "source": [
        "datasets, info = tfds.load(\n",
        "    \"imdb_reviews/plain_text\",\n",
        "    split=[\"train\", \"test[:50%]\" , \"test[50%:]\"],\n",
        "    as_supervised=True,\n",
        "    with_info=True\n",
        ")\n",
        "info\n",
        "len(datasets)\n",
        "dataset_train_original = datasets[0]\n",
        "dataset_validate_original = datasets[1]\n",
        "dataset_test_original = datasets[2]"
      ],
      "metadata": {
        "colab": {
          "base_uri": "https://localhost:8080/",
          "height": 137,
          "referenced_widgets": [
            "a81857d4fe8647f491e583e50e2b30d8",
            "7e33c154f9154a8ab2ccae843b167b9a",
            "3ed4f8866ef941c8809fd9b5bbe69ccb",
            "856b7b042ea24a8f994eaf5510974826",
            "d1cc1bd95dcf4bdba0cee0dbaf38ae15",
            "568a7dcc591643cd8704968173de65f9",
            "9f968c0ef6184fbaa93ca9ad78a9b8e3",
            "1af8c6b0419543ad89afffd0d582db82",
            "2d102ffffbd54a439dfb6d01b4f97b30",
            "ab15deecbccd4134b09c8ce8ae76b554",
            "e5af44ed404d4d9c95f322ec741eb865",
            "d3e25c12c3bc4a3bbf89798304e89ada",
            "c8bb808d8eb54306bf4943a246de1ade",
            "752e9ded78c641c4b26c09b5016626d4",
            "1b75822aaa6748d2a4b9f17859c0727c",
            "ae59146bcd0644a8a5351e63ee1f7947",
            "1e6c1ac5a1a34eee8cc1e258d13b96b7",
            "c128280280644245948c96c256435148",
            "73b9c8bb0e54496e8910d3f0ab16e71e",
            "2c65214b55d94e999865bce9889168d1",
            "dffda8d7f3e44ecda586353f6b45259c",
            "c58e2e356e8a40469f9d0b468d8e0caf",
            "c1537bb6aafd4dcbb2e7e16c1b3a85c5",
            "bbc26b9d3a0c42d6a272d144b09c4797",
            "c68069f7d59245a78e6ba24b460a1b39",
            "9c4f000fcbcb4f29ab489db94bc27f93",
            "cf5a5cc09f454b4e87182358538776b5",
            "a3b53812fb524cb2849a561f13d64396",
            "f4fc2c248f77423c8e7701e96ce53199",
            "d5b625834acd4109bdfad602a19a5798",
            "d666e04306e34892b05b8f65641ed78b",
            "1b322049863248f6af1bb2f56a0fc9e9",
            "4ab46a26e9e54d618ffbaa92136ac019",
            "c6a0832247fe43bfa25eeee4c6edb885",
            "babe952401ba4b5bb9c2355e77dfa3d3",
            "4c0ce066dc5a402f84874afac0217d39",
            "25468ef3ed214d4bae32162a04ca2ecb",
            "bef8b8425abd499d9cfa074b721d9c40",
            "a0cde8fb579148ecb13d507a0cde0199",
            "42c34172bbe0460d8332d3908de75bb3",
            "78ed43769771476dacda12070960cfeb",
            "71260cab9e154a3bada900a240a394d6",
            "2ba1ae48350a44a4a9d92158d075bdc7",
            "d3187a9ff3e8439da7ee8300c96fa3c1",
            "5d54b392485244bcb75f9f1978d86b5b",
            "564eee0378c44fa8866f9ce0f6061273",
            "87adf5ed48834e36a79e0e343d2f3b16",
            "8604358ab54e4b7e8f7afd6931ddf434",
            "4c0efd21b5de42e69ca456b02c289c9c",
            "4000c9190ba348598a4bfaeb15fcd36b",
            "e0249994b9a5492e97d06b0d21c829a2",
            "c1e1220ccab7435a8db189414e966f00",
            "928754884f024a609cac6b8c5c52f0c8",
            "8a31b619efba42f49d60cc66b65c7d64",
            "5aa5989df6884e90ba206053d4af08d5",
            "f0728a8326314078bdb9e1c2fede2903",
            "c3561d303ec346f097a8a5e94c841449",
            "1ae6c681714e499db88b278a79ea90ec",
            "9071e51907a144f49e084648c7cc9e06",
            "fc6f6f0797da4b7aaba0333747b0e61b",
            "f625eceee94b410c91f90dc141180ea7",
            "a9bd59de01ae4adf91e8ffd4a7fd66d5",
            "15b79b8abf7842ba9d87d06038764eb1",
            "a1084587078d4e50850c96ca6d0e4b17",
            "0572839b5b2a4e27b2ba9b10ca015fe7",
            "f429d5dfa40a4cb7bd8e9fbae8c62268",
            "75c40194e75f4034ab85966c481e1829",
            "dc93d93eb0a6411193d23817cb8c8b4f",
            "6676d9926ed344feaeaef3188499200f",
            "350220e7715b4ce69675b988157aee22",
            "fecc857da985489593909ed4c6c8b3e2",
            "7266bbddace445198c6f677238ba303f",
            "cde3d02ab7a94fb9ac4fe0e130733a7b",
            "bdf98b2c0d8c43f88dcf66c71570be62",
            "16884a655e5c47b6a183d171de948861",
            "58b56bb061914ffd8418b73cd3099c11",
            "990de8fa51614e75825059d54e1da566",
            "d0dae65468ab47e2ab37c4cc117f4613",
            "e267e5ff57b646f28316ee79b6a6b159",
            "295ba09f33ab43809a30ce6b3c214539",
            "1d00f2648c774b4fb42efea4d20cc2ec",
            "01c3b591169a47e887be4cb7cf301bd7",
            "fdaf02950fa345688d68c4c40f24c841",
            "ea374175182d4984bea2cbcd344a0732",
            "625b53e9d8be4e1b8a3f911ac3722275",
            "f97c9374011b420dbd09310b68170ea5",
            "98242b2b53644c59b792a17d2b541126",
            "4adae284f9744aaca5c9c8d95797cc8a",
            "3848190034054b14a409a0d70371934b",
            "b7d6cc1fe5f54bd8af3ae849b2290d9e",
            "b42d759ced914969a0b24367b951686a",
            "dd4d52f60261430b8433e759a811bcf7",
            "b1b300c465a243d4a7e8cd2846a072af",
            "1dd56b9565bd40778214836682a1448c",
            "83c897e203d843ccb729acd2ceb1229c",
            "0858ed05cc444e0d9cb305fa88bd412c",
            "b14bfb1721874d36adde28d999ae2920",
            "96b0254b6ea1460c9b583f373d8fe955",
            "0176ca5aff6f4c279f323a540a56e95f"
          ]
        },
        "id": "9rpIl9-RcW5N",
        "outputId": "4ca44204-c28e-410d-86de-9402f4ddd6f6"
      },
      "execution_count": null,
      "outputs": [
        {
          "output_type": "stream",
          "name": "stdout",
          "text": [
            "Downloading and preparing dataset 80.23 MiB (download: 80.23 MiB, generated: Unknown size, total: 80.23 MiB) to /root/tensorflow_datasets/imdb_reviews/plain_text/1.0.0...\n"
          ]
        },
        {
          "output_type": "display_data",
          "data": {
            "text/plain": [
              "Dl Completed...: 0 url [00:00, ? url/s]"
            ],
            "application/vnd.jupyter.widget-view+json": {
              "version_major": 2,
              "version_minor": 0,
              "model_id": "a81857d4fe8647f491e583e50e2b30d8"
            }
          },
          "metadata": {}
        },
        {
          "output_type": "display_data",
          "data": {
            "text/plain": [
              "Dl Size...: 0 MiB [00:00, ? MiB/s]"
            ],
            "application/vnd.jupyter.widget-view+json": {
              "version_major": 2,
              "version_minor": 0,
              "model_id": "d3e25c12c3bc4a3bbf89798304e89ada"
            }
          },
          "metadata": {}
        },
        {
          "output_type": "display_data",
          "data": {
            "text/plain": [
              "Generating splits...:   0%|          | 0/3 [00:00<?, ? splits/s]"
            ],
            "application/vnd.jupyter.widget-view+json": {
              "version_major": 2,
              "version_minor": 0,
              "model_id": "c1537bb6aafd4dcbb2e7e16c1b3a85c5"
            }
          },
          "metadata": {}
        },
        {
          "output_type": "display_data",
          "data": {
            "text/plain": [
              "Generating train examples...:   0%|          | 0/25000 [00:00<?, ? examples/s]"
            ],
            "application/vnd.jupyter.widget-view+json": {
              "version_major": 2,
              "version_minor": 0,
              "model_id": "c6a0832247fe43bfa25eeee4c6edb885"
            }
          },
          "metadata": {}
        },
        {
          "output_type": "display_data",
          "data": {
            "text/plain": [
              "Shuffling /root/tensorflow_datasets/imdb_reviews/plain_text/incomplete.67OEDI_1.0.0/imdb_reviews-train.tfrecor…"
            ],
            "application/vnd.jupyter.widget-view+json": {
              "version_major": 2,
              "version_minor": 0,
              "model_id": "5d54b392485244bcb75f9f1978d86b5b"
            }
          },
          "metadata": {}
        },
        {
          "output_type": "display_data",
          "data": {
            "text/plain": [
              "Generating test examples...:   0%|          | 0/25000 [00:00<?, ? examples/s]"
            ],
            "application/vnd.jupyter.widget-view+json": {
              "version_major": 2,
              "version_minor": 0,
              "model_id": "f0728a8326314078bdb9e1c2fede2903"
            }
          },
          "metadata": {}
        },
        {
          "output_type": "display_data",
          "data": {
            "text/plain": [
              "Shuffling /root/tensorflow_datasets/imdb_reviews/plain_text/incomplete.67OEDI_1.0.0/imdb_reviews-test.tfrecord…"
            ],
            "application/vnd.jupyter.widget-view+json": {
              "version_major": 2,
              "version_minor": 0,
              "model_id": "75c40194e75f4034ab85966c481e1829"
            }
          },
          "metadata": {}
        },
        {
          "output_type": "display_data",
          "data": {
            "text/plain": [
              "Generating unsupervised examples...:   0%|          | 0/50000 [00:00<?, ? examples/s]"
            ],
            "application/vnd.jupyter.widget-view+json": {
              "version_major": 2,
              "version_minor": 0,
              "model_id": "d0dae65468ab47e2ab37c4cc117f4613"
            }
          },
          "metadata": {}
        },
        {
          "output_type": "display_data",
          "data": {
            "text/plain": [
              "Shuffling /root/tensorflow_datasets/imdb_reviews/plain_text/incomplete.67OEDI_1.0.0/imdb_reviews-unsupervised.…"
            ],
            "application/vnd.jupyter.widget-view+json": {
              "version_major": 2,
              "version_minor": 0,
              "model_id": "3848190034054b14a409a0d70371934b"
            }
          },
          "metadata": {}
        },
        {
          "output_type": "stream",
          "name": "stdout",
          "text": [
            "Dataset imdb_reviews downloaded and prepared to /root/tensorflow_datasets/imdb_reviews/plain_text/1.0.0. Subsequent calls will reuse this data.\n"
          ]
        }
      ]
    },
    {
      "cell_type": "markdown",
      "source": [
        "**tfds.load():**\n",
        "This function is used to load datasets from TensorFlow Datasets (TFDS). In this case, it's loading the IMDb reviews dataset, specifically the \"plain_text\" version, which contains movie reviews and corresponding sentiment labels (positive/negative).\n",
        "2. Arguments:"
      ],
      "metadata": {
        "id": "NTZIZOPsMnQq"
      }
    },
    {
      "cell_type": "markdown",
      "source": [
        "**2. Arguments:**\n",
        "\"imdb_reviews/plain_text\":\n",
        "\n",
        "Specifies the dataset to load, in this case, the IMDb reviews dataset in plain text format.\n",
        "split=[\"train\", \"test[:50%]\", \"test[50%:]\"]:\n",
        "\n",
        "The split argument defines how to split the dataset. Here it is split into three parts:\n",
        "\n",
        "\"train\": Loads the entire training dataset.\n",
        "\n",
        "\"test[:50%]\": Loads the first 50% of the test dataset.\n",
        "\n",
        "\"test[50%:]\": Loads the remaining 50% of the test dataset.\n",
        "\n",
        "this effectively splits the dataset into:\n",
        "\n",
        "Training set (all training data).\n",
        "\n",
        "First half of the test set.\n",
        "\n",
        "Second half of the test set.\n",
        "\n",
        "These splits can be used for different purposes, like testing, validation, or experimentation."
      ],
      "metadata": {
        "id": "z-sOM2KUMpHp"
      }
    },
    {
      "cell_type": "markdown",
      "source": [
        "**as_supervised=True:**\n",
        "\n",
        "This argument ensures that the dataset is loaded in a supervised learning format, which means that:\n",
        "The dataset will be returned as a tuple (input, label).\n",
        "For the IMDb dataset, the input is the movie review (text), and the label is the sentiment (0 for negative, 1 for positive)."
      ],
      "metadata": {
        "id": "dL199PJzNBUp"
      }
    },
    {
      "cell_type": "markdown",
      "source": [
        "**with_info=True:**\n",
        "\n",
        "This argument returns the metadata about the dataset, stored in the info variable. The metadata includes information such as:\n",
        "\n",
        "The total number of examples in the dataset.\n",
        "\n",
        "The dataset's splits, features, and labels.\n",
        "\n",
        "The format of the data (e.g., text and label types).\n",
        "Dataset version, citation, etc."
      ],
      "metadata": {
        "id": "wqnEPsnlNGen"
      }
    },
    {
      "cell_type": "markdown",
      "source": [
        "**3. datasets, info:**\n",
        "\n",
        "datasets: This will store the actual loaded dataset, which is split into three parts:\n",
        "\n",
        "datasets[0]: The training set (all training examples).\n",
        "\n",
        "datasets[1]: The first 50% of the test set.\n",
        "\n",
        "datasets[2]: The second 50% of the test set.\n",
        "\n",
        "**info**: This will store metadata about the dataset (like its description, features, and split information), which is returned by TensorFlow Datasets."
      ],
      "metadata": {
        "id": "Wy3F274fNN8O"
      }
    },
    {
      "cell_type": "code",
      "source": [],
      "metadata": {
        "id": "5tb8WP6LMzMH"
      },
      "execution_count": null,
      "outputs": []
    },
    {
      "cell_type": "code",
      "source": [
        "print(\"Train size:   \", len(dataset_train_original))\n",
        "print(\"Validate size:\", len(dataset_validate_original))\n",
        "print(\"Test size:    \", len(dataset_test_original))"
      ],
      "metadata": {
        "colab": {
          "base_uri": "https://localhost:8080/"
        },
        "id": "fiN8K-1Ddy9-",
        "outputId": "173d5197-df04-497f-8f37-87f12eb470a9"
      },
      "execution_count": null,
      "outputs": [
        {
          "output_type": "stream",
          "name": "stdout",
          "text": [
            "Train size:    25000\n",
            "Validate size: 12500\n",
            "Test size:     12500\n"
          ]
        }
      ]
    },
    {
      "cell_type": "markdown",
      "source": [
        "## Look at your beeping data."
      ],
      "metadata": {
        "id": "E4blIoV15oRJ"
      }
    },
    {
      "cell_type": "code",
      "source": [
        "for x, y in dataset_train_original.shuffle(25_000).take(8):\n",
        "    print(\"x\", x.numpy().decode(\"utf-8\"))\n",
        "    print(\"y\", y.numpy())"
      ],
      "metadata": {
        "colab": {
          "base_uri": "https://localhost:8080/"
        },
        "id": "dfRC3KEB5I5j",
        "outputId": "6c1321ef-4bdf-4f7a-cab4-14cd13339545"
      },
      "execution_count": null,
      "outputs": [
        {
          "output_type": "stream",
          "name": "stdout",
          "text": [
            "x I discovered this movie with a retailer selling OOP's. And this one surely is an OOP. One year after The Exorcist she's back in business with this movie but what we all new was that the career of Blair never broke out, she never became a mega star. That's one of the reason's many of her films are OOP. She gives a good performance in this movie. It's about a reject not recognized by her parents and doesn't have any friends. Played at an age of 15 playing a girl of 14, that's funny. The movie is also known for the rape scene in the showers were they stick a broomstick up her virginity. In most editions it's cut out, why, I don't know, no blood is involved, okay, Blair is butt naked but nothing is shown, no T&A so nothing to offend people. But the movie is slow, extremely slow. It doesn't happy normally to me but I almost felt asleep. It's just about that 14 year old becoming a rebel against society but no blood flows, no gore no nothing. Why this is categorized in horror is still a wonder to me. If you're a fan of Blair, buy it if you can find it otherwise leave it as it is.\n",
            "y 0\n",
            "x A group of friends decide to take a camping trip into the desert-and find themselves stalked and murdered by a mysterious killer in a black pick-up truck.\"Mirage\" is obviously inspired by Spielberg's \"Duel\" and Craven's \"The Hills Have Eyes\".Still this slasher yarn offers plenty of nasty violence and gore.The film's gory highlight is a sequence involving a man having his arm and leg chained together around a tree and then having his limbs dismembered when the chain is pulled by a truck.There is also a little bit of suspense and some exciting stalk-and-slash sequences.The acting is pretty lame and the script is quite weak,but the film is fast-paced and shocking.B.G.Steers who plays the villain is fairly threatening.The desert locations provide some atmosphere and the gore is rather strong.Overall,if you like low-budget horror films give this one a look.8 out of 10.\n",
            "y 1\n",
            "x Hello everyone, This is my first time posting and I just love the movie No child of mine and I could watch it over and over!! well I taped it a long time ago like a few years ago and I dropped it and broke it and I haven't seen it in a few years!! could any one please tell me when it will come on again!! I would really appreciate it alot!!You can email me if you want to cause that is my favorite movie of all including Empty Cradle to and if anyone knows when that comes on to PLEASE let me know,I would really appreciate it ALOT!!!<br /><br />\n",
            "y 1\n",
            "x Yes, The Southern Star features a pretty forgettable title tune sung by that heavy set crooner Matt Monro. It pretty much establishes the tone for this bloated and rather dull feature, stunningly miscast with George Segal and Ursula Andress as an adventurous couple in search of a large diamond. Add in Harry Andrews (with a strange accent, no less) chasing an ostrich, tons of stock footage of wildlife, and poorly composed and dull photography by Raoul Coutard, and you end up with a thoroughly unexciting romp through the jungles of Senegal.\n",
            "y 0\n",
            "x Olivier Gruner stars as Jacques a foreign exchange college student who takes on and single handedly wipes out a Mexican street gang in this obnoxious and racist film which is so horrible that it's laughable. Bad acting, bad plot and bad fight choreography make Angel Town a Turkey.\n",
            "y 0\n",
            "x I thought that The sentinel was going to be a mediocre movie.When I finally saw it,I took a good surprise.The movie isn't great thing but it's very fun and the action scenes are very well done.This movie reminded me TV series like 24 or Alias.It's very similar to that series and it reminded me too,to the Wolfgang Petersen's thriller In the line of fire.If you're going to expect one of the most original and and one of the greatest thrillers in the history of movies,you will be disappointed.But if you go with little expectations,you will enjoy The sentinel.<br /><br />Rating:7\n",
            "y 1\n",
            "x A man brings his new wife to his home where his former wife died of an \"accident\". His new wife has just been released from an institution and is also VERY rich! All of the sudden she starts hearing noises and seeing skulls all over the place. Is she going crazy again or is the first wife coming back from the dead? <br /><br />You've probably guessed the ending so I won't spell it out. I saw this many times on Saturday afternoon TV as a kid. Back then, I liked it but I WAS young. Seeing it now I realize how bad it is. It's horribly acted, badly written, very dull (even at an hour) and has a huge cast of FIVE people (one being the director)! Still it does have some good things about it. <br /><br />The music is kinda creepy and the setting itself with the huge empty house and pond nearby is nicely atmospheric. There also are a few scary moments (I jumped a little when she saw the first skull) and a somewhat effective ending. All in all it's definitely NOT a good movie...but not a total disaster either. It does have a small cult following. I give it a 2.<br /><br />Also try to avoid the Elite DVD Drive-in edition of it (it's paired with \"Attack of the Giant Leeches\"). It's in TERRIBLE shape with jumps and scratches all over. It didn't even look this bad on TV!\n",
            "y 0\n",
            "x I absolutely hate this programme, what kind of people sit and watch this garbage?? OK my dad and mum love it lol but i make sure I'm well out of the room before it comes on. Its so depressing and dreary but the worst thing about it is the acting i cant stand all detective programmes such as this because the detectives are so wooden and heartless. What happened to detective programmes with real mystery??? I mean who wants to know what happened to fictional characters we know nothing about that died over 20 years ago??? I wish the bbc would put more comedy on bbc1 cos now with the vicar of dibley finished there is more room for crap like this.\n",
            "y 0\n"
          ]
        }
      ]
    },
    {
      "cell_type": "markdown",
      "source": [
        "Let's break it down step-by-step:\n",
        "1. for x, y in dataset_train_original.shuffle(25000).take(8):\n",
        "dataset_train_original: This refers to the training dataset, presumably containing IMDb movie reviews and their corresponding sentiment labels (positive or negative).\n",
        "\n",
        ".shuffle(25000): This function shuffles the dataset randomly. The argument 25000 indicates the buffer size for shuffling. In this case, the buffer size is set to 25,000, which is the size of the entire IMDb training dataset. This ensures the dataset is shuffled randomly across all samples.\n",
        "\n",
        ".take(8): This function specifies that only the first 8 examples are to be taken from the shuffled dataset. It limits the loop to iterate over 8 examples, instead of going through the entire dataset.\n",
        "\n",
        "for x, y: This is a Python for-loop where:\n",
        "\n",
        "x: Represents the input data, which in this case is the movie review (text).\n",
        "\n",
        "y: Represents the label, which is the sentiment (either 0 for negative or 1 for positive).\n",
        "\n",
        "2. x.numpy():\n",
        "Since x is a TensorFlow tensor (specifically, a string tensor representing the movie review), the .numpy() method converts the tensor to a NumPy array. For strings, this will return a byte string (in the form of b'...').\n",
        "\n",
        "3. .decode('utf-8'):\n",
        "The .decode('utf-8') method decodes the byte string into a human-readable string using the UTF-8 encoding. This is necessary because TensorFlow stores string tensors as byte strings, and we need to convert them to regular text for printing.\n",
        "\n",
        "4. y.numpy():\n",
        "Similarly, y (the label) is also a TensorFlow tensor. The .numpy() method converts the tensor into a NumPy array or scalar, in this case, representing the sentiment label (either 0 or 1).\n",
        "\n",
        "5. print(\"x\", x.numpy().decode('utf-8')):\n",
        "This prints the movie review (after decoding it from a tensor to a regular string).\n",
        "\n",
        "6. print(\"y\", y.numpy()):\n",
        "This prints the sentiment label (as a numeric value, 0 or 1)."
      ],
      "metadata": {
        "id": "r9SmyhWNDFcm"
      }
    },
    {
      "cell_type": "code",
      "source": [
        "type(dataset_train_original.take(8))"
      ],
      "metadata": {
        "colab": {
          "base_uri": "https://localhost:8080/",
          "height": 121
        },
        "id": "Z1kyAXZq5xef",
        "outputId": "33f99046-a959-4db2-99fe-5b2f6c41b2cb"
      },
      "execution_count": null,
      "outputs": [
        {
          "output_type": "execute_result",
          "data": {
            "text/plain": [
              "tensorflow.python.data.ops.take_op._TakeDataset"
            ],
            "text/html": [
              "<div style=\"max-width:800px; border: 1px solid var(--colab-border-color);\"><style>\n",
              "      pre.function-repr-contents {\n",
              "        overflow-x: auto;\n",
              "        padding: 8px 12px;\n",
              "        max-height: 500px;\n",
              "      }\n",
              "\n",
              "      pre.function-repr-contents.function-repr-contents-collapsed {\n",
              "        cursor: pointer;\n",
              "        max-height: 100px;\n",
              "      }\n",
              "    </style>\n",
              "    <pre style=\"white-space: initial; background:\n",
              "         var(--colab-secondary-surface-color); padding: 8px 12px;\n",
              "         border-bottom: 1px solid var(--colab-border-color);\"><b>tensorflow.python.data.ops.take_op._TakeDataset</b><br/>def __init__(input_dataset, count, name=None)</pre><pre class=\"function-repr-contents function-repr-contents-collapsed\" style=\"\"><a class=\"filepath\" style=\"display:none\" href=\"#\">/usr/local/lib/python3.10/dist-packages/tensorflow/python/data/ops/take_op.py</a>A `Dataset` containing the first `count` elements from its input.</pre>\n",
              "      <script>\n",
              "      if (google.colab.kernel.accessAllowed && google.colab.files && google.colab.files.view) {\n",
              "        for (const element of document.querySelectorAll('.filepath')) {\n",
              "          element.style.display = 'block'\n",
              "          element.onclick = (event) => {\n",
              "            event.preventDefault();\n",
              "            event.stopPropagation();\n",
              "            google.colab.files.view(element.textContent, 27);\n",
              "          };\n",
              "        }\n",
              "      }\n",
              "      for (const element of document.querySelectorAll('.function-repr-contents')) {\n",
              "        element.onclick = (event) => {\n",
              "          event.preventDefault();\n",
              "          event.stopPropagation();\n",
              "          element.classList.toggle('function-repr-contents-collapsed');\n",
              "        };\n",
              "      }\n",
              "      </script>\n",
              "      </div>"
            ]
          },
          "metadata": {},
          "execution_count": 8
        }
      ]
    },
    {
      "cell_type": "code",
      "source": [
        "lengths = []\n",
        "labels = []\n",
        "for x, y in dataset_train_original:\n",
        "    lengths += [len(x.numpy().split())]\n",
        "    labels += [y.numpy()]\n",
        "\n",
        "plt.hist(lengths, bins=100)\n",
        "plt.show()\n",
        "plt.close()\n",
        "\n",
        "plt.hist(labels)\n",
        "plt.show()\n",
        "plt.close()\n",
        "\n",
        "#index_longest = np.argmax(lengths)\n",
        "#longest_review = list(dataset_train_original)[index_longest]\n",
        "#longest_review"
      ],
      "metadata": {
        "colab": {
          "base_uri": "https://localhost:8080/",
          "height": 843
        },
        "id": "aHXtqHT08jZs",
        "outputId": "73af5374-ec05-474f-abc3-1aaf7e417892"
      },
      "execution_count": null,
      "outputs": [
        {
          "output_type": "display_data",
          "data": {
            "text/plain": [
              "<Figure size 640x480 with 1 Axes>"
            ],
            "image/png": "[encoded data removed]"
          },
          "metadata": {}
        },
        {
          "output_type": "display_data",
          "data": {
            "text/plain": [
              "<Figure size 640x480 with 1 Axes>"
            ],
            "image/png": "[encoded data removed]"
          },
          "metadata": {}
        }
      ]
    },
    {
      "cell_type": "code",
      "source": [
        "longest_review"
      ],
      "metadata": {
        "colab": {
          "base_uri": "https://localhost:8080/",
          "height": 146
        },
        "id": "kRT45YZv_Shn",
        "outputId": "f10d67a9-f6da-437f-84c4-82357df15a7b"
      },
      "execution_count": null,
      "outputs": [
        {
          "output_type": "error",
          "ename": "NameError",
          "evalue": "name 'longest_review' is not defined",
          "traceback": [
            "\u001b[0;31m---------------------------------------------------------------------------\u001b[0m",
            "\u001b[0;31mNameError\u001b[0m                                 Traceback (most recent call last)",
            "\u001b[0;32m<ipython-input-9-f138cc4b22c6>\u001b[0m in \u001b[0;36m<cell line: 1>\u001b[0;34m()\u001b[0m\n\u001b[0;32m----> 1\u001b[0;31m \u001b[0mlongest_review\u001b[0m\u001b[0;34m\u001b[0m\u001b[0;34m\u001b[0m\u001b[0m\n\u001b[0m",
            "\u001b[0;31mNameError\u001b[0m: name 'longest_review' is not defined"
          ]
        }
      ]
    },
    {
      "cell_type": "markdown",
      "source": [
        "## Bag of Words Encoding (Multi-Hot)"
      ],
      "metadata": {
        "id": "OTqvf_ThNE8s"
      }
    },
    {
      "cell_type": "code",
      "source": [
        "vocabulary_size = 10_000\n",
        "\n",
        "encoder = layers.TextVectorization(\n",
        "    max_tokens=vocabulary_size,\n",
        "    standardize=\"lower_and_strip_punctuation\",\n",
        "    split=\"whitespace\",\n",
        "    output_mode=\"multi_hot\"\n",
        ")\n",
        "encoder.adapt(dataset_train_original.map(lambda text, _: text).batch(2048))"
      ],
      "metadata": {
        "id": "dtqVApu3APHa"
      },
      "execution_count": null,
      "outputs": []
    },
    {
      "cell_type": "markdown",
      "source": [
        "**1. vocabulary_size = 10_000:**\n",
        "vocabulary_size defines the maximum number of unique words (tokens) that will be considered by the TextVectorization layer.\n",
        "In this case, the vocabulary is capped at 10,000 words. Only the 10,000 most frequent words in the dataset will be used. Any additional words beyond this limit will be ignored or replaced with an out-of-vocabulary token."
      ],
      "metadata": {
        "id": "hLXUUc32EC5y"
      }
    },
    {
      "cell_type": "markdown",
      "source": [
        "**encoder = layers.TextVectorization(...):**\n",
        "The TextVectorization layer is a powerful tool in TensorFlow for processing and transforming raw text data into numeric representations that can be fed into neural networks.\n",
        "The encoder here refers to an instance of the TextVectorization layer, and it is configured to process and encode text data using several key parameters:"
      ],
      "metadata": {
        "id": "DOOpUa7TEJg_"
      }
    },
    {
      "cell_type": "markdown",
      "source": [
        "**standardize=\"lower_and_strip_punctuation\":**\n",
        "\n",
        "This argument specifies how to clean the input text.\n",
        "\"lower_and_strip_punctuation\" means that:\n",
        "All text will be converted to lowercase.\n",
        "Punctuation will be removed from the text. For example, \"Hello, World!\" will become \"hello world\"."
      ],
      "metadata": {
        "id": "XxRe3JMmEUoZ"
      }
    },
    {
      "cell_type": "markdown",
      "source": [
        "**Arguments to TextVectorization:**\n",
        "max_tokens=vocabulary_size:\n",
        "\n",
        "This defines the maximum number of unique tokens (words) that the layer will track. The top 10,000 most frequent words in the training data will be included in the vocabulary."
      ],
      "metadata": {
        "id": "aOPldSMSEO26"
      }
    },
    {
      "cell_type": "markdown",
      "source": [
        "**split=\"whitespace\"**:\n",
        "\n",
        "This defines how the text is split into individual tokens (words).\n",
        "\"whitespace\" means that the text will be split on spaces. So, for example, \"hello world\" will be split into the tokens [\"hello\", \"world\"]."
      ],
      "metadata": {
        "id": "EBvcYYMnEbfs"
      }
    },
    {
      "cell_type": "markdown",
      "source": [
        "**output_mode=\"multi_hot\":**\n",
        "\n",
        "This specifies the output representation of the text. In this case, \"multi_hot\" means that the output will be a multi-hot encoded vector.\n",
        "A multi-hot encoding is a binary vector where:\n",
        "Each index corresponds to a word in the vocabulary.\n",
        "The value at each index is 1 if the corresponding word appears in the input text, and 0 if it does not.\n",
        "For example, for a vocabulary of 5 words [\"hello\", \"world\", \"cat\", \"dog\", \"apple\"], the input \"hello world\" would be encoded as [1, 1, 0, 0, 0]."
      ],
      "metadata": {
        "id": "5DPE483jEqfw"
      }
    },
    {
      "cell_type": "markdown",
      "source": [
        "**encoder.adapt**(dataset_train_original.map(lambda text, _: text).batch(2048)):\n",
        "encoder.adapt():\n",
        "\n",
        "The adapt() method is used to \"train\" the TextVectorization layer on the dataset. It builds the vocabulary by analyzing the text data, identifying the most frequent words, and preparing the layer to tokenize future inputs based on that vocabulary.\n",
        "\n",
        "dataset_train_original.map(lambda text, _: text):\n",
        "This line maps over the dataset_train_original and extracts only the text data from each example, ignoring the labels (sentiment).\n",
        "\n",
        "lambda text, _: text is a function that:\n",
        "Takes the input (text is the review and _ is the ignored label) and returns only the text part.\n",
        "\n",
        ".batch(2048):\n",
        "The .batch(2048) method groups the text data into batches of 2048 examples, which speeds up the adapt() process.\n",
        "\n",
        "Instead of processing each review one at a time, the layer processes batches of 2048 reviews."
      ],
      "metadata": {
        "id": "KNfL3azDfHLx"
      }
    },
    {
      "cell_type": "code",
      "source": [
        "vocabulary = encoder.get_vocabulary()\n",
        "print(vocabulary)"
      ],
      "metadata": {
        "colab": {
          "base_uri": "https://localhost:8080/"
        },
        "id": "BM_2x2pNQru0",
        "outputId": "47e69344-6643-47c2-dc96-a6d309e0bfc2"
      },
      "execution_count": null,
      "outputs": [
        {
          "output_type": "stream",
          "name": "stdout",
          "text": [
            "['[UNK]', 'the', 'and', 'a', 'of', 'to', 'is', 'in', 'it', 'i', 'this', 'that', 'br', 'was', 'as', 'for', 'with', 'movie', 'but', 'film', 'on', 'not', 'you', 'are', 'his', 'have', 'he', 'be', 'one', 'its', 'at', 'all', 'by', 'an', 'they', 'from', 'who', 'so', 'like', 'her', 'just', 'or', 'about', 'has', 'if', 'out', 'some', 'there', 'what', 'good', 'when', 'more', 'very', 'even', 'she', 'my', 'no', 'up', 'would', 'which', 'only', 'time', 'really', 'story', 'their', 'were', 'had', 'see', 'can', 'me', 'than', 'we', 'much', 'well', 'been', 'get', 'will', 'into', 'also', 'because', 'other', 'do', 'people', 'bad', 'great', 'first', 'how', 'most', 'him', 'dont', 'made', 'then', 'movies', 'make', 'films', 'could', 'way', 'them', 'any', 'too', 'after', 'characters', 'think', 'watch', 'two', 'many', 'being', 'seen', 'character', 'never', 'little', 'acting', 'where', 'plot', 'best', 'love', 'did', 'know', 'life', 'show', 'does', 'ever', 'your', 'still', 'better', 'over', 'off', 'these', 'end', 'say', 'while', 'here', 'man', 'why', 'scene', 'such', 'scenes', 'go', 'should', 'something', 'through', 'im', 'back', 'those', 'doesnt', 'real', 'watching', 'years', 'though', 'now', 'thing', 'actors', 'didnt', 'another', 'new', 'before', 'actually', 'nothing', 'makes', 'find', 'work', 'funny', 'look', 'few', 'old', 'going', 'same', 'every', 'lot', 'us', 'part', 'director', 'again', 'thats', 'cant', 'quite', 'cast', 'want', 'pretty', 'things', 'seems', 'young', 'got', 'around', 'fact', 'however', 'down', 'world', 'take', 'enough', 'both', 'give', 'between', 'may', 'ive', 'big', 'horror', 'original', 'thought', 'own', 'without', 'gets', 'always', 'series', 'right', 'long', 'isnt', 'saw', 'come', 'almost', 'times', 'least', 'theres', 'role', 'point', 'action', 'must', 'interesting', 'whole', 'comedy', 'bit', 'family', 'music', 'done', 'script', 'last', 'might', 'hes', 'anything', 'guy', 'since', 'feel', 'minutes', 'far', 'probably', 'performance', 'am', 'kind', 'rather', 'worst', 'yet', 'away', 'sure', 'tv', 'making', 'woman', 'girl', 'each', 'found', 'fun', 'played', 'having', 'anyone', 'our', 'although', 'believe', 'comes', 'trying', 'course', 'especially', 'goes', 'day', 'looks', 'hard', 'shows', 'put', 'different', 'wasnt', 'place', 'maybe', 'book', 'once', 'set', 'main', 'reason', 'money', 'worth', 'sense', 'everything', 'looking', 'true', 'ending', 'someone', 'watched', 'plays', 'job', '2', 'actor', 'seem', 'three', 'said', 'takes', 'screen', 'dvd', 'together', 'play', 'instead', 'john', 'during', 'beautiful', 'later', '10', 'effects', 'himself', 'everyone', 'version', 'left', 'seeing', 'special', 'audience', 'night', 'excellent', 'house', 'american', 'idea', 'simply', 'nice', 'wife', 'shot', 'youre', 'read', 'high', 'black', 'less', 'completely', 'second', 'kids', 'help', 'else', 'poor', 'fan', 'war', 'star', 'used', 'given', 'year', 'try', 'father', 'death', 'friends', 'need', 'use', 'rest', 'enjoy', 'home', 'men', 'performances', 'short', 'mind', 'classic', 'until', 'either', 'truly', 'along', 'hollywood', 'boring', 'half', 'dead', 'wrong', 'tell', 'production', 'women', 'line', 'remember', 'couple', 'came', 'next', 'recommend', 'start', 'perhaps', 'full', 'let', 'understand', 'wonderful', 'stupid', 'getting', 'others', 'mean', 'moments', 'playing', 'awful', 'keep', 'episode', 'terrible', 'camera', 'small', 'definitely', 'gives', 'often', 'stars', 'doing', 'sex', 'video', 'early', 'perfect', 'become', 'finally', 'name', 'felt', 'school', 'human', 'supposed', 'face', 'couldnt', 'liked', 'lines', 'dialogue', 'piece', 'person', 'itself', 'lost', 'absolutely', 'top', 'yes', 'case', 'against', 'entire', 'went', 'certainly', 'written', 'live', 'title', 'waste', 'shes', 'sort', 'head', 'budget', 'hope', 'problem', 'style', 'several', 'overall', 'picture', 'loved', 'evil', 'mr', 'worse', 'id', 'fans', 'becomes', 'entertaining', '3', 'cinema', 'boy', 'beginning', 'seemed', 'white', 'based', 'already', 'despite', 'care', 'oh', 'wanted', 'example', 'dark', '\\x96', 'lives', 'guys', 'unfortunately', 'killer', 'throughout', 'mother', 'direction', 'final', 'friend', 'turn', 'totally', 'fine', 'wont', '1', 'wants', 'children', 'amazing', 'sound', 'laugh', 'girls', 'drama', 'youll', 'guess', 'lead', 'tries', 'low', 'called', 'humor', 'writing', 'under', 'michael', 'works', 'history', 'turns', 'able', 'enjoyed', 'theyre', 'behind', 'past', 'quality', 'days', 'gave', 'favorite', 'starts', 'son', 'kill', 'game', 'act', 'sometimes', 'side', 'viewer', 'town', 'horrible', 'parts', 'car', 'actress', 'soon', 'child', 'ones', 'eyes', 'expect', 'obviously', 'flick', 'themselves', 'directed', 'thinking', 'heart', 'art', 'brilliant', 'stories', 'ill', 'decent', 'highly', 'run', 'feeling', 'myself', 'genre', 'late', 'blood', 'stuff', 'fight', 'says', 'close', 'took', 'city', 'except', 'cannot', 'heard', 'hand', 'leave', 'killed', 'kid', 'matter', 'police', 'hell', 'moment', 'wouldnt', 'extremely', 'strong', 'roles', 'happens', 'particularly', 'lack', 'hour', 'involved', 'happened', 'obvious', 'attempt', 'james', 'told', 'living', 'chance', 'violence', 'wonder', 'including', 'etc', 'complete', 'save', 'voice', 'coming', 'murder', 'anyway', 'group', 'daughter', 'looked', 'age', 'please', 'type', 'itbr', 'alone', 'experience', 'simple', 'none', 'god', 'number', 'score', 'exactly', 'slow', 'shown', 'happen', 'ok', 'ago', 'lets', 'interest', 'whose', 'taken', 'brother', 'usually', 'serious', 'david', 'across', 'stop', 'cinematography', 'somewhat', 'running', 'hours', 'annoying', 'sad', 'opening', 'song', 'known', 'ends', 'musical', 'usual', 'possible', 'finds', 'career', 'wish', 'hit', 'yourself', 'released', 'started', 'huge', 'gore', 'relationship', 'seriously', 'scary', 'jokes', 'change', 'saying', 'order', 'crap', 'mostly', 'shots', 'reality', 'ridiculous', 'cut', 'today', 'robert', 'english', 'taking', 'major', 'episodes', 'hilarious', 'novel', 'cool', 'female', 'body', 'talking', 'opinion', '4', 'call', 'apparently', 'directors', 'strange', 'due', 'basically', '5', 'important', 'hero', 'supporting', 'clearly', 'power', 'knows', 'documentary', 'knew', 'happy', 'events', 'view', 'turned', 'husband', 'songs', 'talent', 'level', 'arent', 'king', 'british', 'room', 'easily', 'tells', 'single', 'local', 'rating', 'attention', 'word', 'moviebr', 'bring', 'words', 'problems', 'cheap', 'whats', 'modern', 'silly', 'television', 'beyond', 'sequence', 'whether', 'disappointed', 'light', 'jack', 'falls', 'sets', 'four', 'future', 'five', 'similar', 'paul', 'miss', 'country', 'needs', 'appears', 'romantic', 'giving', 'upon', 'earth', 'viewers', 'comic', 'richard', 'predictable', 'george', 'talk', 'entertainment', 'within', 'review', 'havent', 'feels', 'nearly', 'mention', 'message', 'enjoyable', 'animation', 'bunch', 'filmbr', 'theater', 'lots', 'lady', 'storyline', 'rock', 'add', 'actual', 'using', 'moving', 'points', 'above', 'middle', 'surprised', 'named', 'theme', 'mystery', 'herself', 'ten', 'dull', 'among', 'begins', 'comments', 'writer', 'ways', 'typical', 'fantastic', 'stay', 'showing', 'sequel', 'york', 'elements', 'easy', 'certain', 'thriller', 'team', 'tried', 'fall', 'effort', 'clear', 'near', 'avoid', 'release', 'hate', 'french', 'tale', 'famous', 'sorry', 'somehow', 'parents', 'means', 'straight', 'leads', 'peter', 'red', 'kept', 'working', 'buy', 'greatest', 'dialog', 'doubt', 'soundtrack', 'form', 'class', 'season', 'editing', 'sister', 'general', 'brought', 'weak', 'tom', 'filmed', 'figure', 'feature', 'oscar', 'hear', 'gone', 'whos', 'particular', 'material', 'check', 'viewing', 'learn', 'realistic', 'imagine', 'eventually', 'youve', 'eye', 'move', 'fast', 'atmosphere', 'reviews', 'decided', 'sequences', 'possibly', 'period', 'forget', 'lame', 'deal', 'third', 'premise', 'lee', 'follow', 'de', 'became', 'space', 'dance', 'wait', 'stand', 'indeed', 'japanese', 'zombie', 'sit', 'difficult', 'poorly', 'sexual', 'expected', 'die', 'whatever', 'writers', 'surprise', 'nor', 'crime', 'nature', 'rent', 'average', '80s', 'suspense', 'leaves', 'subject', 'okay', 'stage', 'killing', 'truth', 'believable', 'screenplay', 'needed', 'filmmakers', 'reading', 'note', 'meets', 'meet', 'dr', 'question', 'begin', 'boys', 'joe', 'romance', 'street', 'realize', 'forced', 'otherwise', 'emotional', 'memorable', 'unless', 'write', 'superb', 'shame', 'older', 'minute', 'interested', 'earlier', 'keeps', 'baby', 'weird', 'situation', 'disney', 'whom', 'footage', 'features', 'dramatic', 'credits', 'beauty', 'towards', 'dog', 'badly', 'ask', 'total', 'previous', 'hot', 'sounds', 'crazy', 'brings', 'comment', 'male', 'plenty', 'personal', 'worked', 'incredibly', 'plus', 'directing', 'society', 'quickly', 'perfectly', 'cheesy', 'admit', 'result', 'unique', 'deep', 'return', 'america', 'laughs', 'free', 'creepy', 'development', 'leading', 'appear', 'meant', 'hardly', 'open', 'brothers', '20', 'imdb', 'hands', 'b', 'apart', 'mark', 'various', 'casting', 'remake', 'effect', 'create', 'setting', 'christmas', 'potential', 'mess', 'bill', 'battle', 'background', 'scifi', 'monster', 'forward', 'powerful', 'portrayed', 'dream', 'inside', 'outside', '70s', 'fairly', 'business', 'la', 'manages', 'ideas', 'expecting', 'jane', 'fails', 'deserves', 'present', 'political', 'missing', 'attempts', 'twist', 'secret', 'fire', 'dumb', 'unlike', 'fighting', 'fantasy', 'pay', 'air', 'joke', 'gay', 'ben', 'william', 'recently', 'rich', 'front', 'nudity', 'married', 'further', 'masterpiece', 'reasons', 'copy', 'match', 'box', 'sadly', 'agree', 'acted', 'break', 'telling', 'talented', 'plain', 'western', 'success', 'cute', 'pure', 'villain', 'missed', 'incredible', 'odd', 'girlfriend', 'doctor', 'crew', 'following', 'caught', 'decides', 'cop', 'social', 'large', 'considering', 'waiting', 'sees', 'mentioned', 'members', 'uses', 'flat', 'popular', 'hold', 'ended', 'slightly', 'wasted', 'public', 'suddenly', 'pace', 'neither', 'compared', 'wrote', 'sweet', 'spent', 'kills', 'entirely', 'rate', 'intelligent', 'created', 'familiar', 'office', 'audiences', 'ultimately', 'cause', 'tension', 'scott', 'convincing', 'clever', 'bored', 'visual', 'party', 'escape', 'era', 'moves', 'cartoon', 'basic', 'credit', 'biggest', 'mary', 'list', 'revenge', 'laughing', 'fear', 'successful', 'recent', 'consider', 'spirit', 'island', 'trouble', 'spend', 'violent', 'positive', 'gun', 'choice', 'dancing', 'cover', 'books', 'appreciate', 'zombies', 'water', 'speak', 'science', 'former', 'died', 'cold', 'singing', 'filled', 'concept', 'younger', 'portrayal', '12', 'produced', 'value', 'solid', 'adult', 'state', 'exciting', 'common', 'bizarre', '8', 'werent', 'amount', 'walk', 'focus', 'animated', 'showed', 'language', 'effective', 'band', 'amusing', 'german', 'italian', 'producers', 'fit', 'follows', '7', 'van', 'runs', 'considered', 'impressive', 'impossible', 'decide', 'chemistry', 'cat', 'tone', 'won', 'pointless', 'company', '15', 'store', 'depth', 'barely', 'win', 'somewhere', 'control', 'studio', 'situations', 'prison', 'mad', 'sick', 'leaving', 'college', 'project', 'respect', 'force', 'changed', 'recommended', 'hair', 'surprisingly', 'aside', 'tony', 'starring', 'awesome', 'trip', 'century', 'longer', 'likes', 'generally', 'failed', 'shooting', 'planet', 'charming', 'slasher', 'involving', 'questions', 'honest', 'trash', 'thanks', 'immediately', 'literally', 'images', 'disturbing', 'accent', 'steve', 'spoilers', '30', 'values', 'utterly', 'bought', 'south', 'ghost', 'fake', 'touch', 'pictures', 'magic', 'jim', 'natural', 'conclusion', 'west', 'glad', 'sitting', 'ability', 'pathetic', 'honestly', 'frank', 'aspect', 'adaptation', 'computer', 'adventure', 'explain', 'normal', 'fair', 'culture', 'appearance', 'stick', 'personally', 'cult', 'camp', 'knowing', 'alive', 'tough', 'added', 'remains', 'rare', 'dad', 'catch', 'thinks', 'meaning', 'yeah', 'detective', 'sam', 'appeal', 'silent', 'humour', 'army', 'genius', 'beautifully', 'terms', 'managed', 'attack', 'walking', 'thank', 'taste', 'sexy', 'military', 'equally', 'standard', 'soldiers', 'smith', 'garbage', 'twists', 'subtle', 'london', 'harry', 'dreams', 'loves', 'journey', 'comedies', '100', 'pick', 'nowhere', 'terrific', 'touching', 'purpose', 'naked', 'complex', 'woods', 'nobody', 'likely', 'wild', 'channel', 'surely', 'mood', 'lovely', 'excuse', 'plan', 'master', 'fully', 'thus', 'narrative', 'chase', 'road', 'contains', 'cinematic', 'themes', 'fiction', 'constantly', 'central', 'unbelievable', 'outstanding', 'issues', 'youd', 'week', 'slowly', 'self', 'brain', 'painful', 'innocent', 'chris', 'batman', 'thrown', 'presented', 'pass', 'disappointing', 'presence', 'historical', 'marriage', 'date', 'christopher', 'animals', 'stunning', 'mysterious', 'laughable', 'charles', 'impression', 'hoping', 'besides', 'shoot', 'places', 'minor', 'costumes', 'club', 'mistake', 'critics', 'bottom', 'stands', 'makers', 'edge', 'details', 'sent', 'photography', 'indian', 'stewart', 'soul', 'justice', 'charm', 'makeup', 'door', 'aspects', '9', 'ride', 'law', 'heavy', 'finish', 'brief', 'boss', 'vampire', 'mainly', 'government', 'exception', 'feelings', 'climax', 'throw', 'suppose', 'support', 'manner', 'festival', 'color', 'train', 'scenery', 'pieces', 'paris', 'opportunity', 'hey', 'gang', 'expectations', 'element', 'cry', 'names', 'loud', 'filming', 'charlie', 'acts', 'victims', 'rated', 'bother', 'track', 'puts', 'fascinating', '6', 'smart', 'serial', 'falling', 'changes', 'award', 'intended', 'emotions', 'drawn', 'available', 'tired', 'victim', 'suggest', 'henry', 'speaking', 'include', 'church', 'disappointment', 'blue', 'twice', 'hasnt', 'likable', 'emotion', 'confused', 'building', 'hotel', 'followed', 'wow', 'compelling', 'students', 'motion', 'green', 'giant', 'appeared', 'image', 'everybody', 'dies', 'developed', 'ahead', 'pain', 'mans', 'laughed', 'bruce', 'lacks', 'kelly', 'gorgeous', 'approach', 'share', 'impact', 'difference', 'supposedly', 'offer', 'million', 'hurt', 'forever', 'fellow', 'fresh', 'bed', 'wondering', 'trailer', 'moral', 'merely', 'proves', 'jerry', 'happening', 'confusing', 'shock', 'helps', 'funniest', 'finding', 'relationships', 'putting', 'notice', 'grade', 'drive', 'billy', 'bar', 'answer', 'adults', 'system', 'random', 'student', 'producer', 'mix', 'key', 'creative', 'spoiler', 'numbers', 'mediocre', 'delivers', 'christian', 'zero', 'opera', 'noir', 'murders', 'lighting', 'jones', 'damn', 'provides', 'born', 'paid', 'absolute', 'thoroughly', 'summer', 'timebr', 'negative', 'lived', 'drug', 'content', 'addition', 'seemingly', 'reminded', 'ms', 'impressed', 'fell', 'event', 'becoming', 'alien', 'tragedy', 'park', 'offers', 'land', 'gem', 'flying', 'flicks', 'childhood', 'boyfriend', 'lover', 'imagination', 'hospital', 'attractive', 'stuck', 'lose', 'williams', 'race', 'holes', 'flaws', 'extreme', 'al', 'tragic', 'ii', 'ugly', 'six', 'rented', 'page', 'nasty', 'hidden', 'arthur', 'americans', 'shouldnt', 'martin', 'held', 'agent', '90', 'spot', 'adds', 'standards', 'rape', 'intense', 'folks', 'alan', 'ray', 'pull', 'faces', 'detail', 'beat', 'asks', 'artistic', 'afraid', 'turning', 'therefore', 'seconds', 'filmmaker', 'super', 'step', 'porn', 'games', 'latter', 'industry', 'davis', 'collection', 'states', 'shocking', 'forgotten', 'favourite', 'describe', 'affair', 'picked', 'onto', 'angry', 'teenage', 'seven', 'redeeming', 'ready', 'led', 'brian', 'actresses', 'mom', 'dirty', 'design', 'count', 'deliver', 'area', 'wooden', 'soldier', 'information', 'compare', 'queen', 'carry', 'allowed', 'thin', 'struggle', 'lord', 'willing', 'stephen', 'news', 'inspired', 'includes', 'chinese', 'allen', 'personality', 'moved', 'location', 'jason', 'apartment', 'helped', 'ground', 'fashion', 'desperate', 'deeply', 'cliché', 'animal', 'wonderfully', 'martial', 'intelligence', 'bond', 'wars', 'quick', 'listen', 'castle', 'uncle', 'professional', 'member', 'grace', 'don', 'direct', 'criminal', 'trust', 'scientist', 'rarely', 'food', 'cops', 'captain', 'began', 'todays', 'creature', 'clothes', 'cgi', 'humans', 'worthy', 'phone', 'mental', 'introduced', 'double', 'wearing', 'theatre', 'necessary', 'independent', 'comedic', 'realized', 'plane', 'fox', 'anymore', 'allow', 'unusual', 'treat', 'technical', 'tears', 'superior', 'drugs', 'commentary', 'apparent', 'physical', 'energy', 'dying', 'wall', 'provide', 'tim', 'sky', 'ship', 'normally', 'epic', 'desire', 'continue', 'nightmare', 'danny', 'stone', 'sight', 'remarkable', 'mouth', 'douglas', 'arts', 'filmmaking', 'accident', 'scared', 'returns', 'powers', 'limited', 'station', 'ring', 'reminds', 'holds', 'heroes', 'bloody', 'accept', 'witch', 'suspect', 'search', 'pleasure', 'engaging', '60s', 'wedding', 'warning', 'surprising', 'intriguing', 'brutal', 'actions', 'wanting', 'teacher', 'machine', 'hated', 'build', 'according', 'whatsoever', 'russian', 'fred', 'disaster', 'asked', 'academy', 'unnecessary', 'sleep', 'skip', 'pacing', 'grand', 'clichés', 'johnny', 'finished', 'constant', 'vision', 'bits', 'andy', 'religious', 'nicely', 'joan', 'ie', 'extra', 'anybody', 'suicide', 'sat', 'process', 'originally', 'legend', 'heres', 'artist', 'passion', 'lies', 'growing', 'ed', 'absurd', 'roll', 'monsters', 'blame', 'anywhere', 'toward', 'suit', 'media', 'lovers', 'killers', 'joy', 'gotten', 'ladies', 'faith', 'explanation', 'dangerous', 'watchable', 'players', 'met', 'instance', 'eddie', 'deserve', 'unknown', 'memory', 'kevin', 'jeff', 'dick', 'winning', 'whilst', 'villains', 'somebody', 'quiet', 'higher', 'hadnt', 'torture', 'starting', 'smile', 'nick', 'capture', 'accurate', '40', 'pilot', 'jump', 'heads', 'cars', 'superman', 'hopes', 'heaven', 'creating', 'jr', 'guns', 'featuring', 'fail', 'exist', 'dressed', 'community', 'adam', 'river', 'responsible', 'teen', 'friendship', 'fights', 'worlds', 'vs', 'tarzan', 'saved', 'record', 'pulled', 'prince', 'england', 'moon', 'months', 'keeping', 'jesus', 'european', 'understanding', 'terribly', 'taylor', 'reviewers', 'lowbudget', 'jean', 'treated', 'mixed', 'manage', 'kinda', 'explained', 'whenever', 'radio', 'numerous', 'memories', 'knowledge', 'hits', 'finest', 'thembr', 'loving', 'judge', 'delightful', 'private', 'price', 'pop', 'player', 'peoples', 'officer', 'lacking', 'jackson', 'issue', 'gene', 'fat', '50', 'weve', 'unfunny', 'bland', 'vhs', 'sucks', 'psychological', 'prove', 'mike', 'forces', 'eat', 'discover', 'deserved', 'screaming', 'pretentious', 'loose', 'japan', 'horse', 'floor', 'witty', 'streets', 'sign', 'regular', 'ordinary', 'loss', 'included', 'field', 'spanish', 'opposite', 'heroine', 'empty', 'drunk', 'driving', 'broken', 'saving', 'portray', 'loses', 'humanity', 'dated', 'cage', 'cable', 'skills', 'opens', 'noticed', 'naturally', 'conflict', 'bright', 'cuts', 'c', 'bigger', 'aware', 'talents', 'locations', 'discovered', 'calls', 'breaks', 'wind', 'visually', 'partner', 'international', 'essentially', 'deals', 'dealing', 'continues', 'blonde', 'youth', 'werewolf', 'visit', 'theyve', 'soap', 'morning', 'jimmy', 'humorous', 'fate', 'captured', 'scream', 'morgan', 'mine', 'magnificent', 'length', 'golden', 'curious', 'ball', '1010', 'traditional', 'realism', 'plots', 'miles', 'kate', 'gold', 'gags', 'current', 'connection', 'concerned', 'shallow', 'results', 'received', 'occasionally', 'nonsense', 'genuine', 'debut', 'sing', 'sean', 'satire', 'rubbish', 'perspective', 'murdered', 'frankly', 'allows', 'advice', 'versions', 'genuinely', 'below', 'anthony', 'national', 'learned', 'gary', 'bob', 'washington', 'behavior', 'proved', 'mrs', 'lesson', 'kong', 'grew', 'blind', 'bank', '90s', '1950s', 'welles', 'stock', 'segment', 'santa', 'rob', 'revealed', 'mission', 'fathers', 'corny', 'context', 'vampires', 'underrated', 'unable', 'ultimate', 'sudden', 'sheer', 'keaton', 'cameo', 'visuals', 'unexpected', 'shop', 'meanwhile', 'formula', 'ford', 'favor', 'develop', 'albert', 'thisbr', 'steal', 'owner', 'jennifer', 'himbr', 'finale', 'survive', 'study', 'remembered', 'references', 'reach', 'luck', 'harris', 'efforts', 'ann', 'ages', 'window', 'village', 'singer', 'logic', 'identity', 'gonna', 'eric', 'decade', 'cross', 'brilliantly', 'sea', 'program', 'passed', 'ice', 'discovers', 'awkward', 'wise', 'utter', 'strength', 'spectacular', 'desert', 'crappy', 'steven', 'standing', 'majority', 'grant', 'gangster', 'dan', 'candy', 'types', 'stereotypes', 'sisters', 'sake', 'leader', 'flashbacks', 'existence', 'delivered', 'board', 'awards', 'creates', 'bet', 'robin', 'relate', 'reaction', 'ran', 'lucky', 'lake', 'insane', 'caused', 'trek', 'sucked', 'pair', 'painfully', 'meeting', 'gratuitous', 'graphic', 'foreign', 'dreadful', 'daughters', 'speed', 'relief', 'practically', 'pleasant', 'edited', 'devil', 'travel', 'fault', 'families', 'emotionally', 'boat', 'technology', 'nevertheless', 'endless', 'author', 'twenty', 'thomas', 'site', 'simon', 'reviewer', 'overly', 'native', 'decision', 'comparison', 'seasons', 'portrays', 'freedom', 'failure', 'described', 'combination', 'barbara', 'assume', 'anime', 'ancient', 'aka', 'test', 'rules', 'proper', 'president', 'feet', 'attitude', 'wide', 'vehicle', 'treatment', 'parody', 'hearing', 'brown', 'stopped', 'sell', 'range', 'portraying', 'howard', 'foot', 'eating', 'choose', 'buddy', 'bear', 'asking', 'uk', 'marry', 'luke', 'learns', 'laughter', 'hitler', 'halloween', 'executed', 'drew', 'chosen', 'capable', 'believes', 'tape', 'lynch', 'largely', 'involves', 'gory', 'fill', 'excited', 'evening', 'daniel', 'commercial', 'anna', 'allbr', 'wood', 'religion', 'recall', 'produce', 'grow', 'classics', 'broadway', 'wit', 'theatrical', 'product', 'model', 'victor', 'unrealistic', 'theaters', 'sheriff', 'parker', 'kick', 'haunting', 'entertained', 'contrived', 'center', '50s', 'suffering', 'strongly', 'storybr', 'ruined', 'round', 'rise', 'levels', 'depressing', 'clue', 'sequels', 'rescue', 'r', 'joseph', 'irritating', 'freddy', 'extras', 'd', 'contrast', 'built', 'appealing', 'woody', 'rose', 'onebr', 'heck', 'handsome', 'costs', 'claim', 'sympathetic', 'sports', 'shakespeare', 'research', 'matt', 'losing', 'individual', 'destroy', '11', 'talks', 'protagonist', 'generation', 'evidence', 'embarrassing', 'disgusting', 'clean', 'captures', 'vote', 'thatbr', 'tend', 'post', 'patrick', 'matters', 'hill', 'facts', 'dry', 'chief', 'chick', 'appropriate', 'hunter', 'hanging', 'fame', 'canadian', 'alex', 'voices', 'virtually', 'naive', 'hopefully', 'grown', 'football', 'exploitation', 'bringing', 'asian', 'walks', 'training', 'scare', 'roy', 'relatively', 'obsessed', 'jackie', 'horribly', 'haunted', 'costume', 'cares', 'thoughts', 'steals', 'spoil', 'saturday', 'safe', 'promise', 'priest', 'pity', 'mask', 'lousy', 'louis', 'france', 'fits', 'convinced', 'bomb', 'walter', 'teenagers', 'insult', 'frame', 'cost', 'correct', 'till', 'teenager', 'ryan', 'oliver', 'mebr', 'dogs', 'crowd', 'creatures', 'wellbr', 'send', 'satisfying', 'initial', 'halfway', 'fly', 'excitement', 'dubbed', 'depicted', 'winner', 'united', 's', 'remain', 'gordon', 'europe', 'cinderella', 'cash', 'angel', 'amateurish', '1970s', 'tiny', 'texas', 'tedious', 'nancy', 'lower', 'influence', 'holding', 'hide', 'germany', 'contemporary', 'anne', 'weekend', 'unlikely', 'unfortunate', 'substance', 'soft', 'psycho', 'nominated', 'lewis', 'cowboy', 'circumstances', 'asleep', 'viewed', 'touches', 'presents', 'marie', 'lawyer', 'flesh', 'continuity', 'closer', 'bodies', 'baseball', 'witness', 'serves', 'provided', 'max', 'f', 'drag', 'danger', 'australian', '810', 'trilogy', 'suffers', 'shocked', 'reporter', 'handled', 'fool', 'cartoons', 'brave', 'amateur', 'weeks', 'wayne', 'surreal', 'structure', 'source', 'sons', 'ruin', 'roger', 'repeated', 'refreshing', 'fare', 'category', 'supernatural', 'seat', 'politics', 'plans', 'offensive', 'latest', 'hunt', 'fu', 'display', 'deaths', 'chose', 'africa', 'accidentally', 'welcome', 'warm', 'surprises', 'studios', 'sinatra', 'robot', 'promising', 'pile', 'north', 'market', 'angles', 'target', 'speaks', 'realizes', 'qualities', 'previously', 'overthetop', 'colors', 'claims', 'bugs', 'harsh', 'granted', 'experiences', 'edward', 'deadly', 'convince', 'adventures', 'accents', 'storytelling', 'factor', 'designed', 'covered', 'artists', 'wouldve', 'whoever', 'veteran', 'universal', 'speech', 'skin', 'service', 'rental', 'recognize', 'movement', 'lesbian', 'hall', 'draw', 'believed', 'victoria', 'routine', 'professor', 'mainstream', 'highlight', 'degree', 'uninteresting', 'rain', 'propaganda', 'occasional', 'mistakes', 'kim', 'hat', 'enter', 'columbo', 'walked', 'twisted', 'technically', 'sympathy', 'struggling', 'peace', 'outbr', 'minds', 'magical', 'guilty', 'directly', 'aliens', 'nude', 'massive', 'kinds', 'invisible', 'friday', 'focused', 'explains', 'downright', 'combined', 'breaking', 'teens', 'section', 'print', 'princess', 'paper', 'inner', 'committed', '710', 'remotely', 'offered', 'narration', 'j', 'gritty', 'donald', 'ass', 'suspenseful', 'spends', 'sorts', 'prime', 'multiple', 'moore', 'irish', 'featured', 'experienced', 'enemy', 'atrocious', 'universe', 'treasure', 'sharp', 'reveal', 'regret', 'lonely', 'legendary', 'insight', 'frightening', 'express', 'execution', 'variety', 'security', 'reputation', 'performed', 'hong', 'forgettable', 'figured', 'exact', 'dollars', 'anger', '25', 'waybr', 'surface', 'stolen', 'rings', 'prior', 'path', 'passing', 'herebr', 'forest', 'figures', 'fictional', 'false', 'dozen', 'crash', 'bothered', 'birth', 'abuse', 'abandoned', '1980s', 'theory', 'subtitles', 'spy', 'pulls', 'powell', 'hired', 'ghosts', 'fairy', 'eight', 'darkness', 'crying', 'conversation', '13', 'von', 'statement', 'russell', 'reveals', 'required', 'paint', 'paced', 'melodrama', 'isbr', 'erotic', 'emma', 'cutting', 'core', 'anderson', 'wilson', 'urban', 'trapped', 'terror', 'stays', 'stayed', 'significant', 'mountain', 'hed', 'gas', 'effectively', 'drop', 'demons', 'blow', 'worthwhile', 'slapstick', 'paying', 'grim', 'crude', '14', 'rights', 'proud', 'mgm', 'mere', 'listening', 'jon', 'focuses', 'dean', 'clark', 'buying', 'wear', 'spite', 'sir', 'quest', 'necessarily', 'lights', 'bmovie', 'beach', 'african', 'account', 'unconvincing', 'scale', 'jobs', 'heavily', 'grave', 'forth', 'titanic', 'sunday', 'scares', 'network', 'julia', 'facial', 'everywhere', 'destroyed', 'department', 'delivery', 'cruel', 'clichéd', 'childrens', 'caine', 'bus', 'andor', 'amazed', 'afternoon', '1930s', 'vietnam', 'scenario', 'san', 'murphy', 'metal', 'matrix', 'imagery', 'driven', 'desperately', 'closing', 'changing', 'alright', 'thankfully', 'sounded', 'skill', 'sensitive', 'rule', 'ron', 'reminiscent', 'position', 'placed', 'mothers', 'midnight', 'mature', 'junk', 'idiot', 'forgot', 'flashback', 'favorites', 'faithful', 'fabulous', 'device', 'code', 'blockbuster', 'belief', 'alice', 'suffer', 'stereotypical', 'revolution', 'pitt', 'novels', 'mexican', 'interview', 'ignore', 'extraordinary', 'driver', 'campy', 'aint', '110', 'views', 'summary', 'sleeping', 'settings', 'seek', 'musicals', 'lifetime', 'happiness', 'greater', 'examples', 'dude', 'deeper', 'california', 'beloved', 'angle', 'amazingly', 'understood', 'sarah', 'renting', 'prefer', 'pacino', 'notorious', 'initially', 'inept', 'helping', 'fourth', 'dennis', 'criminals', 'court', 'burns', 'blah', 'beast', 'achieve', 'teeth', 'susan', 'sitcom', 'rolling', 'regarding', 'pregnant', 'lifebr', 'learning', 'league', 'depiction', 'breathtaking', 'brad', 'bourne', 'rip', 'raw', 'mexico', 'lisa', 'larry', 'jungle', 'endbr', 'couldve', 'convey', 'complicated', 'china', 'bore', 'table', 'quirky', 'purely', 'picks', 'kung', 'indie', 'format', 'entertain', 'encounter', 'cultural', 'starred', 'rough', 'rachel', 'prepared', 'ned', 'murderer', 'mildly', 'julie', 'freeman', 'expert', 'dragon', 'disbelief', 'description', 'decades', 'critical', 'calling', 'cabin', 'writerdirector', 'via', 'underground', 'touched', 'throws', 'throwing', 'status', 'serve', 'productions', 'notable', 'leslie', 'join', 'funnier', 'friendly', 'drinking', 'appreciated', 'subplot', 'onbr', 'introduction', 'flight', 'expression', 'everyday', 'dress', 'carries', 'basis', 'arms', 'answers', 'adding', 'task', 'strangely', 'raised', 'protect', 'honor', 'criticism', 'comical', 'bollywood', 'blown', 'base', 'againbr', 'wears', 'suck', 'succeeds', 'racist', 'kiss', 'intellectual', 'fallen', 'extent', 'caring', 'brooks', 'amongst', 'usa', 'truck', 'ted', 'sword', 'shadow', 'regard', 'raise', 'originality', 'inspiration', 'hoffman', 'foster', 'environment', 'claire', 'causes', 'carrying', 'carried', 'attempting', 'x', 'weapons', 'socalled', 'ripoff', 'protagonists', 'praise', 'michelle', 'maria', 'johnson', 'jessica', 'handle', 'enjoying', 'embarrassed', 'choices', 'charge', 'challenge', 'cell', 'cases', 'angels', '410', 'tales', 'spoof', 'sinister', 'sidney', 'shut', 'rogers', 'related', 'ludicrous', 'lazy', 'warned', 'turkey', 'southern', 'replaced', 'obnoxious', 'needless', 'lugosi', 'locked', 'ironic', 'gruesome', 'experiment', 'elizabeth', 'determined', 'breath', 'wins', 'westerns', 'sun', 'sleazy', 'screening', 'properly', 'pet', 'nowadays', 'lie', 'interpretation', 'escapes', 'daily', 'burt', 'aunt', 'trick', 'tradition', 'remote', 'obsession', 'jail', 'hardy', 'graphics', 'clips', 'chilling', 'blair', 'bbc', 'attacked', 'wave', 'warner', 'u', 'tight', 'stanley', 'served', 'scripts', 'remind', 'reference', 'laura', 'jumps', 'interviews', 'exists', 'essential', 'arrives', 'alas', 'stops', 'st', 'sold', 'punch', 'navy', 'marvelous', 'india', 'hitchcock', 'fortunately', 'contain', 'busy', 'timing', 'successfully', 'oddly', 'nonexistent', 'hills', 'goofy', 'goodbr', 'frequently', 'established', 'dollar', 'ashamed', '310', 'term', 'sum', 'stylish', 'rival', 'revolves', 'refuses', 'ratings', 'oscars', 'o', 'jewish', 'inspector', 'flawed', 'drives', 'balance', 'authentic', 'warn', 'upset', 'struggles', 'risk', 'nation', 'mirror', 'mindless', 'mentally', 'manager', 'legs', 'horrific', 'hence', 'guard', 'flow', 'che', 'andrews', 'tree', 'titles', 'sides', 'shower', 'riding', 'retarded', 'philip', 'par', 'overcome', 'hood', 'greatly', 'delight', 'comedian', 'bette', 'toy', 'tense', 'suspects', 'stomach', 'spoken', 'roberts', 'poignant', 'nonetheless', 'mob', 'mansion', 'lesser', 'lane', 'intentions', 'intensity', 'gods', 'cynical', 'bridge', 'attacks', 'albeit', 'wishes', 'topic', 'thousands', 'presentation', 'madness', 'lion', 'lessons', 'jay', 'husbands', 'fbi', 'expressions', 'cooper', 'controversial', 'buck', 'bitter', 'wealthy', 'wasting', 'vacation', 'thrilling', 'suffered', 'stupidity', 'stranger', 'seeking', 'personalities', 'opened', 'medical', 'lucy', 'glimpse', 'demon', 'confusion', 'chan', 'adapted', 'storm', 'scientists', 'pride', 'nazi', 'internet', 'hundreds', 'holmes', 'guessing', 'eg', 'dubbing', 'dinner', 'bound', '30s', 'whereas', 'uncomfortable', 'tracy', 'thief', 'text', 'shorts', 'shines', 'separate', 'perform', 'patient', 'mass', 'infamous', 'hint', 'happily', 'gross', 'dislike', 'courage', 'contact', 'broke', 'advantage', 'trite', 'sings', 'reed', 'performers', 'noble', 'miscast', 'miller', 'countries', 'corner', 'chases', 'chair', 'trial', 'suggests', 'shape', 'rocks', 'physically', 'mouse', 'millions', 'letting', 'innocence', 'horses', 'helen', 'elvis', 'east', 'credible', 'credibility', 'atmospheric', '910', '2006', '1960s', 'womans', 'tied', 'therebr', 'technique', 'sin', 'sexuality', 'reunion', 'racism', 'hundred', 'hole', 'glass', 'cook', 'consists', 'youbr', 'troubled', 'steps', 'portrait', 'pool', 'lying', 'lovable', 'gripping', 'grey', 'ensemble', 'develops', 'curse', 'crisis', 'cameos', 'badbr', '2000', 'torn', 'stretch', 'screenwriter', 'saves', 'ralph', 'oneliners', 'noted', 'meaningful', 'idiotic', 'holiday', 'hanks', 'concert', 'catholic', 'bo', 'bettie', 'bears', 'wwii', 'weapon', 'vincent', 'unforgettable', 'sentimental', 'searching', 'proof', 'plastic', 'neat', 'kurt', 'gain', 'exceptional', 'enjoyment', 'drink', 'accepted', 'toobr', 'thrillers', 'shed', 'imaginative', 'host', 'hiding', 'herbr', 'franchise', 'fish', 'entry', 'dig', 'dialogs', 'connected', 'belongs', 'attraction', 'spots', 'solve', 'sends', 'sandler', 'nine', 'lincoln', 'hoped', 'concerns', 'christ', 'card', 'annoyed', 'andrew', 'aired', 'worry', 'widmark', 'virgin', 'succeed', 'quote', 'object', 'n', 'lucas', 'jake', 'italy', 'guts', 'flaw', 'endearing', 'closely', 'assistant', 'arm', 'achieved', 'striking', 'repeat', 'redemption', 'profound', 'irony', 'homeless', 'hearts', 'ha', 'fortune', 'equal', 'encounters', 'eerie', 'dealt', 'crimes', 'cousin', 'colorful', 'checking', 'battles', 'bag', 'appearances', 'aged', 'videos', 'tune', 'tribute', 'tour', 'teach', 'sutherland', 'stanwyck', 'segments', 'persons', 'pat', 'oil', 'nights', 'nelson', 'neighborhood', 'mst3k', 'library', 'h', 'factory', 'dragged', 'dentist', 'covers', 'complaint', '1st', 'stan', 'snow', 'slight', 'pointed', 'ourselves', 'miniseries', 'hunting', 'hooked', 'hang', 'hamlet', 'essence', 'dear', 'cube', 'civil', 'bucks', 'believing', 'bat', 'thousand', 'surrounding', 'strikes', 'split', 'shoots', 'seagal', 'rush', 'pitch', 'pack', 'moviesbr', 'laid', 'knife', 'incoherent', 'health', 'glory', 'expensive', 'dare', 'countless', 'cheese', 'charisma', 'branagh', 'baker', 'appearing', '18', 'zone', 'workers', 'theyd', 'surrounded', 'stood', 'stealing', 'spending', 'matthau', 'massacre', 'lloyd', 'jeremy', 'dorothy', 'dancer', 'condition', 'competent', 'chasing', 'charismatic', 'chances', 'catherine', 'briefly', 'attempted', 'unintentionally', 'tons', 'terrifying', 'stunts', 'stronger', 'specific', 'shall', 'rushed', 'rochester', 'ripped', 'intention', 'horrendous', 'grows', 'fx', 'elsewhere', 'denzel', 'curtis', 'crafted', 'colour', 'birthday', 'attached', 'aforementioned', 'wing', 'wanna', 'trade', 'sullivan', 'sexually', 'setup', 'reactions', 'messages', 'individuals', 'hip', 'easier', 'betterbr', 'associated', 'admittedly', '80', 'university', 'tricks', 'requires', 'perfection', 'noise', 'month', 'magazine', 'le', 'guilt', 'gag', 'forgive', 'creators', 'burning', 'beating', 'arnold', '2001', 'wake', 'typically', 'stunt', 'stated', 'spike', 'silver', 'revelation', 'per', 'nose', 'luckily', 'increasingly', 'identify', 'homage', 'guest', 'goal', 'gift', 'dropped', 'drags', 'corrupt', '17', 'vague', 'strictly', 'represents', 'overrated', 'neck', 'kings', 'importance', 'ian', 'gotta', 'gothic', 'fired', 'faced', 'exercise', 'dramas', 'dawn', 'chuck', 'cats', 'cardboard', 'boredom', 'allowing', 'winter', 'walls', 'virus', 'techniques', 't', 'reynolds', 'ps', 'performing', 'painting', 'mild', 'medium', 'loser', 'killings', 'kidnapped', 'kicks', 'kane', 'instantly', 'importantly', 'hype', 'fitting', 'fifteen', 'enters', 'contract', 'commit', 'chaplin', 'camerawork', 'barry', 'sophisticated', 'row', 'relevant', 'pushed', 'presumably', 'jesse', 'horrors', 'handful', 'godfather', 'disagree', 'carefully', 'brando', 'boll', 'bobby', 'basement', '24', 'wonders', 'weight', 'thumbs', 'shining', 'sally', 'reallife', 'realise', 'pleased', 'plague', 'pie', 'partly', 'packed', 'nuclear', 'notch', 'letter', 'flash', 'eva', 'doors', 'brand', '45', 'wondered', 'tremendous', 'toilet', 'talked', 'superhero', 'silence', 'returning', 'resolution', 'pleasantly', 'overlooked', 'occurs', 'mustsee', 'marks', 'korean', 'hudson', 'hitting', 'heat', 'frustrated', 'executive', 'destruction', 'derek', 'continued', 'comics', 'buried', 'britain', 'admire', 'acceptable', 'worthless', 'superbly', 'strip', 'secretary', 'prevent', 'persona', 'listed', 'lab', 'jamie', 'inevitable', 'iii', 'fears', 'evident', 'competition', 'canada', 'bride', 'breasts', 'arrested', 'subplots', 'strike', 'stiff', 'spell', 'shy', 'relative', 'regardless', 'projects', 'press', 'picking', 'opposed', 'masters', 'larger', 'investigation', 'flawless', 'fatal', 'estate', 'doc', 'digital', 'citizen', 'carol', 'bush', 'bullets', 'boxing', 'bible', 'beings', 'attracted', 'accused', 'walken', 'struck', 'splendid', 'spiritual', 'someones', 'root', 'revealing', 'planning', 'outrageous', 'nazis', 'menacing', 'mafia', 'los', 'kudos', 'karloff', 'jumping', 'highlights', 'glover', 'directorial', 'closeups', 'burn', 'appalling', 'afterwards', '40s', '3d', 'useless', 'union', 'uninspired', 'thrills', 'suits', 'subsequent', 'spooky', 'sole', 'slightest', 'savage', 'remaining', 'precious', 'notes', 'logical', 'lacked', 'ironically', 'inspiring', 'hire', 'guide', 'genres', 'flynn', 'dvds', 'cup', 'conspiracy', 'characterization', 'brilliance', 'ambitious', '911', '2005', 'wes', 'watches', 'ward', 'twin', 'streisand', 'spoiled', 'souls', 'repetitive', 'repeatedly', 'reasonably', 'raped', 'pulling', 'photographed', 'notably', 'neighbor', 'morality', 'melodramatic', 'ken', 'installment', 'heston', 'francisco', 'elderly', 'documentaries', 'dire', 'depression', 'curiosity', 'creation', 'convoluted', 'clues', 'blob', 'aimed', 'accomplished', 'worldbr', 'wicked', 'wannabe', 'timothy', 'ticket', 'theyll', 'territory', 'tea', 'smooth', 'shortly', 'screams', 'samurai', 'rid', 'response', 'push', 'providing', 'poverty', 'overdone', 'minimal', 'loosely', 'jerk', 'intrigued', 'insulting', 'generous', 'forbidden', 'duke', 'drunken', 'draws', 'cox', 'con', 'cia', 'cared', 'border', 'bleak', 'achievement', 'timeless', 'spring', 'shadows', 'ritter', 'reduced', 'psychiatrist', 'non', 'neil', 'mile', 'mid', 'mel', 'jealous', 'hatred', 'gradually', 'futuristic', 'funnybr', 'filmsbr', 'failing', 'explore', 'emily', 'elvira', 'distant', 'definite', 'davies', 'darker', 'corpse', 'adams', '20th', 'wells', 'thirty', 'tall', 'sticks', 'shell', 'reasonable', 'piano', 'outcome', 'obscure', 'meat', 'manhattan', 'laurel', 'intent', 'goldberg', 'carpenter', 'captivating', 'blows', 'unbelievably', 'trap', 'spielberg', 'rap', 'pushing', 'nurse', 'motivation', 'mitchell', 'misses', 'knock', 'indians', 'improved', 'ignored', 'grandmother', 'gentle', 'elaborate', 'doctors', 'discussion', 'burton', 'beaten', 'argument', 'alike', 'ad', 'absence', 'turner', 'tunes', 'tortured', 'stole', 'spin', 'resembles', 'psychotic', 'norman', 'miserably', 'liberal', 'huh', 'fisher', 'farce', 'explicit', 'et', 'em', 'disease', 'dave', 'cruise', 'cried', 'contrary', 'connect', 'concerning', 'childish', 'cameras', 'brazil', 'beer', 'alexander', 'worried', 'waters', 'warrior', 'vicious', 'throat', 'threat', 'temple', 'string', 'sloppy', 'shoes', 'shark', 'returned', 'reached', 'ranks', 'purple', 'monkey', 'lou', 'kenneth', 'horrid', 'hardcore', 'glenn', 'fancy', 'extended', 'exaggerated', 'eve', 'displays', 'diamond', 'danes', 'currently', 'craig', 'complain', 'cole', 'builds', 'blend', 'affected', 'wreck', 'website', 'upbr', 'threw', 'swedish', 'sunshine', 'subjects', 'spoilersbr', 'spirits', 'sacrifice', 'prom', 'pretend', 'panic', 'ought', 'matthew', 'idiots', 'houses', 'hollow', 'fay', 'enjoys', 'distance', 'demands', 'dancers', 'consequences', 'charactersbr', 'carter', 'arrive', 'alltime', 'warren', 'triumph', 'smoking', 'robots', 'ridiculously', 'restaurant', 'receive', 'poster', 'photographer', 'overacting', 'hysterical', 'harder', 'fever', 'farm', 'eyre', 'drivel', 'drawing', 'broad', 'blank', 'beats', 'argue', 'smoke', 'size', 'scripted', 'progress', 'officers', 'movements', 'modesty', 'landscape', 'jet', 'groups', 'greek', 'dynamic', 'duo', 'conversations', 'burned', 'australia', 'annie', 'upper', 'trio', 'styles', 'staying', 'selling', 'scientific', 'ruth', 'recognized', 'popcorn', 'murderous', 'load', 'ireland', 'involvement', 'investigate', 'incident', 'hugh', 'holy', 'heroic', 'exposed', 'engaged', 'empire', 'dignity', 'devoted', 'daring', 'cusack', 'commercials', 'comfortable', 'carrey', 'buddies', 'broadcast', 'brains', 'anyways', 'vivid', 'translation', 'titled', 'threatening', 'symbolism', 'swear', 'superficial', 'selfish', 'secrets', 'rural', 'producing', 'proceedings', 'orders', 'offering', 'occur', 'newspaper', 'mountains', 'machines', 'lily', 'kitchen', 'journalist', 'joey', 'existed', 'escaped', 'dinosaurs', 'differences', 'critic', 'couples', 'choreography', 'cagney', 'brosnan', 'bands', 'astaire', 'areas', 'aging', '210', 'winters', 'uneven', 'tame', 'relies', 'rage', 'margaret', 'lips', 'innovative', 'gray', 'grab', 'explaining', 'ex', 'discovery', 'detailed', 'deliberately', 'clint', 'block', 'bite', 'bathroom', 'apes', '60', '2nd', '16', 'workbr', 'wealth', 'versus', 'unpleasant', 'twelve', 'timesbr', 'thugs', 'stiller', 'staff', 'soviet', 'signs', 'removed', 'possibility', 'perry', 'occurred', 'nearby', 'mildred', 'merit', 'mate', 'lighthearted', 'juvenile', 'intrigue', 'ingredients', 'implausible', 'imagined', 'hollywoods', 'folk', 'focusing', 'felix', 'editor', 'dialogues', 'dawson', 'causing', 'birds', 'bell', 'audio', '2004', 'web', 'watchbr', 'undoubtedly', 'travels', 'sidekick', 'showbr', 'sadness', 'sadistic', 'resemblance', 'primary', 'population', 'pays', 'overwhelming', 'onscreen', 'nightmares', 'meaningless', 'maker', 'lawrence', 'kirk', 'generic', 'furthermore', 'disturbed', 'defeat', 'damage', 'craft', 'conventional', 'combat', 'chain', 'catches', 'adequate', 'abilities', 'abc', '2003', 'w', 'unbearable', 'trees', 'ships', 'remarkably', 'pulp', 'primarily', 'portion', 'passes', 'narrator', 'lifestyle', 'karen', 'hurts', 'headed', 'flies', 'falk', 'explosion', 'eccentric', 'discuss', 'devoid', 'composed', 'clumsy', 'clothing', 'bin', 'banned', 'atlantis', 'altogether', '0', 'yesterday', 'winds', 'unintentional', 'thrill', 'surviving', 'spare', 'settle', 'secondly', 'react', 'official', 'maggie', 'liking', 'leg', 'jeffrey', 'itll', 'hitman', 'highest', 'hates', 'glorious', 'giallo', 'g', 'financial', 'explored', 'exotic', 'enormous', 'dracula', 'dozens', 'cuba', 'chaos', 'cameron', 'backdrop', 'antics', 'afford', '2002', 'urge', 'survival', 'smaller', 'shine', 'scheme', 'roman', 'represent', 'reaches', 'morebr', 'models', 'mixture', 'mickey', 'kapoor', 'gandhi', 'fond', 'doomed', 'disjointed', 'decisions', 'consistently', 'carl', 'blatant', 'bird', 'beneath', '1990s', 'wallace', 'walker', 'uwe', 'ups', 'unwatchable', 'slap', 'rank', 'rambo', 'props', 'paulie', 'outer', 'odds', 'notion', 'notbr', 'neighbors', 'mistaken', 'judging', 'hints', 'fighter', 'errors', 'edie', 'dutch', 'distracting', 'disc', 'describes', 'coherent', 'clown', 'cheating', 'cary', 'careers', 'brady', 'bold', 'vast', 'trailers', 'tommy', 'thick', 'tear', 'tap', 'survivors', 'subtlety', 'sport', 'specifically', 'senseless', 'sellers', 'scenebr', 'richards', 'possessed', 'offended', 'monkeys', 'kennedy', 'instant', 'influenced', 'impress', 'ideal', 'hideous', 'heartwarming', 'hal', 'garden', 'gangsters', 'freak', 'florida', 'everyones', 'enterprise', 'drops', 'directs', 'diane', 'dating', 'dances', 'contained', 'butt', 'brooklyn', 'blew', 'bedroom', 'april', 'amy', 'ah', 'advance', '3rd', 'wolf', 'whale', 'weakest', 'voight', 'toys', 'topless', 'ties', 'stellar', 'soccer', 'simplistic', 'seenbr', 'screenbr', 'revolutionary', 'relations', 'rebel', 'practice', 'peters', 'performer', 'montage', 'matches', 'loads', 'linda', 'lasted', 'jazz', 'introduces', 'guessed', 'frustration', 'explosions', 'etcbr', 'ego', 'desperation', 'depressed', 'dedicated', 'commented', 'classes', 'celluloid', 'blake', 'benefit', 'adorable', 'todd', 'tender', 'suited', 'succeeded', 'staged', 'shelf', 'seventies', 'satan', 'saga', 'ruthless', 'rooms', 'rick', 'principal', 'politically', 'philosophy', 'passionate', 'occasion', 'mysteries', 'miserable', 'method', 'loyal', 'leonard', 'justify', 'involve', 'immensely', 'illogical', 'honesty', 'holly', 'hammer', 'forms', 'flop', 'emphasis', 'eastwood', 'doll', 'developing', 'crush', 'countryside', 'coffee', 'claimed', 'circle', 'bare', 'backgrounds', 'awake', 'arrogant', 'wrestling', 'wasbr', 'unfolds', 'traveling', 'trashy', 'transformation', 'tracks', 'thoughtful', 'tad', 'synopsis', 'stress', 'solely', 'similarities', 'severe', 'recorded', 'realizing', 'planned', 'outfit', 'motives', 'melting', 'measure', 'lust', 'link', 'kicked', 'jonathan', 'interaction', 'hank', 'funeral', 'endure', 'endings', 'disappeared', 'disappear', 'destiny', 'considerable', 'command', 'chorus', 'bone', 'blues', 'wore', 'treats', 'stereotype', 'shirley', 'quotes', 'photos', 'orson', 'menace', 'lemmon', 'isolated', 'hbo', 'harvey', 'hamilton', 'ginger', 'facing', 'ease', 'displayed', 'dickens', 'cure', 'corruption', 'consistent', 'comparing', 'companion', 'chased', 'cards', 'avoided', 'authority', 'angeles', 'aid', 'agrees', 'yellow', 'waited', 'tongue', 'taught', 'switch', 'swimming', 'surfing', 'sits', 'similarly', 'scenesbr', 'satisfied', 'riveting', 'represented', 'report', 'purchase', 'preview', 'possibilities', 'moody', 'madefortv', 'lyrics', 'kidding', 'inventive', 'helicopter', 'grasp', 'goodness', 'formulaic', 'enemies', 'ellen', 'eighties', 'e', 'donna', 'dolls', 'colonel', 'celebrity', 'buffs', 'bonus', 'amanda', 'wished', 'widow', 'voiceover', 'vegas', 'user', 'terrorist', 'solo', 'snl', 'relation', 'prostitute', 'promised', 'onedimensional', 'nervous', 'myers', 'mario', 'march', 'judy', 'improve', 'hunters', 'handed', 'embarrassment', 'ears', 'duty', 'divorce', 'delivering', 'defend', 'combine', 'cliff', 'charlotte', 'cg', 'carrie', 'behave', 'akshay', '1999', 'wives', 'waves', 'valuable', 'unsettling', 'unhappy', 'transfer', 'suitable', 'reads', 'philosophical', 'parent', 'pages', 'oz', 'l', 'ignorant', 'horrifying', 'hook', 'godzilla', 'global', 'fix', 'crack', 'closet', 'closest', 'chess', 'buildings', 'blond', '1996', '1980', 'virginia', 'tonight', 'thru', 'stooges', 'stinker', 'snake', 'scottish', 'scores', 'sappy', 'reflect', 'reaching', 'painted', 'online', 'nicholson', 'motivations', 'maintain', 'lately', 'kingdom', 'inbr', 'inane', 'humble', 'hart', 'faster', 'engage', 'elegant', 'education', 'diana', 'destroying', 'corporate', 'buff', 'blacks', 'bebr', 'artificial', 'agents', 'affect', 'yelling', 'wet', 'wed', 'useful', 'understandable', 'tiresome', 'terry', 'stinks', 'stevens', 'staring', 'splatter', 'slave', 'shake', 'sentence', 'seed', 'secretly', 'scope', 'scarecrow', 'safety', 'rotten', 'rex', 'remarks', 'racial', 'questionable', 'pretending', 'potentially', 'plant', 'museum', 'miracle', 'miike', 'letters', 'lees', 'germans', 'fooled', 'earned', 'disappoint', 'conflicts', 'concern', 'coach', 'cleverly', 'centers', 'bullet', 'armed', 'airport', 'airplane', 'access', 'abysmal', 'wandering', 'trained', 'survived', 'slick', 'sandra', 'rocket', 'purchased', 'provoking', 'poetic', 'nostalgic', 'nicholas', 'mall', 'm', 'lay', 'jumped', 'iron', 'intentionally', 'inferior', 'hung', 'gadget', 'francis', 'firstly', 'finger', 'faults', 'exploration', 'elephant', 'dub', 'disneys', 'dinosaur', 'depicts', 'communist', 'civilization', 'campbell', 'brutally', 'blunt', 'blade', 'amounts', 'americas', 'alongside', 'alcoholic', 'advise', 'womens', 'wizard', 'willis', 'vulnerable', 'understated', 'troops', 'tie', 'sub', 'streep', 'stilted', 'steel', 'spoke', 'showcase', 'september', 'robbery', 'rising', 'rendition', 'raising', 'punk', 'proceeds', 'porno', 'pokemon', 'plight', 'patients', 'nomination', 'namely', 'mini', 'lengthy', 'lena', 'joined', 'illegal', 'guarantee', 'grinch', 'greedy', 'fonda', 'floating', 'ethan', 'edgar', 'convincingly', 'confidence', 'channels', 'beliefs', 'bath', 'arrived', 'arguably', 'advanced', 'abusive', '2007', 'wrapped', 'witches', 'visits', 'transition', 'spread', 'species', 'resort', 'relatives', 'pig', 'peoplebr', 'nonstop', 'morris', 'madonna', 'homosexual', 'gundam', 'fascinated', 'familys', 'downhill', 'dimensional', 'designs', 'construction', 'cinematographer', 'chicago', 'carradine', 'careful', 'cake', 'bottle', 'beatty', 'balls', 'ballet', 'attitudes', 'ape', 'agreed', 'advertising', 'accompanied', '70', '3000', '1940s', 'wound', 'worker', 'taxi', 'sue', 'simplicity', 'signed', 'shirt', 'satisfy', 'ruby', 'recognition', 'pops', 'parallel', 'nyc', 'niro', 'molly', 'macy', 'lowest', 'lit', 'limits', 'likewise', 'li', 'latin', 'junior', 'june', 'jenny', 'intimate', 'hopper', 'heartbreaking', 'frequent', 'foul', 'devils', 'demented', 'damon', 'copies', 'complexity', 'compelled', 'classical', 'cities', 'christians', 'cave', 'catchy', 'capturing', 'berlin', 'aids', '1972', 'ya', 'vengeance', 'v', 'tends', 'schools', 'robinson', 'prisoner', 'prequel', 'phantom', 'paltrow', 'opinions', 'olivier', 'nostalgia', 'nonsensical', 'mundane', 'mars', 'manipulative', 'losers', 'lone', 'khan', 'inappropriate', 'illness', 'hilariously', 'grandfather', 'gerard', 'georges', 'exceptionally', 'equivalent', 'eager', 'dreary', 'descent', 'der', 'del', 'daddy', 'crucial', 'chicks', 'cheated', 'challenging', 'bang', 'bakshi', 'babe', 'alternate', '1990', 'writes', 'witnesses', 'wishing', 'widely', 'wellknown', 'twilight', 'tomatoes', 'suspicious', 'shelley', 'seeks', 'scooby', 'restored', 'remakes', 'raymond', 'rat', 'pursuit', 'prisoners', 'poetry', 'pearl', 'overlook', 'ocean', 'muchbr', 'montana', 'misery', 'lol', 'lively', 'leo', 'incomprehensible', 'homer', 'excessive', 'edition', 'eaten', 'domestic', 'demand', 'cinemas', 'choreographed', 'chooses', 'chest', 'capital', 'boot', 'awe', 'appreciation', 'amitabh', '1968', 'wisdom', 'vaguely', 'suspend', 'square', 'smiling', 'sincere', 'simmons', 'seriesbr', 'royal', 'robbins', 'resources', 'progresses', 'prize', 'plotbr', 'plausible', 'performs', 'paranoia', 'opportunities', 'nations', 'methods', 'messed', 'masterful', 'mann', 'literature', 'legal', 'laws', 'landscapes', 'kicking', 'justin', 'invasion', 'introduce', 'incompetent', 'franco', 'experiments', 'enthusiasm', 'elm', 'doubts', 'desired', 'dalton', 'da', 'crocodile', 'constructed', 'conservative', 'calm', 'bumbling', 'brenda', 'blowing', 'belong', 'bela', 'basketball', 'awfully', 'wacky', 'viewings', 'trademark', 'tag', 'suffice', 'richardson', 'responsibility', 'resist', 'resident', 'recording', 'randomly', 'promises', 'polished', 'petty', 'nuts', 'mummy', 'mentions', 'mechanical', 'mayor', 'masterpieces', 'louise', 'loaded', 'kay', 'generations', 'feed', 'eitherbr', 'earl', 'distinct', 'creativity', 'craven', 'climactic', 'cd', 'borrowed', 'bacall', 'assigned', 'assault', 'arrival', '1983', 'wounded', 'witnessed', 'wholly', 'wendy', 'waitress', 'visible', 'unoriginal', 'underlying', 'unaware', 'troubles', 'terrorists', 'teachers', 'strangers', 'stones', 'stargate', 'standout', 'stale', 'spirited', 'solution', 'sneak', 'slaughter', 'sink', 'simpson', 'showdown', 'scrooge', 'ruins', 'receives', 'rangers', 'punishment', 'polanski', 'poem', 'pit', 'parties', 'operation', 'omen', 'marty', 'map', 'jaws', 'inevitably', 'improvement', 'icon', 'heights', 'greed', 'gifted', 'fury', 'fields', 'expressed', 'dust', 'dolph', 'creep', 'conceived', 'betty', 'attorney', 'attend', 'assumed', 'ashley', '–', 'willie', 'whoopi', 'warriors', 'warmth', 'unit', 'testament', 'teaching', 'straightforward', 'rats', 'randy', 'rabbit', 'quit', 'property', 'pot', 'overlong', 'offbr', 'muslim', 'mighty', 'mentioning', 'lumet', 'laughably', 'keith', 'iraq', 'iran', 'instinct', 'historically', 'gabriel', 'females', 'educational', 'edgy', 'contest', 'closed', 'chapter', 'businessman', 'bergman', 'angela', 'alfred', 'activities', 'acid', 'aboutbr', '1973', 'wouldbe', 'withbr', 'voiced', 'verhoeven', 'twins', 'tooth', 'tiger', 'swim', 'survivor', 'supported', 'stunned', 'spain', 'sid', 'rolled', 'rocky', 'popularity', 'pink', 'pamela', 'moronic', 'mistress', 'minutesbr', 'minimum', 'middleaged', 'meryl', 'merits', 'kubrick', 'irrelevant', 'imitation', 'household', 'hello', 'greg', 'grabs', 'garbo', 'funbr', 'fashioned', 'exposure', 'equipment', 'domino', 'depicting', 'christy', 'catching', 'button', 'bull', 'boom', 'alert', '13th', 'valley', 'uplifting', 'unseen', 'unreal', 'unpredictable', 'tribe', 'timon', 'suggested', 'subjected', 'stretched', 'spock', 'sounding', 'significance', 'shaw', 'shaky', 'seldom', 'rubber', 'romero', 'resulting', 'resemble', 'psychic', 'pressure', 'pierce', 'phony', 'noone', 'masses', 'marketing', 'loyalty', 'kyle', 'invented', 'integrity', 'heartfelt', 'fulci', 'fought', 'feelgood', 'exchange', 'eugene', 'empathy', 'doom', 'disliked', 'directions', 'despair', 'definition', 'daybr', 'cringe', 'confrontation', 'compassion', 'championship', 'cannibal', 'butler', 'bud', 'bay', 'astonishing', 'analysis', 'ambiguous', 'accuracy', '35', 'wrongbr', 'wretched', 'wifes', 'watson', 'unexpectedly', 'trail', 'stumbled', 'sopranos', 'simultaneously', 'roots', 'retired', 'remained', 'reflection', 'ramones', 'peak', 'patience', 'pants', 'palace', 'package', 'otherbr', 'othello', 'orleans', 'ollie', 'nicole', 'monk', 'metaphor', 'landing', 'lackluster', 'josh', 'interests', 'inability', 'immediate', 'hopeless', 'grayson', 'gather', 'furious', 'firm', 'fascination', 'expedition', 'drake', 'distribution', 'defined', 'defense', 'darren', 'costar', 'confess', 'comfort', 'cliche', 'checked', 'biography', 'austin', 'album', 'adaptations', '1984', 'victory', 'unfair', 'underneath', 'travesty', 'technicolor', 'sums', 'spacey', 'sixties', 'shanghai', 'roth', 'roommate', 'require', 'refused', 'reel', 'rave', 'raises', 'primitive', 'presenting', 'phil', 'pan', 'objective', 'newly', 'nail', 'marion', 'mankind', 'legacy', 'kissing', 'israel', 'hears', 'frightened', 'farrell', 'eastern', 'dixon', 'difficulties', 'dee', 'deceased', 'daniels', 'dana', 'creator', 'conditions', 'composer', 'companies', 'closeup', 'clip', 'claus', 'blast', 'antwone', 'alec', 'actingbr', 'abraham', 'yearsbr', 'wakes', 'vulgar', 'ustinov', 'unlikable', 'teaches', 'tastes', 'subpar', 'stark', 'specially', 'softcore', 'sissy', 'sharon', 'screens', 'scotland', 'rises', 'respected', 'replace', 'remade', 'reid', 'rates', 'raines', 'quietly', 'precisely', 'photo', 'passable', 'pal', 'owen', 'musicians', 'milk', 'maniac', 'maid', 'lundgren', 'karl', 'julian', 'joins', 'joel', 'interactions', 'glasses', 'gentleman', 'gender', 'frustrating', 'flair', 'fido', 'favour', 'experimental', 'dreck', 'discovering', 'dimension', 'desires', 'deranged', 'connery', 'comedians', 'coast', 'christianity', 'buffalo', 'barrymore', 'andre', 'abused', '1971', '1933', 'yard', 'widescreen', 'warming', 'wang', 'walsh', 'thingbr', 'tank', 'sunny', 'stuart', 'rude', 'rely', 'relax', 'reeves', 'nowbr', 'ninja', 'nerd', 'nathan', 'muddled', 'matched', 'literary', 'lands', 'inexplicably', 'hyde', 'griffith', 'graham', 'framed', 'examination', 'encourage', 'electric', 'dysfunctional', 'dresses', 'dose', 'correctly', 'characterbr', 'casts', 'carell', 'brutality', 'behaviour', 'awhile', 'audiencebr', 'assassin', 'aspiring', 'appropriately', 'amused', 'alcohol', 'adopted', 'wrap', 'wildly', 'visiting', 'tracking', 'tomorrow', 'teams', 'tacky', 'shouldve', 'shoddy', 'shared', 'sentinel', 'sentiment', 'sabrina', 'ross', 'roof', 'rifle', 'referred', 'purposes', 'provocative', 'preston', 'preposterous', 'prepare', 'premiere', 'positively', 'phrase', 'pg13', 'paradise', 'parade', 'ordered', 'musician', 'mode', 'masks', 'marshall', 'macarthur', 'lock', 'les', 'knocked', 'invites', 'hopkins', 'generated', 'frankenstein', 'fingers', 'filling', 'fest', 'femme', 'exposition', 'emperor', 'downey', 'credited', 'choppy', 'chicken', 'charged', 'bunny', 'bernard', 'automatically', 'amusement', 'alternative', 'additional', 'absent', '75', '1993', '1987', 'yearold', 'vice', 'vance', 'unfold', 'uncut', 'tube', 'translated', 'topnotch', 'swing', 'sung', 'spark', 'senses', 'rooney', 'romp', 'respective', 'releases', 'reign', 'region', 'refer', 'realised', 'posters', 'poison', 'murdering', 'moreover', 'morbid', 'mclaglen', 'madebr', 'loneliness', 'leon', 'ladder', 'items', 'insurance', 'hopelessly', 'hawke', 'hackneyed', 'greatness', 'glowing', 'fantasies', 'demise', 'deaf', 'counts', 'complaining', 'citizens', 'cattle', 'biko', 'beverly', 'babies', 'alicia', 'accomplish', 'youngest', 'wellwritten', 'weakness', 'trend', 'thoughtprovoking', 'skull', 'singers', 'silliness', 'shoulders', 'shares', 'russia', 'regarded', 'realm', 'pun', 'pitiful', 'objects', 'nephew', 'naughty', 'mtv', 'misleading', 'lush', 'laurence', 'kansas', 'invited', 'infected', 'indication', 'imaginable', 'ignorance', 'harm', 'handling', 'guests', 'grotesque', 'gambling', 'function', 'forty', 'fi', 'fed', 'eternal', 'ensues', 'deserted', 'costars', 'corpses', 'complaints', 'challenges', 'celebration', 'caricatures', 'bridget', 'bargain', 'alison', 'admirable', 'accepts', 'absurdity', 'abrupt', '19th', '1995', 'towns', 'threatens', 'suspension', 'skits', 'severely', 'servant', 'secondary', 'sci', 'respectively', 'reflects', 'recycled', 'recommendation', 'receiving', 'puppet', 'promote', 'pro', 'prey', 'phillips', 'partners', 'palance', 'owners', 'oldest', 'noises', 'nod', 'nicolas', 'muppets', 'minded', 'jews', 'insipid', 'iconic', 'ho', 'hk', 'hitlers', 'grief', 'evidently', 'drove', 'din', 'devices', 'depending', 'crystal', 'cruelty', 'cope', 'conveys', 'coincidence', 'chills', 'chainsaw', 'canyon', 'beside', 'asylum', 'affection', 'address', 'active', '1997', '1986', 'wilderness', 'weaknesses', 'visited', 'venture', 'underworld', 'understands', 'tyler', 'togetherbr', 'tasteless', 'sympathize', 'strongest', 'stores', 'standup', 'squad', 'shades', 'rita', 'reluctant', 'records', 'priceless', 'prejudice', 'posted', 'portrayals', 'policeman', 'paramount', 'outing', 'outfits', 'occasions', 'obligatory', 'nolan', 'minus', 'mill', 'mccoy', 'malone', 'lois', 'lifted', 'kumar', 'investigating', 'industrial', 'hughes', 'heros', 'heading', 'hammy', 'freaks', 'el', 'edit', 'disappears', 'deniro', 'damme', 'cue', 'crawford', 'conviction', 'conventions', 'conscience', 'comparisons', 'buster', 'burst', 'belushi', 'baldwin', 'authors', 'aim', 'affairs', 'acclaimed', 'acceptance', '73', '1970', '1936', 'wwe', 'trivia', 'tobr', 'thread', 'terrified', 'suitably', 'studying', 'steady', 'stages', 'spinal', 'sketch', 'shakespeares', 'selection', 'renaissance', 'rejected', 'redeem', 'psychology', 'programs', 'profanity', 'previews', 'predict', 'pointbr', 'phenomenon', 'penny', 'patricia', 'murray', 'muppet', 'morally', 'misguided', 'locals', 'labor', 'kolchak', 'interestingly', 'hers', 'heist', 'hapless', 'guaranteed', 'gregory', 'frankie', 'fog', 'fishing', 'filler', 'fiancé', 'explores', 'entitled', 'emerges', 'elses', 'ear', 'difficulty', 'designer', 'demonstrates', 'dates', 'darn', 'cassidy', 'caliber', 'bros', 'billed', 'attract', 'anywaybr', 'ants', '2008', '1989', '1979', '1978', 'zombi', 'worn', 'vital', 'visions', 'vibrant', 'vein', 'unexplained', 'tripe', 'soup', 'sooner', 'someday', 'snakes', 'slimy', 'sht', 'shouting', 'sending', 'rome', 'representation', 'reader', 'ratso', 'prominent', 'physics', 'pg', 'palma', 'orange', 'option', 'michaels', 'marvel', 'marries', 'iv', 'insists', 'inconsistent', 'hippie', 'harold', 'harmless', 'guitar', 'gems', 'forcing', 'flashy', 'filth', 'feminist', 'eats', 'dud', 'discussing', 'diehard', 'despicable', 'deleted', 'cream', 'conclude', 'communicate', 'commander', 'clock', 'claustrophobic', 'clarke', 'cancer', 'betrayal', 'beatles', 'basinger', 'banal', 'assuming', 'anticipation', 'agenda', 'winchester', 'welldone', 'vader', 'unrelated', 'transformed', 'tierney', 'tempted', 'studies', 'springer', 'sox', 'slice', 'sirk', 'shootout', 'route', 'rod', 'rhythm', 'pounds', 'placebr', 'mentality', 'martha', 'lindsay', 'kungfu', 'knight', 'kitty', 'jacksons', 'ingenious', 'immature', 'housewife', 'flowers', 'europa', 'downbr', 'depends', 'delicate', 'danish', 'crazed', 'considerably', 'clueless', 'clan', 'claiming', 'circus', 'champion', 'casual', 'cannon', 'bread', 'blatantly', 'bike', 'biased', 'befriends', 'wings', 'wellmade', 'voted', 'towers', 'tail', 'symbolic', 'stumbles', 'soso', 'smiles', 'shortcomings', 'schlock', 'sassy', 'rukh', 'rolebr', 'riot', 'repeating', 'remove', 'recognizable', 'quinn', 'pete', 'paxton', 'mirrors', 'millionaire', 'melody', 'meg', 'marlon', 'limit', 'lifeless', 'legends', 'kathryn', 'iq', 'inhabitants', 'inexplicable', 'hokey', 'historic', 'height', 'grudge', 'grainy', 'glamorous', 'gina', 'gear', 'fuller', 'foxx', 'fontaine', 'fluff', 'fifty', 'exploring', 'ethnic', 'dukes', 'dressing', 'detectives', 'defeated', 'coupled', 'connections', 'co', 'charlton', 'challenged', 'carla', 'campaign', 'boston', 'bend', 'awaybr', 'audrey', 'altman', 'allens', 'agency', 'adolescent', 'addicted', 'vocal', 'uniformly', 'tunnel', 'trials', 'ton', 'thompson', 'swept', 'surgery', 'static', 'stairs', 'sorely', 'shopping', 'serving', 'screwed', 'screenwriters', 'satirical', 'rapist', 'praised', 'partially', 'parsons', 'paintings', 'outright', 'offbeat', 'novak', 'nemesis', 'minority', 'las', 'keen', 'item', 'institution', 'independence', 'incidentally', 'hangs', 'handles', 'freddys', 'firing', 'feeding', 'familybr', 'exceptions', 'esther', 'employed', 'drivein', 'disgusted', 'disguise', 'deserving', 'departure', 'coup', 'couch', 'controlled', 'continually', 'computers', 'chuckle', 'childs', 'charms', 'boyle', 'bars', 'backs', 'assassination', 'ambition', 'ace', '23', 'wax', 'toronto', 'token', 'tip', 'thrilled', 'threatened', 'sugar', 'shoulder', 'ripping', 'preferred', 'preachy', 'posey', 'pacific', 'outdated', 'northern', 'newer', 'neurotic', 'natives', 'nails', 'messy', 'mercy', 'melissa', 'macho', 'kidman', 'inspire', 'insightful', 'hilarity', 'hearted', 'hack', 'girlfriends', 'gate', 'garner', 'firmly', 'feat', 'farfetched', 'elite', 'earn', 'dylan', 'duck', 'disastrous', 'dirt', 'destroys', 'debate', 'curly', 'commenting', 'colin', 'cheer', 'centre', 'cassavetes', 'camcorder', 'bully', 'bridges', 'brendan', 'boxer', 'bowl', 'bondage', 'bogus', 'bates', 'bacon', 'artwork', 'artsy', 'arthouse', 'accurately', '4th', '1988', '1981', 'yeti', 'windows', 'wheres', 'vile', 'vain', 'unlikeable', 'uma', 'triangle', 'traffic', 'topics', 'suggestion', 'subtly', 'strings', 'steele', 'stalker', 'speeches', 'somethingbr', 'sleeps', 'sincerely', 'sharing', 'shaking', 'rooting', 'refuse', 'readers', 'predecessor', 'organized', 'obtain', 'norm', 'neatly', 'mutual', 'mayhem', 'males', 'liners', 'leigh', 'layers', 'kline', 'info', 'hides', 'healthy', 'harrison', 'guinness', 'gillian', 'fist', 'fade', 'excess', 'evolution', 'entered', 'engrossing', 'endingbr', 'election', 'duration', 'dudley', 'doo', 'donebr', 'disorder', 'destined', 'describing', 'demonic', 'containing', 'concepts', 'completed', 'chavez', 'centered', 'cartoonish', 'brooding', 'boringbr', 'boasts', 'bent', 'audition', 'anton', '22', '1976', '1969', '1000', 'woo', 'wig', 'weather', 'weaker', 'wanders', 'vastly', 'undead', 'triple', 'ta', 'stopping', 'stack', 'sometime', 'sobr', 'skit', 'seedy', 'saint', 'rope', 'reruns', 'rendered', 'relentless', 'refers', 'raj', 'quaid', 'punches', 'profession', 'politician', 'pole', 'originals', 'nope', 'newman', 'mesmerizing', 'masterfully', 'mannerisms', 'loretta', 'lifes', 'leaders', 'jess', 'injured', 'hungry', 'hugely', 'hires', 'helpless', 'helpful', 'hartley', 'guards', 'genie', 'gal', 'frances', 'exquisite', 'elevator', 'des', 'deny', 'dazzling', 'damaged', 'critique', 'christine', 'carmen', 'bulk', 'boris', 'beware', 'authorities', 'applaud', 'anyones', 'affects', 'advertised', '1945', 'wendigo', 'users', 'unsuspecting', 'tower', 'tops', 'thunderbirds', 'tenant', 'tarantino', 'stunningly', 'strengths', 'statue', 'startling', 'stare', 'stallone', 'shorter', 'scoop', 'scariest', 'rides', 'restrained', 'residents', 'realities', 'randolph', 'racing', 'publicity', 'proving', 'preparing', 'passengers', 'owes', 'nut', 'nina', 'myth', 'motive', 'mixing', 'min', 'lukas', 'luis', 'lift', 'lauren', 'lasts', 'lasting', 'knowbr', 'knightley', 'jared', 'itselfbr', 'internal', 'ingrid', 'hulk', 'goodbye', 'gained', 'fifties', 'fastpaced', 'exploits', 'excellently', 'error', 'emerge', 'duvall', 'dropping', 'detract', 'demanding', 'crashes', 'contempt', 'conrad', 'cliches', 'chronicles', 'choosing', 'cbs', 'carey', 'candidate', 'btw', 'breed', 'bow', 'behold', 'backwards', 'alvin', 'alley', 'akin', 'activity', '\\x85', 'zizek', 'youthful', 'wardrobe', 'votes', 'vanessa', 'valentine', 'tokyo', 'timberlake', 'tara', 'suburban', 'storys', 'spree', 'soylent', 'sniper', 'sleaze', 'sinking', 'servants', 'screw', 'referring', 'rapidly', 'radical', 'puerto', 'promptly', 'poker', 'origins', 'origin', 'nolte', 'netflix', 'net', 'mutant', 'modest', 'misfortune', 'minister', 'miami', 'mail', 'macabre', 'lovebr', 'located', 'limitations', 'label', 'kent', 'justified', 'jordan', 'joker', 'jaw', 'insults', 'insights', 'inaccurate', 'highway', 'heels', 'grounds', 'globe', 'gimmick', 'giants', 'gere', 'galaxy', 'forbr', 'fools', 'fifth', 'factors', 'expertly', 'everbr', 'errol', 'entering', 'elsebr', 'eleven', 'dubious', 'dj', 'disguised', 'disappointedbr', 'didbr', 'deliverance', 'cracking', 'convinces', 'contribution', 'continuing', 'confronted', 'confront', 'compete', 'cerebral', 'casino', 'buys', 'bronson', 'breakfast', 'bitch', 'belt', 'banter', 'bachelor', 'authenticity', 'attenborough', 'ariel', 'approaches', 'antonio', 'anil', 'alexandre', 'abruptly', '21st', '1991', '1939', 'wander', 'walt', 'vividly', 'unsure', 'underwater', 'undeniably', 'tossed', 'tormented', 'toni', 'supply', 'sticking', 'sf', 'salvation', 'salt', 'rookie', 'ronald', 'reward', 'repulsive', 'repressed', 'regards', 'rampage', 'puppets', 'principals', 'phillip', 'perception', 'pale', 'painter', 'owns', 'ol', 'monty', 'mol', 'mitch', 'lowkey', 'lend', 'landed', 'jarring', 'interact', 'insanity', 'inherent', 'homicide', 'homes', 'heavyhanded', 'growth', 'greatbr', 'grateful', 'formed', 'fords', 'expects', 'eventual', 'endlessly', 'differently', 'derivative', 'depths', 'definitive', 'dandy', 'crapbr', 'convicted', 'confident', 'conan', 'comedybr', 'colours', 'cents', 'braveheart', 'bmovies', 'bitten', 'biblical', 'austen', 'approaching', 'altered', 'accessible', '1977', 'yokai', 'witchcraft', 'wisely', 'vehicles', 'unattractive', 'terminator', 'survives', 'stranded', 'spies', 'siblings', 'sg1', 'separated', 'sensible', 'scriptbr', 'sale', 'runner', 'reviewing', 'published', 'pray', 'polly', 'pickup', 'photographs', 'peck', 'overblown', 'outline', 'nominations', 'natalie', 'moe', 'mobile', 'mice', 'meandering', 'mathieu', 'marc', 'letdown', 'juliet', 'jules', 'judd', 'jedi', 'irene', 'incapable', 'imo', 'immortal', 'identical', 'heavens', 'hats', 'handheld', 'ham', 'gunga', 'goodlooking', 'godawful', 'glued', 'gates', 'frames', 'flimsy', 'flashes', 'fatale', 'exterior', 'exploit', 'exit', 'evelyn', 'eternity', 'energetic', 'ebert', 'dragons', 'dobr', 'dismal', 'devastating', 'depict', 'decidedly', 'damned', 'cries', 'conveyed', 'concentrate', 'cemetery', 'caricature', 'buzz', 'bruno', 'bravo', 'beforebr', 'barrel', 'assured', 'angst', 'ally', 'adore', 'zane', 'wtf', 'wonderland', 'wagner', 'volume', 'unimaginative', 'uniform', 'thoughbr', 'tapes', 'swallow', 'subway', 'sublime', 'stalking', 'sophie', 'soderbergh', 'simpsons', 'severed', 'scarface', 'rivers', 'respectable', 'reports', 'reminder', 'reliable', 'quantum', 'psychopath', 'promoted', 'principle', 'pleasing', 'playboy', 'performancebr', 'penn', 'pc', 'payoff', 'pattern', 'papers', 'owned', 'overbr', 'oldfashioned', 'niece', 'mermaid', 'longest', 'lester', 'lance', 'judgment', 'janes', 'intricate', 'inspirational', 'improbable', 'implied', 'homosexuality', 'hindi', 'harriet', 'fragile', 'filthy', 'farmer', 'expose', 'excruciatingly', 'entirety', 'enthusiastic', 'ensure', 'enhanced', 'dread', 'downs', 'divine', 'disgrace', 'disabled', 'demonstrate', 'delicious', 'cypher', 'cushing', 'cultures', 'crossing', 'crisp', 'crippled', 'creek', 'contribute', 'cons', 'combines', 'colleagues', 'cliffhanger', 'cleaning', 'clara', 'chopped', 'characteristics', 'cecil', 'butcher', 'butch', 'bug', 'bsg', 'bones', 'bloom', 'beowulf', 'arguing', 'arab', 'appeals', 'antonioni', 'africanamerican', 'addict', 'accounts', 'absorbing', '300', '1985', '1950', 'youtube', 'whiny', 'whining', 'victorian', 'vanilla', 'ultimatum', 'tremendously', 'tendency', 'switched', 'steam', 'sidewalk', 'sergeant', 'sentimentality', 'senior', 'seeming', 'scratch', 'salman', 'revolt', 'reeve', 'rainy', 'quentin', 'pursue', 'possess', 'popping', 'pirate', 'pickford', 'paula', 'parallels', 'packs', 'p', 'ominous', 'ohara', 'ny', 'noticeable', 'nightclub', 'nerves', 'morals', 'mitchum', 'missile', 'miranda', 'mindbr', 'lighter', 'lex', 'leather', 'kidnapping', 'jodie', 'jacket', 'immense', 'holocaust', 'hippies', 'habit', 'fairbanks', 'experiencing', 'estranged', 'escaping', 'embrace', 'email', 'dustin', 'drinks', 'divorced', 'distract', 'deer', 'decline', 'cyborg', 'collect', 'christina', 'budgets', 'boyer', 'bills', 'attacking', 'astounding', 'assembled', 'anyhow', 'answered', 'amrita', 'aided', 'affleck', '95', '28', '1994', '1974', '1920s', 'yours', 'wounds', 'wire', 'wilder', 'werewolves', 'wellacted', 'voyage', 'virtual', 'vince', 'updated', 'unsatisfying', 'turmoil', 'truman', 'toby', 'theories', 'sydney', 'sucker', 'subtext', 'stewarts', 'stardom', 'spectacle', 'spaghetti', 'sought', 'seymour', 'selected', 'sand', 'rounded', 'reviewed', 'resulted', 'resolved', 'rescued', 'remembering', 'rebellious', 'precode', 'postwar', 'pin', 'peculiar', 'peaceful', 'messing', 'manbr', 'magician', 'longtime', 'longing', 'lola', 'logan', 'literal', 'liam', 'lavish', 'kurosawa', 'knocks', 'juliette', 'jill', 'jaded', 'isolation', 'havoc', 'hackman', 'grass', 'goldblum', 'glaring', 'ghetto', 'garland', 'gable', 'forgiven', 'foolish', 'followup', 'fills', 'expectation', 'exorcist', 'earnest', 'disgust', 'dilemma', 'denis', 'demonstrated', 'deliberate', 'daysbr', 'dashing', 'dame', 'crown', 'crashing', 'corporation', 'copied', 'conveniently', 'contestants', 'collective', 'classy', 'clash', 'christie', 'chill', 'cheaply', 'casper', 'begging', 'bach', 'avoiding', 'asia', 'approached', 'amazon', 'alleged', 'aiming', 'adrian', '21', '200', '19', '\\x97', 'yep', 'worms', 'whites', 'wartime', 'verdict', 'vega', 'traits', 'trains', 'tourist', 'tonys', 'thieves', 'thelma', 'taped', 'swearing', 'suspected', 'spit', 'spencer', 'span', 'snuff', 'slip', 'slaves', 'slapped', 'skilled', 'settled', 'serials', 'scotts', 'samantha', 'rowlands', 'romeo', 'ritchie', 'relentlessly', 'rehash', 'rear', 'quarter', 'q', 'potter', 'poses', 'pocket', 'plotting', 'planets', 'pad', 'odyssey', 'mystical', 'mum', 'morons', 'melvyn', 'liveaction', 'liu', 'lightning', 'laurie', 'kellys', 'keatons', 'karate', 'judged', 'jobbr', 'jealousy', 'indiana', 'hayworth', 'goods', 'gentlemen', 'gamera', 'feast', 'executives', 'excuses', 'establish', 'erika', 'enhance', 'dump', 'dramatically', 'diverse', 'delighted', 'define', 'debt', 'dealer', 'contributed', 'commits', 'coat', 'climb', 'cinemabr', 'cher', 'celebrated', 'canceled', 'bw', 'burke', 'borders', 'bombs', 'bittersweet', 'aussie', 'arriving', 'arc', 'admired', 'addiction', 'acquired', 'achieves', 'accepting', '1959', 'yawn', 'worsebr', 'wiped', 'vintage', 'vanity', 'underwear', 'ultra', 'uh', 'tool', 'tax', 'taboo', 'suggesting', 'strict', 'stella', 'spice', 'slugs', 'shepherd', 'serum', 'seebr', 'seductive', 'seasoned', 'sarcastic', 'romances', 'ritual', 'rewarding', 'remembers', 'redundant', 'readily', 'races', 'pumbaa', 'psychologist', 'preminger', 'predictably', 'posing', 'populated', 'planes', 'pirates', 'phenomenal', 'pedestrian', 'pause', 'overboard', 'novelty', 'nbc', 'moron', 'mason', 'lunch', 'loy', 'likeable', 'legitimate', 'leap', 'korea', 'jersey', 'introducing', 'intentional', 'insist', 'inmates', 'informed', 'incorrect', 'immigrant', 'horny', 'hepburn', 'headache', 'gypo', 'guinea', 'graveyard', 'furniture', 'frontier', 'freaky', 'fluid', 'flavor', 'explosive', 'exploding', 'expense', 'drab', 'delightfully', 'deliciously', 'defies', 'dads', 'cuban', 'covering', 'courtroom', 'cookie', 'comprehend', 'commitment', 'cohen', 'circles', 'cheek', 'cape', 'bye', 'breakdown', 'brainless', 'bounty', 'bestbr', 'basket', 'backbr', 'axe', 'attending', 'amidst', '1944', 'wine', 'wider', 'watchingbr', 'wastes', 'unsympathetic', 'trace', 'tongueincheek', 'tolerable', 'thirties', 'symbol', 'stylized', 'stroke', 'stephanie', 'steer', 'slide', 'sixth', 'shockingly', 'sgt', 'sells', 'screwball', 'robbers', 'ricky', 'respects', 'redneck', 'ranch', 'pushes', 'produces', 'pound', 'possession', 'possesses', 'politicians', 'polish', 'poe', 'pixar', 'pilots', 'phase', 'passage', 'parking', 'pans', 'otto', 'nuances', 'newcomer', 'mysteriously', 'mouths', 'mortal', 'mins', 'medieval', 'meantime', 'lucille', 'lethal', 'lends', 'lean', 'kinnear', 'jacques', 'ira', 'instincts', 'hybrid', 'gwyneth', 'groundbreaking', 'gilbert', 'gielgud', 'franklin', 'foundation', 'firstrate', 'festivals', 'experiencebr', 'europeans', 'establishing', 'encountered', 'embarrassingly', 'einstein', 'dominated', 'deciding', 'debbie', 'deanna', 'daylewis', 'crosby', 'counter', 'corbett', 'consist', 'consideration', 'clive', 'cliched', 'clerk', 'cigarette', 'charlies', 'caron', 'carnage', 'cal', 'branaghs', 'beg', 'barbra', 'bachchan', 'awakening', 'attended', 'arrest', 'arranged', 'apply', 'anytime', 'anxious', 'additionally', 'actorsbr', '10br', 'xfiles', 'viewpoint', 'unusually', 'unanswered', 'tickets', 'tactics', 'stating', 'stabbed', 'sparks', 'sources', 'session', 'scorsese', 'scored', 'sarandon', 'salesman', 'routines', 'roughly', 'rider', 'reverse', 'rejects', 'rational', 'queens', 'pursued', 'psyche', 'porter', 'pfeiffer', 'penelope', 'ordeal', 'optimistic', 'olivia', 'obstacles', 'obsessive', 'noteworthy', 'neglected', 'narrow', 'mute', 'motions', 'misunderstood', 'milo', 'mens', 'marilyn', 'longoria', 'laterbr', 'kubricks', 'keys', 'kazan', 'kathy', 'jury', 'july', 'jewel', 'invite', 'invention', 'informative', 'indifferent', 'indicate', 'incidents', 'huston', 'horrified', 'hop', 'herbert', 'hateful', 'haines', 'gloria', 'freaking', 'forgetting', 'flock', 'flickbr', 'feminine', 'feeble', 'exploited', 'explodes', 'excruciating', 'en', 'dumped', 'dumbest', 'duel', 'document', 'distress', 'distracted', 'diary', 'denise', 'degrees', 'deathbr', 'daisy', 'controlling', 'compliment', 'clone', 'cindy', 'casablanca', 'busey', 'brides', 'breathing', 'blandings', 'begs', 'arty', 'armstrong', 'anticipated', 'anthology', 'aftermath', 'adaption', 'abandon', '99', '1975', '1953', 'whore', 'warns', 'void', 'veterans', 'verbal', 'varied', 'upcoming', 'uncanny', 'un', 'tvs', 'turd', 'translate', 'thurman', 'targets', 'sundance', 'stations', 'spiderman', 'sickening', 'sensebr', 'sanders', 'rosemarys', 'rightbr', 'relevance', 'regularly', 'rambling', 'puzzle', 'pros', 'products', 'pointing', 'pathos', 'participants', 'ofbr', 'niven', 'mythology', 'murky', 'moss', 'mormon', 'monologue', 'minnelli', 'meal', 'mcqueen', 'martian', 'mama', 'jenna', 'iranian', 'intensely', 'instances', 'inaccuracies', 'historybr', 'hannah', 'grandma', 'grabbed', 'goals', 'generate', 'gangs', 'fright', 'freeze', 'frantic', 'flower', 'fishburne', 'eagerly', 'distraction', 'depictions', 'debra', 'daylight', 'darth', 'cunningham', 'corn', 'corman', 'corey', 'cooking', 'convention', 'combs', 'columbia', 'ches', 'centuries', 'cannes', 'biopic', 'belly', 'arquette', 'arguments', 'angie', 'agony', 'aggressive', 'afterward', '34', '1998', '1940', 'zorro', 'z', 'widowed', 'whybr', 'upside', 'update', 'tuned', 'traps', 'tomei', 'tcm', 'swinging', 'suspicion', 'sunrise', 'statements', 'starters', 'starsbr', 'stance', 'spine', 'sondra', 'shifts', 'shift', 'services', 'seats', 'sang', 'rounds', 'rosario', 'resembling', 'replies', 'releasing', 'relating', 'realization', 'realistically', 'predator', 'policy', 'plodding', 'phones', 'paths', 'parks', 'paints', 'overbearing', 'nerve', 'naschy', 'motorcycle', 'midst', 'mates', 'masterson', 'manners', 'lurking', 'lowe', 'lip', 'lions', 'lionel', 'launch', 'laputa', 'kidnap', 'juan', 'jose', 'jolie', 'intro', 'interestingbr', 'inclusion', 'ignoring', 'hyped', 'hoot', 'herman', 'heath', 'harlow', 'hadley', 'grip', 'gooding', 'glimpses', 'glance', 'gallery', 'funding', 'forties', 'followers', 'flames', 'fanatic', 'exclusively', 'evans', 'enigmatic', 'enchanted', 'employee', 'economic', 'dumber', 'dismiss', 'discussed', 'dillinger', 'deputy', 'deed', 'curiously', 'criticize', 'controversy', 'coffin', 'click', 'claude', 'carpenters', 'bogart', 'blamed', 'berkeley', 'begun', 'august', 'ambitions', 'ambiguity', 'admitted', '85', '1982', '1948', 'wong', 'warden', 'uniforms', 'troma', 'syndrome', 'sweden', 'surroundings', 'substantial', 'stuffbr', 'stream', 'stiles', 'sterling', 'stereotyped', 'stardust', 'stalked', 'snowman', 'snipes', 'smash', 'sly', 'skinny', 'sketches', 'shore', 'shepard', 'sentences', 'selfindulgent', 'scripting', 'scenarios', 'scarecrows', 'saloon', 'safely', 'rupert', 'ruining', 'rewarded', 'reunite', 'reiser', 'reflected', 'qualify', 'popped', 'platform', 'periods', 'pains', 'ownbr', 'omar', 'offscreen', 'october', 'necessity', 'narrated', 'murderers', 'moneybr', 'moms', 'miyazaki', 'meteor', 'maureen', 'maintains', 'mabel', 'linked', 'lastly', 'kris', 'kathleen', 'imaginary', 'ignores', 'idol', 'hinted', 'hines', 'haunt', 'goldie', 'gloomy', 'gigantic', 'gestures', 'gap', 'frontal', 'frog', 'fried', 'foremost', 'foil', 'fleshed', 'factual', 'extensive', 'envy', 'enoughbr', 'educated', 'edith', 'dynamics', 'dreamy', 'dominic', 'cycle', 'county', 'consequently', 'consequence', 'comeback', 'cheadle', 'chamber', 'capacity', 'campus', 'bosses', 'biker', 'battlestar', 'backed', 'avid', 'assignment', 'apt', 'applies', 'applied', 'angelina', 'ample', 'alot', 'abortion', '1934', 'witnessing', 'wheel', 'wayans', 'valid', 'unstable', 'unfolding', 'ugh', 'trier', 'tones', 'tho', 'therapy', 'soprano', 'smell', 'slim', 'sins', 'sights', 'sheets', 'shaggy', 'sebastian', 'schneider', 'schedule', 'sammo', 'sailor', 'russ', 'rodriguez', 'robertson', 'rips', 'revolving', 'revival', 'reunited', 'resume', 'resistance', 'replacement', 'repeats', 're', 'protest', 'precise', 'pose', 'pornography', 'phantasm', 'pegg', 'paranoid', 'observe', 'nuanced', 'muslims', 'moviemaking', 'moviegoers', 'momentum', 'momentsbr', 'mick', 'medicine', 'marisa', 'knights', 'kells', 'jacks', 'israeli', 'islands', 'investigator', 'invested', 'intact', 'insomnia', 'homicidal', 'gus', 'graduate', 'georgia', 'genrebr', 'gaps', 'frozen', 'entrance', 'eli', 'du', 'diner', 'denouement', 'delirious', 'daytime', 'collins', 'clunky', 'clay', 'characterizations', 'characterisation', 'chamberlain', 'castbr', 'carlos', 'cap', 'cab', 'bubble', 'brooke', 'breast', 'bonnie', 'blockbusters', 'bleed', 'blaise', 'biting', 'bikini', 'benefits', 'beckinsale', 'bats', 'bait', 'awfulbr', 'assure', 'arrow', 'array', 'arkin', 'anita', 'alliance', 'acknowledge', '1992', '101', 'weekly', 'waking', 'vivian', 'villainous', 'unhinged', 'tomb', 'tire', 'throughbr', 'thereby', 'talky', 'supreme', 'sufficient', 'studied', 'stern', 'stadium', 'spider', 'sour', 'sonny', 'skeptical', 'sitcoms', 'similarity', 'silverman', 'shotgun', 'shocks', 'sherlock', 'sheen', 'sensibility', 'seduce', 'sarcasm', 'rolls', 'rightly', 'retelling', 'reserved', 'relying', 'rebels', 'realises', 'raging', 'questioning', 'prophecy', 'playwright', 'pivotal', 'parrot', 'offend', 'networks', 'needing', 'mustve', 'moviei', 'marked', 'lynchs', 'lopez', 'lil', 'landmark', 'laboratory', 'jude', 'joking', 'johns', 'johansson', 'interrupted', 'inadvertently', 'hysterically', 'hooker', 'hayes', 'geisha', 'gathering', 'fuzzy', 'fundamental', 'fortunate', 'fleet', 'famed', 'ernie', 'entertainingbr', 'enchanting', 'displaying', 'detroit', 'deemed', 'customers', 'crushed', 'cow', 'commanding', 'colored', 'collette', 'coke', 'clooney', 'childlike', 'chiba', 'cheers', 'boundaries', 'bias', 'bc', 'bauer', 'balanced', 'babes', 'artistry', 'admits', 'abound', '1967', 'ww2', 'worldwide', 'washed', 'wash', 'visitor', 'vignettes', 'vargas', 'usbr', 'upstairs', 'unnatural', 'unfamiliar', 'understandably', 'unclear', 'truths', 'trivial', 'trauma', 'sweat', 'sunset', 'substitute', 'subsequently', 'subgenre', 'stumble', 'stake', 'spotlight', 'smug', 'shred', 'shameless', 'scheming', 'samuel', 'rice', 'republic', 'reminding', 'reluctantly', 'randall', 'quintessential', 'puppy', 'psychedelic', 'progressed', 'professionals', 'phoenix', 'penned', 'olsen', 'observations', 'northam', 'nauseating', 'myrna', 'maximum', 'mandy', 'madsen', 'madeleine', 'lunatic', 'janet', 'iturbi', 'interviewed', 'interior', 'insert', 'howling', 'hostel', 'hitchcocks', 'harrowing', 'hardened', 'handicapped', 'gackt', 'fuel', 'fruit', 'frombr', 'forgets', 'finishing', 'finishes', 'favourites', 'fassbinder', 'fart', 'evokes', 'epics', 'enduring', 'egyptian', 'drowned', 'doug', 'divided', 'diversity', 'district', 'disco', 'determination', 'despise', 'demille', 'deathtrap', 'criticized', 'coworker', 'courtesy', 'convent', 'controls', 'confined', 'complications', 'comparable', 'commendable', 'chew', 'cheerful', 'charges', 'chaotic', 'celebrities', 'caretaker', 'caprica', 'bust', 'brett', 'boots', 'boogie', 'beckham', 'bakshis', 'baddies', 'awareness', 'arrogance', 'arebr', 'announced', 'ala', 'ajay', 'addressed', 'accompanying', 'accidental', '1943', 'yell', 'wright', 'wholesome', 'whod', 'whimsical', 'verge', 'unnecessarily', 'um', 'travis', 'transparent', 'traditions', 'titular', 'timmy', 'tide', 'thrust', 'thailand', 'testing', 'temper', 'tashan', 'targeted', 'sylvia', 'surround', 'summed', 'spoiling', 'sincerity', 'sholay', 'shannon', 'seth', 'semblance', 'scarlett', 'sanity', 'salvage', 'roses', 'relaxed', 'recover', 'rea', 'python', 'programme', 'perverted', 'participate', 'owl', 'outlandish', 'orchestra', 'olds', 'occult', 'obscurity', 'musicbr', 'monotonous', 'monks', 'misty', 'meadows', 'mccarthy', 'martians', 'magically', 'license', 'lens', 'laying', 'krueger', 'kirsten', 'kindly', 'judges', 'interpretations', 'inserted', 'injury', 'infinitely', 'hunted', 'hostile', 'hostage', 'hiphop', 'himselfbr', 'hawn', 'hallmark', 'gut', 'guardian', 'gorilla', 'galactica', 'flows', 'file', 'fascist', 'fairytale', 'explode', 'entries', 'earliest', 'dynamite', 'distributed', 'destination', 'deeds', 'cutter', 'convenient', 'considers', 'composition', 'colleague', 'cmon', 'chuckles', 'chong', 'characteristic', 'captivated', 'camping', 'cameraman', 'cain', 'burial', 'brent', 'brat', 'bonds', 'bonanza', 'blackandwhite', 'baron', 'backstory', 'aroundbr', 'antagonist', 'annoy', 'affecting', 'adele', '1963', '1951', 'wrestler', 'winners', 'whove', 'wherever', 'wesley', 'walmart', 'vomit', 'variation', 'upbeat', 'understatement', 'underdeveloped', 'unappealing', 'turkish', 'toxic', 'toned', 'thunder', 'taut', 'takashi', 'suzanne', 'sunk', 'stuffed', 'stepmother', 'sporting', 'spoilerbr', 'smiths', 'slashers', 'sho', 'searched', 'se', 'scoobydoo', 'satisfaction', 'sane', 'sales', 'robbed', 'rivals', 'resolve', 'remark', 'recreate', 'raunchy', 'rampant', 'protection', 'preaching', 'portuguese', 'plate', 'pizza', 'pigs', 'philo', 'partbr', 'outrageously', 'othersbr', 'orphan', 'openly', 'observation', 'nun', 'novelist', 'nightmarish', 'motel', 'mister', 'miraculously', 'miikes', 'melancholy', 'marcel', 'manipulation', 'macdonald', 'listened', 'kinski', 'jagger', 'intend', 'inclined', 'incestuous', 'implies', 'hooper', 'herd', 'happenbr', 'gypsy', 'grin', 'ghastly', 'fritz', 'flashing', 'flag', 'finney', 'fetish', 'faded', 'eyesbr', 'exploitative', 'excels', 'engine', 'elsa', 'elliott', 'elephants', 'ealing', 'dwight', 'dvdbr', 'duh', 'drowning', 'drift', 'dragging', 'devotion', 'dangerously', 'dallas', 'dahmer', 'dafoe', 'crosses', 'crossed', 'crooks', 'creasy', 'counting', 'constraints', 'complained', 'compensate', 'communication', 'committing', 'coma', 'cocaine', 'clouds', 'clarity', 'cena', 'cancelled', 'borrow', 'blazing', 'benjamin', 'bearing', 'beard', 'battlefield', 'banks', 'awaiting', 'avoids', 'article', 'almighty', 'aesthetic', 'admission', 'adapt', 'achievements', 'aaron', '010', 'zodiac', 'wheelchair', 'watcher', 'warrant', 'voyager', 'voodoo', 'vcr', 'vapid', 'uneasy', 'unconventional', 'traumatic', 'transport', 'tools', 'tess', 'stabbing', 'ss', 'spontaneous', 'spiral', 'sophia', 'somethings', 'slower', 'sinks', 'shoe', 'sharks', 'shameful', 'shahid', 'shah', 'sexist', 'sergio', 'serbian', 'senator', 'sections', 'seattle', 'screened', 'satanic', 'runaway', 'ruled', 'rolesbr', 'robotic', 'riff', 'restraint', 'rendering', 'remainder', 'reasonbr', 'ram', 'prop', 'progression', 'proceed', 'pretends', 'presidential', 'practical', 'plug', 'permanent', 'peggy', 'palm', 'overtones', 'overshadowed', 'originalbr', 'oblivious', 'nutshell', 'moores', 'mole', 'mock', 'mentor', 'lookalike', 'locke', 'lennon', 'juice', 'joining', 'jj', 'je', 'jan', 'jackman', 'isabelle', 'irritated', 'impending', 'ideabr', 'hometown', 'homebr', 'henchmen', 'gretchen', 'govinda', 'glossy', 'gilliam', 'ghostly', 'gena', 'garfield', 'frat', 'flavia', 'fires', 'fashions', 'fairness', 'facility', 'excellence', 'evoke', 'everett', 'ernest', 'epitome', 'enormously', 'encouraged', 'drivers', 'dreaming', 'distinction', 'desk', 'deepest', 'creations', 'courageous', 'coolest', 'contestant', 'confuse', 'conductor', 'climbing', 'classmates', 'clad', 'circa', 'chloe', 'cheering', 'celebrate', 'cedric', 'carlitos', 'buttons', 'busby', 'burnt', 'betrayed', 'bernsen', 'battling', 'bashing', 'awarded', 'avenge', 'automatic', 'aunts', 'assumes', 'artemisia', 'apple', 'apocalypse', 'advised', 'admiration', 'abundance', 'absorbed', '26', '1932', 'warehouse', 'versionbr', 'val', 'unleashed', 'transforms', 'thingsbr', 'theodore', 'superstar', 'submarine', 'suave', 'stab', 'solved', 'slater', 'sickness', 'sheep', 'shaped', 'selfcentered', 'secure', 'screenplays', 'rourke', 'roller', 'rivalry', 'riders', 'respond', 'reported', 'razor', 'raid', 'qualifies', 'quaint', 'pursuing', 'prologue', 'projected', 'principles', 'priests', 'possiblebr', 'plotline', 'picturebr', 'paz', 'pauline', 'ostensibly', 'organization', 'occupied', 'noting', 'notices', 'ninety', 'myrtle', 'meyer', 'meredith', 'meek', 'masked', 'marijuana', 'magazines', 'macmurray', 'linear', 'lindy', 'labeled', 'jo', 'jar', 'informer', 'incidental', 'incest', 'hum', 'hobgoblins', 'greene', 'goat', 'giovanna', 'gig', 'garage', 'fraud', 'ferrell', 'feinstone', 'failures', 'fades', 'experts', 'espionage', 'employees', 'electronic', 'effortlessly', 'eagle', 'dominate', 'distinctive', 'disregard', 'disappearance', 'diego', 'demeanor', 'defending', 'deadpan', 'dc', 'cursed', 'criticisms', 'convict', 'conveying', 'colony', 'coburn', 'clyde', 'chops', 'choir', 'chip', 'carpet', 'capote', 'caper', 'candle', 'brazilian', 'brashear', 'bout', 'bookbr', 'boobs', 'blondell', 'bimbo', 'bert', 'beforehand', 'beers', 'auto', 'assistance', 'antihero', 'ambiance', '1966', '1958', 'zelah', 'yells', 'worrying', 'woefully', 'weirdness', 'warners', 'warhols', 'vigilante', 'uncertain', 'turtle', 'torment', 'tolerance', 'tits', 'tightly', 'theatres', 'tended', 'tech', 'tackle', 'symbols', 'switching', 'sustain', 'strung', 'starship', 'spoofs', 'socially', 'sober', 'snap', 'slept', 'slavery', 'sites', 'signature', 'sensual', 'sensitivity', 'scriptwriter', 'sandy', 'saints', 'russo', 'revolver', 'responds', 'reject', 'rebellion', 'realbr', 'prostitution', 'prostitutes', 'predecessors', 'prank', 'pornographic', 'pompous', 'playful', 'pierre', 'patty', 'outset', 'ongoing', 'officially', 'offense', 'obrien', 'ninjas', 'nest', 'motivated', 'monroe', 'mira', 'mills', 'middleclass', 'marines', 'manipulated', 'managing', 'malden', 'mae', 'madison', 'lifelong', 'lara', 'lampoon', 'joint', 'jigsaw', 'investment', 'interiors', 'informs', 'inform', 'influential', 'influences', 'ideals', 'idealistic', 'highschool', 'harron', 'grease', 'gershwin', 'geek', 'gandolfini', 'frost', 'framing', 'forgiveness', 'filmography', 'fiend', 'fiancée', 'farmers', 'englund', 'edison', 'edges', 'dunst', 'dreyfuss', 'drawings', 'doyle', 'discipline', 'digging', 'detached', 'davids', 'croc', 'crashed', 'conscious', 'confines', 'combining', 'colman', 'cohesive', 'closure', 'clinic', 'cheech', 'cells', 'burgess', 'budding', 'brandon', 'bodyguard', 'boards', 'bloodbath', 'bless', 'blames', 'bennett', 'bean', 'barney', 'barnes', 'badness', 'associate', 'annoyance', 'ang', 'alonebr', 'ads', 'admirer', 'abomination', '1955', 'waynes', 'vincenzo', 'vet', 'varying', 'unravel', 'troopers', 'travolta', 'transported', 'tramp', 'tolerate', 'throwaway', 'theirs', 'surrender', 'superfluous', 'stupidbr', 'stink', 'standpoint', 'stabs', 'spelling', 'spade', 'spaceship', 'slam', 'shrek', 'shoved', 'shootouts', 'shield', 'seuss', 'seriousness', 'scratching', 'sara', 'sammy', 'sailors', 'sacrifices', 'rewrite', 'replacing', 'reasoning', 'reagan', 'protective', 'programming', 'pressed', 'policemen', 'polar', 'perverse', 'perspectives', 'peril', 'pen', 'peers', 'parodies', 'palmas', 'pairing', 'padding', 'oprah', 'norris', 'nearest', 'mythical', 'mustache', 'morse', 'monica', 'mixes', 'mines', 'midget', 'merry', 'mercifully', 'marrying', 'marine', 'marcus', 'manic', 'maintaining', 'lurid', 'loren', 'lingering', 'liberty', 'lays', 'kareena', 'kalifornia', 'justification', 'jurassic', 'jewelry', 'irving', 'interplay', 'inexperienced', 'inconsistencies', 'imitate', 'imho', 'identified', 'holt', 'happenings', 'hallucinations', 'gruff', 'groove', 'griffiths', 'grating', 'grandpa', 'goodman', 'gino', 'geoffrey', 'gadgets', 'functions', 'forrest', 'fodder', 'flowing', 'fixed', 'facebr', 'fabric', 'existing', 'emphasize', 'egg', 'economy', 'echoes', 'division', 'diving', 'distorted', 'dish', 'directtovideo', 'dim', 'dictator', 'determine', 'dern', 'derived', 'depend', 'damsel', 'cunning', 'crowded', 'cringing', 'cravens', 'cracks', 'coworkers', 'counterparts', 'consciousness', 'connie', 'conclusions', 'concentration', 'collector', 'collapse', 'cody', 'captive', 'cannibals', 'buffy', 'britney', 'breathe', 'boyfriends', 'blessed', 'bites', 'berenger', 'believability', 'beetle', 'awry', 'asset', 'animations', 'anguish', 'amid', 'allan', 'alexandra', 'advances', 'acclaim', '1946', 'yearbr', 'yarn', 'widower', 'weary', 'villa', 'vertigo', 'uptight', 'tsui', 'trigger', 'transplant', 'torturing', 'temptation', 'systems', 'switches', 'surf', 'subtitled', 'structured', 'strained', 'stoned', 'steaming', 'stares', 'staging', 'spelled', 'sorrow', 'slut', 'simons', 'significantly', 'showcases', 'shelter', 'sensibilities', 'sensational', 'seduction', 'sasquatch', 'russians', 'rousing', 'romania', 'representing', 'representative', 'regime', 'reese', 'reckless', 'radiation', 'profoundly', 'portions', 'plagued', 'placement', 'pia', 'paycheck', 'pals', 'paired', 'overwrought', 'outlaw', 'ossessione', 'orlando', 'opposition', 'officials', 'natali', 'muni', 'monologues', 'mobster', 'melbourne', 'mcadams', 'marvin', 'manga', 'mack', 'luxury', 'lords', 'loony', 'longbr', 'locate', 'locale', 'lo', 'linebr', 'lightweight', 'lifts', 'liberties', 'lars', 'kristofferson', 'kidnaps', 'keanu', 'katie', 'k', 'inhabit', 'identities', 'heroines', 'henchman', 'heather', 'heap', 'hartleys', 'hardboiled', 'hanzo', 'hans', 'han', 'hairy', 'haha', 'grossly', 'graces', 'gibson', 'genetic', 'gathered', 'gasp', 'funky', 'foreboding', 'flew', 'fiery', 'federal', 'faye', 'faint', 'examine', 'er', 'entertains', 'engineer', 'elected', 'egypt', 'edmund', 'earns', 'duchovny', 'drummer', 'drastically', 'downfall', 'downbeat', 'dom', 'disappoints', 'depardieu', 'denying', 'dedication', 'deck', 'decency', 'dash', 'darkly', 'czech', 'cradle', 'cowardly', 'coward', 'cousins', 'contributes', 'continuously', 'confronts', 'condemned', 'communism', 'cloak', 'censorship', 'categories', 'cages', 'butchered', 'brush', 'borrows', 'bon', 'benny', 'bastard', 'bartender', 'animators', 'anchors', 'altmans', 'ali', 'airing', 'adultery', 'actionbr', 'abu', 'zu', 'youngsters', 'wielding', 'warbr', 'visconti', 'virtue', 'vaughn', 'uninspiring', 'underused', 'undercover', 'tricked', 'transitions', 'tina', 'threads', 'thereafter', 'tasty', 'taime', 'sykes', 'sweeping', 'surgeon', 'supportive', 'supermarket', 'sucking', 'subdued', 'straighttovideo', 'stirring', 'spotted', 'spells', 'sophistication', 'snowy', 'sleeper', 'sixteen', 'shrill', 'shiny', 'shelves', 'shaun', 'sensation', 'scattered', 'romanian', 'rogue', 'rockets', 'retirement', 'register', 'redford', 'rapes', 'puzzled', 'prolific', 'presume', 'premiered', 'prefers', 'preferably', 'pleasures', 'pepper', 'pecker', 'owe', 'oscarwinning', 'optimism', 'ogre', 'nuns', 'nora', 'nifty', 'myra', 'monday', 'modernday', 'mediocrity', 'maurice', 'massey', 'madman', 'loner', 'liotta', 'lindsey', 'likebr', 'ledger', 'lds', 'lawn', 'latino', 'laser', 'languages', 'knocking', 'knees', 'intelligently', 'intellectually', 'injustice', 'increase', 'imprisoned', 'impressions', 'illustrate', 'il', 'icons', 'hypnotic', 'hurry', 'hunky', 'hugo', 'hmm', 'halfhour', 'golf', 'goldsworthy', 'godard', 'glow', 'glenda', 'gently', 'geniuses', 'fuss', 'freed', 'freaked', 'fierce', 'fewer', 'fence', 'fellini', 'fanning', 'fallon', 'eyed', 'extraordinarily', 'expresses', 'ewoks', 'establishment', 'erabr', 'ensue', 'engagement', 'emmy', 'eh', 'echo', 'ebay', 'drum', 'dreamlike', 'dodgy', 'distinctly', 'developments', 'deservedly', 'della', 'defy', 'dealers', 'crypt', 'crooked', 'cowritten', 'correctness', 'coop', 'consumed', 'conniving', 'confirmed', 'collaboration', 'cockney', 'clutter', 'cloth', 'clockwork', 'client', 'clarence', 'chemical', 'cheesiness', 'chans', 'ceremony', 'ceiling', 'capitalism', 'byron', 'brit', 'bothers', 'booth', 'boost', 'boogeyman', 'bliss', 'bleeding', 'billing', 'belle', 'bart', 'aura', 'atrocity', 'atlantic', 'artistically', 'applause', 'apollo', 'anti', 'alter', 'allies', 'alarm', 'aircraft', 'accomplishment', 'abstract', 'abroad', 'aboard', '20s', 'zhang', 'zany', 'yourselfbr', 'wrongly', 'willingly', 'visceral', 'verhoevens', 'unwilling', 'trusted', 'trendy', 'traveled', 'todaybr', 'thug', 'thereof', 'taker', 'supports', 'succession', 'strain', 'springs', 'slowmotion', 'slips', 'sleepy', 'slaughtered', 'sinatras', 'simpler', 'shout', 'shocker', 'shawn', 'shady', 'sematary', 'scarlet', 'scarier', 'satisfactory', 'roommates', 'romeros', 'rodney', 'robbing', 'roads', 'rhyme', 'retrieve', 'reportedly', 'relates', 'recovering', 'ravishing', 'rapid', 'rant', 'proudly', 'protecting', 'proportions', 'prone', 'promoting', 'predicted', 'predictability', 'preacher', 'potent', 'plummer', 'photograph', 'peterson', 'periodbr', 'perceived', 'overtly', 'operating', 'operate', 'oneill', 'notwithstanding', 'nerdy', 'natasha', 'mutants', 'muscular', 'muriel', 'mud', 'moderately', 'mockery', 'mishmash', 'messbr', 'maturity', 'mastermind', 'manipulate', 'luthor', 'lure', 'lt', 'lorre', 'lists', 'limp', 'legion', 'lawyers', 'launched', 'lansbury', 'knives', 'kilmer', 'kenny', 'judgement', 'joshua', 'imply', 'illusion', 'icy', 'henderson', 'helena', 'heavenly', 'heartless', 'harilal', 'grisly', 'grendel', 'grandparents', 'governments', 'gosh', 'gobr', 'gladiator', 'gi', 'fur', 'fulfilling', 'fulfill', 'friendsbr', 'forsythe', 'forbes', 'fleeting', 'fleeing', 'flamboyant', 'fighters', 'fetched', 'fastforward', 'farrah', 'fagin', 'exgirlfriend', 'encourages', 'electricity', 'elder', 'dunne', 'drain', 'doris', 'denver', 'defining', 'deborah', 'data', 'darius', 'daria', 'cynicism', 'cowrote', 'corbin', 'conflicted', 'comprised', 'cinematographic', 'christensen', 'chevy', 'chandler', 'censors', 'bs', 'brick', 'breakthrough', 'bloke', 'blackmail', 'bitchy', 'bing', 'barton', 'ballroom', 'baddie', 'backdrops', 'autobiography', 'attic', 'attendant', 'astonishingly', 'arnie', 'armor', 'appalled', 'anythingbr', 'anxiety', 'analyze', 'amoral', 'alcoholism', '700', '51', '1964', '1957', '150', 'zabriskie', 'wwi', 'wrath', 'worship', 'wolves', 'wee', 'virginity', 'violently', 'vibe', 'vaudeville', 'ursula', 'urgency', 'upbringing', 'unnerving', 'unlucky', 'unconscious', 'treating', 'tourists', 'tobe', 'throne', 'theo', 'terrorism', 'temporary', 'tasks', 'tango', 'tacked', 'tables', 'swords', 'supremacy', 'superiors', 'stumbling', 'stereotyping', 'steamy', 'sore', 'sibling', 'sheridan', 'shatner', 'shamelessly', 'seventh', 'semi', 'sammi', 'sack', 'rudd', 'rosenstrasse', 'rko', 'ridden', 'richly', 'replay', 'reno', 'relaxing', 'redgrave', 'recurring', 'recreation', 'ratio', 'ranger', 'quirks', 'prolonged', 'prejudices', 'pour', 'poke', 'placing', 'pistol', 'pertwee', 'penguin', 'peaks', 'payne', 'patriotic', 'passions', 'padded', 'overwhelmed', 'overused', 'overacts', 'observed', 'notions', 'neverending', 'needlessly', 'moonstruck', 'miyazakis', 'missions', 'meyers', 'mcdowell', 'mcdermott', 'marx', 'martino', 'mandatory', 'management', 'ma', 'liz', 'liar', 'levy', 'lesbians', 'leaps', 'largest', 'kornbluth', 'jolly', 'jerky', 'jam', 'iti', 'irresponsible', 'irresistible', 'interspersed', 'innuendo', 'inhabited', 'inducing', 'increasing', 'immigrants', 'imitating', 'illustrated', 'honey', 'hilton', 'herrings', 'helmet', 'heir', 'hector', 'hazzard', 'harbor', 'happier', 'hale', 'gusto', 'gravity', 'grady', 'girlbr', 'giggle', 'gays', 'gardens', 'flame', 'fitzgerald', 'fiasco', 'feared', 'farnsworth', 'expressing', 'expand', 'episodebr', 'enthralling', 'elisha', 'ecstasy', 'eastwoods', 'dwarf', 'dukakis', 'doses', 'dodge', 'dive', 'distinguished', 'disasters', 'dillon', 'diaz', 'destructive', 'denial', 'dangers', 'curtain', 'crass', 'countrys', 'counterpart', 'counted', 'coppola', 'continuous', 'confession', 'concentrated', 'compassionate', 'coal', 'clubs', 'climbs', 'climate', 'civilians', 'chop', 'cheung', 'cheat', 'castro', 'cassie', 'burden', 'bullies', 'brunette', 'brilliantbr', 'brennan', 'borderline', 'booker', 'bombed', 'bloodshed', 'bigfoot', 'benoit', 'believablebr', 'behaving', 'behaves', 'azumi', 'aztec', 'auteur', 'attributes', 'athletic', 'astronauts', 'assortment', 'associates', 'archer', 'antichrist', 'anonymous', 'annoyingly', 'aniston', 'alienation', 'alba', 'academic', '98', '27', 'yearning', 'y', 'worm', 'woke', 'whipped', 'whip', 'vulnerability', 'volumes', 'vienna', 'vets', 'versa', 'vera', 'vault', 'valerie', 'unemployed', 'truthful', 'traumatized', 'transformers', 'torch', 'thumb', 'thorn', 'swiss', 'stupidest', 'stripper', 'stretches', 'stalks', 'spitting', 'spinning', 'smarmy', 'sm', 'slew', 'skipping', 'sessions', 'sequelbr', 'segal', 'seal', 'screamed', 'scandal', 'sarne', 'saddest', 'rusty', 'rotting', 'roach', 'restless', 'relied', 'reincarnation', 'regrets', 'recipe', 'rapture', 'purse', 'pub', 'psychiatric', 'prophet', 'profile', 'princes', 'prices', 'pranks', 'practices', 'posh', 'pond', 'poet', 'percent', 'perceive', 'penis', 'penalty', 'paragraph', 'palestinian', 'outs', 'opponents', 'nutty', 'noam', 'nightbr', 'nerds', 'neglect', 'neeson', 'nailed', 'muted', 'montages', 'mindset', 'midway', 'midler', 'melt', 'mechanic', 'meanings', 'marathon', 'maiden', 'maguire', 'lubitsch', 'lowbrow', 'lin', 'lightly', 'lecture', 'lang', 'knack', 'keitel', 'joanna', 'izzard', 'itd', 'italians', 'irrational', 'intellect', 'inherited', 'incompetence', 'improvised', 'idiocy', 'hustler', 'hopeful', 'honeymoon', 'holland', 'hmmm', 'hesitate', 'guru', 'goofs', 'gimmicks', 'gannon', 'frenzy', 'footsteps', 'floriane', 'flipping', 'firsttime', 'finely', 'featurelength', 'farewell', 'fable', 'exwife', 'explanations', 'expanded', 'existential', 'enhances', 'embarrass', 'elmer', 'elevate', 'efficient', 'drugged', 'dopey', 'dogma', 'disdain', 'discernible', 'disappearing', 'dickinson', 'darling', 'dani', 'customs', 'custody', 'crowds', 'crenna', 'coverage', 'cortez', 'corky', 'contemplate', 'consisted', 'conquest', 'confronting', 'concludes', 'concentrates', 'compositions', 'companions', 'collecting', 'cocktail', 'coaster', 'classicbr', 'chocolate', 'celine', 'caution', 'casually', 'casebr', 'camps', 'bursts', 'buildup', 'btk', 'bothering', 'bonding', 'bishop', 'billion', 'beth', 'bald', 'awfulness', 'aweigh', 'astronaut', 'architecture', 'approximately', 'alienate', 'agobr', 'afghanistan', 'adequately', '48', '250', 'zealand', 'wits', 'wisecracking', 'wipe', 'wills', 'welcomed', 'weaver', 'walters', 'waits', 'viggo', 'victorias', 'versatile', 'vengeful', 'undeveloped', 'uncredited', 'toss', 'throats', 'themselvesbr', 'thatll', 'thankful', 'tested', 'tensions', 'tenants', 'teddy', 'suspended', 'surpasses', 'supporters', 'suggestive', 'subtleties', 'submit', 'strikingly', 'stoic', 'stepped', 'stature', 'squeeze', 'spielbergs', 'spectacularly', 'sparse', 'snippets', 'snappy', 'smarter', 'slows', 'slipped', 'sleuth', 'shootings', 'shaolin', 'shakespearean', 'rushes', 'rugged', 'rizzo', 'ripoffs', 'rightfully', 'rico', 'revive', 'rests', 'rehearsal', 'regal', 'regain', 'rebecca', 'rack', 'proverbial', 'profit', 'productionbr', 'prevented', 'prevalent', 'preteen', 'premises', 'postmodern', 'plants', 'planted', 'performancesbr', 'pauses', 'passenger', 'partial', 'pam', 'outrage', 'oppressive', 'oddball', 'norton', 'nineties', 'naval', 'murphys', 'mourning', 'mostel', 'monstrous', 'mold', 'micheal', 'metropolis', 'melinda', 'maverick', 'marred', 'lyrical', 'luzhin', 'lung', 'lucio', 'lovingly', 'loop', 'looney', 'locales', 'listing', 'limbs', 'lange', 'kramer', 'kiddie', 'kerr', 'keeler', 'kaufman', 'kamal', 'jock', 'january', 'it´s', 'islam', 'irs', 'insignificant', 'insects', 'insanely', 'impeccable', 'immersed', 'illiterate', 'hug', 'horn', 'hitchhiker', 'hilariousbr', 'healing', 'harrys', 'harlem', 'guided', 'graves', 'grain', 'goodnatured', 'goers', 'garnered', 'garcia', 'gage', 'fulllength', 'fugitive', 'friendships', 'flip', 'fatherson', 'fanatics', 'examined', 'everybodys', 'empathize', 'elliot', 'ella', 'eliminate', 'dyke', 'dusty', 'duryea', 'durbin', 'dreadfully', 'downtown', 'documents', 'discussions', 'diabolical', 'dental', 'democracy', 'delve', 'december', 'deathstalker', 'daphne', 'daisies', 'cruella', 'creeps', 'cowriter', 'corridors', 'converted', 'continent', 'connor', 'conduct', 'condescending', 'conclusionbr', 'conception', 'compromise', 'comebr', 'collar', 'coleman', 'cocky', 'citys', 'cillian', 'choke', 'chock', 'chewing', 'chapters', 'carole', 'capt', 'candidates', 'callahan', 'bury', 'bucket', 'brink', 'branch', 'braindead', 'bombing', 'bolivia', 'betrays', 'believer', 'bearable', 'bash', 'barbarian', 'balloon', 'backwoods', 'babysitter', 'atomic', 'association', 'assist', 'ash', 'architect', 'apprentice', 'apologize', 'apartheid', 'alternately', 'allison', 'albums', 'ahmad', 'adventurous', 'adopt', 'acknowledged', '400', '2009', '1949', '1938', '1931', '18th', 'woven', 'wondrous', 'witless', 'willem', 'wheels', 'welch', 'weirdo', 'voiceovers', 'villagers', 'variations', 'vanishing', 'untrue', 'unrated', 'universally', 'unimpressive', 'undertaker', 'unborn', 'tucker', 'truebr', 'til', 'throughoutbr', 'thinner', 'tepid', 'telly', 'tedium', 'switzerland', 'swamp', 'surrogate', 'surfers', 'stubborn', 'stripped', 'straw', 'strangest', 'stir', 'stimulating', 'spectrum', 'soulless', 'sorvino', 'societies', 'snatch', 'smoothly', 'smitten', 'sloane', 'siege', 'shouts', 'shinae', 'shack', 'sentenced', 'seinfeld', 'sciencefiction', 'satellite', 'sans', 'sacrificed', 'rollercoaster', 'rohmer', 'rigid', 'revelations', 'retain', 'requisite', 'render', 'recalls', 'ranging', 'rainer', 'psychologically', 'presumed', 'prehistoric', 'practicing', 'plotted', 'platoon', 'pita', 'philadelphia', 'pavarotti', 'pauls', 'paperhouse', 'palette', 'overt', 'overseas', 'outtakes', 'outta', 'oriental', 'obscene', 'nuance', 'november', 'norwegian', 'norma', 'mutated', 'mpaa', 'morgana', 'mocking', 'misplaced', 'mischievous', 'mining', 'millennium', 'menbr', 'matching', 'marquis', 'malcolm', 'mac', 'lotr', 'locks', 'll', 'lizard', 'livesbr', 'lineup', 'lieutenant', 'layered', 'lamas', 'kinky', 'kindness', 'kentucky', 'jessie', 'janitor', 'irwin', 'intruder', 'intestines', 'interpreted', 'insulted', 'insteadbr', 'illustrates', 'hurting', 'hungarian', 'hoods', 'honorable', 'hogan', 'hockey', 'hispanic', 'hisher', 'heroin', 'hedy', 'hating', 'harmony', 'hardest', 'haired', 'guevara', 'grumpy', 'grips', 'greta', 'granger', 'gesture', 'gen', 'gamut', 'gamebr', 'gaining', 'futurebr', 'forgivable', 'floors', 'flee', 'fireworks', 'fatherbr', 'exposing', 'exhibit', 'evolved', 'equals', 'eponymous', 'episodic', 'entertainer', 'edits', 'dw', 'duties', 'duff', 'dominick', 'distributors', 'disgruntled', 'directorbr', 'directionbr', 'dimwitted', 'desolate', 'dense', 'denied', 'darkest', 'culkin', 'crow', 'criminally', 'connolly', 'connecting', 'confirm', 'comicbook', 'cloud', 'classified', 'chore', 'cheaper', 'celebrating', 'cbc', 'cathy', 'casted', 'carson', 'caroline', 'carnival', 'carlito', 'carface', 'careerbr', 'bryan', 'bets', 'benson', 'batwoman', 'basil', 'barker', 'backyard', 'assassins', 'anyonebr', 'andersons', 'anchor', 'amok', 'allegedly', 'admirably', 'administration', 'adapting', 'achieving', '510', '500', 'zatoichi', 'yetbr', 'wicker', 'weaves', 'wb', 'voting', 'voters', 'vivah', 'usage', 'unsuccessful', 'unnamed', 'unfinished', 'unfairly', 'undertones', 'underdog', 'twodimensional', 'transform', 'transferred', 'transcends', 'tigerland', 'texture', 'textbook', 'terriblebr', 'teds', 'tearjerker', 'tasteful', 'talentless', 'swift', 'swat', 'supplies', 'streisands', 'streak', 'stills', 'stealth', 'spreading', 'spears', 'spaces', 'soles', 'societal', 'smalltown', 'smallest', 'slug', 'skywalker', 'skimpy', 'singin', 'shrink', 'shakes', 'shadowy', 'seriouslybr', 'secluded', 'schemes', 'sacred', 'rumors', 'rewatch', 'retrospect', 'rerun', 'request', 'redeemed', 'rabid', 'puzzling', 'pursues', 'prototype', 'prevents', 'preserved', 'positions', 'poppins', 'polite', 'pokes', 'plantation', 'phyllis', 'pets', 'patch', 'participation', 'owning', 'ounce', 'otoole', 'osullivan', 'orphanage', 'orgy', 'organs', 'operas', 'onesided', 'olympic', 'napoleon', 'motif', 'monumental', 'monstrosity', 'monastery', 'mj', 'miracles', 'michel', 'mastroianni', 'marvellous', 'marlene', 'mamet', 'lombard', 'logo', 'liza', 'leno', 'leia', 'lap', 'lambs', 'kisses', 'kingsley', 'jew', 'jed', 'jackass', 'itchy', 'interpret', 'integrated', 'instruments', 'insisted', 'indulge', 'inch', 'inc', 'imdbs', 'hosts', 'holidays', 'historians', 'hiring', 'hi', 'hawaii', 'hardships', 'handy']\n"
          ]
        }
      ]
    },
    {
      "cell_type": "code",
      "source": [],
      "metadata": {
        "id": "gCQpepp-TOAh"
      },
      "execution_count": null,
      "outputs": []
    },
    {
      "cell_type": "code",
      "source": [
        "text = \"You take a mortal man. And put him in control. Watch him become a God. Watch peoples' head aroll.\"\n",
        "text_encoded = encoder(text)\n",
        "print(list(text_encoded.numpy()))"
      ],
      "metadata": {
        "colab": {
          "base_uri": "https://localhost:8080/"
        },
        "id": "XxM_wBZbRmIM",
        "outputId": "d58d55b8-577d-4550-9dd4-351d5623f11c"
      },
      "execution_count": null,
      "outputs": [
        {
          "output_type": "stream",
          "name": "stdout",
          "text": [
            "[1, 0, 1, 1, 0, 0, 0, 1, 0, 0, 0, 0, 0, 0, 0, 0, 0, 0, 0, 0, 0, 0, 1, 0, 0, 0, 0, 0, 0, 0, 0, 0, 0, 0, 0, 0, 0, 0, 0, 0, 0, 0, 0, 0, 0, 0, 0, 0, 0, 0, 0, 0, 0, 0, 0, 0, 0, 0, 0, 0, 0, 0, 0, 0, 0, 0, 0, 0, 0, 0, 0, 0, 0, 0, 0, 0, 0, 0, 0, 0, 0, 0, 0, 0, 0, 0, 0, 0, 1, 0, 0, 0, 0, 0, 0, 0, 0, 0, 0, 0, 0, 0, 0, 1, 0, 0, 0, 0, 0, 0, 0, 0, 0, 0, 0, 0, 0, 0, 0, 0, 0, 0, 0, 0, 0, 0, 0, 0, 0, 0, 0, 0, 1, 0, 0, 0, 0, 0, 0, 0, 0, 0, 0, 0, 0, 0, 0, 0, 0, 0, 0, 0, 0, 0, 0, 0, 0, 0, 0, 0, 0, 0, 0, 0, 0, 0, 0, 0, 0, 0, 0, 0, 0, 0, 0, 0, 0, 0, 0, 0, 0, 0, 0, 0, 0, 0, 0, 0, 1, 0, 0, 0, 0, 0, 0, 0, 0, 0, 0, 0, 0, 0, 0, 0, 0, 0, 0, 0, 0, 0, 0, 0, 0, 0, 0, 0, 0, 0, 0, 0, 0, 0, 0, 0, 0, 0, 0, 0, 0, 0, 0, 0, 0, 0, 0, 0, 0, 0, 0, 0, 0, 0, 0, 0, 0, 0, 0, 0, 0, 0, 0, 0, 0, 0, 0, 0, 0, 0, 0, 0, 0, 0, 0, 0, 0, 1, 0, 0, 0, 0, 0, 0, 0, 0, 0, 0, 0, 0, 0, 0, 0, 0, 0, 0, 0, 0, 0, 0, 0, 0, 0, 0, 0, 0, 0, 0, 0, 0, 0, 0, 0, 0, 0, 0, 0, 0, 0, 0, 0, 0, 0, 0, 0, 0, 0, 0, 0, 0, 0, 0, 0, 0, 0, 0, 0, 0, 0, 0, 0, 0, 0, 0, 0, 0, 0, 0, 0, 0, 0, 0, 0, 0, 0, 0, 0, 0, 0, 0, 0, 0, 0, 0, 0, 0, 0, 0, 0, 0, 0, 0, 0, 0, 0, 0, 0, 0, 0, 0, 0, 0, 0, 0, 0, 0, 0, 0, 0, 0, 0, 0, 0, 0, 0, 0, 0, 0, 0, 0, 0, 0, 0, 0, 0, 0, 0, 1, 0, 0, 0, 0, 0, 0, 0, 0, 0, 0, 0, 0, 0, 0, 0, 0, 0, 0, 0, 0, 0, 0, 0, 0, 0, 0, 0, 0, 0, 1, 0, 0, 0, 0, 0, 0, 0, 0, 0, 0, 0, 0, 0, 0, 0, 0, 0, 0, 0, 0, 0, 0, 0, 0, 0, 0, 0, 0, 0, 0, 0, 0, 0, 0, 0, 0, 0, 0, 0, 0, 0, 0, 0, 0, 0, 0, 0, 0, 0, 0, 0, 0, 0, 0, 0, 0, 0, 0, 0, 0, 0, 0, 0, 0, 0, 0, 0, 0, 0, 0, 0, 0, 0, 0, 0, 0, 0, 0, 0, 0, 0, 0, 0, 0, 0, 0, 0, 0, 0, 0, 0, 0, 0, 0, 0, 0, 0, 0, 0, 0, 0, 0, 0, 0, 0, 0, 0, 0, 0, 0, 0, 0, 0, 0, 0, 0, 0, 0, 0, 0, 0, 0, 0, 0, 0, 0, 0, 0, 0, 0, 0, 0, 0, 0, 0, 0, 0, 0, 0, 0, 0, 0, 0, 0, 0, 0, 0, 0, 0, 0, 0, 0, 0, 0, 0, 0, 0, 0, 0, 0, 0, 0, 0, 1, 0, 0, 0, 0, 0, 0, 0, 0, 0, 0, 0, 0, 0, 0, 0, 0, 0, 0, 0, 0, 0, 0, 0, 0, 0, 0, 0, 0, 0, 0, 0, 0, 0, 0, 0, 0, 0, 0, 0, 0, 0, 0, 0, 0, 0, 0, 0, 0, 0, 0, 0, 0, 0, 0, 0, 0, 0, 0, 0, 0, 0, 0, 0, 0, 0, 0, 0, 0, 0, 0, 0, 0, 0, 0, 0, 0, 0, 0, 0, 0, 0, 0, 0, 0, 0, 0, 0, 0, 0, 0, 0, 0, 0, 0, 0, 0, 0, 0, 0, 0, 0, 0, 0, 0, 0, 0, 0, 0, 0, 0, 0, 0, 0, 0, 0, 0, 0, 0, 0, 0, 0, 0, 0, 0, 0, 0, 0, 0, 0, 0, 0, 0, 0, 0, 0, 0, 0, 0, 0, 0, 0, 0, 0, 0, 0, 0, 0, 0, 0, 0, 0, 0, 0, 0, 0, 0, 0, 0, 0, 0, 0, 0, 0, 0, 0, 0, 0, 0, 0, 0, 0, 0, 0, 0, 0, 0, 0, 0, 0, 0, 0, 0, 0, 0, 0, 0, 0, 0, 0, 0, 0, 0, 0, 0, 0, 0, 0, 0, 0, 0, 0, 0, 0, 0, 0, 0, 0, 0, 0, 0, 0, 0, 0, 0, 0, 0, 0, 0, 0, 0, 0, 0, 0, 0, 0, 0, 0, 0, 0, 0, 0, 0, 0, 0, 0, 0, 0, 0, 0, 0, 0, 0, 0, 0, 0, 0, 0, 0, 0, 0, 0, 0, 0, 0, 0, 0, 0, 0, 0, 0, 0, 0, 0, 0, 0, 0, 0, 0, 0, 0, 0, 0, 0, 0, 0, 0, 0, 0, 0, 0, 0, 0, 0, 0, 0, 0, 0, 0, 0, 0, 0, 0, 0, 0, 0, 0, 0, 0, 0, 0, 0, 0, 0, 0, 0, 0, 0, 0, 0, 0, 0, 0, 0, 0, 0, 0, 0, 0, 0, 0, 0, 0, 0, 0, 0, 0, 0, 0, 0, 0, 0, 0, 0, 0, 0, 0, 0, 0, 0, 0, 0, 0, 0, 0, 0, 0, 0, 0, 0, 0, 0, 0, 0, 0, 0, 0, 0, 0, 0, 0, 0, 0, 0, 0, 0, 0, 0, 0, 0, 0, 0, 0, 0, 0, 0, 0, 0, 0, 0, 0, 0, 0, 0, 0, 0, 0, 0, 0, 0, 0, 0, 0, 0, 0, 0, 0, 0, 0, 0, 0, 0, 0, 0, 0, 0, 0, 0, 0, 0, 0, 0, 0, 0, 0, 0, 0, 0, 0, 0, 0, 0, 0, 0, 0, 0, 0, 0, 0, 0, 0, 0, 0, 0, 0, 0, 0, 0, 0, 0, 0, 0, 0, 0, 0, 0, 0, 0, 0, 0, 0, 0, 0, 0, 0, 0, 0, 0, 0, 0, 0, 0, 0, 0, 0, 0, 0, 0, 0, 0, 0, 0, 0, 0, 0, 0, 0, 0, 0, 0, 0, 0, 0, 0, 0, 0, 0, 0, 0, 0, 0, 0, 0, 0, 0, 0, 0, 0, 0, 0, 0, 0, 0, 0, 0, 0, 0, 0, 0, 0, 0, 0, 0, 0, 0, 0, 0, 0, 0, 0, 0, 0, 0, 0, 0, 0, 0, 0, 0, 0, 0, 0, 0, 0, 0, 0, 0, 0, 0, 0, 0, 0, 0, 0, 0, 0, 0, 0, 0, 0, 0, 0, 0, 0, 0, 0, 0, 0, 0, 0, 0, 0, 0, 0, 0, 0, 0, 0, 1, 0, 0, 0, 0, 0, 0, 0, 0, 0, 0, 0, 0, 0, 0, 0, 0, 0, 0, 0, 0, 0, 0, 0, 0, 0, 0, 0, 0, 0, 0, 0, 0, 0, 0, 0, 0, 0, 0, 0, 0, 0, 0, 0, 0, 0, 0, 0, 0, 0, 0, 0, 0, 0, 0, 0, 0, 0, 0, 0, 0, 0, 0, 0, 0, 0, 0, 0, 0, 0, 0, 0, 0, 0, 0, 0, 0, 0, 0, 0, 0, 0, 0, 0, 0, 0, 0, 0, 0, 0, 0, 0, 0, 0, 0, 0, 0, 0, 0, 0, 0, 0, 0, 0, 0, 0, 0, 0, 0, 0, 0, 0, 0, 0, 0, 0, 0, 0, 0, 0, 0, 0, 0, 0, 0, 0, 0, 0, 0, 0, 0, 0, 0, 0, 0, 0, 0, 0, 0, 0, 0, 0, 0, 0, 0, 0, 0, 0, 0, 0, 0, 0, 0, 0, 0, 0, 0, 0, 0, 0, 0, 0, 0, 0, 0, 0, 0, 0, 0, 0, 0, 0, 0, 0, 0, 0, 0, 0, 0, 0, 0, 0, 0, 0, 0, 0, 0, 0, 0, 0, 0, 0, 0, 0, 0, 0, 0, 0, 0, 0, 0, 0, 0, 0, 0, 0, 0, 0, 0, 0, 0, 0, 0, 0, 0, 0, 0, 0, 0, 0, 0, 0, 0, 0, 0, 0, 0, 0, 0, 0, 0, 0, 0, 0, 0, 0, 0, 0, 0, 0, 0, 0, 0, 0, 0, 0, 0, 0, 0, 0, 0, 0, 0, 0, 0, 0, 0, 0, 0, 0, 0, 0, 0, 0, 0, 0, 0, 0, 0, 0, 0, 0, 0, 0, 0, 0, 0, 0, 0, 0, 0, 0, 0, 0, 0, 0, 0, 0, 0, 0, 0, 0, 0, 0, 0, 0, 0, 0, 0, 0, 0, 0, 0, 0, 0, 0, 0, 0, 0, 0, 0, 0, 0, 0, 0, 0, 0, 0, 0, 0, 0, 0, 0, 0, 0, 0, 0, 0, 0, 0, 0, 0, 0, 0, 0, 0, 0, 0, 0, 0, 0, 0, 0, 0, 0, 0, 0, 0, 0, 0, 0, 0, 0, 0, 0, 0, 0, 0, 0, 0, 0, 0, 0, 0, 0, 0, 0, 0, 0, 0, 0, 0, 0, 0, 0, 0, 0, 0, 0, 0, 0, 0, 0, 0, 0, 0, 0, 0, 0, 0, 0, 0, 0, 0, 0, 0, 0, 0, 0, 0, 0, 0, 0, 0, 0, 0, 0, 0, 0, 0, 0, 0, 0, 0, 0, 0, 0, 0, 0, 0, 0, 0, 0, 0, 0, 0, 0, 0, 0, 0, 0, 0, 0, 0, 0, 0, 0, 0, 0, 0, 0, 0, 0, 0, 0, 0, 0, 0, 0, 0, 0, 0, 0, 0, 0, 0, 0, 0, 0, 0, 0, 0, 0, 0, 0, 0, 0, 0, 0, 0, 0, 0, 0, 0, 0, 0, 0, 0, 0, 0, 0, 0, 0, 0, 0, 0, 0, 0, 0, 0, 0, 0, 0, 0, 0, 0, 0, 0, 0, 0, 0, 0, 0, 0, 0, 0, 0, 0, 0, 0, 0, 0, 0, 0, 0, 0, 0, 0, 0, 0, 0, 0, 0, 0, 0, 0, 0, 0, 0, 0, 0, 0, 0, 0, 0, 0, 0, 0, 0, 0, 0, 0, 0, 0, 0, 0, 0, 0, 0, 0, 0, 0, 0, 0, 0, 0, 0, 0, 0, 0, 0, 0, 0, 0, 0, 0, 0, 0, 0, 0, 0, 0, 0, 0, 0, 0, 0, 0, 0, 0, 0, 0, 0, 0, 0, 0, 0, 0, 0, 0, 0, 0, 0, 0, 0, 0, 0, 0, 0, 0, 0, 0, 0, 0, 0, 0, 0, 0, 0, 0, 0, 0, 0, 0, 0, 0, 0, 0, 0, 0, 0, 0, 0, 0, 0, 0, 0, 0, 0, 0, 0, 0, 0, 0, 0, 0, 0, 0, 0, 0, 0, 0, 0, 0, 0, 0, 0, 0, 0, 0, 0, 0, 0, 0, 0, 0, 0, 0, 0, 0, 0, 0, 0, 0, 0, 0, 0, 0, 0, 0, 0, 0, 0, 0, 0, 0, 0, 0, 0, 0, 0, 0, 0, 0, 0, 0, 0, 0, 0, 0, 0, 0, 0, 0, 0, 0, 0, 0, 0, 0, 0, 0, 0, 0, 1, 0, 0, 0, 0, 0, 0, 0, 0, 0, 0, 0, 0, 0, 0, 0, 0, 0, 0, 0, 0, 0, 0, 0, 0, 0, 0, 0, 0, 0, 0, 0, 0, 0, 0, 0, 0, 0, 0, 0, 0, 0, 0, 0, 0, 0, 0, 0, 0, 0, 0, 0, 0, 0, 0, 0, 0, 0, 0, 0, 0, 0, 0, 0, 0, 0, 0, 0, 0, 0, 0, 0, 0, 0, 0, 0, 0, 0, 0, 0, 0, 0, 0, 0, 0, 0, 0, 0, 0, 0, 0, 0, 0, 0, 0, 0, 0, 0, 0, 0, 0, 0, 0, 0, 0, 0, 0, 0, 0, 0, 0, 0, 0, 0, 0, 0, 0, 0, 0, 0, 0, 0, 0, 0, 0, 0, 0, 0, 0, 0, 0, 0, 0, 0, 0, 0, 0, 0, 0, 0, 0, 0, 0, 0, 0, 0, 0, 0, 0, 0, 0, 0, 0, 0, 0, 0, 0, 0, 0, 0, 0, 0, 0, 0, 0, 0, 0, 0, 0, 0, 0, 0, 0, 0, 0, 0, 0, 0, 0, 0, 0, 0, 0, 0, 0, 0, 0, 0, 0, 0, 0, 0, 0, 0, 0, 0, 0, 0, 0, 0, 0, 0, 0, 0, 0, 0, 0, 0, 0, 0, 0, 0, 0, 0, 0, 0, 0, 0, 0, 0, 0, 0, 0, 0, 0, 0, 0, 0, 0, 0, 0, 0, 0, 0, 0, 0, 0, 0, 0, 0, 0, 0, 0, 0, 0, 0, 0, 0, 0, 0, 0, 0, 0, 0, 0, 0, 0, 0, 0, 0, 0, 0, 0, 0, 0, 0, 0, 0, 0, 0, 0, 0, 0, 0, 0, 0, 0, 0, 0, 0, 0, 0, 0, 0, 0, 0, 0, 0, 0, 0, 0, 0, 0, 0, 0, 0, 0, 0, 0, 0, 0, 0, 0, 0, 0, 0, 0, 0, 0, 0, 0, 0, 0, 0, 0, 0, 0, 0, 0, 0, 0, 0, 0, 0, 0, 0, 0, 0, 0, 0, 0, 0, 0, 0, 0, 0, 0, 0, 0, 0, 0, 0, 0, 0, 0, 0, 0, 0, 0, 0, 0, 0, 0, 0, 0, 0, 0, 0, 0, 0, 0, 0, 0, 0, 0, 0, 0, 0, 0, 0, 0, 0, 0, 0, 0, 0, 0, 0, 0, 0, 0, 0, 0, 0, 0, 0, 0, 0, 0, 0, 0, 0, 0, 0, 0, 0, 0, 0, 0, 0, 0, 0, 0, 0, 0, 0, 0, 0, 0, 0, 0, 0, 0, 0, 0, 0, 0, 0, 0, 0, 0, 0, 0, 0, 0, 0, 0, 0, 0, 0, 0, 0, 0, 0, 0, 0, 0, 0, 0, 0, 0, 0, 0, 0, 0, 0, 0, 0, 0, 0, 0, 0, 0, 0, 0, 0, 0, 0, 0, 0, 0, 0, 0, 0, 0, 0, 0, 0, 0, 0, 0, 0, 0, 0, 0, 0, 0, 0, 0, 0, 0, 0, 0, 0, 0, 0, 0, 0, 0, 0, 0, 0, 0, 0, 0, 0, 0, 0, 0, 0, 0, 0, 0, 0, 0, 0, 0, 0, 0, 0, 0, 0, 0, 0, 0, 0, 0, 0, 0, 0, 0, 0, 0, 0, 0, 0, 0, 0, 0, 0, 0, 0, 0, 0, 0, 0, 0, 0, 0, 0, 0, 0, 0, 0, 0, 0, 0, 0, 0, 0, 0, 0, 0, 0, 0, 0, 0, 0, 0, 0, 0, 0, 0, 0, 0, 0, 0, 0, 0, 0, 0, 0, 0, 0, 0, 0, 0, 0, 0, 0, 0, 0, 0, 0, 0, 0, 0, 0, 0, 0, 0, 0, 0, 0, 0, 0, 0, 0, 0, 0, 0, 0, 0, 0, 0, 0, 0, 0, 0, 0, 0, 0, 0, 0, 0, 0, 0, 0, 0, 0, 0, 0, 0, 0, 0, 0, 0, 0, 0, 0, 0, 0, 0, 0, 0, 0, 0, 0, 0, 0, 0, 0, 0, 0, 0, 0, 0, 0, 0, 0, 0, 0, 0, 0, 0, 0, 0, 0, 0, 0, 0, 0, 0, 0, 0, 0, 0, 0, 0, 0, 0, 0, 0, 0, 0, 0, 0, 0, 0, 0, 0, 0, 0, 0, 0, 0, 0, 0, 0, 0, 0, 0, 0, 0, 0, 0, 0, 0, 0, 0, 0, 0, 0, 0, 0, 0, 0, 0, 0, 0, 0, 0, 0, 0, 0, 0, 0, 0, 0, 0, 0, 0, 0, 0, 0, 0, 0, 0, 0, 0, 0, 0, 0, 0, 0, 0, 0, 0, 0, 0, 0, 0, 0, 0, 0, 0, 0, 0, 0, 0, 0, 0, 0, 0, 0, 0, 0, 0, 0, 0, 0, 0, 0, 0, 0, 0, 0, 0, 0, 0, 0, 0, 0, 0, 0, 0, 0, 0, 0, 0, 0, 0, 0, 0, 0, 0, 0, 0, 0, 0, 0, 0, 0, 0, 0, 0, 0, 0, 0, 0, 0, 0, 0, 0, 0, 0, 0, 0, 0, 0, 0, 0, 0, 0, 0, 0, 0, 0, 0, 0, 0, 0, 0, 0, 0, 0, 0, 0, 0, 0, 0, 0, 0, 0, 0, 0, 0, 0, 0, 0, 0, 0, 0, 0, 0, 0, 0, 0, 0, 0, 0, 0, 0, 0, 0, 0, 0, 0, 0, 0, 0, 0, 0, 0, 0, 0, 0, 0, 0, 0, 0, 0, 0, 0, 0, 0, 0, 0, 0, 0, 0, 0, 0, 0, 0, 0, 0, 0, 0, 0, 0, 0, 0, 0, 0, 0, 0, 0, 0, 0, 0, 0, 0, 0, 0, 0, 0, 0, 0, 0, 0, 0, 0, 0, 0, 0, 0, 0, 0, 0, 0, 0, 0, 0, 0, 0, 0, 0, 0, 0, 0, 0, 0, 0, 0, 0, 0, 0, 0, 0, 0, 0, 0, 0, 0, 0, 0, 0, 0, 0, 0, 0, 0, 0, 0, 0, 0, 0, 0, 0, 0, 0, 0, 0, 0, 0, 0, 0, 0, 0, 0, 0, 0, 0, 0, 0, 0, 0, 0, 0, 0, 0, 0, 0, 0, 0, 0, 0, 0, 0, 0, 0, 0, 0, 0, 0, 0, 0, 0, 0, 0, 0, 0, 0, 0, 0, 0, 0, 0, 0, 0, 0, 0, 0, 0, 0, 0, 0, 0, 0, 0, 0, 0, 0, 0, 0, 0, 0, 0, 0, 0, 0, 0, 0, 0, 0, 0, 0, 0, 0, 0, 0, 0, 0, 0, 0, 0, 0, 0, 0, 0, 0, 0, 0, 0, 0, 0, 0, 0, 0, 0, 0, 0, 0, 0, 0, 0, 0, 0, 0, 0, 0, 0, 0, 0, 0, 0, 0, 0, 0, 0, 0, 0, 0, 0, 0, 0, 0, 0, 0, 0, 0, 0, 0, 0, 0, 0, 0, 0, 0, 0, 0, 0, 0, 0, 0, 0, 0, 0, 0, 0, 0, 0, 0, 0, 0, 0, 0, 0, 0, 0, 0, 0, 0, 0, 0, 0, 0, 0, 0, 0, 0, 0, 0, 0, 0, 0, 0, 0, 0, 0, 0, 0, 0, 0, 0, 0, 0, 0, 0, 0, 0, 0, 0, 0, 0, 0, 0, 0, 0, 0, 0, 0, 0, 0, 0, 0, 0, 0, 0, 0, 0, 0, 0, 0, 0, 0, 0, 0, 0, 0, 0, 0, 0, 0, 0, 0, 0, 0, 0, 0, 0, 0, 0, 0, 0, 0, 0, 0, 0, 0, 0, 0, 0, 0, 0, 0, 0, 0, 0, 0, 0, 0, 0, 0, 0, 0, 0, 0, 0, 0, 0, 0, 0, 0, 0, 0, 0, 0, 0, 0, 0, 0, 0, 0, 0, 0, 0, 0, 0, 0, 0, 0, 0, 0, 0, 0, 0, 0, 0, 0, 0, 0, 0, 0, 0, 0, 0, 0, 0, 0, 0, 0, 0, 0, 0, 0, 0, 0, 0, 0, 0, 0, 0, 0, 0, 0, 0, 0, 0, 0, 0, 0, 0, 0, 0, 0, 0, 0, 0, 0, 0, 0, 0, 0, 0, 0, 0, 0, 0, 0, 0, 0, 0, 0, 0, 0, 0, 0, 0, 0, 0, 0, 0, 0, 0, 0, 0, 0, 0, 0, 0, 0, 0, 0, 0, 0, 0, 0, 0, 0, 0, 0, 0, 0, 0, 0, 0, 0, 0, 0, 0, 0, 0, 0, 0, 0, 0, 0, 0, 0, 0, 0, 0, 0, 0, 0, 0, 0, 0, 0, 0, 0, 0, 0, 0, 0, 0, 0, 0, 0, 0, 0, 0, 0, 0, 0, 0, 0, 0, 0, 0, 0, 0, 0, 0, 0, 0, 0, 0, 0, 0, 0, 0, 0, 0, 0, 0, 0, 0, 0, 0, 0, 0, 0, 0, 0, 0, 0, 0, 0, 0, 0, 0, 0, 0, 0, 0, 0, 0, 0, 0, 0, 0, 0, 0, 0, 0, 0, 0, 0, 0, 0, 0, 0, 0, 0, 0, 0, 0, 0, 0, 0, 0, 0, 0, 0, 0, 0, 0, 0, 0, 0, 0, 0, 0, 0, 0, 0, 0, 0, 0, 0, 0, 0, 0, 0, 0, 0, 0, 0, 0, 0, 0, 0, 0, 0, 0, 0, 0, 0, 0, 0, 0, 0, 0, 0, 0, 0, 0, 0, 0, 0, 0, 0, 0, 0, 0, 0, 0, 0, 0, 0, 0, 0, 0, 0, 0, 0, 0, 0, 0, 0, 0, 0, 0, 0, 0, 0, 0, 0, 0, 0, 0, 0, 0, 0, 0, 0, 0, 0, 0, 0, 0, 0, 0, 0, 0, 0, 0, 0, 0, 0, 0, 0, 0, 0, 0, 0, 0, 0, 0, 0, 0, 0, 0, 0, 0, 0, 0, 0, 0, 0, 0, 0, 0, 0, 0, 0, 0, 0, 0, 0, 0, 0, 0, 0, 0, 0, 0, 0, 0, 0, 0, 0, 0, 0, 0, 0, 0, 0, 0, 0, 0, 0, 0, 0, 0, 0, 0, 0, 0, 0, 0, 0, 0, 0, 0, 0, 0, 0, 0, 0, 0, 0, 0, 0, 0, 0, 0, 0, 0, 0, 0, 0, 0, 0, 0, 0, 0, 0, 0, 0, 0, 0, 0, 0, 0, 0, 0, 0, 0, 0, 0, 0, 0, 0, 0, 0, 0, 0, 0, 0, 0, 0, 0, 0, 0, 0, 0, 0, 0, 0, 0, 0, 0, 0, 0, 0, 0, 0, 0, 0, 0, 0, 0, 0, 0, 0, 0, 0, 0, 0, 0, 0, 0, 0, 0, 0, 0, 0, 0, 0, 0, 0, 0, 0, 0, 0, 0, 0, 0, 0, 0, 0, 0, 0, 0, 0, 0, 0, 0, 0, 0, 0, 0, 0, 0, 0, 0, 0, 0, 0, 0, 0, 0, 0, 0, 0, 0, 0, 0, 0, 0, 0, 0, 0, 0, 0, 0, 0, 0, 0, 0, 0, 0, 0, 0, 0, 0, 0, 0, 0, 0, 0, 0, 0, 0, 0, 0, 0, 0, 0, 0, 0, 0, 0, 0, 0, 0, 0, 0, 0, 0, 0, 0, 0, 0, 0, 0, 0, 0, 0, 0, 0, 0, 0, 0, 0, 0, 0, 0, 0, 0, 0, 0, 0, 0, 0, 0, 0, 0, 0, 0, 0, 0, 0, 0, 0, 0, 0, 0, 0, 0, 0, 0, 0, 0, 0, 0, 0, 0, 0, 0, 0, 0, 0, 0, 0, 0, 0, 0, 0, 0, 0, 0, 0, 0, 0, 0, 0, 0, 0, 0, 0, 0, 0, 0, 0, 0, 0, 0, 0, 0, 0, 0, 0, 0, 0, 0, 0, 0, 0, 0, 0, 0, 0, 0, 0, 0, 0, 0, 0, 0, 0, 0, 0, 0, 0, 0, 0, 0, 0, 0, 0, 0, 0, 0, 0, 0, 0, 0, 0, 0, 0, 0, 0, 0, 0, 0, 0, 0, 0, 0, 0, 0, 0, 0, 0, 0, 0, 0, 0, 0, 0, 0, 0, 0, 0, 0, 0, 0, 0, 0, 0, 0, 0, 0, 0, 0, 0, 0, 0, 0, 0, 0, 0, 0, 0, 0, 0, 0, 0, 0, 0, 0, 0, 0, 0, 0, 0, 0, 0, 0, 0, 0, 0, 0, 0, 0, 0, 0, 0, 0, 0, 0, 0, 0, 0, 0, 0, 0, 0, 0, 0, 0, 0, 0, 0, 0, 0, 0, 0, 0, 0, 0, 0, 0, 0, 0, 0, 0, 0, 0, 0, 0, 0, 0, 0, 0, 0, 0, 0, 0, 0, 0, 0, 0, 0, 0, 0, 0, 0, 0, 0, 0, 0, 0, 0, 0, 0, 0, 0, 0, 0, 0, 0, 0, 0, 0, 0, 0, 0, 0, 0, 0, 0, 0, 0, 0, 0, 0, 0, 0, 0, 0, 0, 0, 0, 0, 0, 0, 0, 0, 0, 0, 0, 0, 0, 0, 0, 0, 0, 0, 0, 0, 0, 0, 0, 0, 0, 0, 0, 0, 0, 0, 0, 0, 0, 0, 0, 0, 0, 0, 0, 0, 0, 0, 0, 0, 0, 0, 0, 0, 0, 0, 0, 0, 0, 0, 0, 0, 0, 0, 0, 0, 0, 0, 0, 0, 0, 0, 0, 0, 0, 0, 0, 0, 0, 0, 0, 0, 0, 0, 0, 0, 0, 0, 0, 0, 0, 0, 0, 0, 0, 0, 0, 0, 0, 0, 0, 0, 0, 0, 0, 0, 0, 0, 0, 0, 0, 0, 0, 0, 0, 0, 0, 0, 0, 0, 0, 0, 0, 0, 0, 0, 0, 0, 0, 0, 0, 0, 0, 0, 0, 0, 0, 0, 0, 0, 0, 0, 0, 0, 0, 0, 0, 0, 0, 0, 0, 0, 0, 0, 0, 0, 0, 0, 0, 0, 0, 0, 0, 0, 0, 0, 0, 0, 0, 0, 0, 0, 0, 0, 0, 0, 0, 0, 0, 0, 0, 0, 0, 0, 0, 0, 0, 0, 0, 0, 0, 0, 0, 0, 0, 0, 0, 0, 0, 0, 0, 0, 0, 0, 0, 0, 0, 0, 0, 0, 0, 0, 0, 0, 0, 0, 0, 0, 0, 0, 0, 0, 0, 0, 0, 0, 0, 0, 0, 0, 0, 0, 0, 0, 0, 0, 0, 0, 0, 0, 0, 0, 0, 0, 0, 0, 0, 0, 0, 0, 0, 0, 0, 0, 0, 0, 0, 0, 0, 0, 0, 0, 0, 0, 0, 0, 0, 0, 0, 0, 0, 0, 0, 0, 0, 0, 0, 0, 0, 0, 0, 0, 0, 0, 0, 0, 0, 0, 0, 0, 0, 0, 0, 0, 0, 0, 0, 0, 0, 0, 0, 0, 0, 0, 0, 0, 0, 0, 0, 0, 0, 0, 0, 0, 0, 0, 0, 0, 0, 0, 0, 0, 0, 0, 0, 0, 0, 0, 0, 0, 0, 0, 0, 0, 0, 0, 0, 0, 0, 0, 0, 0, 0, 0, 0, 0, 0, 0, 0, 0, 0, 0, 0, 0, 0, 0, 0, 0, 0, 0, 0, 0, 0, 0, 0, 0, 0, 0, 0, 0, 0, 0, 0, 0, 0, 0, 0, 0, 0, 0, 0, 0, 0, 0, 0, 0, 0, 0, 0, 0, 0, 0, 0, 0, 0, 0, 0, 0, 0, 0, 0, 0, 0, 0, 0, 0, 0, 0, 0, 0, 0, 0, 0, 0, 0, 0, 0, 0, 0, 0, 0, 0, 0, 0, 0, 0, 0, 0, 0, 0, 0, 0, 0, 0, 0, 0, 0, 0, 0, 0, 0, 0, 0, 0, 0, 0, 0, 0, 0, 0, 0, 0, 0, 0, 0, 0, 0, 0, 0, 0, 0, 0, 0, 0, 0, 0, 0, 0, 0, 0, 0, 0, 0, 0, 0, 0, 0, 0, 0, 0, 0, 0, 0, 0, 0, 0, 0, 0, 0, 0, 0, 0, 0, 0, 0, 0, 0, 0, 0, 0, 0, 0, 0, 0, 0, 0, 0, 0, 0, 0, 0, 0, 0, 0, 0, 0, 0, 0, 0, 0, 0, 0, 0, 0, 0, 0, 0, 0, 0, 0, 0, 0, 0, 0, 0, 0, 0, 0, 0, 0, 0, 0, 0, 0, 0, 0, 0, 0, 0, 0, 0, 0, 0, 0, 0, 0, 0, 0, 0, 0, 0, 0, 0, 0, 0, 0, 0, 0, 0, 0, 0, 0, 0, 0, 0, 0, 0, 0, 0, 0, 0, 0, 0, 0, 0, 0, 0, 0, 0, 0, 0, 0, 0, 0, 0, 0, 0, 0, 0, 0, 0, 0, 0, 0, 0, 0, 0, 0, 0, 0, 0, 0, 0, 0, 0, 0, 0, 0, 0, 0, 0, 0, 0, 0, 0, 0, 0, 0, 0, 0, 0, 0, 0, 0, 0, 0, 0, 0, 0, 0, 0, 0, 0, 0, 0, 0, 0, 0, 0, 0, 0, 0, 0, 0, 0, 0, 0, 0, 0, 0, 0, 0, 0, 0, 0, 0, 0, 0, 0, 0, 0, 0, 0, 0, 0, 0, 0, 0, 0, 0, 0, 0, 0, 0, 0, 0, 0, 0, 0, 0, 0, 0, 0, 0, 0, 0, 0, 0, 0, 0, 0, 0, 0, 0, 0, 0, 0, 0, 0, 0, 0, 0, 0, 0, 0, 0, 0, 0, 0, 0, 0, 0, 0, 0, 0, 0, 0, 0, 0, 0, 0, 0, 0, 0, 0, 0, 0, 0, 0, 0, 0, 0, 0, 0, 0, 0, 0, 0, 0, 0, 0, 0, 0, 0, 0, 0, 0, 0, 0, 0, 0, 0, 0, 0, 0, 0, 0, 0, 0, 0, 0, 0, 0, 0, 0, 0, 0, 0, 0, 0, 0, 0, 0, 0, 0, 0, 0, 0, 0, 0, 0, 0, 0, 0, 0, 0, 0, 0, 0, 0, 0, 0, 0, 0, 0, 0, 0, 0, 0, 0, 0, 0, 0, 0, 0, 0, 0, 0, 0, 0, 0, 0, 0, 0, 0, 0, 0, 0, 0, 0, 0, 0, 0, 0, 0, 0, 0, 0, 0, 0, 0, 0, 0, 0, 0, 0, 0, 0, 0, 0, 0, 0, 0, 0, 0, 0, 0, 0, 0, 0, 0, 0, 0, 0, 0, 0, 0, 0, 0, 0, 0, 0, 0, 0, 0, 0, 0, 0, 0, 0, 0, 0, 0, 0, 0, 0, 0, 0, 0, 0, 0, 0, 0, 0, 0, 0, 0, 0, 0, 0, 0, 0, 0, 0, 0, 0, 0, 0, 0, 0, 0, 0, 0, 0, 0, 0, 0, 0, 0, 0, 0, 0, 0, 0, 0, 0, 0, 0, 0, 0, 0, 0, 0, 0, 0, 0, 0, 0, 0, 0, 0, 0, 0, 0, 0, 0, 0, 0, 0, 0, 0, 0, 0, 0, 0, 0, 0, 0, 0, 0, 0, 0, 0, 0, 0, 0, 0, 0, 0, 0, 0, 0, 0, 0, 0, 0, 0, 0, 0, 0, 0, 0, 0, 0, 0, 0, 0, 0, 0, 0, 0, 0, 0, 0, 0, 0, 0, 0, 0, 0, 0, 0, 0, 0, 0, 0, 0, 0, 0, 0, 0, 0, 0, 0, 0, 0, 0, 0, 0, 0, 0, 0, 0, 0, 0, 0, 0, 0, 0, 0, 0, 0, 0, 0, 0, 0, 0, 0, 0, 0, 0, 0, 0, 0, 0, 0, 0, 0, 0, 0, 0, 0, 0, 0, 0, 0, 0, 0, 0, 0, 0, 0, 0, 0, 0, 0, 0, 0, 0, 0, 0, 0, 0, 0, 0, 0, 0, 0, 0, 0, 0, 0, 0, 0, 0, 0, 0, 0, 0, 0, 0, 0, 0, 0, 0, 0, 0, 0, 0, 0, 0, 0, 0, 0, 0, 0, 0, 0, 0, 0, 0, 0, 0, 0, 0, 0, 0, 0, 0, 0, 0, 0, 0, 0, 0, 0, 0, 0, 0, 0, 0, 0, 0, 0, 0, 0, 0, 0, 0, 0, 0, 0, 0, 0, 0, 0, 0, 0, 0, 0, 0, 0, 0, 0, 0, 0, 0, 0, 0, 0, 0, 0, 0, 0, 0, 0, 0, 0, 0, 0, 0, 0, 0, 0, 0, 0, 0, 0, 0, 0, 0, 0, 0, 0, 0, 0, 0, 0, 0, 0, 0, 0, 0, 0, 0, 0, 0, 0, 0, 0, 0, 0, 0, 0, 0, 0, 0, 0, 0, 0, 0, 0, 0, 0, 0, 0, 0, 0, 0, 0, 0, 0, 0, 0, 0, 0, 0, 0, 0, 0, 0, 0, 0, 0, 0, 0, 0, 0, 0, 0, 0, 0, 0, 0, 0, 0, 0, 0, 0, 0, 0, 0, 0, 0, 0, 0, 0, 0, 0, 0, 0, 0, 0, 0, 0, 0, 0, 0, 0, 0, 0, 0, 0, 0, 0, 0, 0, 0, 0, 0, 0, 0, 0, 0, 0, 0, 0, 0, 0, 0, 0, 0, 0, 0, 0, 0, 0, 0, 0, 0, 0, 0, 0, 0, 0, 0, 0, 0, 0, 0, 0, 0, 0, 0, 0, 0, 0, 0, 0, 0, 0, 0, 0, 0, 0, 0, 0, 0, 0, 0, 0, 0, 0, 0, 0, 0, 0, 0, 0, 0, 0, 0, 0, 0, 0, 0, 0, 0, 0, 0, 0, 0, 0, 0, 0, 0, 0, 0, 0, 0, 0, 0, 0, 0, 0, 0, 0, 0, 0, 0, 0, 0, 0, 0, 0, 0, 0, 0, 0, 0, 0, 0, 0, 0, 0, 0, 0, 0, 0, 0, 0, 0, 0, 0, 0, 0, 0, 0, 0, 0, 0, 0, 0, 0, 0, 0, 0, 0, 0, 0, 0, 0, 0, 0, 0, 0, 0, 0, 0, 0, 0, 0, 0, 0, 0, 0, 0, 0, 0, 0, 0, 0, 0, 0, 0, 0, 0, 0, 0, 0, 0, 0, 0, 0, 0, 0, 0, 0, 0, 0, 0, 0, 0, 0, 0, 0, 0, 0, 0, 0, 0, 0, 0, 0, 0, 0, 0, 0, 0, 0, 0, 0, 0, 0, 0, 0, 0, 0, 0, 0, 0, 0, 0, 0, 0, 0, 0, 0, 0, 0, 0, 0, 0, 0, 0, 0, 0, 0, 0, 0, 0, 0, 0, 0, 0, 0, 0, 0, 0, 0, 0, 0, 0, 0, 0, 0, 0, 0, 0, 0, 0, 0, 0, 0, 0, 0, 0, 0, 0, 0, 0, 0, 0, 0, 0, 0, 0, 0, 0, 0, 0, 0, 0, 0, 0, 0, 0, 0, 0, 0, 0, 0, 0, 0, 0, 0, 0, 0, 0, 0, 0, 0, 0, 0, 0, 0, 0, 0, 0, 0, 0, 0, 0, 0, 0, 0, 0, 0, 0, 0, 0, 0, 0, 0, 0, 0, 0, 0, 0, 0, 0, 0, 0, 0, 0, 0, 0, 0, 0, 0, 0, 0, 0, 0, 0, 0, 0, 0, 0, 0, 0, 0, 0, 0, 0, 0, 0, 0, 0, 0, 0, 0, 0, 0, 0, 0, 0, 0, 0, 0, 0, 0, 0, 0, 0, 0, 0, 0, 0, 0, 0, 0, 0, 0, 0, 0, 0, 0, 0, 0, 0, 0, 0, 0, 0, 0, 0, 0, 0, 0, 0, 0, 0, 0, 0, 0, 0, 0, 0, 0, 0, 0, 0, 0, 0, 0, 0, 0, 0, 0, 0, 0, 0, 0, 0, 0, 0, 0, 0, 0, 0, 0, 0, 0, 0, 0, 0, 0, 0, 0, 0, 0, 0, 0, 0, 0, 0, 0, 0, 0, 0, 0, 0, 0, 0, 0, 0, 0, 0, 0, 0, 0, 0, 0, 0, 0, 0, 0, 0, 0, 0, 0, 0, 0, 0, 0, 0, 0, 0, 0, 0, 0, 0, 0, 0, 0, 0, 0, 0, 0, 0, 0, 0, 0, 0, 0, 0, 0, 0, 0, 0, 0, 0, 0, 0, 0, 0, 0, 0, 0, 0, 0, 0, 0, 0, 0, 0, 0, 0, 0, 0, 0, 0, 0, 0, 0, 0, 0, 0, 0, 0, 0, 0, 0, 0, 0, 0, 0, 0, 0, 0, 0, 0, 0, 0, 0, 0, 0, 0, 0, 0, 0, 0, 0, 0, 0, 0, 0, 0, 0, 0, 0, 0, 0, 0, 0, 0, 0, 0, 0, 0, 0, 0, 0, 0, 0, 0, 0, 0, 0, 0, 0, 0, 0, 0, 0, 0, 0, 0, 0, 0, 0, 0, 0, 0, 0, 0, 0, 0, 0, 0, 0, 0, 0, 0, 0, 0, 0, 0, 0, 0, 0, 0, 0, 0, 0, 0, 0, 0, 0, 0, 0, 0, 0, 0, 0, 0, 0, 0, 0, 0, 0, 0, 0, 0, 0, 0, 0, 0, 0, 0, 0, 0, 0, 0, 0, 0, 0, 0, 0, 0, 0, 0, 0, 0, 0, 0, 0, 0, 0, 0, 0, 0, 0, 0, 0, 0, 0, 0, 0, 0, 0, 0, 0, 0, 0, 0, 0, 0, 0, 0, 0, 0, 0, 0, 0, 0, 0, 0, 0, 0, 0, 0, 0, 0, 0, 0, 0, 0, 0, 0, 0, 0, 0, 0, 0, 0, 0, 0, 0, 0, 0, 0, 0, 0, 0, 0, 0, 0, 0, 0, 0, 0, 0, 0, 0, 0, 0, 0, 0, 0, 0, 0, 0, 0, 0, 0, 0, 0, 0, 0, 0, 0, 0, 0, 0, 0, 0, 0, 0, 0, 0, 0, 0, 0, 0, 0, 0, 0, 0, 0, 0, 0, 0, 0, 0, 0, 0, 0, 0, 0, 0, 0, 0, 0, 0, 0, 0, 0, 0, 0, 0, 0, 0, 0, 0, 0, 0, 0, 0, 0, 0, 0, 0, 0, 0, 0, 0, 0, 0, 0, 0, 0, 0, 0, 0, 0, 0, 0, 0, 0, 0, 0, 0, 0, 0, 0, 0, 0, 0, 0, 0, 0, 0, 0, 0, 0, 0, 0, 0, 0, 0, 0, 0, 0, 0, 0, 0, 0, 0, 0, 0, 0, 0, 0, 0, 0, 0, 0, 0, 0, 0, 0, 0, 0, 0, 0, 0, 0, 0, 0, 0, 0, 0, 0, 0, 0, 0, 0, 0, 0, 0, 0, 0, 0, 0, 0, 0, 0, 0, 0, 0, 0, 0, 0, 0, 0, 0, 0, 0, 0, 0, 0, 0, 0, 0, 0, 0, 0, 0, 0, 0, 0, 0, 0, 0, 0, 0, 0, 0, 0, 0, 0, 0, 0, 0, 0, 0, 0, 0, 0, 0, 0, 0, 0, 0, 0, 0, 0, 0, 0, 0, 0, 0, 0, 0, 0, 0, 0, 0, 0, 0, 0, 0, 0, 0, 0, 0, 0, 0, 0, 0, 0, 0, 0, 0, 0, 0, 0, 0, 0, 0, 0, 0, 0, 0, 0, 0, 0, 0, 0, 0, 0, 0, 0, 0, 0, 0, 0, 0, 0, 0, 0, 0, 0, 0, 0, 0, 0, 0, 0, 0, 0, 0, 0, 0, 0, 0, 0, 0, 0, 0, 0, 0, 0, 0, 0, 0, 0, 0, 0, 0, 0, 0, 0, 0, 0, 0, 0, 0, 0, 0, 0, 0, 0, 0, 0, 0, 0, 0, 0, 0, 0, 0, 0, 0, 0, 0, 0, 0, 0, 0, 0, 0, 0, 0, 0, 0, 0, 0, 0, 0, 0, 0, 0, 0, 0, 0, 0, 0, 0, 0, 0, 0, 0, 0, 0, 0, 0, 0, 0, 0, 0, 0, 0, 0, 0, 0, 0, 0, 0, 0, 0, 0, 0, 0, 0, 0, 0, 0, 0, 0, 0, 0, 0, 0, 0, 0, 0, 0, 0, 0, 0, 0, 0, 0, 0, 0, 0, 0, 0, 0, 0, 0, 0, 0, 0, 0, 0, 0, 0, 0, 0, 0, 0, 0, 0, 0, 0, 0, 0, 0, 0, 0, 0, 0, 0, 0, 0, 0, 0, 0, 0, 0, 0, 0, 0, 0, 0, 0, 0, 0, 0, 0, 0, 0, 0, 0, 0, 0, 0, 0, 0, 0, 0, 0, 0, 0, 0, 0, 0, 0, 0, 0, 0, 0, 0, 0, 0, 0, 0, 0, 0, 0, 0, 0, 0, 0, 0, 0, 0, 0, 0, 0, 0, 0, 0, 0, 0, 0, 0, 0, 0, 0, 0, 0, 0, 0, 0, 0, 0, 0, 0, 0, 0, 0, 0, 0, 0, 0, 0, 0, 0, 0, 0, 0, 0, 0, 0, 0, 0, 0, 0, 0, 0, 0, 0, 0, 0, 0, 0, 0, 0, 0, 0, 0, 0, 0, 0, 0, 0, 0, 0, 0, 0, 0, 0, 0, 0, 0, 0, 0, 0, 0, 0, 0, 0, 0, 0, 0, 0, 0, 0, 0, 0, 0, 0, 0, 0, 0, 0, 0, 0, 0, 0, 0, 0, 0, 0, 0, 0, 0, 0, 0, 0, 0, 0, 0, 0, 0, 0, 0, 0, 0, 0, 0, 0, 0, 0, 0, 0, 0, 0, 0, 0, 0, 0, 0, 0, 0, 0, 0, 0, 0, 0, 0, 0, 0, 0, 0, 0, 0, 0, 0, 0, 0, 0, 0, 0, 0, 0, 0, 0, 0, 0, 0, 0, 0, 0, 0, 0, 0, 0, 0, 0, 0, 0, 0, 0, 0, 0, 0, 0, 0, 0, 0, 0, 0, 0, 0, 0, 0, 0, 0, 0, 0, 0, 0, 0, 0, 0, 0, 0, 0, 0, 0, 0, 0, 0, 0, 0, 0, 0, 0, 0, 0, 0, 0, 0, 0, 0, 0, 0, 0, 0, 0, 0, 0, 0, 0, 0, 0, 0, 0, 0, 0, 0, 0, 0, 0, 0, 0, 0, 0, 0, 0, 0, 0, 0, 0, 0, 0, 0, 0, 0, 0, 0, 0, 0, 0, 0, 0, 0, 0, 0, 0, 0, 0, 0, 0, 0, 0, 0, 0, 0, 0, 0, 0, 0, 0, 0, 0, 0, 0, 0, 0, 0, 0, 0, 0, 0, 0, 0, 0, 0, 0, 0, 0, 0, 0, 0, 0, 0, 0, 0, 0, 0, 0, 0, 0, 0, 0, 0, 0, 0, 0, 0, 0, 0, 0, 0, 0, 0, 0, 0, 0, 0, 0, 0, 0, 0, 0, 0, 0, 0, 0, 0, 0, 0, 0, 0, 0, 0, 0, 0, 0, 0, 0, 0, 0, 0, 0, 0, 0, 0, 0, 0, 0, 0, 0, 0, 0, 0, 0, 0, 0, 0, 0, 0, 0, 0, 0, 0, 0, 0, 0, 0, 0, 0, 0, 0, 0, 0, 0, 0, 0, 0, 0, 0, 0, 0, 0, 0, 0, 0, 0, 0, 0, 0, 0, 0, 0, 0, 0, 0, 0, 0, 0, 0, 0, 0, 0, 0, 0, 0, 0, 0, 0, 0, 0, 0, 0, 0, 0, 0, 0, 0, 0, 0, 0, 0, 0, 0, 0, 0, 0, 0, 0, 0, 0, 0, 0, 0, 0, 0, 0, 0, 0, 0, 0, 0, 0, 0, 0, 0, 0, 0, 0, 0, 0, 0, 0, 0, 0, 0, 0, 0, 0, 0, 0, 0, 0, 0, 0, 0, 0, 0, 0, 0, 0, 0, 0, 0, 0, 0, 0, 0, 0, 0, 0, 0, 0, 0, 0, 0, 0, 0, 0, 0, 0, 0, 0, 0, 0, 0, 0, 0, 0, 0, 0, 0, 0, 0, 0, 0, 0, 0, 0, 0, 0, 0, 0, 0, 0, 0, 0, 0, 0, 0, 0, 0, 0, 0, 0, 0, 0, 0, 0, 0, 0, 0, 0, 0, 0, 0, 0, 0, 0, 0, 0, 0, 0, 0, 0, 0, 0, 0, 0, 0, 0, 0, 0, 0, 0, 0, 0, 0, 0, 0, 0, 0, 0, 0, 0, 0, 0, 0, 0, 0, 0, 0, 0, 0, 0, 0, 0, 0, 0, 0, 0, 0, 0, 0, 0, 0, 0, 0, 0, 0, 0, 0, 0, 0, 0, 0, 0, 0, 1, 0, 0, 0, 0, 0, 0, 0, 0, 0, 0, 0, 0, 0, 0, 0, 0, 0, 0, 0, 0, 0, 0, 0, 0, 0, 0, 0, 0, 0, 0, 0, 0, 0, 0, 0, 0, 0, 0, 0, 0, 0, 0, 0, 0, 0, 0, 0, 0, 0, 0, 0, 0, 0, 0, 0, 0, 0, 0, 0, 0, 0, 0, 0, 0, 0, 0, 0, 0, 0, 0, 0, 0, 0, 0, 0, 0, 0, 0, 0, 0, 0, 0, 0, 0, 0, 0, 0, 0, 0, 0, 0, 0, 0, 0, 0, 0, 0, 0, 0, 0, 0, 0, 0, 0, 0, 0, 0, 0, 0, 0, 0, 0, 0, 0, 0, 0, 0, 0, 0, 0, 0, 0, 0, 0, 0, 0, 0, 0, 0, 0, 0, 0, 0, 0, 0, 0, 0, 0, 0, 0, 0, 0, 0, 0, 0, 0, 0, 0, 0, 0, 0, 0, 0, 0, 0, 0, 0, 0, 0, 0, 0, 0, 0, 0, 0, 0, 0, 0, 0, 0, 0, 0, 0, 0, 0, 0, 0, 0, 0, 0, 0, 0, 0, 0, 0, 0, 0, 0, 0, 0, 0, 0, 0, 0, 0, 0, 0, 0, 0, 0, 0, 0, 0, 0, 0, 0, 0, 0, 0, 0, 0, 0, 0, 0, 0, 0, 0, 0, 0, 0, 0, 0, 0, 0, 0, 0, 0, 0, 0, 0, 0, 0, 0, 0, 0, 0, 0, 0, 0, 0, 0, 0, 0, 0, 0, 0, 0, 0, 0, 0, 0, 0, 0, 0, 0, 0, 0, 0, 0, 0, 0, 0, 0, 0, 0, 0, 0, 0, 0, 0, 0, 0, 0, 0, 0, 0, 0, 0, 0, 0, 0, 0, 0, 0, 0, 0, 0, 0, 0, 0, 0, 0, 0, 0, 0, 0, 0, 0, 0, 0, 0, 0, 0, 0, 0, 0, 0, 0, 0, 0, 0, 0, 0, 0, 0, 0, 0, 0, 0, 0, 0, 0, 0, 0, 0, 0, 0, 0, 0, 0, 0, 0, 0, 0, 0, 0, 0, 0, 0, 0, 0, 0, 0, 0, 0, 0, 0, 0, 0, 0, 0, 0, 0, 0, 0, 0, 0, 0, 0, 0, 0, 0, 0, 0, 0, 0, 0, 0, 0, 0, 0, 0, 0, 0, 0, 0, 0, 0, 0, 0, 0, 0, 0, 0, 0, 0, 0, 0, 0, 0, 0, 0, 0, 0, 0, 0, 0, 0, 0, 0, 0, 0, 0, 0, 0, 0, 0, 0, 0, 0, 0, 0, 0, 0, 0, 0, 0, 0, 0, 0, 0, 0, 0, 0, 0, 0, 0, 0, 0, 0, 0, 0, 0, 0, 0, 0, 0, 0, 0, 0, 0, 0, 0, 0, 0, 0, 0, 0, 0, 0, 0, 0, 0, 0, 0, 0, 0, 0, 0, 0, 0, 0, 0, 0, 0, 0, 0, 0, 0, 0, 0, 0, 0, 0, 0, 0, 0, 0, 0, 0, 0, 0, 0, 0, 0, 0, 0, 0, 0, 0, 0, 0, 0, 0, 0, 0, 0, 0, 0, 0, 0, 0, 0, 0, 0, 0, 0, 0, 0, 0, 0, 0, 0, 0, 0, 0, 0, 0, 0, 0, 0, 0, 0, 0, 0, 0, 0, 0, 0, 0, 0, 0, 0, 0, 0, 0, 0, 0, 0, 0, 0, 0, 0, 0, 0, 0, 0, 0, 0, 0, 0, 0, 0, 0, 0, 0, 0, 0, 0, 0, 0, 0, 0, 0, 0, 0, 0, 0, 0, 0, 0, 0, 0, 0, 0, 0, 0, 0, 0, 0, 0, 0, 0, 0, 0, 0, 0, 0, 0, 0, 0, 0, 0, 0, 0, 0, 0, 0, 0, 0, 0, 0, 0, 0, 0, 0, 0, 0, 0, 0, 0, 0, 0, 0, 0, 0, 0, 0, 0, 0, 0, 0, 0, 0, 0, 0, 0, 0, 0, 0, 0, 0, 0, 0, 0, 0, 0, 0, 0, 0, 0, 0, 0, 0, 0, 0, 0, 0, 0, 0, 0, 0, 0, 0, 0, 0, 0, 0, 0, 0, 0, 0, 0, 0, 0, 0, 0, 0, 0, 0, 0, 0, 0, 0, 0, 0, 0, 0, 0, 0, 0, 0, 0, 0, 0, 0, 0, 0, 0, 0, 0, 0, 0, 0, 0, 0, 0, 0, 0, 0, 0, 0, 0, 0, 0, 0, 0, 0, 0, 0, 0, 0, 0, 0, 0, 0, 0, 0, 0, 0, 0, 0, 0, 0, 0, 0, 0, 0, 0, 0, 0, 0, 0, 0, 0, 0, 0, 0, 0, 0, 0, 0, 0, 0, 0, 0, 0, 0, 0, 0, 0, 0, 0, 0, 0, 0, 0, 0, 0, 0, 0, 0, 0, 0, 0, 0, 0, 0, 0, 0, 0, 0, 0, 0, 0, 0, 0, 0, 0, 0, 0, 0, 0, 0, 0, 0, 0, 0, 0, 0, 0, 0, 0, 0, 0, 0, 0, 0, 0, 0, 0, 0, 0, 0, 0, 0, 0, 0, 0, 0, 0, 0, 0, 0, 0, 0, 0, 0, 0, 0, 0, 0, 0, 0, 0, 0, 0, 0, 0, 0, 0, 0, 0, 0, 0, 0, 0, 0, 0, 0, 0, 0, 0, 0, 0, 0, 0, 0, 0, 0, 0, 0, 0, 0, 0, 0, 0, 0, 0, 0, 0, 0, 0, 0, 0, 0, 0, 0, 0, 0, 0, 0, 0, 0, 0, 0, 0, 0, 0, 0, 0, 0, 0, 0, 0, 0, 0, 0, 0, 0, 0, 0, 0, 0, 0, 0, 0, 0, 0, 0, 0, 0, 0, 0, 0, 0, 0, 0, 0, 0, 0, 0, 0, 0, 0, 0, 0, 0, 0, 0, 0, 0, 0, 0, 0, 0, 0, 0, 0, 0, 0, 0, 0, 0, 0, 0, 0, 0, 0, 0, 0, 0, 0, 0, 0, 0, 0, 0, 0, 0, 0, 0, 0, 0, 0, 0, 0, 0, 0, 0, 0, 0, 0, 0, 0, 0, 0, 0, 0, 0, 0, 0, 0, 0, 0, 0, 0, 0, 0, 0, 0, 0, 0, 0, 0, 0, 0, 0, 0, 0, 0, 0, 0, 0, 0, 0, 0, 0, 0, 0, 0, 0, 0, 0, 0, 0, 0, 0, 0, 0, 0, 0, 0, 0, 0, 0, 0, 0, 0, 0, 0, 0, 0, 0, 0, 0, 0, 0, 0, 0, 0, 0, 0, 0, 0, 0, 0, 0, 0, 0, 0, 0, 0, 0, 0, 0, 0, 0, 0, 0, 0, 0, 0, 0, 0, 0, 0, 0, 0, 0, 0, 0, 0, 0, 0, 0, 0, 0, 0, 0, 0, 0, 0, 0, 0, 0, 0, 0, 0, 0, 0, 0, 0, 0, 0, 0, 0, 0, 0, 0, 0, 0, 0, 0, 0, 0, 0, 0, 0, 0, 0, 0, 0, 0, 0, 0, 0, 0, 0, 0, 0, 0, 0, 0, 0, 0, 0, 0, 0, 0, 0, 0, 0, 0, 0, 0, 0, 0, 0, 0, 0, 0, 0, 0, 0, 0, 0, 0, 0, 0, 0, 0, 0, 0, 0, 0, 0, 0, 0, 0, 0, 0, 0, 0, 0, 0, 0, 0, 0, 0, 0, 0, 0, 0, 0, 0, 0, 0, 0, 0, 0, 0, 0, 0, 0, 0, 0, 0, 0, 0, 0, 0, 0, 0, 0, 0, 0, 0, 0, 0, 0, 0, 0, 0, 0, 0, 0, 0, 0, 0, 0, 0, 0, 0, 0, 0, 0, 0, 0, 0, 0, 0, 0, 0, 0, 0, 0, 0, 0, 0, 0, 0, 0, 0, 0, 0, 0, 0, 0, 0, 0, 0, 0, 0, 0, 0, 0, 0, 0, 0, 0, 0, 0, 0, 0, 0, 0, 0, 0, 0, 0, 0, 0, 0, 0, 0, 0, 0, 0, 0, 0, 0, 0, 0, 0, 0, 0, 0, 0, 0, 0, 0, 0, 0, 0, 0, 0, 0, 0, 0, 0, 0, 0, 0, 0, 0, 0, 0, 0, 0, 0, 0, 0, 0, 0, 0, 0, 0, 0, 0, 0, 0, 0, 0, 0, 0, 0, 0, 0, 0, 0, 0, 0, 0, 0, 0, 0, 0, 0, 0, 0, 0, 0, 0, 0, 0, 0, 0, 0, 0, 0, 0, 0, 0, 0, 0, 0, 0, 0, 0, 0, 0, 0, 0, 0, 0, 0, 0, 0, 0, 0, 0, 0, 0, 0, 0, 0, 0, 0, 0, 0, 0, 0, 0, 0, 0, 0, 0, 0, 0, 0, 0, 0, 0, 0, 0, 0, 0, 0, 0, 0, 0, 0, 0, 0, 0, 0, 0, 0, 0, 0, 0, 0, 0, 0, 0, 0, 0, 0, 0, 0, 0, 0, 0, 0, 0, 0, 0, 0, 0, 0, 0, 0, 0, 0, 0, 0, 0, 0, 0, 0, 0, 0, 0, 0, 0, 0, 0, 0, 0, 0, 0, 0, 0, 0, 0, 0, 0, 0, 0, 0, 0, 0, 0, 0, 0, 0, 0, 0, 0, 0, 0, 0, 0, 0, 0, 0, 0, 0, 0, 0, 0, 0, 0, 0, 0, 0, 0, 0, 0, 0, 0, 0, 0, 0, 0, 0, 0, 0, 0, 0, 0, 0, 0, 0, 0, 0, 0, 0, 0, 0, 0, 0, 0, 0, 0, 0, 0, 0, 0, 0, 0, 0, 0, 0, 0, 0, 0, 0, 0, 0, 0, 0, 0, 0, 0, 0, 0, 0, 0, 0, 0, 0, 0, 0, 0, 0, 0, 0, 0, 0, 0, 0, 0, 0, 0, 0, 0, 0, 0, 0, 0, 0, 0, 0, 0, 0, 0, 0, 0, 0, 0, 0, 0, 0, 0, 0, 0, 0, 0, 0, 0, 0, 0, 0, 0, 0, 0, 0, 0, 0, 0, 0, 0, 0, 0, 0, 0, 0, 0, 0, 0, 0, 0, 0, 0, 0, 0, 0, 0, 0, 0, 0, 0, 0, 0, 0, 0, 0, 0, 0, 0, 0, 0, 0, 0, 0, 0, 0, 0, 0, 0, 0, 0, 0, 0, 0, 0, 0, 0, 0, 0, 0, 0, 0, 0, 0, 0, 0, 0, 0, 0, 0, 0, 0, 0, 0, 0, 0, 0, 0, 0, 0, 0, 0, 0, 0, 0, 0, 0, 0, 0, 0, 0, 0, 0, 0, 0, 0, 0, 0, 0, 0, 0, 0, 0, 0, 0, 0, 0, 0, 0, 0, 0, 0, 0, 0, 0, 0, 0, 0, 0, 0, 0, 0, 0, 0, 0, 0, 0, 0, 0, 0, 0, 0, 0, 0, 0, 0, 0, 0, 0, 0, 0, 0, 0, 0, 0, 0, 0, 0, 0, 0, 0, 0, 0, 0, 0, 0, 0, 0, 0, 0, 0, 0, 0, 0, 0, 0, 0, 0, 0, 0, 0, 0, 0, 0, 0, 0, 0, 0, 0, 0, 0, 0, 0, 0, 0, 0, 0, 0, 0, 0, 0, 0, 0, 0, 0, 0, 0, 0, 0, 0, 0, 0, 0, 0, 0, 0, 0, 0, 0, 0, 0, 0, 0, 0, 0, 0, 0, 0, 0, 0, 0, 0, 0, 0, 0, 0, 0, 0, 0, 0, 0, 0, 0, 0, 0, 0, 0, 0, 0, 0, 0, 0, 0, 0, 0, 0, 0, 0, 0, 0, 0, 0, 0, 0, 0, 0, 0, 0, 0, 0, 0, 0, 0, 0, 0, 0, 0, 0, 0, 0, 0, 0, 0, 0, 0, 0, 0, 0, 0, 0, 0, 0, 0, 0, 0, 0, 0, 0, 0, 0, 0, 0, 0, 0, 0, 0, 0, 0, 0, 0, 0, 0, 0, 0, 0, 0, 0, 0, 0, 0, 0, 0, 0, 0, 0, 0, 0, 0, 0, 0, 0, 0, 0, 0, 0, 0, 0, 0, 0, 0, 0, 0, 0, 0, 0, 0, 0, 0, 0, 0, 0, 0, 0, 0, 0, 0, 0, 0, 0, 0, 0, 0, 0, 0, 0, 0, 0, 0, 0, 0, 0, 0, 0, 0, 0, 0, 0, 0, 0, 0, 0, 0, 0, 0, 0, 0, 0, 0, 0, 0, 0, 0, 0, 0, 0, 0, 0, 0, 0, 0, 0, 0, 0, 0, 0, 0, 0, 0, 0, 0, 0, 0, 0, 0, 0, 0, 0, 0, 0, 0, 0, 0, 0, 0, 0, 0, 0, 0, 0, 0, 0, 0, 0, 0, 0, 0, 0, 0, 0, 0, 0, 0, 0, 0, 0, 0, 0, 0, 0, 0, 0, 0, 0, 0, 0, 0, 0, 0, 0, 0, 0, 0, 0, 0, 0, 0, 0, 0, 0, 0, 0, 0, 0, 0, 0, 0, 0, 0, 0, 0, 0, 0, 0, 0, 0, 0, 0, 0, 0, 0, 0, 0, 0, 0, 0, 0, 0, 0, 0, 0, 0, 0, 0, 0, 0, 0, 0, 0, 0, 0, 0, 0, 0, 0, 0, 0, 0, 0, 0, 0, 0, 0, 0, 0, 0, 0, 0, 0, 0, 0, 0, 0, 0, 0, 0, 0, 0, 0, 0, 0, 0, 0, 0, 0, 0, 0, 0, 0, 0, 0, 0, 0, 0, 0, 0, 0, 0, 0, 0, 0, 0, 0, 0, 0, 0, 0, 0, 0, 0, 0, 0, 0, 0, 0, 0, 0, 0, 0, 0, 0, 0, 0, 0, 0, 0, 0, 0, 0, 0, 0, 0, 0, 0, 0, 0, 0, 0, 0, 0, 0, 0, 0, 0, 0, 0, 0, 0, 0, 0, 0, 0, 0, 0, 0, 0, 0, 0, 0, 0, 0, 0, 0, 0, 0, 0, 0, 0, 0, 0, 0, 0, 0, 0, 0, 0, 0, 0, 0, 0, 0, 0, 0, 0, 0, 0, 0, 0, 0, 0, 0, 0, 0, 0, 0, 0, 0, 0, 0, 0, 0, 0, 0, 0, 0, 0, 0, 0, 0, 0, 0, 0, 0, 0, 0, 0, 0, 0, 0, 0, 0, 0, 0, 0, 0, 0, 0, 0, 0, 0, 0, 0, 0, 0, 0, 0, 0, 0, 0, 0, 0, 0, 0, 0, 0, 0, 0, 0, 0, 0, 0, 0, 0, 0, 0, 0, 0, 0, 0, 0, 0, 0, 0, 0, 0, 0, 0, 0, 0, 0, 0, 0, 0, 0, 0, 0, 0, 0, 0, 0, 0, 0, 0, 0, 0, 0, 0, 0, 0, 0, 0, 0, 0, 0, 0, 0, 0, 0, 0, 0, 0, 0, 0, 0, 0, 0, 0, 0, 0, 0, 0, 0, 0, 0, 0, 0, 0, 0, 0, 0, 0, 0, 0, 0, 0, 0, 0, 0, 0, 0, 0, 0, 0, 0, 0, 0, 0, 0, 0, 0, 0, 0, 0, 0, 0, 0, 0, 0, 0, 0, 0, 0, 0, 0, 0, 0, 0, 0, 0, 0, 0, 0, 0, 0, 0, 0, 0, 0, 0, 0, 0, 0, 0, 0, 0, 0, 0, 0, 0, 0, 0, 0, 0, 0, 0, 0, 0, 0, 0, 0, 0, 0, 0, 0, 0, 0, 0, 0, 0, 0, 0, 0, 0, 0, 0, 0, 0, 0, 0, 0, 0, 0, 0, 0, 0, 0, 0, 0, 0, 0, 0, 0, 0, 0, 0, 0, 0, 0, 0, 0, 0, 0, 0, 0, 0, 0, 0, 0, 0, 0, 0, 0, 0, 0, 0, 0, 0, 0, 0, 0, 0, 0, 0, 0, 0, 0, 0, 0, 0, 0, 0, 0, 0, 0, 0, 0, 0, 0, 0, 0, 0, 0, 0, 0, 0, 0, 0, 0, 0, 0, 0, 0, 0, 0, 0, 0, 0, 0, 0, 0, 0, 0, 0, 0, 0, 0, 0, 0, 0, 0, 0, 0, 0, 0, 0, 0, 0, 0, 0, 0, 0, 0, 0, 0, 0, 0, 0, 0, 0, 0, 0, 0, 0, 0, 0, 0, 0, 0, 0, 0, 0, 0, 0, 0, 0, 0, 0, 0, 0, 0, 0, 0, 0, 0, 0, 0, 0, 0, 0, 0, 0, 0, 0, 0, 0, 0, 0, 0, 0, 0, 0, 0, 0, 0, 0, 0, 0, 0, 0, 0, 0, 0, 0, 0, 0, 0, 0, 0, 0, 0, 0, 0, 0, 0, 0, 0, 0, 0, 0, 0, 0, 0, 0, 0, 0, 0, 0, 0, 0, 0, 0, 0, 0, 0, 0, 0, 0, 0, 0, 0, 0, 0, 0, 0, 0, 0, 0, 0, 0, 0, 0, 0, 0, 0, 0, 0, 0, 0, 0, 0, 0, 0, 0, 0, 0, 0, 0, 0, 0, 0, 0, 0, 0, 0, 0, 0, 0, 0, 0, 0, 0, 0, 0, 0, 0, 0, 0, 0, 0, 0, 0, 0, 0, 0, 0, 0, 0, 0, 0, 0, 0, 0, 0, 0, 0, 0, 0, 0, 0, 0, 0, 0, 0, 0, 0, 0, 0, 0, 0, 0, 0, 0, 0, 0, 0, 0, 0, 0, 0, 0, 0, 0, 0, 0, 0, 0, 0, 0, 0, 0, 0, 0, 0, 0, 0, 0, 0, 0, 0, 0, 0, 0, 0, 0, 0, 0, 0, 0, 0, 0, 0, 0, 0, 0, 0, 0, 0, 0, 0, 0, 0, 0, 0, 0, 0, 0, 0, 0, 0, 0, 0, 0, 0, 0, 0, 0, 0, 0, 0, 0, 0, 0, 0, 0, 0, 0, 0, 0, 0, 0, 0, 0, 0, 0, 0, 0, 0, 0, 0, 0, 0, 0, 0, 0, 0, 0, 0, 0, 0, 0, 0, 0, 0, 0, 0, 0, 0, 0, 0, 0, 0, 0, 0, 0, 0, 0, 0, 0, 0, 0, 0, 0, 0, 0, 0, 0, 0, 0, 0, 0, 0, 0, 0, 0, 0, 0, 0, 0, 0, 0, 0, 0, 0, 0, 0, 0, 0, 0, 0, 0, 0, 0, 0, 0, 0, 0, 0, 0, 0, 0, 0, 0, 0, 0, 0, 0, 0, 0, 0, 0, 0, 0, 0, 0, 0, 0, 0, 0, 0, 0, 0, 0, 0, 0, 0, 0, 0, 0, 0, 0, 0, 0, 0, 0, 0, 0, 0, 0, 0, 0, 0, 0, 0, 0, 0, 0, 0, 0, 0, 0, 0, 0, 0, 0, 0, 0, 0, 0, 0, 0, 0, 0, 0, 0, 0, 0, 0, 0, 0, 0, 0, 0, 0, 0, 0, 0, 0, 0, 0, 0, 0, 0, 0, 0, 0, 0, 0, 0, 0, 0, 0, 0, 0, 0, 0, 0, 0, 0, 0, 0, 0, 0, 0, 0, 0, 0, 0, 0, 0, 0, 0, 0, 0, 0, 0, 0, 0, 0, 0, 0, 0, 0, 0, 0, 0, 0, 0, 0, 0, 0, 0, 0, 0, 0, 0, 0, 0, 0, 0, 0, 0, 0, 0, 0, 0, 0, 0, 0, 0, 0, 0, 0, 0, 0, 0, 0, 0, 0, 0, 0, 0, 0, 0, 0, 0, 0, 0, 0, 0, 0, 0, 0, 0, 0, 0, 0, 0, 0, 0, 0, 0, 0, 0, 0, 0, 0, 0, 0, 0]\n"
          ]
        }
      ]
    },
    {
      "cell_type": "markdown",
      "source": [
        "## Prepare datasets"
      ],
      "metadata": {
        "id": "crrINAjmXY39"
      }
    },
    {
      "cell_type": "code",
      "source": [
        "dataset_train = dataset_train_original.cache().shuffle(25_000).batch(128)\n",
        "\n",
        "dataset_validate = dataset_validate_original.cache().batch(128)\n",
        "\n",
        "dataset_test = dataset_test_original.cache().batch(128)"
      ],
      "metadata": {
        "id": "2KIf3cpGTXV0"
      },
      "execution_count": null,
      "outputs": []
    },
    {
      "cell_type": "code",
      "source": [
        "for x, y in dataset_train.take(1):\n",
        "    print(len(x[0].numpy())) # (128)"
      ],
      "metadata": {
        "colab": {
          "base_uri": "https://localhost:8080/"
        },
        "id": "1oTekX7iYwhz",
        "outputId": "02f5f441-ffe5-432d-9c04-fb25c7b73c3e"
      },
      "execution_count": null,
      "outputs": [
        {
          "output_type": "stream",
          "name": "stdout",
          "text": [
            "718\n"
          ]
        }
      ]
    },
    {
      "cell_type": "markdown",
      "source": [
        "## Train the model."
      ],
      "metadata": {
        "id": "-UXy4k65Zwcs"
      }
    },
    {
      "cell_type": "code",
      "source": [
        "model = models.Sequential()\n",
        "model.add(encoder)\n",
        "model.build(input_shape=(None,))\n",
        "model.add(layers.Dense(64, activation=\"relu\"))\n",
        "model.add(layers.Dense(1, activation=\"sigmoid\"))\n",
        "model.summary()\n",
        "\n"
      ],
      "metadata": {
        "colab": {
          "base_uri": "https://localhost:8080/",
          "height": 241
        },
        "id": "lmsR3NxUZdo_",
        "outputId": "db86ad7e-b95d-410d-bbdc-892b2c037ab8"
      },
      "execution_count": null,
      "outputs": [
        {
          "output_type": "display_data",
          "data": {
            "text/plain": [
              "\u001b[1mModel: \"sequential\"\u001b[0m\n"
            ],
            "text/html": [
              "<pre style=\"white-space:pre;overflow-x:auto;line-height:normal;font-family:Menlo,'DejaVu Sans Mono',consolas,'Courier New',monospace\"><span style=\"font-weight: bold\">Model: \"sequential\"</span>\n",
              "</pre>\n"
            ]
          },
          "metadata": {}
        },
        {
          "output_type": "display_data",
          "data": {
            "text/plain": [
              "┏━━━━━━━━━━━━━━━━━━━━━━━━━━━━━━━━━━━━━━┳━━━━━━━━━━━━━━━━━━━━━━━━━━━━━┳━━━━━━━━━━━━━━━━━┓\n",
              "┃\u001b[1m \u001b[0m\u001b[1mLayer (type)                        \u001b[0m\u001b[1m \u001b[0m┃\u001b[1m \u001b[0m\u001b[1mOutput Shape               \u001b[0m\u001b[1m \u001b[0m┃\u001b[1m \u001b[0m\u001b[1m        Param #\u001b[0m\u001b[1m \u001b[0m┃\n",
              "┡━━━━━━━━━━━━━━━━━━━━━━━━━━━━━━━━━━━━━━╇━━━━━━━━━━━━━━━━━━━━━━━━━━━━━╇━━━━━━━━━━━━━━━━━┩\n",
              "│ text_vectorization                   │ (\u001b[38;5;45mNone\u001b[0m, \u001b[38;5;34m10000\u001b[0m)               │               \u001b[38;5;34m0\u001b[0m │\n",
              "│ (\u001b[38;5;33mTextVectorization\u001b[0m)                  │                             │                 │\n",
              "├──────────────────────────────────────┼─────────────────────────────┼─────────────────┤\n",
              "│ dense (\u001b[38;5;33mDense\u001b[0m)                        │ (\u001b[38;5;45mNone\u001b[0m, \u001b[38;5;34m64\u001b[0m)                  │         \u001b[38;5;34m640,064\u001b[0m │\n",
              "├──────────────────────────────────────┼─────────────────────────────┼─────────────────┤\n",
              "│ dense_1 (\u001b[38;5;33mDense\u001b[0m)                      │ (\u001b[38;5;45mNone\u001b[0m, \u001b[38;5;34m1\u001b[0m)                   │              \u001b[38;5;34m65\u001b[0m │\n",
              "└──────────────────────────────────────┴─────────────────────────────┴─────────────────┘\n"
            ],
            "text/html": [
              "<pre style=\"white-space:pre;overflow-x:auto;line-height:normal;font-family:Menlo,'DejaVu Sans Mono',consolas,'Courier New',monospace\">┏━━━━━━━━━━━━━━━━━━━━━━━━━━━━━━━━━━━━━━┳━━━━━━━━━━━━━━━━━━━━━━━━━━━━━┳━━━━━━━━━━━━━━━━━┓\n",
              "┃<span style=\"font-weight: bold\"> Layer (type)                         </span>┃<span style=\"font-weight: bold\"> Output Shape                </span>┃<span style=\"font-weight: bold\">         Param # </span>┃\n",
              "┡━━━━━━━━━━━━━━━━━━━━━━━━━━━━━━━━━━━━━━╇━━━━━━━━━━━━━━━━━━━━━━━━━━━━━╇━━━━━━━━━━━━━━━━━┩\n",
              "│ text_vectorization                   │ (<span style=\"color: #00d7ff; text-decoration-color: #00d7ff\">None</span>, <span style=\"color: #00af00; text-decoration-color: #00af00\">10000</span>)               │               <span style=\"color: #00af00; text-decoration-color: #00af00\">0</span> │\n",
              "│ (<span style=\"color: #0087ff; text-decoration-color: #0087ff\">TextVectorization</span>)                  │                             │                 │\n",
              "├──────────────────────────────────────┼─────────────────────────────┼─────────────────┤\n",
              "│ dense (<span style=\"color: #0087ff; text-decoration-color: #0087ff\">Dense</span>)                        │ (<span style=\"color: #00d7ff; text-decoration-color: #00d7ff\">None</span>, <span style=\"color: #00af00; text-decoration-color: #00af00\">64</span>)                  │         <span style=\"color: #00af00; text-decoration-color: #00af00\">640,064</span> │\n",
              "├──────────────────────────────────────┼─────────────────────────────┼─────────────────┤\n",
              "│ dense_1 (<span style=\"color: #0087ff; text-decoration-color: #0087ff\">Dense</span>)                      │ (<span style=\"color: #00d7ff; text-decoration-color: #00d7ff\">None</span>, <span style=\"color: #00af00; text-decoration-color: #00af00\">1</span>)                   │              <span style=\"color: #00af00; text-decoration-color: #00af00\">65</span> │\n",
              "└──────────────────────────────────────┴─────────────────────────────┴─────────────────┘\n",
              "</pre>\n"
            ]
          },
          "metadata": {}
        },
        {
          "output_type": "display_data",
          "data": {
            "text/plain": [
              "\u001b[1m Total params: \u001b[0m\u001b[38;5;34m640,129\u001b[0m (2.44 MB)\n"
            ],
            "text/html": [
              "<pre style=\"white-space:pre;overflow-x:auto;line-height:normal;font-family:Menlo,'DejaVu Sans Mono',consolas,'Courier New',monospace\"><span style=\"font-weight: bold\"> Total params: </span><span style=\"color: #00af00; text-decoration-color: #00af00\">640,129</span> (2.44 MB)\n",
              "</pre>\n"
            ]
          },
          "metadata": {}
        },
        {
          "output_type": "display_data",
          "data": {
            "text/plain": [
              "\u001b[1m Trainable params: \u001b[0m\u001b[38;5;34m640,129\u001b[0m (2.44 MB)\n"
            ],
            "text/html": [
              "<pre style=\"white-space:pre;overflow-x:auto;line-height:normal;font-family:Menlo,'DejaVu Sans Mono',consolas,'Courier New',monospace\"><span style=\"font-weight: bold\"> Trainable params: </span><span style=\"color: #00af00; text-decoration-color: #00af00\">640,129</span> (2.44 MB)\n",
              "</pre>\n"
            ]
          },
          "metadata": {}
        },
        {
          "output_type": "display_data",
          "data": {
            "text/plain": [
              "\u001b[1m Non-trainable params: \u001b[0m\u001b[38;5;34m0\u001b[0m (0.00 B)\n"
            ],
            "text/html": [
              "<pre style=\"white-space:pre;overflow-x:auto;line-height:normal;font-family:Menlo,'DejaVu Sans Mono',consolas,'Courier New',monospace\"><span style=\"font-weight: bold\"> Non-trainable params: </span><span style=\"color: #00af00; text-decoration-color: #00af00\">0</span> (0.00 B)\n",
              "</pre>\n"
            ]
          },
          "metadata": {}
        }
      ]
    },
    {
      "cell_type": "markdown",
      "source": [
        "None is often used to represent the batch size dimension, which is left unspecified at model creation time because the batch size can vary during training and inference."
      ],
      "metadata": {
        "id": "x1AtCJQLQjOX"
      }
    },
    {
      "cell_type": "code",
      "source": [
        "model.predict(tf.constant([\"Exit light. Enter night. Take my hand. RUFF to never never land.\"]))"
      ],
      "metadata": {
        "id": "mFerbZeRZ8dg",
        "colab": {
          "base_uri": "https://localhost:8080/"
        },
        "outputId": "58c0e9fe-b57c-4980-852d-80b382306e36"
      },
      "execution_count": null,
      "outputs": [
        {
          "output_type": "stream",
          "name": "stdout",
          "text": [
            "\u001b[1m1/1\u001b[0m \u001b[32m━━━━━━━━━━━━━━━━━━━━\u001b[0m\u001b[37m\u001b[0m \u001b[1m1s\u001b[0m 623ms/step\n"
          ]
        },
        {
          "output_type": "execute_result",
          "data": {
            "text/plain": [
              "array([[0.5150443]], dtype=float32)"
            ]
          },
          "metadata": {},
          "execution_count": 16
        }
      ]
    },
    {
      "cell_type": "code",
      "source": [
        "model.compile(\n",
        "    optimizer=\"adam\",\n",
        "    loss=\"binary_crossentropy\",\n",
        "    metrics=[\"accuracy\"]\n",
        ")\n",
        "print(model.evaluate(dataset_test))"
      ],
      "metadata": {
        "colab": {
          "base_uri": "https://localhost:8080/"
        },
        "id": "OlaxdV-uQovS",
        "outputId": "a02c67a1-e1fc-49d9-c73f-4c23ac61c8be"
      },
      "execution_count": null,
      "outputs": [
        {
          "output_type": "stream",
          "name": "stdout",
          "text": [
            "\u001b[1m98/98\u001b[0m \u001b[32m━━━━━━━━━━━━━━━━━━━━\u001b[0m\u001b[37m\u001b[0m \u001b[1m162s\u001b[0m 2s/step - accuracy: 0.4979 - loss: 0.6939\n",
            "[0.6929723620414734, 0.5072799921035767]\n"
          ]
        }
      ]
    },
    {
      "cell_type": "code",
      "source": [
        "history = model.fit(\n",
        "    dataset_train,\n",
        "    epochs=4,\n",
        "    validation_data=dataset_validate\n",
        ")"
      ],
      "metadata": {
        "colab": {
          "base_uri": "https://localhost:8080/"
        },
        "id": "Qc9hdBqWQsTY",
        "outputId": "daf039e9-cb88-4937-df5b-002044ab0056"
      },
      "execution_count": null,
      "outputs": [
        {
          "output_type": "stream",
          "name": "stdout",
          "text": [
            "Epoch 1/4\n",
            "\u001b[1m196/196\u001b[0m \u001b[32m━━━━━━━━━━━━━━━━━━━━\u001b[0m\u001b[37m\u001b[0m \u001b[1m452s\u001b[0m 2s/step - accuracy: 0.8029 - loss: 0.4299 - val_accuracy: 0.8820 - val_loss: 0.2905\n",
            "Epoch 2/4\n",
            "\u001b[1m196/196\u001b[0m \u001b[32m━━━━━━━━━━━━━━━━━━━━\u001b[0m\u001b[37m\u001b[0m \u001b[1m518s\u001b[0m 3s/step - accuracy: 0.9323 - loss: 0.1874 - val_accuracy: 0.8778 - val_loss: 0.3129\n",
            "Epoch 3/4\n",
            "\u001b[1m196/196\u001b[0m \u001b[32m━━━━━━━━━━━━━━━━━━━━\u001b[0m\u001b[37m\u001b[0m \u001b[1m466s\u001b[0m 2s/step - accuracy: 0.9520 - loss: 0.1343 - val_accuracy: 0.8668 - val_loss: 0.3505\n",
            "Epoch 4/4\n",
            "\u001b[1m196/196\u001b[0m \u001b[32m━━━━━━━━━━━━━━━━━━━━\u001b[0m\u001b[37m\u001b[0m \u001b[1m462s\u001b[0m 2s/step - accuracy: 0.9662 - loss: 0.1031 - val_accuracy: 0.8602 - val_loss: 0.4139\n"
          ]
        }
      ]
    },
    {
      "cell_type": "code",
      "source": [
        "history.history"
      ],
      "metadata": {
        "id": "BEkrX9IoTMD3",
        "colab": {
          "base_uri": "https://localhost:8080/"
        },
        "outputId": "b9c78fef-0c01-4774-84c6-ba3b97157bed"
      },
      "execution_count": null,
      "outputs": [
        {
          "output_type": "execute_result",
          "data": {
            "text/plain": [
              "{'accuracy': [0.8604000210762024,\n",
              "  0.926360011100769,\n",
              "  0.9455999732017517,\n",
              "  0.959119975566864],\n",
              " 'loss': [0.3368341326713562,\n",
              "  0.19509708881378174,\n",
              "  0.1447356790304184,\n",
              "  0.11436854302883148],\n",
              " 'val_accuracy': [0.8820000290870667,\n",
              "  0.877839982509613,\n",
              "  0.8668000102043152,\n",
              "  0.8601599931716919],\n",
              " 'val_loss': [0.2905372679233551,\n",
              "  0.3129333555698395,\n",
              "  0.3505460023880005,\n",
              "  0.41393163800239563]}"
            ]
          },
          "metadata": {},
          "execution_count": 19
        }
      ]
    },
    {
      "cell_type": "code",
      "source": [
        "def render_history(history):\n",
        "  plt.plot(history.history[\"loss\"],label =\"loss\")\n",
        "  plt.plot(history.history[\"val_loss\"], label =\"val_loss\")\n",
        "  plt.legend()\n",
        "  plt.show()\n",
        "  plt.close()\n",
        "\n",
        "  plt.plot(history.history[\"accuracy\"])\n",
        "  plt.plot(history.history[\"val_accuracy\"], label =\"val_accuracy\")\n",
        "\n",
        "render_history(history)"
      ],
      "metadata": {
        "id": "w_dU2EqJTlmp",
        "colab": {
          "base_uri": "https://localhost:8080/",
          "height": 843
        },
        "outputId": "6b1cf782-190d-433f-8332-854203463722"
      },
      "execution_count": null,
      "outputs": [
        {
          "output_type": "display_data",
          "data": {
            "text/plain": [
              "<Figure size 640x480 with 1 Axes>"
            ],
            "image/png": "[encoded data removed]"
          },
          "metadata": {}
        },
        {
          "output_type": "display_data",
          "data": {
            "text/plain": [
              "<Figure size 640x480 with 1 Axes>"
            ],
            "image/png": "[encoded data removed]"
          },
          "metadata": {}
        }
      ]
    },
    {
      "cell_type": "markdown",
      "source": [],
      "metadata": {
        "id": "V7n6DhnVcm6T"
      }
    },
    {
      "cell_type": "markdown",
      "source": [
        "**Word Embeddings**"
      ],
      "metadata": {
        "id": "NpruY4AqcoHG"
      }
    },
    {
      "cell_type": "code",
      "source": [
        "vocabulary_size =10000\n",
        "sequence_length =128\n",
        "\n",
        "encoder = layers.TextVectorization(\n",
        "    max_tokens=vocabulary_size,\n",
        "    standardize=\"lower_and_strip_punctuation\",\n",
        "    split=\"whitespace\",\n",
        "    output_mode=\"int\",\n",
        "    output_sequence_length=sequence_length\n",
        "\n",
        ")\n",
        "\n",
        "encoder.adapt(dataset_train_original.map(lambda text, _: text).batch(2048))"
      ],
      "metadata": {
        "id": "yzJR7eNocudc"
      },
      "execution_count": null,
      "outputs": []
    },
    {
      "cell_type": "code",
      "source": [
        "vocabulary = encoder.get_vocabulary()\n",
        "print(vocabulary)#First one is padding token\""
      ],
      "metadata": {
        "id": "KHogoEpeesqF",
        "colab": {
          "base_uri": "https://localhost:8080/"
        },
        "outputId": "0fc48c47-f30f-40b6-b53e-7f35d4b215e8"
      },
      "execution_count": null,
      "outputs": [
        {
          "output_type": "stream",
          "name": "stdout",
          "text": [
            "['', '[UNK]', 'the', 'and', 'a', 'of', 'to', 'is', 'in', 'it', 'i', 'this', 'that', 'br', 'was', 'as', 'for', 'with', 'movie', 'but', 'film', 'on', 'not', 'you', 'are', 'his', 'have', 'he', 'be', 'one', 'its', 'at', 'all', 'by', 'an', 'they', 'from', 'who', 'so', 'like', 'her', 'just', 'or', 'about', 'has', 'if', 'out', 'some', 'there', 'what', 'good', 'when', 'more', 'very', 'even', 'she', 'my', 'no', 'up', 'would', 'which', 'only', 'time', 'really', 'story', 'their', 'were', 'had', 'see', 'can', 'me', 'than', 'we', 'much', 'well', 'been', 'get', 'will', 'into', 'also', 'because', 'other', 'do', 'people', 'bad', 'great', 'first', 'how', 'most', 'him', 'dont', 'made', 'then', 'movies', 'make', 'films', 'could', 'way', 'them', 'any', 'too', 'after', 'characters', 'think', 'watch', 'two', 'many', 'being', 'seen', 'character', 'never', 'little', 'acting', 'where', 'plot', 'best', 'love', 'did', 'know', 'life', 'show', 'does', 'ever', 'your', 'still', 'better', 'over', 'off', 'these', 'end', 'say', 'while', 'here', 'man', 'why', 'scene', 'such', 'scenes', 'go', 'should', 'something', 'through', 'im', 'back', 'those', 'doesnt', 'real', 'watching', 'years', 'though', 'now', 'thing', 'actors', 'didnt', 'another', 'new', 'before', 'actually', 'nothing', 'makes', 'find', 'work', 'funny', 'look', 'few', 'old', 'going', 'same', 'every', 'lot', 'us', 'part', 'director', 'again', 'thats', 'cant', 'quite', 'cast', 'want', 'pretty', 'things', 'seems', 'young', 'got', 'around', 'fact', 'however', 'down', 'world', 'take', 'enough', 'both', 'give', 'between', 'may', 'ive', 'big', 'horror', 'original', 'thought', 'own', 'without', 'gets', 'always', 'series', 'right', 'long', 'isnt', 'saw', 'come', 'almost', 'times', 'least', 'theres', 'role', 'point', 'action', 'must', 'interesting', 'whole', 'comedy', 'bit', 'family', 'music', 'done', 'script', 'last', 'might', 'hes', 'anything', 'guy', 'since', 'feel', 'minutes', 'far', 'probably', 'performance', 'am', 'kind', 'rather', 'worst', 'yet', 'away', 'sure', 'tv', 'making', 'woman', 'girl', 'each', 'found', 'fun', 'played', 'having', 'anyone', 'our', 'although', 'believe', 'comes', 'trying', 'course', 'especially', 'goes', 'day', 'looks', 'hard', 'shows', 'put', 'different', 'wasnt', 'place', 'maybe', 'book', 'once', 'set', 'main', 'reason', 'money', 'worth', 'sense', 'everything', 'looking', 'true', 'ending', 'someone', 'watched', 'plays', 'job', '2', 'actor', 'seem', 'three', 'said', 'takes', 'screen', 'dvd', 'together', 'play', 'instead', 'john', 'during', 'beautiful', 'later', '10', 'effects', 'himself', 'everyone', 'version', 'left', 'seeing', 'special', 'audience', 'night', 'excellent', 'house', 'american', 'idea', 'simply', 'nice', 'wife', 'shot', 'youre', 'read', 'high', 'black', 'less', 'completely', 'second', 'kids', 'help', 'else', 'poor', 'fan', 'war', 'star', 'used', 'given', 'year', 'try', 'father', 'death', 'friends', 'need', 'use', 'rest', 'enjoy', 'home', 'men', 'performances', 'short', 'mind', 'classic', 'until', 'either', 'truly', 'along', 'hollywood', 'boring', 'half', 'dead', 'wrong', 'tell', 'production', 'women', 'line', 'remember', 'couple', 'came', 'next', 'recommend', 'start', 'perhaps', 'full', 'let', 'understand', 'wonderful', 'stupid', 'getting', 'others', 'mean', 'moments', 'playing', 'awful', 'keep', 'episode', 'terrible', 'camera', 'small', 'definitely', 'gives', 'often', 'stars', 'doing', 'sex', 'video', 'early', 'perfect', 'become', 'finally', 'name', 'felt', 'school', 'human', 'supposed', 'face', 'couldnt', 'liked', 'lines', 'dialogue', 'piece', 'person', 'itself', 'lost', 'absolutely', 'top', 'yes', 'case', 'against', 'entire', 'went', 'certainly', 'written', 'live', 'title', 'waste', 'shes', 'sort', 'head', 'budget', 'hope', 'problem', 'style', 'several', 'overall', 'picture', 'loved', 'evil', 'mr', 'worse', 'id', 'fans', 'becomes', 'entertaining', '3', 'cinema', 'boy', 'beginning', 'seemed', 'white', 'based', 'already', 'despite', 'care', 'oh', 'wanted', 'example', 'dark', '\\x96', 'lives', 'guys', 'unfortunately', 'killer', 'throughout', 'mother', 'direction', 'final', 'friend', 'turn', 'totally', 'fine', 'wont', '1', 'wants', 'children', 'amazing', 'sound', 'laugh', 'girls', 'drama', 'youll', 'guess', 'lead', 'tries', 'low', 'called', 'humor', 'writing', 'under', 'michael', 'works', 'history', 'turns', 'able', 'enjoyed', 'theyre', 'behind', 'past', 'quality', 'days', 'gave', 'favorite', 'starts', 'son', 'kill', 'game', 'act', 'sometimes', 'side', 'viewer', 'town', 'horrible', 'parts', 'car', 'actress', 'soon', 'child', 'ones', 'eyes', 'expect', 'obviously', 'flick', 'themselves', 'directed', 'thinking', 'heart', 'art', 'brilliant', 'stories', 'ill', 'decent', 'highly', 'run', 'feeling', 'myself', 'genre', 'late', 'blood', 'stuff', 'fight', 'says', 'close', 'took', 'city', 'except', 'cannot', 'heard', 'hand', 'leave', 'killed', 'kid', 'matter', 'police', 'hell', 'moment', 'wouldnt', 'extremely', 'strong', 'roles', 'happens', 'particularly', 'lack', 'hour', 'involved', 'happened', 'obvious', 'attempt', 'james', 'told', 'living', 'chance', 'violence', 'wonder', 'including', 'etc', 'complete', 'save', 'voice', 'coming', 'murder', 'anyway', 'group', 'daughter', 'looked', 'age', 'please', 'type', 'itbr', 'alone', 'experience', 'simple', 'none', 'god', 'number', 'score', 'exactly', 'slow', 'shown', 'happen', 'ok', 'ago', 'lets', 'interest', 'whose', 'taken', 'brother', 'usually', 'serious', 'david', 'across', 'stop', 'cinematography', 'somewhat', 'running', 'hours', 'annoying', 'sad', 'opening', 'song', 'known', 'ends', 'musical', 'usual', 'possible', 'finds', 'career', 'wish', 'hit', 'yourself', 'released', 'started', 'huge', 'gore', 'relationship', 'seriously', 'scary', 'jokes', 'change', 'saying', 'order', 'crap', 'mostly', 'shots', 'reality', 'ridiculous', 'cut', 'today', 'robert', 'english', 'taking', 'major', 'episodes', 'hilarious', 'novel', 'cool', 'female', 'body', 'talking', 'opinion', '4', 'call', 'apparently', 'directors', 'strange', 'due', 'basically', '5', 'important', 'hero', 'supporting', 'clearly', 'power', 'knows', 'documentary', 'knew', 'happy', 'events', 'view', 'turned', 'husband', 'songs', 'talent', 'level', 'arent', 'king', 'british', 'room', 'easily', 'tells', 'single', 'local', 'rating', 'attention', 'word', 'moviebr', 'bring', 'words', 'problems', 'cheap', 'whats', 'modern', 'silly', 'television', 'beyond', 'sequence', 'whether', 'disappointed', 'light', 'jack', 'falls', 'sets', 'four', 'future', 'five', 'similar', 'paul', 'miss', 'country', 'needs', 'appears', 'romantic', 'giving', 'upon', 'earth', 'viewers', 'comic', 'richard', 'predictable', 'george', 'talk', 'entertainment', 'within', 'review', 'havent', 'feels', 'nearly', 'mention', 'message', 'enjoyable', 'animation', 'bunch', 'filmbr', 'theater', 'lots', 'lady', 'storyline', 'rock', 'add', 'actual', 'using', 'moving', 'points', 'above', 'middle', 'surprised', 'named', 'theme', 'mystery', 'herself', 'ten', 'dull', 'among', 'begins', 'comments', 'writer', 'ways', 'typical', 'fantastic', 'stay', 'showing', 'sequel', 'york', 'elements', 'easy', 'certain', 'thriller', 'team', 'tried', 'fall', 'effort', 'clear', 'near', 'avoid', 'release', 'hate', 'french', 'tale', 'famous', 'sorry', 'somehow', 'parents', 'means', 'straight', 'leads', 'peter', 'red', 'kept', 'working', 'buy', 'greatest', 'dialog', 'doubt', 'soundtrack', 'form', 'class', 'season', 'editing', 'sister', 'general', 'brought', 'weak', 'tom', 'filmed', 'figure', 'feature', 'oscar', 'hear', 'gone', 'whos', 'particular', 'material', 'check', 'viewing', 'learn', 'realistic', 'imagine', 'eventually', 'youve', 'eye', 'move', 'fast', 'atmosphere', 'reviews', 'decided', 'sequences', 'possibly', 'period', 'forget', 'lame', 'deal', 'third', 'premise', 'lee', 'follow', 'de', 'became', 'space', 'dance', 'wait', 'stand', 'indeed', 'japanese', 'zombie', 'sit', 'difficult', 'poorly', 'sexual', 'expected', 'die', 'whatever', 'writers', 'surprise', 'nor', 'crime', 'nature', 'rent', 'average', '80s', 'suspense', 'leaves', 'subject', 'okay', 'stage', 'killing', 'truth', 'believable', 'screenplay', 'needed', 'filmmakers', 'reading', 'note', 'meets', 'meet', 'dr', 'question', 'begin', 'boys', 'joe', 'romance', 'street', 'realize', 'forced', 'otherwise', 'emotional', 'memorable', 'unless', 'write', 'superb', 'shame', 'older', 'minute', 'interested', 'earlier', 'keeps', 'baby', 'weird', 'situation', 'disney', 'whom', 'footage', 'features', 'dramatic', 'credits', 'beauty', 'towards', 'dog', 'badly', 'ask', 'total', 'previous', 'hot', 'sounds', 'crazy', 'brings', 'comment', 'male', 'plenty', 'personal', 'worked', 'incredibly', 'plus', 'directing', 'society', 'quickly', 'perfectly', 'cheesy', 'admit', 'result', 'unique', 'deep', 'return', 'america', 'laughs', 'free', 'creepy', 'development', 'leading', 'appear', 'meant', 'hardly', 'open', 'brothers', '20', 'imdb', 'hands', 'b', 'apart', 'mark', 'various', 'casting', 'remake', 'effect', 'create', 'setting', 'christmas', 'potential', 'mess', 'bill', 'battle', 'background', 'scifi', 'monster', 'forward', 'powerful', 'portrayed', 'dream', 'inside', 'outside', '70s', 'fairly', 'business', 'la', 'manages', 'ideas', 'expecting', 'jane', 'fails', 'deserves', 'present', 'political', 'missing', 'attempts', 'twist', 'secret', 'fire', 'dumb', 'unlike', 'fighting', 'fantasy', 'pay', 'air', 'joke', 'gay', 'ben', 'william', 'recently', 'rich', 'front', 'nudity', 'married', 'further', 'masterpiece', 'reasons', 'copy', 'match', 'box', 'sadly', 'agree', 'acted', 'break', 'telling', 'talented', 'plain', 'western', 'success', 'cute', 'pure', 'villain', 'missed', 'incredible', 'odd', 'girlfriend', 'doctor', 'crew', 'following', 'caught', 'decides', 'cop', 'social', 'large', 'considering', 'waiting', 'sees', 'mentioned', 'members', 'uses', 'flat', 'popular', 'hold', 'ended', 'slightly', 'wasted', 'public', 'suddenly', 'pace', 'neither', 'compared', 'wrote', 'sweet', 'spent', 'kills', 'entirely', 'rate', 'intelligent', 'created', 'familiar', 'office', 'audiences', 'ultimately', 'cause', 'tension', 'scott', 'convincing', 'clever', 'bored', 'visual', 'party', 'escape', 'era', 'moves', 'cartoon', 'basic', 'credit', 'biggest', 'mary', 'list', 'revenge', 'laughing', 'fear', 'successful', 'recent', 'consider', 'spirit', 'island', 'trouble', 'spend', 'violent', 'positive', 'gun', 'choice', 'dancing', 'cover', 'books', 'appreciate', 'zombies', 'water', 'speak', 'science', 'former', 'died', 'cold', 'singing', 'filled', 'concept', 'younger', 'portrayal', '12', 'produced', 'value', 'solid', 'adult', 'state', 'exciting', 'common', 'bizarre', '8', 'werent', 'amount', 'walk', 'focus', 'animated', 'showed', 'language', 'effective', 'band', 'amusing', 'german', 'italian', 'producers', 'fit', 'follows', '7', 'van', 'runs', 'considered', 'impressive', 'impossible', 'decide', 'chemistry', 'cat', 'tone', 'won', 'pointless', 'company', '15', 'store', 'depth', 'barely', 'win', 'somewhere', 'control', 'studio', 'situations', 'prison', 'mad', 'sick', 'leaving', 'college', 'project', 'respect', 'force', 'changed', 'recommended', 'hair', 'surprisingly', 'aside', 'tony', 'starring', 'awesome', 'trip', 'century', 'longer', 'likes', 'generally', 'failed', 'shooting', 'planet', 'charming', 'slasher', 'involving', 'questions', 'honest', 'trash', 'thanks', 'immediately', 'literally', 'images', 'disturbing', 'accent', 'steve', 'spoilers', '30', 'values', 'utterly', 'bought', 'south', 'ghost', 'fake', 'touch', 'pictures', 'magic', 'jim', 'natural', 'conclusion', 'west', 'glad', 'sitting', 'ability', 'pathetic', 'honestly', 'frank', 'aspect', 'adaptation', 'computer', 'adventure', 'explain', 'normal', 'fair', 'culture', 'appearance', 'stick', 'personally', 'cult', 'camp', 'knowing', 'alive', 'tough', 'added', 'remains', 'rare', 'dad', 'catch', 'thinks', 'meaning', 'yeah', 'detective', 'sam', 'appeal', 'silent', 'humour', 'army', 'genius', 'beautifully', 'terms', 'managed', 'attack', 'walking', 'thank', 'taste', 'sexy', 'military', 'equally', 'standard', 'soldiers', 'smith', 'garbage', 'twists', 'subtle', 'london', 'harry', 'dreams', 'loves', 'journey', 'comedies', '100', 'pick', 'nowhere', 'terrific', 'touching', 'purpose', 'naked', 'complex', 'woods', 'nobody', 'likely', 'wild', 'channel', 'surely', 'mood', 'lovely', 'excuse', 'plan', 'master', 'fully', 'thus', 'narrative', 'chase', 'road', 'contains', 'cinematic', 'themes', 'fiction', 'constantly', 'central', 'unbelievable', 'outstanding', 'issues', 'youd', 'week', 'slowly', 'self', 'brain', 'painful', 'innocent', 'chris', 'batman', 'thrown', 'presented', 'pass', 'disappointing', 'presence', 'historical', 'marriage', 'date', 'christopher', 'animals', 'stunning', 'mysterious', 'laughable', 'charles', 'impression', 'hoping', 'besides', 'shoot', 'places', 'minor', 'costumes', 'club', 'mistake', 'critics', 'bottom', 'stands', 'makers', 'edge', 'details', 'sent', 'photography', 'indian', 'stewart', 'soul', 'justice', 'charm', 'makeup', 'door', 'aspects', '9', 'ride', 'law', 'heavy', 'finish', 'brief', 'boss', 'vampire', 'mainly', 'government', 'exception', 'feelings', 'climax', 'throw', 'suppose', 'support', 'manner', 'festival', 'color', 'train', 'scenery', 'pieces', 'paris', 'opportunity', 'hey', 'gang', 'expectations', 'element', 'cry', 'names', 'loud', 'filming', 'charlie', 'acts', 'victims', 'rated', 'bother', 'track', 'puts', 'fascinating', '6', 'smart', 'serial', 'falling', 'changes', 'award', 'intended', 'emotions', 'drawn', 'available', 'tired', 'victim', 'suggest', 'henry', 'speaking', 'include', 'church', 'disappointment', 'blue', 'twice', 'hasnt', 'likable', 'emotion', 'confused', 'building', 'hotel', 'followed', 'wow', 'compelling', 'students', 'motion', 'green', 'giant', 'appeared', 'image', 'everybody', 'dies', 'developed', 'ahead', 'pain', 'mans', 'laughed', 'bruce', 'lacks', 'kelly', 'gorgeous', 'approach', 'share', 'impact', 'difference', 'supposedly', 'offer', 'million', 'hurt', 'forever', 'fellow', 'fresh', 'bed', 'wondering', 'trailer', 'moral', 'merely', 'proves', 'jerry', 'happening', 'confusing', 'shock', 'helps', 'funniest', 'finding', 'relationships', 'putting', 'notice', 'grade', 'drive', 'billy', 'bar', 'answer', 'adults', 'system', 'random', 'student', 'producer', 'mix', 'key', 'creative', 'spoiler', 'numbers', 'mediocre', 'delivers', 'christian', 'zero', 'opera', 'noir', 'murders', 'lighting', 'jones', 'damn', 'provides', 'born', 'paid', 'absolute', 'thoroughly', 'summer', 'timebr', 'negative', 'lived', 'drug', 'content', 'addition', 'seemingly', 'reminded', 'ms', 'impressed', 'fell', 'event', 'becoming', 'alien', 'tragedy', 'park', 'offers', 'land', 'gem', 'flying', 'flicks', 'childhood', 'boyfriend', 'lover', 'imagination', 'hospital', 'attractive', 'stuck', 'lose', 'williams', 'race', 'holes', 'flaws', 'extreme', 'al', 'tragic', 'ii', 'ugly', 'six', 'rented', 'page', 'nasty', 'hidden', 'arthur', 'americans', 'shouldnt', 'martin', 'held', 'agent', '90', 'spot', 'adds', 'standards', 'rape', 'intense', 'folks', 'alan', 'ray', 'pull', 'faces', 'detail', 'beat', 'asks', 'artistic', 'afraid', 'turning', 'therefore', 'seconds', 'filmmaker', 'super', 'step', 'porn', 'games', 'latter', 'industry', 'davis', 'collection', 'states', 'shocking', 'forgotten', 'favourite', 'describe', 'affair', 'picked', 'onto', 'angry', 'teenage', 'seven', 'redeeming', 'ready', 'led', 'brian', 'actresses', 'mom', 'dirty', 'design', 'count', 'deliver', 'area', 'wooden', 'soldier', 'information', 'compare', 'queen', 'carry', 'allowed', 'thin', 'struggle', 'lord', 'willing', 'stephen', 'news', 'inspired', 'includes', 'chinese', 'allen', 'personality', 'moved', 'location', 'jason', 'apartment', 'helped', 'ground', 'fashion', 'desperate', 'deeply', 'cliché', 'animal', 'wonderfully', 'martial', 'intelligence', 'bond', 'wars', 'quick', 'listen', 'castle', 'uncle', 'professional', 'member', 'grace', 'don', 'direct', 'criminal', 'trust', 'scientist', 'rarely', 'food', 'cops', 'captain', 'began', 'todays', 'creature', 'clothes', 'cgi', 'humans', 'worthy', 'phone', 'mental', 'introduced', 'double', 'wearing', 'theatre', 'necessary', 'independent', 'comedic', 'realized', 'plane', 'fox', 'anymore', 'allow', 'unusual', 'treat', 'technical', 'tears', 'superior', 'drugs', 'commentary', 'apparent', 'physical', 'energy', 'dying', 'wall', 'provide', 'tim', 'sky', 'ship', 'normally', 'epic', 'desire', 'continue', 'nightmare', 'danny', 'stone', 'sight', 'remarkable', 'mouth', 'douglas', 'arts', 'filmmaking', 'accident', 'scared', 'returns', 'powers', 'limited', 'station', 'ring', 'reminds', 'holds', 'heroes', 'bloody', 'accept', 'witch', 'suspect', 'search', 'pleasure', 'engaging', '60s', 'wedding', 'warning', 'surprising', 'intriguing', 'brutal', 'actions', 'wanting', 'teacher', 'machine', 'hated', 'build', 'according', 'whatsoever', 'russian', 'fred', 'disaster', 'asked', 'academy', 'unnecessary', 'sleep', 'skip', 'pacing', 'grand', 'clichés', 'johnny', 'finished', 'constant', 'vision', 'bits', 'andy', 'religious', 'nicely', 'joan', 'ie', 'extra', 'anybody', 'suicide', 'sat', 'process', 'originally', 'legend', 'heres', 'artist', 'passion', 'lies', 'growing', 'ed', 'absurd', 'roll', 'monsters', 'blame', 'anywhere', 'toward', 'suit', 'media', 'lovers', 'killers', 'joy', 'gotten', 'ladies', 'faith', 'explanation', 'dangerous', 'watchable', 'players', 'met', 'instance', 'eddie', 'deserve', 'unknown', 'memory', 'kevin', 'jeff', 'dick', 'winning', 'whilst', 'villains', 'somebody', 'quiet', 'higher', 'hadnt', 'torture', 'starting', 'smile', 'nick', 'capture', 'accurate', '40', 'pilot', 'jump', 'heads', 'cars', 'superman', 'hopes', 'heaven', 'creating', 'jr', 'guns', 'featuring', 'fail', 'exist', 'dressed', 'community', 'adam', 'river', 'responsible', 'teen', 'friendship', 'fights', 'worlds', 'vs', 'tarzan', 'saved', 'record', 'pulled', 'prince', 'england', 'moon', 'months', 'keeping', 'jesus', 'european', 'understanding', 'terribly', 'taylor', 'reviewers', 'lowbudget', 'jean', 'treated', 'mixed', 'manage', 'kinda', 'explained', 'whenever', 'radio', 'numerous', 'memories', 'knowledge', 'hits', 'finest', 'thembr', 'loving', 'judge', 'delightful', 'private', 'price', 'pop', 'player', 'peoples', 'officer', 'lacking', 'jackson', 'issue', 'gene', 'fat', '50', 'weve', 'unfunny', 'bland', 'vhs', 'sucks', 'psychological', 'prove', 'mike', 'forces', 'eat', 'discover', 'deserved', 'screaming', 'pretentious', 'loose', 'japan', 'horse', 'floor', 'witty', 'streets', 'sign', 'regular', 'ordinary', 'loss', 'included', 'field', 'spanish', 'opposite', 'heroine', 'empty', 'drunk', 'driving', 'broken', 'saving', 'portray', 'loses', 'humanity', 'dated', 'cage', 'cable', 'skills', 'opens', 'noticed', 'naturally', 'conflict', 'bright', 'cuts', 'c', 'bigger', 'aware', 'talents', 'locations', 'discovered', 'calls', 'breaks', 'wind', 'visually', 'partner', 'international', 'essentially', 'deals', 'dealing', 'continues', 'blonde', 'youth', 'werewolf', 'visit', 'theyve', 'soap', 'morning', 'jimmy', 'humorous', 'fate', 'captured', 'scream', 'morgan', 'mine', 'magnificent', 'length', 'golden', 'curious', 'ball', '1010', 'traditional', 'realism', 'plots', 'miles', 'kate', 'gold', 'gags', 'current', 'connection', 'concerned', 'shallow', 'results', 'received', 'occasionally', 'nonsense', 'genuine', 'debut', 'sing', 'sean', 'satire', 'rubbish', 'perspective', 'murdered', 'frankly', 'allows', 'advice', 'versions', 'genuinely', 'below', 'anthony', 'national', 'learned', 'gary', 'bob', 'washington', 'behavior', 'proved', 'mrs', 'lesson', 'kong', 'grew', 'blind', 'bank', '90s', '1950s', 'welles', 'stock', 'segment', 'santa', 'rob', 'revealed', 'mission', 'fathers', 'corny', 'context', 'vampires', 'underrated', 'unable', 'ultimate', 'sudden', 'sheer', 'keaton', 'cameo', 'visuals', 'unexpected', 'shop', 'meanwhile', 'formula', 'ford', 'favor', 'develop', 'albert', 'thisbr', 'steal', 'owner', 'jennifer', 'himbr', 'finale', 'survive', 'study', 'remembered', 'references', 'reach', 'luck', 'harris', 'efforts', 'ann', 'ages', 'window', 'village', 'singer', 'logic', 'identity', 'gonna', 'eric', 'decade', 'cross', 'brilliantly', 'sea', 'program', 'passed', 'ice', 'discovers', 'awkward', 'wise', 'utter', 'strength', 'spectacular', 'desert', 'crappy', 'steven', 'standing', 'majority', 'grant', 'gangster', 'dan', 'candy', 'types', 'stereotypes', 'sisters', 'sake', 'leader', 'flashbacks', 'existence', 'delivered', 'board', 'awards', 'creates', 'bet', 'robin', 'relate', 'reaction', 'ran', 'lucky', 'lake', 'insane', 'caused', 'trek', 'sucked', 'pair', 'painfully', 'meeting', 'gratuitous', 'graphic', 'foreign', 'dreadful', 'daughters', 'speed', 'relief', 'practically', 'pleasant', 'edited', 'devil', 'travel', 'fault', 'families', 'emotionally', 'boat', 'technology', 'nevertheless', 'endless', 'author', 'twenty', 'thomas', 'site', 'simon', 'reviewer', 'overly', 'native', 'decision', 'comparison', 'seasons', 'portrays', 'freedom', 'failure', 'described', 'combination', 'barbara', 'assume', 'anime', 'ancient', 'aka', 'test', 'rules', 'proper', 'president', 'feet', 'attitude', 'wide', 'vehicle', 'treatment', 'parody', 'hearing', 'brown', 'stopped', 'sell', 'range', 'portraying', 'howard', 'foot', 'eating', 'choose', 'buddy', 'bear', 'asking', 'uk', 'marry', 'luke', 'learns', 'laughter', 'hitler', 'halloween', 'executed', 'drew', 'chosen', 'capable', 'believes', 'tape', 'lynch', 'largely', 'involves', 'gory', 'fill', 'excited', 'evening', 'daniel', 'commercial', 'anna', 'allbr', 'wood', 'religion', 'recall', 'produce', 'grow', 'classics', 'broadway', 'wit', 'theatrical', 'product', 'model', 'victor', 'unrealistic', 'theaters', 'sheriff', 'parker', 'kick', 'haunting', 'entertained', 'contrived', 'center', '50s', 'suffering', 'strongly', 'storybr', 'ruined', 'round', 'rise', 'levels', 'depressing', 'clue', 'sequels', 'rescue', 'r', 'joseph', 'irritating', 'freddy', 'extras', 'd', 'contrast', 'built', 'appealing', 'woody', 'rose', 'onebr', 'heck', 'handsome', 'costs', 'claim', 'sympathetic', 'sports', 'shakespeare', 'research', 'matt', 'losing', 'individual', 'destroy', '11', 'talks', 'protagonist', 'generation', 'evidence', 'embarrassing', 'disgusting', 'clean', 'captures', 'vote', 'thatbr', 'tend', 'post', 'patrick', 'matters', 'hill', 'facts', 'dry', 'chief', 'chick', 'appropriate', 'hunter', 'hanging', 'fame', 'canadian', 'alex', 'voices', 'virtually', 'naive', 'hopefully', 'grown', 'football', 'exploitation', 'bringing', 'asian', 'walks', 'training', 'scare', 'roy', 'relatively', 'obsessed', 'jackie', 'horribly', 'haunted', 'costume', 'cares', 'thoughts', 'steals', 'spoil', 'saturday', 'safe', 'promise', 'priest', 'pity', 'mask', 'lousy', 'louis', 'france', 'fits', 'convinced', 'bomb', 'walter', 'teenagers', 'insult', 'frame', 'cost', 'correct', 'till', 'teenager', 'ryan', 'oliver', 'mebr', 'dogs', 'crowd', 'creatures', 'wellbr', 'send', 'satisfying', 'initial', 'halfway', 'fly', 'excitement', 'dubbed', 'depicted', 'winner', 'united', 's', 'remain', 'gordon', 'europe', 'cinderella', 'cash', 'angel', 'amateurish', '1970s', 'tiny', 'texas', 'tedious', 'nancy', 'lower', 'influence', 'holding', 'hide', 'germany', 'contemporary', 'anne', 'weekend', 'unlikely', 'unfortunate', 'substance', 'soft', 'psycho', 'nominated', 'lewis', 'cowboy', 'circumstances', 'asleep', 'viewed', 'touches', 'presents', 'marie', 'lawyer', 'flesh', 'continuity', 'closer', 'bodies', 'baseball', 'witness', 'serves', 'provided', 'max', 'f', 'drag', 'danger', 'australian', '810', 'trilogy', 'suffers', 'shocked', 'reporter', 'handled', 'fool', 'cartoons', 'brave', 'amateur', 'weeks', 'wayne', 'surreal', 'structure', 'source', 'sons', 'ruin', 'roger', 'repeated', 'refreshing', 'fare', 'category', 'supernatural', 'seat', 'politics', 'plans', 'offensive', 'latest', 'hunt', 'fu', 'display', 'deaths', 'chose', 'africa', 'accidentally', 'welcome', 'warm', 'surprises', 'studios', 'sinatra', 'robot', 'promising', 'pile', 'north', 'market', 'angles', 'target', 'speaks', 'realizes', 'qualities', 'previously', 'overthetop', 'colors', 'claims', 'bugs', 'harsh', 'granted', 'experiences', 'edward', 'deadly', 'convince', 'adventures', 'accents', 'storytelling', 'factor', 'designed', 'covered', 'artists', 'wouldve', 'whoever', 'veteran', 'universal', 'speech', 'skin', 'service', 'rental', 'recognize', 'movement', 'lesbian', 'hall', 'draw', 'believed', 'victoria', 'routine', 'professor', 'mainstream', 'highlight', 'degree', 'uninteresting', 'rain', 'propaganda', 'occasional', 'mistakes', 'kim', 'hat', 'enter', 'columbo', 'walked', 'twisted', 'technically', 'sympathy', 'struggling', 'peace', 'outbr', 'minds', 'magical', 'guilty', 'directly', 'aliens', 'nude', 'massive', 'kinds', 'invisible', 'friday', 'focused', 'explains', 'downright', 'combined', 'breaking', 'teens', 'section', 'print', 'princess', 'paper', 'inner', 'committed', '710', 'remotely', 'offered', 'narration', 'j', 'gritty', 'donald', 'ass', 'suspenseful', 'spends', 'sorts', 'prime', 'multiple', 'moore', 'irish', 'featured', 'experienced', 'enemy', 'atrocious', 'universe', 'treasure', 'sharp', 'reveal', 'regret', 'lonely', 'legendary', 'insight', 'frightening', 'express', 'execution', 'variety', 'security', 'reputation', 'performed', 'hong', 'forgettable', 'figured', 'exact', 'dollars', 'anger', '25', 'waybr', 'surface', 'stolen', 'rings', 'prior', 'path', 'passing', 'herebr', 'forest', 'figures', 'fictional', 'false', 'dozen', 'crash', 'bothered', 'birth', 'abuse', 'abandoned', '1980s', 'theory', 'subtitles', 'spy', 'pulls', 'powell', 'hired', 'ghosts', 'fairy', 'eight', 'darkness', 'crying', 'conversation', '13', 'von', 'statement', 'russell', 'reveals', 'required', 'paint', 'paced', 'melodrama', 'isbr', 'erotic', 'emma', 'cutting', 'core', 'anderson', 'wilson', 'urban', 'trapped', 'terror', 'stays', 'stayed', 'significant', 'mountain', 'hed', 'gas', 'effectively', 'drop', 'demons', 'blow', 'worthwhile', 'slapstick', 'paying', 'grim', 'crude', '14', 'rights', 'proud', 'mgm', 'mere', 'listening', 'jon', 'focuses', 'dean', 'clark', 'buying', 'wear', 'spite', 'sir', 'quest', 'necessarily', 'lights', 'bmovie', 'beach', 'african', 'account', 'unconvincing', 'scale', 'jobs', 'heavily', 'grave', 'forth', 'titanic', 'sunday', 'scares', 'network', 'julia', 'facial', 'everywhere', 'destroyed', 'department', 'delivery', 'cruel', 'clichéd', 'childrens', 'caine', 'bus', 'andor', 'amazed', 'afternoon', '1930s', 'vietnam', 'scenario', 'san', 'murphy', 'metal', 'matrix', 'imagery', 'driven', 'desperately', 'closing', 'changing', 'alright', 'thankfully', 'sounded', 'skill', 'sensitive', 'rule', 'ron', 'reminiscent', 'position', 'placed', 'mothers', 'midnight', 'mature', 'junk', 'idiot', 'forgot', 'flashback', 'favorites', 'faithful', 'fabulous', 'device', 'code', 'blockbuster', 'belief', 'alice', 'suffer', 'stereotypical', 'revolution', 'pitt', 'novels', 'mexican', 'interview', 'ignore', 'extraordinary', 'driver', 'campy', 'aint', '110', 'views', 'summary', 'sleeping', 'settings', 'seek', 'musicals', 'lifetime', 'happiness', 'greater', 'examples', 'dude', 'deeper', 'california', 'beloved', 'angle', 'amazingly', 'understood', 'sarah', 'renting', 'prefer', 'pacino', 'notorious', 'initially', 'inept', 'helping', 'fourth', 'dennis', 'criminals', 'court', 'burns', 'blah', 'beast', 'achieve', 'teeth', 'susan', 'sitcom', 'rolling', 'regarding', 'pregnant', 'lifebr', 'learning', 'league', 'depiction', 'breathtaking', 'brad', 'bourne', 'rip', 'raw', 'mexico', 'lisa', 'larry', 'jungle', 'endbr', 'couldve', 'convey', 'complicated', 'china', 'bore', 'table', 'quirky', 'purely', 'picks', 'kung', 'indie', 'format', 'entertain', 'encounter', 'cultural', 'starred', 'rough', 'rachel', 'prepared', 'ned', 'murderer', 'mildly', 'julie', 'freeman', 'expert', 'dragon', 'disbelief', 'description', 'decades', 'critical', 'calling', 'cabin', 'writerdirector', 'via', 'underground', 'touched', 'throws', 'throwing', 'status', 'serve', 'productions', 'notable', 'leslie', 'join', 'funnier', 'friendly', 'drinking', 'appreciated', 'subplot', 'onbr', 'introduction', 'flight', 'expression', 'everyday', 'dress', 'carries', 'basis', 'arms', 'answers', 'adding', 'task', 'strangely', 'raised', 'protect', 'honor', 'criticism', 'comical', 'bollywood', 'blown', 'base', 'againbr', 'wears', 'suck', 'succeeds', 'racist', 'kiss', 'intellectual', 'fallen', 'extent', 'caring', 'brooks', 'amongst', 'usa', 'truck', 'ted', 'sword', 'shadow', 'regard', 'raise', 'originality', 'inspiration', 'hoffman', 'foster', 'environment', 'claire', 'causes', 'carrying', 'carried', 'attempting', 'x', 'weapons', 'socalled', 'ripoff', 'protagonists', 'praise', 'michelle', 'maria', 'johnson', 'jessica', 'handle', 'enjoying', 'embarrassed', 'choices', 'charge', 'challenge', 'cell', 'cases', 'angels', '410', 'tales', 'spoof', 'sinister', 'sidney', 'shut', 'rogers', 'related', 'ludicrous', 'lazy', 'warned', 'turkey', 'southern', 'replaced', 'obnoxious', 'needless', 'lugosi', 'locked', 'ironic', 'gruesome', 'experiment', 'elizabeth', 'determined', 'breath', 'wins', 'westerns', 'sun', 'sleazy', 'screening', 'properly', 'pet', 'nowadays', 'lie', 'interpretation', 'escapes', 'daily', 'burt', 'aunt', 'trick', 'tradition', 'remote', 'obsession', 'jail', 'hardy', 'graphics', 'clips', 'chilling', 'blair', 'bbc', 'attacked', 'wave', 'warner', 'u', 'tight', 'stanley', 'served', 'scripts', 'remind', 'reference', 'laura', 'jumps', 'interviews', 'exists', 'essential', 'arrives', 'alas', 'stops', 'st', 'sold', 'punch', 'navy', 'marvelous', 'india', 'hitchcock', 'fortunately', 'contain', 'busy', 'timing', 'successfully', 'oddly', 'nonexistent', 'hills', 'goofy', 'goodbr', 'frequently', 'established', 'dollar', 'ashamed', '310', 'term', 'sum', 'stylish', 'rival', 'revolves', 'refuses', 'ratings', 'oscars', 'o', 'jewish', 'inspector', 'flawed', 'drives', 'balance', 'authentic', 'warn', 'upset', 'struggles', 'risk', 'nation', 'mirror', 'mindless', 'mentally', 'manager', 'legs', 'horrific', 'hence', 'guard', 'flow', 'che', 'andrews', 'tree', 'titles', 'sides', 'shower', 'riding', 'retarded', 'philip', 'par', 'overcome', 'hood', 'greatly', 'delight', 'comedian', 'bette', 'toy', 'tense', 'suspects', 'stomach', 'spoken', 'roberts', 'poignant', 'nonetheless', 'mob', 'mansion', 'lesser', 'lane', 'intentions', 'intensity', 'gods', 'cynical', 'bridge', 'attacks', 'albeit', 'wishes', 'topic', 'thousands', 'presentation', 'madness', 'lion', 'lessons', 'jay', 'husbands', 'fbi', 'expressions', 'cooper', 'controversial', 'buck', 'bitter', 'wealthy', 'wasting', 'vacation', 'thrilling', 'suffered', 'stupidity', 'stranger', 'seeking', 'personalities', 'opened', 'medical', 'lucy', 'glimpse', 'demon', 'confusion', 'chan', 'adapted', 'storm', 'scientists', 'pride', 'nazi', 'internet', 'hundreds', 'holmes', 'guessing', 'eg', 'dubbing', 'dinner', 'bound', '30s', 'whereas', 'uncomfortable', 'tracy', 'thief', 'text', 'shorts', 'shines', 'separate', 'perform', 'patient', 'mass', 'infamous', 'hint', 'happily', 'gross', 'dislike', 'courage', 'contact', 'broke', 'advantage', 'trite', 'sings', 'reed', 'performers', 'noble', 'miscast', 'miller', 'countries', 'corner', 'chases', 'chair', 'trial', 'suggests', 'shape', 'rocks', 'physically', 'mouse', 'millions', 'letting', 'innocence', 'horses', 'helen', 'elvis', 'east', 'credible', 'credibility', 'atmospheric', '910', '2006', '1960s', 'womans', 'tied', 'therebr', 'technique', 'sin', 'sexuality', 'reunion', 'racism', 'hundred', 'hole', 'glass', 'cook', 'consists', 'youbr', 'troubled', 'steps', 'portrait', 'pool', 'lying', 'lovable', 'gripping', 'grey', 'ensemble', 'develops', 'curse', 'crisis', 'cameos', 'badbr', '2000', 'torn', 'stretch', 'screenwriter', 'saves', 'ralph', 'oneliners', 'noted', 'meaningful', 'idiotic', 'holiday', 'hanks', 'concert', 'catholic', 'bo', 'bettie', 'bears', 'wwii', 'weapon', 'vincent', 'unforgettable', 'sentimental', 'searching', 'proof', 'plastic', 'neat', 'kurt', 'gain', 'exceptional', 'enjoyment', 'drink', 'accepted', 'toobr', 'thrillers', 'shed', 'imaginative', 'host', 'hiding', 'herbr', 'franchise', 'fish', 'entry', 'dig', 'dialogs', 'connected', 'belongs', 'attraction', 'spots', 'solve', 'sends', 'sandler', 'nine', 'lincoln', 'hoped', 'concerns', 'christ', 'card', 'annoyed', 'andrew', 'aired', 'worry', 'widmark', 'virgin', 'succeed', 'quote', 'object', 'n', 'lucas', 'jake', 'italy', 'guts', 'flaw', 'endearing', 'closely', 'assistant', 'arm', 'achieved', 'striking', 'repeat', 'redemption', 'profound', 'irony', 'homeless', 'hearts', 'ha', 'fortune', 'equal', 'encounters', 'eerie', 'dealt', 'crimes', 'cousin', 'colorful', 'checking', 'battles', 'bag', 'appearances', 'aged', 'videos', 'tune', 'tribute', 'tour', 'teach', 'sutherland', 'stanwyck', 'segments', 'persons', 'pat', 'oil', 'nights', 'nelson', 'neighborhood', 'mst3k', 'library', 'h', 'factory', 'dragged', 'dentist', 'covers', 'complaint', '1st', 'stan', 'snow', 'slight', 'pointed', 'ourselves', 'miniseries', 'hunting', 'hooked', 'hang', 'hamlet', 'essence', 'dear', 'cube', 'civil', 'bucks', 'believing', 'bat', 'thousand', 'surrounding', 'strikes', 'split', 'shoots', 'seagal', 'rush', 'pitch', 'pack', 'moviesbr', 'laid', 'knife', 'incoherent', 'health', 'glory', 'expensive', 'dare', 'countless', 'cheese', 'charisma', 'branagh', 'baker', 'appearing', '18', 'zone', 'workers', 'theyd', 'surrounded', 'stood', 'stealing', 'spending', 'matthau', 'massacre', 'lloyd', 'jeremy', 'dorothy', 'dancer', 'condition', 'competent', 'chasing', 'charismatic', 'chances', 'catherine', 'briefly', 'attempted', 'unintentionally', 'tons', 'terrifying', 'stunts', 'stronger', 'specific', 'shall', 'rushed', 'rochester', 'ripped', 'intention', 'horrendous', 'grows', 'fx', 'elsewhere', 'denzel', 'curtis', 'crafted', 'colour', 'birthday', 'attached', 'aforementioned', 'wing', 'wanna', 'trade', 'sullivan', 'sexually', 'setup', 'reactions', 'messages', 'individuals', 'hip', 'easier', 'betterbr', 'associated', 'admittedly', '80', 'university', 'tricks', 'requires', 'perfection', 'noise', 'month', 'magazine', 'le', 'guilt', 'gag', 'forgive', 'creators', 'burning', 'beating', 'arnold', '2001', 'wake', 'typically', 'stunt', 'stated', 'spike', 'silver', 'revelation', 'per', 'nose', 'luckily', 'increasingly', 'identify', 'homage', 'guest', 'goal', 'gift', 'dropped', 'drags', 'corrupt', '17', 'vague', 'strictly', 'represents', 'overrated', 'neck', 'kings', 'importance', 'ian', 'gotta', 'gothic', 'fired', 'faced', 'exercise', 'dramas', 'dawn', 'chuck', 'cats', 'cardboard', 'boredom', 'allowing', 'winter', 'walls', 'virus', 'techniques', 't', 'reynolds', 'ps', 'performing', 'painting', 'mild', 'medium', 'loser', 'killings', 'kidnapped', 'kicks', 'kane', 'instantly', 'importantly', 'hype', 'fitting', 'fifteen', 'enters', 'contract', 'commit', 'chaplin', 'camerawork', 'barry', 'sophisticated', 'row', 'relevant', 'pushed', 'presumably', 'jesse', 'horrors', 'handful', 'godfather', 'disagree', 'carefully', 'brando', 'boll', 'bobby', 'basement', '24', 'wonders', 'weight', 'thumbs', 'shining', 'sally', 'reallife', 'realise', 'pleased', 'plague', 'pie', 'partly', 'packed', 'nuclear', 'notch', 'letter', 'flash', 'eva', 'doors', 'brand', '45', 'wondered', 'tremendous', 'toilet', 'talked', 'superhero', 'silence', 'returning', 'resolution', 'pleasantly', 'overlooked', 'occurs', 'mustsee', 'marks', 'korean', 'hudson', 'hitting', 'heat', 'frustrated', 'executive', 'destruction', 'derek', 'continued', 'comics', 'buried', 'britain', 'admire', 'acceptable', 'worthless', 'superbly', 'strip', 'secretary', 'prevent', 'persona', 'listed', 'lab', 'jamie', 'inevitable', 'iii', 'fears', 'evident', 'competition', 'canada', 'bride', 'breasts', 'arrested', 'subplots', 'strike', 'stiff', 'spell', 'shy', 'relative', 'regardless', 'projects', 'press', 'picking', 'opposed', 'masters', 'larger', 'investigation', 'flawless', 'fatal', 'estate', 'doc', 'digital', 'citizen', 'carol', 'bush', 'bullets', 'boxing', 'bible', 'beings', 'attracted', 'accused', 'walken', 'struck', 'splendid', 'spiritual', 'someones', 'root', 'revealing', 'planning', 'outrageous', 'nazis', 'menacing', 'mafia', 'los', 'kudos', 'karloff', 'jumping', 'highlights', 'glover', 'directorial', 'closeups', 'burn', 'appalling', 'afterwards', '40s', '3d', 'useless', 'union', 'uninspired', 'thrills', 'suits', 'subsequent', 'spooky', 'sole', 'slightest', 'savage', 'remaining', 'precious', 'notes', 'logical', 'lacked', 'ironically', 'inspiring', 'hire', 'guide', 'genres', 'flynn', 'dvds', 'cup', 'conspiracy', 'characterization', 'brilliance', 'ambitious', '911', '2005', 'wes', 'watches', 'ward', 'twin', 'streisand', 'spoiled', 'souls', 'repetitive', 'repeatedly', 'reasonably', 'raped', 'pulling', 'photographed', 'notably', 'neighbor', 'morality', 'melodramatic', 'ken', 'installment', 'heston', 'francisco', 'elderly', 'documentaries', 'dire', 'depression', 'curiosity', 'creation', 'convoluted', 'clues', 'blob', 'aimed', 'accomplished', 'worldbr', 'wicked', 'wannabe', 'timothy', 'ticket', 'theyll', 'territory', 'tea', 'smooth', 'shortly', 'screams', 'samurai', 'rid', 'response', 'push', 'providing', 'poverty', 'overdone', 'minimal', 'loosely', 'jerk', 'intrigued', 'insulting', 'generous', 'forbidden', 'duke', 'drunken', 'draws', 'cox', 'con', 'cia', 'cared', 'border', 'bleak', 'achievement', 'timeless', 'spring', 'shadows', 'ritter', 'reduced', 'psychiatrist', 'non', 'neil', 'mile', 'mid', 'mel', 'jealous', 'hatred', 'gradually', 'futuristic', 'funnybr', 'filmsbr', 'failing', 'explore', 'emily', 'elvira', 'distant', 'definite', 'davies', 'darker', 'corpse', 'adams', '20th', 'wells', 'thirty', 'tall', 'sticks', 'shell', 'reasonable', 'piano', 'outcome', 'obscure', 'meat', 'manhattan', 'laurel', 'intent', 'goldberg', 'carpenter', 'captivating', 'blows', 'unbelievably', 'trap', 'spielberg', 'rap', 'pushing', 'nurse', 'motivation', 'mitchell', 'misses', 'knock', 'indians', 'improved', 'ignored', 'grandmother', 'gentle', 'elaborate', 'doctors', 'discussion', 'burton', 'beaten', 'argument', 'alike', 'ad', 'absence', 'turner', 'tunes', 'tortured', 'stole', 'spin', 'resembles', 'psychotic', 'norman', 'miserably', 'liberal', 'huh', 'fisher', 'farce', 'explicit', 'et', 'em', 'disease', 'dave', 'cruise', 'cried', 'contrary', 'connect', 'concerning', 'childish', 'cameras', 'brazil', 'beer', 'alexander', 'worried', 'waters', 'warrior', 'vicious', 'throat', 'threat', 'temple', 'string', 'sloppy', 'shoes', 'shark', 'returned', 'reached', 'ranks', 'purple', 'monkey', 'lou', 'kenneth', 'horrid', 'hardcore', 'glenn', 'fancy', 'extended', 'exaggerated', 'eve', 'displays', 'diamond', 'danes', 'currently', 'craig', 'complain', 'cole', 'builds', 'blend', 'affected', 'wreck', 'website', 'upbr', 'threw', 'swedish', 'sunshine', 'subjects', 'spoilersbr', 'spirits', 'sacrifice', 'prom', 'pretend', 'panic', 'ought', 'matthew', 'idiots', 'houses', 'hollow', 'fay', 'enjoys', 'distance', 'demands', 'dancers', 'consequences', 'charactersbr', 'carter', 'arrive', 'alltime', 'warren', 'triumph', 'smoking', 'robots', 'ridiculously', 'restaurant', 'receive', 'poster', 'photographer', 'overacting', 'hysterical', 'harder', 'fever', 'farm', 'eyre', 'drivel', 'drawing', 'broad', 'blank', 'beats', 'argue', 'smoke', 'size', 'scripted', 'progress', 'officers', 'movements', 'modesty', 'landscape', 'jet', 'groups', 'greek', 'dynamic', 'duo', 'conversations', 'burned', 'australia', 'annie', 'upper', 'trio', 'styles', 'staying', 'selling', 'scientific', 'ruth', 'recognized', 'popcorn', 'murderous', 'load', 'ireland', 'involvement', 'investigate', 'incident', 'hugh', 'holy', 'heroic', 'exposed', 'engaged', 'empire', 'dignity', 'devoted', 'daring', 'cusack', 'commercials', 'comfortable', 'carrey', 'buddies', 'broadcast', 'brains', 'anyways', 'vivid', 'translation', 'titled', 'threatening', 'symbolism', 'swear', 'superficial', 'selfish', 'secrets', 'rural', 'producing', 'proceedings', 'orders', 'offering', 'occur', 'newspaper', 'mountains', 'machines', 'lily', 'kitchen', 'journalist', 'joey', 'existed', 'escaped', 'dinosaurs', 'differences', 'critic', 'couples', 'choreography', 'cagney', 'brosnan', 'bands', 'astaire', 'areas', 'aging', '210', 'winters', 'uneven', 'tame', 'relies', 'rage', 'margaret', 'lips', 'innovative', 'gray', 'grab', 'explaining', 'ex', 'discovery', 'detailed', 'deliberately', 'clint', 'block', 'bite', 'bathroom', 'apes', '60', '2nd', '16', 'workbr', 'wealth', 'versus', 'unpleasant', 'twelve', 'timesbr', 'thugs', 'stiller', 'staff', 'soviet', 'signs', 'removed', 'possibility', 'perry', 'occurred', 'nearby', 'mildred', 'merit', 'mate', 'lighthearted', 'juvenile', 'intrigue', 'ingredients', 'implausible', 'imagined', 'hollywoods', 'folk', 'focusing', 'felix', 'editor', 'dialogues', 'dawson', 'causing', 'birds', 'bell', 'audio', '2004', 'web', 'watchbr', 'undoubtedly', 'travels', 'sidekick', 'showbr', 'sadness', 'sadistic', 'resemblance', 'primary', 'population', 'pays', 'overwhelming', 'onscreen', 'nightmares', 'meaningless', 'maker', 'lawrence', 'kirk', 'generic', 'furthermore', 'disturbed', 'defeat', 'damage', 'craft', 'conventional', 'combat', 'chain', 'catches', 'adequate', 'abilities', 'abc', '2003', 'w', 'unbearable', 'trees', 'ships', 'remarkably', 'pulp', 'primarily', 'portion', 'passes', 'narrator', 'lifestyle', 'karen', 'hurts', 'headed', 'flies', 'falk', 'explosion', 'eccentric', 'discuss', 'devoid', 'composed', 'clumsy', 'clothing', 'bin', 'banned', 'atlantis', 'altogether', '0', 'yesterday', 'winds', 'unintentional', 'thrill', 'surviving', 'spare', 'settle', 'secondly', 'react', 'official', 'maggie', 'liking', 'leg', 'jeffrey', 'itll', 'hitman', 'highest', 'hates', 'glorious', 'giallo', 'g', 'financial', 'explored', 'exotic', 'enormous', 'dracula', 'dozens', 'cuba', 'chaos', 'cameron', 'backdrop', 'antics', 'afford', '2002', 'urge', 'survival', 'smaller', 'shine', 'scheme', 'roman', 'represent', 'reaches', 'morebr', 'models', 'mixture', 'mickey', 'kapoor', 'gandhi', 'fond', 'doomed', 'disjointed', 'decisions', 'consistently', 'carl', 'blatant', 'bird', 'beneath', '1990s', 'wallace', 'walker', 'uwe', 'ups', 'unwatchable', 'slap', 'rank', 'rambo', 'props', 'paulie', 'outer', 'odds', 'notion', 'notbr', 'neighbors', 'mistaken', 'judging', 'hints', 'fighter', 'errors', 'edie', 'dutch', 'distracting', 'disc', 'describes', 'coherent', 'clown', 'cheating', 'cary', 'careers', 'brady', 'bold', 'vast', 'trailers', 'tommy', 'thick', 'tear', 'tap', 'survivors', 'subtlety', 'sport', 'specifically', 'senseless', 'sellers', 'scenebr', 'richards', 'possessed', 'offended', 'monkeys', 'kennedy', 'instant', 'influenced', 'impress', 'ideal', 'hideous', 'heartwarming', 'hal', 'garden', 'gangsters', 'freak', 'florida', 'everyones', 'enterprise', 'drops', 'directs', 'diane', 'dating', 'dances', 'contained', 'butt', 'brooklyn', 'blew', 'bedroom', 'april', 'amy', 'ah', 'advance', '3rd', 'wolf', 'whale', 'weakest', 'voight', 'toys', 'topless', 'ties', 'stellar', 'soccer', 'simplistic', 'seenbr', 'screenbr', 'revolutionary', 'relations', 'rebel', 'practice', 'peters', 'performer', 'montage', 'matches', 'loads', 'linda', 'lasted', 'jazz', 'introduces', 'guessed', 'frustration', 'explosions', 'etcbr', 'ego', 'desperation', 'depressed', 'dedicated', 'commented', 'classes', 'celluloid', 'blake', 'benefit', 'adorable', 'todd', 'tender', 'suited', 'succeeded', 'staged', 'shelf', 'seventies', 'satan', 'saga', 'ruthless', 'rooms', 'rick', 'principal', 'politically', 'philosophy', 'passionate', 'occasion', 'mysteries', 'miserable', 'method', 'loyal', 'leonard', 'justify', 'involve', 'immensely', 'illogical', 'honesty', 'holly', 'hammer', 'forms', 'flop', 'emphasis', 'eastwood', 'doll', 'developing', 'crush', 'countryside', 'coffee', 'claimed', 'circle', 'bare', 'backgrounds', 'awake', 'arrogant', 'wrestling', 'wasbr', 'unfolds', 'traveling', 'trashy', 'transformation', 'tracks', 'thoughtful', 'tad', 'synopsis', 'stress', 'solely', 'similarities', 'severe', 'recorded', 'realizing', 'planned', 'outfit', 'motives', 'melting', 'measure', 'lust', 'link', 'kicked', 'jonathan', 'interaction', 'hank', 'funeral', 'endure', 'endings', 'disappeared', 'disappear', 'destiny', 'considerable', 'command', 'chorus', 'bone', 'blues', 'wore', 'treats', 'stereotype', 'shirley', 'quotes', 'photos', 'orson', 'menace', 'lemmon', 'isolated', 'hbo', 'harvey', 'hamilton', 'ginger', 'facing', 'ease', 'displayed', 'dickens', 'cure', 'corruption', 'consistent', 'comparing', 'companion', 'chased', 'cards', 'avoided', 'authority', 'angeles', 'aid', 'agrees', 'yellow', 'waited', 'tongue', 'taught', 'switch', 'swimming', 'surfing', 'sits', 'similarly', 'scenesbr', 'satisfied', 'riveting', 'represented', 'report', 'purchase', 'preview', 'possibilities', 'moody', 'madefortv', 'lyrics', 'kidding', 'inventive', 'helicopter', 'grasp', 'goodness', 'formulaic', 'enemies', 'ellen', 'eighties', 'e', 'donna', 'dolls', 'colonel', 'celebrity', 'buffs', 'bonus', 'amanda', 'wished', 'widow', 'voiceover', 'vegas', 'user', 'terrorist', 'solo', 'snl', 'relation', 'prostitute', 'promised', 'onedimensional', 'nervous', 'myers', 'mario', 'march', 'judy', 'improve', 'hunters', 'handed', 'embarrassment', 'ears', 'duty', 'divorce', 'delivering', 'defend', 'combine', 'cliff', 'charlotte', 'cg', 'carrie', 'behave', 'akshay', '1999', 'wives', 'waves', 'valuable', 'unsettling', 'unhappy', 'transfer', 'suitable', 'reads', 'philosophical', 'parent', 'pages', 'oz', 'l', 'ignorant', 'horrifying', 'hook', 'godzilla', 'global', 'fix', 'crack', 'closet', 'closest', 'chess', 'buildings', 'blond', '1996', '1980', 'virginia', 'tonight', 'thru', 'stooges', 'stinker', 'snake', 'scottish', 'scores', 'sappy', 'reflect', 'reaching', 'painted', 'online', 'nicholson', 'motivations', 'maintain', 'lately', 'kingdom', 'inbr', 'inane', 'humble', 'hart', 'faster', 'engage', 'elegant', 'education', 'diana', 'destroying', 'corporate', 'buff', 'blacks', 'bebr', 'artificial', 'agents', 'affect', 'yelling', 'wet', 'wed', 'useful', 'understandable', 'tiresome', 'terry', 'stinks', 'stevens', 'staring', 'splatter', 'slave', 'shake', 'sentence', 'seed', 'secretly', 'scope', 'scarecrow', 'safety', 'rotten', 'rex', 'remarks', 'racial', 'questionable', 'pretending', 'potentially', 'plant', 'museum', 'miracle', 'miike', 'letters', 'lees', 'germans', 'fooled', 'earned', 'disappoint', 'conflicts', 'concern', 'coach', 'cleverly', 'centers', 'bullet', 'armed', 'airport', 'airplane', 'access', 'abysmal', 'wandering', 'trained', 'survived', 'slick', 'sandra', 'rocket', 'purchased', 'provoking', 'poetic', 'nostalgic', 'nicholas', 'mall', 'm', 'lay', 'jumped', 'iron', 'intentionally', 'inferior', 'hung', 'gadget', 'francis', 'firstly', 'finger', 'faults', 'exploration', 'elephant', 'dub', 'disneys', 'dinosaur', 'depicts', 'communist', 'civilization', 'campbell', 'brutally', 'blunt', 'blade', 'amounts', 'americas', 'alongside', 'alcoholic', 'advise', 'womens', 'wizard', 'willis', 'vulnerable', 'understated', 'troops', 'tie', 'sub', 'streep', 'stilted', 'steel', 'spoke', 'showcase', 'september', 'robbery', 'rising', 'rendition', 'raising', 'punk', 'proceeds', 'porno', 'pokemon', 'plight', 'patients', 'nomination', 'namely', 'mini', 'lengthy', 'lena', 'joined', 'illegal', 'guarantee', 'grinch', 'greedy', 'fonda', 'floating', 'ethan', 'edgar', 'convincingly', 'confidence', 'channels', 'beliefs', 'bath', 'arrived', 'arguably', 'advanced', 'abusive', '2007', 'wrapped', 'witches', 'visits', 'transition', 'spread', 'species', 'resort', 'relatives', 'pig', 'peoplebr', 'nonstop', 'morris', 'madonna', 'homosexual', 'gundam', 'fascinated', 'familys', 'downhill', 'dimensional', 'designs', 'construction', 'cinematographer', 'chicago', 'carradine', 'careful', 'cake', 'bottle', 'beatty', 'balls', 'ballet', 'attitudes', 'ape', 'agreed', 'advertising', 'accompanied', '70', '3000', '1940s', 'wound', 'worker', 'taxi', 'sue', 'simplicity', 'signed', 'shirt', 'satisfy', 'ruby', 'recognition', 'pops', 'parallel', 'nyc', 'niro', 'molly', 'macy', 'lowest', 'lit', 'limits', 'likewise', 'li', 'latin', 'junior', 'june', 'jenny', 'intimate', 'hopper', 'heartbreaking', 'frequent', 'foul', 'devils', 'demented', 'damon', 'copies', 'complexity', 'compelled', 'classical', 'cities', 'christians', 'cave', 'catchy', 'capturing', 'berlin', 'aids', '1972', 'ya', 'vengeance', 'v', 'tends', 'schools', 'robinson', 'prisoner', 'prequel', 'phantom', 'paltrow', 'opinions', 'olivier', 'nostalgia', 'nonsensical', 'mundane', 'mars', 'manipulative', 'losers', 'lone', 'khan', 'inappropriate', 'illness', 'hilariously', 'grandfather', 'gerard', 'georges', 'exceptionally', 'equivalent', 'eager', 'dreary', 'descent', 'der', 'del', 'daddy', 'crucial', 'chicks', 'cheated', 'challenging', 'bang', 'bakshi', 'babe', 'alternate', '1990', 'writes', 'witnesses', 'wishing', 'widely', 'wellknown', 'twilight', 'tomatoes', 'suspicious', 'shelley', 'seeks', 'scooby', 'restored', 'remakes', 'raymond', 'rat', 'pursuit', 'prisoners', 'poetry', 'pearl', 'overlook', 'ocean', 'muchbr', 'montana', 'misery', 'lol', 'lively', 'leo', 'incomprehensible', 'homer', 'excessive', 'edition', 'eaten', 'domestic', 'demand', 'cinemas', 'choreographed', 'chooses', 'chest', 'capital', 'boot', 'awe', 'appreciation', 'amitabh', '1968', 'wisdom', 'vaguely', 'suspend', 'square', 'smiling', 'sincere', 'simmons', 'seriesbr', 'royal', 'robbins', 'resources', 'progresses', 'prize', 'plotbr', 'plausible', 'performs', 'paranoia', 'opportunities', 'nations', 'methods', 'messed', 'masterful', 'mann', 'literature', 'legal', 'laws', 'landscapes', 'kicking', 'justin', 'invasion', 'introduce', 'incompetent', 'franco', 'experiments', 'enthusiasm', 'elm', 'doubts', 'desired', 'dalton', 'da', 'crocodile', 'constructed', 'conservative', 'calm', 'bumbling', 'brenda', 'blowing', 'belong', 'bela', 'basketball', 'awfully', 'wacky', 'viewings', 'trademark', 'tag', 'suffice', 'richardson', 'responsibility', 'resist', 'resident', 'recording', 'randomly', 'promises', 'polished', 'petty', 'nuts', 'mummy', 'mentions', 'mechanical', 'mayor', 'masterpieces', 'louise', 'loaded', 'kay', 'generations', 'feed', 'eitherbr', 'earl', 'distinct', 'creativity', 'craven', 'climactic', 'cd', 'borrowed', 'bacall', 'assigned', 'assault', 'arrival', '1983', 'wounded', 'witnessed', 'wholly', 'wendy', 'waitress', 'visible', 'unoriginal', 'underlying', 'unaware', 'troubles', 'terrorists', 'teachers', 'strangers', 'stones', 'stargate', 'standout', 'stale', 'spirited', 'solution', 'sneak', 'slaughter', 'sink', 'simpson', 'showdown', 'scrooge', 'ruins', 'receives', 'rangers', 'punishment', 'polanski', 'poem', 'pit', 'parties', 'operation', 'omen', 'marty', 'map', 'jaws', 'inevitably', 'improvement', 'icon', 'heights', 'greed', 'gifted', 'fury', 'fields', 'expressed', 'dust', 'dolph', 'creep', 'conceived', 'betty', 'attorney', 'attend', 'assumed', 'ashley', '–', 'willie', 'whoopi', 'warriors', 'warmth', 'unit', 'testament', 'teaching', 'straightforward', 'rats', 'randy', 'rabbit', 'quit', 'property', 'pot', 'overlong', 'offbr', 'muslim', 'mighty', 'mentioning', 'lumet', 'laughably', 'keith', 'iraq', 'iran', 'instinct', 'historically', 'gabriel', 'females', 'educational', 'edgy', 'contest', 'closed', 'chapter', 'businessman', 'bergman', 'angela', 'alfred', 'activities', 'acid', 'aboutbr', '1973', 'wouldbe', 'withbr', 'voiced', 'verhoeven', 'twins', 'tooth', 'tiger', 'swim', 'survivor', 'supported', 'stunned', 'spain', 'sid', 'rolled', 'rocky', 'popularity', 'pink', 'pamela', 'moronic', 'mistress', 'minutesbr', 'minimum', 'middleaged', 'meryl', 'merits', 'kubrick', 'irrelevant', 'imitation', 'household', 'hello', 'greg', 'grabs', 'garbo', 'funbr', 'fashioned', 'exposure', 'equipment', 'domino', 'depicting', 'christy', 'catching', 'button', 'bull', 'boom', 'alert', '13th', 'valley', 'uplifting', 'unseen', 'unreal', 'unpredictable', 'tribe', 'timon', 'suggested', 'subjected', 'stretched', 'spock', 'sounding', 'significance', 'shaw', 'shaky', 'seldom', 'rubber', 'romero', 'resulting', 'resemble', 'psychic', 'pressure', 'pierce', 'phony', 'noone', 'masses', 'marketing', 'loyalty', 'kyle', 'invented', 'integrity', 'heartfelt', 'fulci', 'fought', 'feelgood', 'exchange', 'eugene', 'empathy', 'doom', 'disliked', 'directions', 'despair', 'definition', 'daybr', 'cringe', 'confrontation', 'compassion', 'championship', 'cannibal', 'butler', 'bud', 'bay', 'astonishing', 'analysis', 'ambiguous', 'accuracy', '35', 'wrongbr', 'wretched', 'wifes', 'watson', 'unexpectedly', 'trail', 'stumbled', 'sopranos', 'simultaneously', 'roots', 'retired', 'remained', 'reflection', 'ramones', 'peak', 'patience', 'pants', 'palace', 'package', 'otherbr', 'othello', 'orleans', 'ollie', 'nicole', 'monk', 'metaphor', 'landing', 'lackluster', 'josh', 'interests', 'inability', 'immediate', 'hopeless', 'grayson', 'gather', 'furious', 'firm', 'fascination', 'expedition', 'drake', 'distribution', 'defined', 'defense', 'darren', 'costar', 'confess', 'comfort', 'cliche', 'checked', 'biography', 'austin', 'album', 'adaptations', '1984', 'victory', 'unfair', 'underneath', 'travesty', 'technicolor', 'sums', 'spacey', 'sixties', 'shanghai', 'roth', 'roommate', 'require', 'refused', 'reel', 'rave', 'raises', 'primitive', 'presenting', 'phil', 'pan', 'objective', 'newly', 'nail', 'marion', 'mankind', 'legacy', 'kissing', 'israel', 'hears', 'frightened', 'farrell', 'eastern', 'dixon', 'difficulties', 'dee', 'deceased', 'daniels', 'dana', 'creator', 'conditions', 'composer', 'companies', 'closeup', 'clip', 'claus', 'blast', 'antwone', 'alec', 'actingbr', 'abraham', 'yearsbr', 'wakes', 'vulgar', 'ustinov', 'unlikable', 'teaches', 'tastes', 'subpar', 'stark', 'specially', 'softcore', 'sissy', 'sharon', 'screens', 'scotland', 'rises', 'respected', 'replace', 'remade', 'reid', 'rates', 'raines', 'quietly', 'precisely', 'photo', 'passable', 'pal', 'owen', 'musicians', 'milk', 'maniac', 'maid', 'lundgren', 'karl', 'julian', 'joins', 'joel', 'interactions', 'glasses', 'gentleman', 'gender', 'frustrating', 'flair', 'fido', 'favour', 'experimental', 'dreck', 'discovering', 'dimension', 'desires', 'deranged', 'connery', 'comedians', 'coast', 'christianity', 'buffalo', 'barrymore', 'andre', 'abused', '1971', '1933', 'yard', 'widescreen', 'warming', 'wang', 'walsh', 'thingbr', 'tank', 'sunny', 'stuart', 'rude', 'rely', 'relax', 'reeves', 'nowbr', 'ninja', 'nerd', 'nathan', 'muddled', 'matched', 'literary', 'lands', 'inexplicably', 'hyde', 'griffith', 'graham', 'framed', 'examination', 'encourage', 'electric', 'dysfunctional', 'dresses', 'dose', 'correctly', 'characterbr', 'casts', 'carell', 'brutality', 'behaviour', 'awhile', 'audiencebr', 'assassin', 'aspiring', 'appropriately', 'amused', 'alcohol', 'adopted', 'wrap', 'wildly', 'visiting', 'tracking', 'tomorrow', 'teams', 'tacky', 'shouldve', 'shoddy', 'shared', 'sentinel', 'sentiment', 'sabrina', 'ross', 'roof', 'rifle', 'referred', 'purposes', 'provocative', 'preston', 'preposterous', 'prepare', 'premiere', 'positively', 'phrase', 'pg13', 'paradise', 'parade', 'ordered', 'musician', 'mode', 'masks', 'marshall', 'macarthur', 'lock', 'les', 'knocked', 'invites', 'hopkins', 'generated', 'frankenstein', 'fingers', 'filling', 'fest', 'femme', 'exposition', 'emperor', 'downey', 'credited', 'choppy', 'chicken', 'charged', 'bunny', 'bernard', 'automatically', 'amusement', 'alternative', 'additional', 'absent', '75', '1993', '1987', 'yearold', 'vice', 'vance', 'unfold', 'uncut', 'tube', 'translated', 'topnotch', 'swing', 'sung', 'spark', 'senses', 'rooney', 'romp', 'respective', 'releases', 'reign', 'region', 'refer', 'realised', 'posters', 'poison', 'murdering', 'moreover', 'morbid', 'mclaglen', 'madebr', 'loneliness', 'leon', 'ladder', 'items', 'insurance', 'hopelessly', 'hawke', 'hackneyed', 'greatness', 'glowing', 'fantasies', 'demise', 'deaf', 'counts', 'complaining', 'citizens', 'cattle', 'biko', 'beverly', 'babies', 'alicia', 'accomplish', 'youngest', 'wellwritten', 'weakness', 'trend', 'thoughtprovoking', 'skull', 'singers', 'silliness', 'shoulders', 'shares', 'russia', 'regarded', 'realm', 'pun', 'pitiful', 'objects', 'nephew', 'naughty', 'mtv', 'misleading', 'lush', 'laurence', 'kansas', 'invited', 'infected', 'indication', 'imaginable', 'ignorance', 'harm', 'handling', 'guests', 'grotesque', 'gambling', 'function', 'forty', 'fi', 'fed', 'eternal', 'ensues', 'deserted', 'costars', 'corpses', 'complaints', 'challenges', 'celebration', 'caricatures', 'bridget', 'bargain', 'alison', 'admirable', 'accepts', 'absurdity', 'abrupt', '19th', '1995', 'towns', 'threatens', 'suspension', 'skits', 'severely', 'servant', 'secondary', 'sci', 'respectively', 'reflects', 'recycled', 'recommendation', 'receiving', 'puppet', 'promote', 'pro', 'prey', 'phillips', 'partners', 'palance', 'owners', 'oldest', 'noises', 'nod', 'nicolas', 'muppets', 'minded', 'jews', 'insipid', 'iconic', 'ho', 'hk', 'hitlers', 'grief', 'evidently', 'drove', 'din', 'devices', 'depending', 'crystal', 'cruelty', 'cope', 'conveys', 'coincidence', 'chills', 'chainsaw', 'canyon', 'beside', 'asylum', 'affection', 'address', 'active', '1997', '1986', 'wilderness', 'weaknesses', 'visited', 'venture', 'underworld', 'understands', 'tyler', 'togetherbr', 'tasteless', 'sympathize', 'strongest', 'stores', 'standup', 'squad', 'shades', 'rita', 'reluctant', 'records', 'priceless', 'prejudice', 'posted', 'portrayals', 'policeman', 'paramount', 'outing', 'outfits', 'occasions', 'obligatory', 'nolan', 'minus', 'mill', 'mccoy', 'malone', 'lois', 'lifted', 'kumar', 'investigating', 'industrial', 'hughes', 'heros', 'heading', 'hammy', 'freaks', 'el', 'edit', 'disappears', 'deniro', 'damme', 'cue', 'crawford', 'conviction', 'conventions', 'conscience', 'comparisons', 'buster', 'burst', 'belushi', 'baldwin', 'authors', 'aim', 'affairs', 'acclaimed', 'acceptance', '73', '1970', '1936', 'wwe', 'trivia', 'tobr', 'thread', 'terrified', 'suitably', 'studying', 'steady', 'stages', 'spinal', 'sketch', 'shakespeares', 'selection', 'renaissance', 'rejected', 'redeem', 'psychology', 'programs', 'profanity', 'previews', 'predict', 'pointbr', 'phenomenon', 'penny', 'patricia', 'murray', 'muppet', 'morally', 'misguided', 'locals', 'labor', 'kolchak', 'interestingly', 'hers', 'heist', 'hapless', 'guaranteed', 'gregory', 'frankie', 'fog', 'fishing', 'filler', 'fiancé', 'explores', 'entitled', 'emerges', 'elses', 'ear', 'difficulty', 'designer', 'demonstrates', 'dates', 'darn', 'cassidy', 'caliber', 'bros', 'billed', 'attract', 'anywaybr', 'ants', '2008', '1989', '1979', '1978', 'zombi', 'worn', 'vital', 'visions', 'vibrant', 'vein', 'unexplained', 'tripe', 'soup', 'sooner', 'someday', 'snakes', 'slimy', 'sht', 'shouting', 'sending', 'rome', 'representation', 'reader', 'ratso', 'prominent', 'physics', 'pg', 'palma', 'orange', 'option', 'michaels', 'marvel', 'marries', 'iv', 'insists', 'inconsistent', 'hippie', 'harold', 'harmless', 'guitar', 'gems', 'forcing', 'flashy', 'filth', 'feminist', 'eats', 'dud', 'discussing', 'diehard', 'despicable', 'deleted', 'cream', 'conclude', 'communicate', 'commander', 'clock', 'claustrophobic', 'clarke', 'cancer', 'betrayal', 'beatles', 'basinger', 'banal', 'assuming', 'anticipation', 'agenda', 'winchester', 'welldone', 'vader', 'unrelated', 'transformed', 'tierney', 'tempted', 'studies', 'springer', 'sox', 'slice', 'sirk', 'shootout', 'route', 'rod', 'rhythm', 'pounds', 'placebr', 'mentality', 'martha', 'lindsay', 'kungfu', 'knight', 'kitty', 'jacksons', 'ingenious', 'immature', 'housewife', 'flowers', 'europa', 'downbr', 'depends', 'delicate', 'danish', 'crazed', 'considerably', 'clueless', 'clan', 'claiming', 'circus', 'champion', 'casual', 'cannon', 'bread', 'blatantly', 'bike', 'biased', 'befriends', 'wings', 'wellmade', 'voted', 'towers', 'tail', 'symbolic', 'stumbles', 'soso', 'smiles', 'shortcomings', 'schlock', 'sassy', 'rukh', 'rolebr', 'riot', 'repeating', 'remove', 'recognizable', 'quinn', 'pete', 'paxton', 'mirrors', 'millionaire', 'melody', 'meg', 'marlon', 'limit', 'lifeless', 'legends', 'kathryn', 'iq', 'inhabitants', 'inexplicable', 'hokey', 'historic', 'height', 'grudge', 'grainy', 'glamorous', 'gina', 'gear', 'fuller', 'foxx', 'fontaine', 'fluff', 'fifty', 'exploring', 'ethnic', 'dukes', 'dressing', 'detectives', 'defeated', 'coupled', 'connections', 'co', 'charlton', 'challenged', 'carla', 'campaign', 'boston', 'bend', 'awaybr', 'audrey', 'altman', 'allens', 'agency', 'adolescent', 'addicted', 'vocal', 'uniformly', 'tunnel', 'trials', 'ton', 'thompson', 'swept', 'surgery', 'static', 'stairs', 'sorely', 'shopping', 'serving', 'screwed', 'screenwriters', 'satirical', 'rapist', 'praised', 'partially', 'parsons', 'paintings', 'outright', 'offbeat', 'novak', 'nemesis', 'minority', 'las', 'keen', 'item', 'institution', 'independence', 'incidentally', 'hangs', 'handles', 'freddys', 'firing', 'feeding', 'familybr', 'exceptions', 'esther', 'employed', 'drivein', 'disgusted', 'disguise', 'deserving', 'departure', 'coup', 'couch', 'controlled', 'continually', 'computers', 'chuckle', 'childs', 'charms', 'boyle', 'bars', 'backs', 'assassination', 'ambition', 'ace', '23', 'wax', 'toronto', 'token', 'tip', 'thrilled', 'threatened', 'sugar', 'shoulder', 'ripping', 'preferred', 'preachy', 'posey', 'pacific', 'outdated', 'northern', 'newer', 'neurotic', 'natives', 'nails', 'messy', 'mercy', 'melissa', 'macho', 'kidman', 'inspire', 'insightful', 'hilarity', 'hearted', 'hack', 'girlfriends', 'gate', 'garner', 'firmly', 'feat', 'farfetched', 'elite', 'earn', 'dylan', 'duck', 'disastrous', 'dirt', 'destroys', 'debate', 'curly', 'commenting', 'colin', 'cheer', 'centre', 'cassavetes', 'camcorder', 'bully', 'bridges', 'brendan', 'boxer', 'bowl', 'bondage', 'bogus', 'bates', 'bacon', 'artwork', 'artsy', 'arthouse', 'accurately', '4th', '1988', '1981', 'yeti', 'windows', 'wheres', 'vile', 'vain', 'unlikeable', 'uma', 'triangle', 'traffic', 'topics', 'suggestion', 'subtly', 'strings', 'steele', 'stalker', 'speeches', 'somethingbr', 'sleeps', 'sincerely', 'sharing', 'shaking', 'rooting', 'refuse', 'readers', 'predecessor', 'organized', 'obtain', 'norm', 'neatly', 'mutual', 'mayhem', 'males', 'liners', 'leigh', 'layers', 'kline', 'info', 'hides', 'healthy', 'harrison', 'guinness', 'gillian', 'fist', 'fade', 'excess', 'evolution', 'entered', 'engrossing', 'endingbr', 'election', 'duration', 'dudley', 'doo', 'donebr', 'disorder', 'destined', 'describing', 'demonic', 'containing', 'concepts', 'completed', 'chavez', 'centered', 'cartoonish', 'brooding', 'boringbr', 'boasts', 'bent', 'audition', 'anton', '22', '1976', '1969', '1000', 'woo', 'wig', 'weather', 'weaker', 'wanders', 'vastly', 'undead', 'triple', 'ta', 'stopping', 'stack', 'sometime', 'sobr', 'skit', 'seedy', 'saint', 'rope', 'reruns', 'rendered', 'relentless', 'refers', 'raj', 'quaid', 'punches', 'profession', 'politician', 'pole', 'originals', 'nope', 'newman', 'mesmerizing', 'masterfully', 'mannerisms', 'loretta', 'lifes', 'leaders', 'jess', 'injured', 'hungry', 'hugely', 'hires', 'helpless', 'helpful', 'hartley', 'guards', 'genie', 'gal', 'frances', 'exquisite', 'elevator', 'des', 'deny', 'dazzling', 'damaged', 'critique', 'christine', 'carmen', 'bulk', 'boris', 'beware', 'authorities', 'applaud', 'anyones', 'affects', 'advertised', '1945', 'wendigo', 'users', 'unsuspecting', 'tower', 'tops', 'thunderbirds', 'tenant', 'tarantino', 'stunningly', 'strengths', 'statue', 'startling', 'stare', 'stallone', 'shorter', 'scoop', 'scariest', 'rides', 'restrained', 'residents', 'realities', 'randolph', 'racing', 'publicity', 'proving', 'preparing', 'passengers', 'owes', 'nut', 'nina', 'myth', 'motive', 'mixing', 'min', 'lukas', 'luis', 'lift', 'lauren', 'lasts', 'lasting', 'knowbr', 'knightley', 'jared', 'itselfbr', 'internal', 'ingrid', 'hulk', 'goodbye', 'gained', 'fifties', 'fastpaced', 'exploits', 'excellently', 'error', 'emerge', 'duvall', 'dropping', 'detract', 'demanding', 'crashes', 'contempt', 'conrad', 'cliches', 'chronicles', 'choosing', 'cbs', 'carey', 'candidate', 'btw', 'breed', 'bow', 'behold', 'backwards', 'alvin', 'alley', 'akin', 'activity', '\\x85', 'zizek', 'youthful', 'wardrobe', 'votes', 'vanessa', 'valentine', 'tokyo', 'timberlake', 'tara', 'suburban', 'storys', 'spree', 'soylent', 'sniper', 'sleaze', 'sinking', 'servants', 'screw', 'referring', 'rapidly', 'radical', 'puerto', 'promptly', 'poker', 'origins', 'origin', 'nolte', 'netflix', 'net', 'mutant', 'modest', 'misfortune', 'minister', 'miami', 'mail', 'macabre', 'lovebr', 'located', 'limitations', 'label', 'kent', 'justified', 'jordan', 'joker', 'jaw', 'insults', 'insights', 'inaccurate', 'highway', 'heels', 'grounds', 'globe', 'gimmick', 'giants', 'gere', 'galaxy', 'forbr', 'fools', 'fifth', 'factors', 'expertly', 'everbr', 'errol', 'entering', 'elsebr', 'eleven', 'dubious', 'dj', 'disguised', 'disappointedbr', 'didbr', 'deliverance', 'cracking', 'convinces', 'contribution', 'continuing', 'confronted', 'confront', 'compete', 'cerebral', 'casino', 'buys', 'bronson', 'breakfast', 'bitch', 'belt', 'banter', 'bachelor', 'authenticity', 'attenborough', 'ariel', 'approaches', 'antonio', 'anil', 'alexandre', 'abruptly', '21st', '1991', '1939', 'wander', 'walt', 'vividly', 'unsure', 'underwater', 'undeniably', 'tossed', 'tormented', 'toni', 'supply', 'sticking', 'sf', 'salvation', 'salt', 'rookie', 'ronald', 'reward', 'repulsive', 'repressed', 'regards', 'rampage', 'puppets', 'principals', 'phillip', 'perception', 'pale', 'painter', 'owns', 'ol', 'monty', 'mol', 'mitch', 'lowkey', 'lend', 'landed', 'jarring', 'interact', 'insanity', 'inherent', 'homicide', 'homes', 'heavyhanded', 'growth', 'greatbr', 'grateful', 'formed', 'fords', 'expects', 'eventual', 'endlessly', 'differently', 'derivative', 'depths', 'definitive', 'dandy', 'crapbr', 'convicted', 'confident', 'conan', 'comedybr', 'colours', 'cents', 'braveheart', 'bmovies', 'bitten', 'biblical', 'austen', 'approaching', 'altered', 'accessible', '1977', 'yokai', 'witchcraft', 'wisely', 'vehicles', 'unattractive', 'terminator', 'survives', 'stranded', 'spies', 'siblings', 'sg1', 'separated', 'sensible', 'scriptbr', 'sale', 'runner', 'reviewing', 'published', 'pray', 'polly', 'pickup', 'photographs', 'peck', 'overblown', 'outline', 'nominations', 'natalie', 'moe', 'mobile', 'mice', 'meandering', 'mathieu', 'marc', 'letdown', 'juliet', 'jules', 'judd', 'jedi', 'irene', 'incapable', 'imo', 'immortal', 'identical', 'heavens', 'hats', 'handheld', 'ham', 'gunga', 'goodlooking', 'godawful', 'glued', 'gates', 'frames', 'flimsy', 'flashes', 'fatale', 'exterior', 'exploit', 'exit', 'evelyn', 'eternity', 'energetic', 'ebert', 'dragons', 'dobr', 'dismal', 'devastating', 'depict', 'decidedly', 'damned', 'cries', 'conveyed', 'concentrate', 'cemetery', 'caricature', 'buzz', 'bruno', 'bravo', 'beforebr', 'barrel', 'assured', 'angst', 'ally', 'adore', 'zane', 'wtf', 'wonderland', 'wagner', 'volume', 'unimaginative', 'uniform', 'thoughbr', 'tapes', 'swallow', 'subway', 'sublime', 'stalking', 'sophie', 'soderbergh', 'simpsons', 'severed', 'scarface', 'rivers', 'respectable', 'reports', 'reminder', 'reliable', 'quantum', 'psychopath', 'promoted', 'principle', 'pleasing', 'playboy', 'performancebr', 'penn', 'pc', 'payoff', 'pattern', 'papers', 'owned', 'overbr', 'oldfashioned', 'niece', 'mermaid', 'longest', 'lester', 'lance', 'judgment', 'janes', 'intricate', 'inspirational', 'improbable', 'implied', 'homosexuality', 'hindi', 'harriet', 'fragile', 'filthy', 'farmer', 'expose', 'excruciatingly', 'entirety', 'enthusiastic', 'ensure', 'enhanced', 'dread', 'downs', 'divine', 'disgrace', 'disabled', 'demonstrate', 'delicious', 'cypher', 'cushing', 'cultures', 'crossing', 'crisp', 'crippled', 'creek', 'contribute', 'cons', 'combines', 'colleagues', 'cliffhanger', 'cleaning', 'clara', 'chopped', 'characteristics', 'cecil', 'butcher', 'butch', 'bug', 'bsg', 'bones', 'bloom', 'beowulf', 'arguing', 'arab', 'appeals', 'antonioni', 'africanamerican', 'addict', 'accounts', 'absorbing', '300', '1985', '1950', 'youtube', 'whiny', 'whining', 'victorian', 'vanilla', 'ultimatum', 'tremendously', 'tendency', 'switched', 'steam', 'sidewalk', 'sergeant', 'sentimentality', 'senior', 'seeming', 'scratch', 'salman', 'revolt', 'reeve', 'rainy', 'quentin', 'pursue', 'possess', 'popping', 'pirate', 'pickford', 'paula', 'parallels', 'packs', 'p', 'ominous', 'ohara', 'ny', 'noticeable', 'nightclub', 'nerves', 'morals', 'mitchum', 'missile', 'miranda', 'mindbr', 'lighter', 'lex', 'leather', 'kidnapping', 'jodie', 'jacket', 'immense', 'holocaust', 'hippies', 'habit', 'fairbanks', 'experiencing', 'estranged', 'escaping', 'embrace', 'email', 'dustin', 'drinks', 'divorced', 'distract', 'deer', 'decline', 'cyborg', 'collect', 'christina', 'budgets', 'boyer', 'bills', 'attacking', 'astounding', 'assembled', 'anyhow', 'answered', 'amrita', 'aided', 'affleck', '95', '28', '1994', '1974', '1920s', 'yours', 'wounds', 'wire', 'wilder', 'werewolves', 'wellacted', 'voyage', 'virtual', 'vince', 'updated', 'unsatisfying', 'turmoil', 'truman', 'toby', 'theories', 'sydney', 'sucker', 'subtext', 'stewarts', 'stardom', 'spectacle', 'spaghetti', 'sought', 'seymour', 'selected', 'sand', 'rounded', 'reviewed', 'resulted', 'resolved', 'rescued', 'remembering', 'rebellious', 'precode', 'postwar', 'pin', 'peculiar', 'peaceful', 'messing', 'manbr', 'magician', 'longtime', 'longing', 'lola', 'logan', 'literal', 'liam', 'lavish', 'kurosawa', 'knocks', 'juliette', 'jill', 'jaded', 'isolation', 'havoc', 'hackman', 'grass', 'goldblum', 'glaring', 'ghetto', 'garland', 'gable', 'forgiven', 'foolish', 'followup', 'fills', 'expectation', 'exorcist', 'earnest', 'disgust', 'dilemma', 'denis', 'demonstrated', 'deliberate', 'daysbr', 'dashing', 'dame', 'crown', 'crashing', 'corporation', 'copied', 'conveniently', 'contestants', 'collective', 'classy', 'clash', 'christie', 'chill', 'cheaply', 'casper', 'begging', 'bach', 'avoiding', 'asia', 'approached', 'amazon', 'alleged', 'aiming', 'adrian', '21', '200', '19', '\\x97', 'yep', 'worms', 'whites', 'wartime', 'verdict', 'vega', 'traits', 'trains', 'tourist', 'tonys', 'thieves', 'thelma', 'taped', 'swearing', 'suspected', 'spit', 'spencer', 'span', 'snuff', 'slip', 'slaves', 'slapped', 'skilled', 'settled', 'serials', 'scotts', 'samantha', 'rowlands', 'romeo', 'ritchie', 'relentlessly', 'rehash', 'rear', 'quarter', 'q', 'potter', 'poses', 'pocket', 'plotting', 'planets', 'pad', 'odyssey', 'mystical', 'mum', 'morons', 'melvyn', 'liveaction', 'liu', 'lightning', 'laurie', 'kellys', 'keatons', 'karate', 'judged', 'jobbr', 'jealousy', 'indiana', 'hayworth', 'goods', 'gentlemen', 'gamera', 'feast', 'executives', 'excuses', 'establish', 'erika', 'enhance', 'dump', 'dramatically', 'diverse', 'delighted', 'define', 'debt', 'dealer', 'contributed', 'commits', 'coat', 'climb', 'cinemabr', 'cher', 'celebrated', 'canceled', 'bw', 'burke', 'borders', 'bombs', 'bittersweet', 'aussie', 'arriving', 'arc', 'admired', 'addiction', 'acquired', 'achieves', 'accepting', '1959', 'yawn', 'worsebr', 'wiped', 'vintage', 'vanity', 'underwear', 'ultra', 'uh', 'tool', 'tax', 'taboo', 'suggesting', 'strict', 'stella', 'spice', 'slugs', 'shepherd', 'serum', 'seebr', 'seductive', 'seasoned', 'sarcastic', 'romances', 'ritual', 'rewarding', 'remembers', 'redundant', 'readily', 'races', 'pumbaa', 'psychologist', 'preminger', 'predictably', 'posing', 'populated', 'planes', 'pirates', 'phenomenal', 'pedestrian', 'pause', 'overboard', 'novelty', 'nbc', 'moron', 'mason', 'lunch', 'loy', 'likeable', 'legitimate', 'leap', 'korea', 'jersey', 'introducing', 'intentional', 'insist', 'inmates', 'informed', 'incorrect', 'immigrant', 'horny', 'hepburn', 'headache', 'gypo', 'guinea', 'graveyard', 'furniture', 'frontier', 'freaky', 'fluid', 'flavor', 'explosive', 'exploding', 'expense', 'drab', 'delightfully', 'deliciously', 'defies', 'dads', 'cuban', 'covering', 'courtroom', 'cookie', 'comprehend', 'commitment', 'cohen', 'circles', 'cheek', 'cape', 'bye', 'breakdown', 'brainless', 'bounty', 'bestbr', 'basket', 'backbr', 'axe', 'attending', 'amidst', '1944', 'wine', 'wider', 'watchingbr', 'wastes', 'unsympathetic', 'trace', 'tongueincheek', 'tolerable', 'thirties', 'symbol', 'stylized', 'stroke', 'stephanie', 'steer', 'slide', 'sixth', 'shockingly', 'sgt', 'sells', 'screwball', 'robbers', 'ricky', 'respects', 'redneck', 'ranch', 'pushes', 'produces', 'pound', 'possession', 'possesses', 'politicians', 'polish', 'poe', 'pixar', 'pilots', 'phase', 'passage', 'parking', 'pans', 'otto', 'nuances', 'newcomer', 'mysteriously', 'mouths', 'mortal', 'mins', 'medieval', 'meantime', 'lucille', 'lethal', 'lends', 'lean', 'kinnear', 'jacques', 'ira', 'instincts', 'hybrid', 'gwyneth', 'groundbreaking', 'gilbert', 'gielgud', 'franklin', 'foundation', 'firstrate', 'festivals', 'experiencebr', 'europeans', 'establishing', 'encountered', 'embarrassingly', 'einstein', 'dominated', 'deciding', 'debbie', 'deanna', 'daylewis', 'crosby', 'counter', 'corbett', 'consist', 'consideration', 'clive', 'cliched', 'clerk', 'cigarette', 'charlies', 'caron', 'carnage', 'cal', 'branaghs', 'beg', 'barbra', 'bachchan', 'awakening', 'attended', 'arrest', 'arranged', 'apply', 'anytime', 'anxious', 'additionally', 'actorsbr', '10br', 'xfiles', 'viewpoint', 'unusually', 'unanswered', 'tickets', 'tactics', 'stating', 'stabbed', 'sparks', 'sources', 'session', 'scorsese', 'scored', 'sarandon', 'salesman', 'routines', 'roughly', 'rider', 'reverse', 'rejects', 'rational', 'queens', 'pursued', 'psyche', 'porter', 'pfeiffer', 'penelope', 'ordeal', 'optimistic', 'olivia', 'obstacles', 'obsessive', 'noteworthy', 'neglected', 'narrow', 'mute', 'motions', 'misunderstood', 'milo', 'mens', 'marilyn', 'longoria', 'laterbr', 'kubricks', 'keys', 'kazan', 'kathy', 'jury', 'july', 'jewel', 'invite', 'invention', 'informative', 'indifferent', 'indicate', 'incidents', 'huston', 'horrified', 'hop', 'herbert', 'hateful', 'haines', 'gloria', 'freaking', 'forgetting', 'flock', 'flickbr', 'feminine', 'feeble', 'exploited', 'explodes', 'excruciating', 'en', 'dumped', 'dumbest', 'duel', 'document', 'distress', 'distracted', 'diary', 'denise', 'degrees', 'deathbr', 'daisy', 'controlling', 'compliment', 'clone', 'cindy', 'casablanca', 'busey', 'brides', 'breathing', 'blandings', 'begs', 'arty', 'armstrong', 'anticipated', 'anthology', 'aftermath', 'adaption', 'abandon', '99', '1975', '1953', 'whore', 'warns', 'void', 'veterans', 'verbal', 'varied', 'upcoming', 'uncanny', 'un', 'tvs', 'turd', 'translate', 'thurman', 'targets', 'sundance', 'stations', 'spiderman', 'sickening', 'sensebr', 'sanders', 'rosemarys', 'rightbr', 'relevance', 'regularly', 'rambling', 'puzzle', 'pros', 'products', 'pointing', 'pathos', 'participants', 'ofbr', 'niven', 'mythology', 'murky', 'moss', 'mormon', 'monologue', 'minnelli', 'meal', 'mcqueen', 'martian', 'mama', 'jenna', 'iranian', 'intensely', 'instances', 'inaccuracies', 'historybr', 'hannah', 'grandma', 'grabbed', 'goals', 'generate', 'gangs', 'fright', 'freeze', 'frantic', 'flower', 'fishburne', 'eagerly', 'distraction', 'depictions', 'debra', 'daylight', 'darth', 'cunningham', 'corn', 'corman', 'corey', 'cooking', 'convention', 'combs', 'columbia', 'ches', 'centuries', 'cannes', 'biopic', 'belly', 'arquette', 'arguments', 'angie', 'agony', 'aggressive', 'afterward', '34', '1998', '1940', 'zorro', 'z', 'widowed', 'whybr', 'upside', 'update', 'tuned', 'traps', 'tomei', 'tcm', 'swinging', 'suspicion', 'sunrise', 'statements', 'starters', 'starsbr', 'stance', 'spine', 'sondra', 'shifts', 'shift', 'services', 'seats', 'sang', 'rounds', 'rosario', 'resembling', 'replies', 'releasing', 'relating', 'realization', 'realistically', 'predator', 'policy', 'plodding', 'phones', 'paths', 'parks', 'paints', 'overbearing', 'nerve', 'naschy', 'motorcycle', 'midst', 'mates', 'masterson', 'manners', 'lurking', 'lowe', 'lip', 'lions', 'lionel', 'launch', 'laputa', 'kidnap', 'juan', 'jose', 'jolie', 'intro', 'interestingbr', 'inclusion', 'ignoring', 'hyped', 'hoot', 'herman', 'heath', 'harlow', 'hadley', 'grip', 'gooding', 'glimpses', 'glance', 'gallery', 'funding', 'forties', 'followers', 'flames', 'fanatic', 'exclusively', 'evans', 'enigmatic', 'enchanted', 'employee', 'economic', 'dumber', 'dismiss', 'discussed', 'dillinger', 'deputy', 'deed', 'curiously', 'criticize', 'controversy', 'coffin', 'click', 'claude', 'carpenters', 'bogart', 'blamed', 'berkeley', 'begun', 'august', 'ambitions', 'ambiguity', 'admitted', '85', '1982', '1948', 'wong', 'warden', 'uniforms', 'troma', 'syndrome', 'sweden', 'surroundings', 'substantial', 'stuffbr', 'stream', 'stiles', 'sterling', 'stereotyped', 'stardust', 'stalked', 'snowman', 'snipes', 'smash', 'sly', 'skinny', 'sketches', 'shore', 'shepard', 'sentences', 'selfindulgent', 'scripting', 'scenarios', 'scarecrows', 'saloon', 'safely', 'rupert', 'ruining', 'rewarded', 'reunite', 'reiser', 'reflected', 'qualify', 'popped', 'platform', 'periods', 'pains', 'ownbr', 'omar', 'offscreen', 'october', 'necessity', 'narrated', 'murderers', 'moneybr', 'moms', 'miyazaki', 'meteor', 'maureen', 'maintains', 'mabel', 'linked', 'lastly', 'kris', 'kathleen', 'imaginary', 'ignores', 'idol', 'hinted', 'hines', 'haunt', 'goldie', 'gloomy', 'gigantic', 'gestures', 'gap', 'frontal', 'frog', 'fried', 'foremost', 'foil', 'fleshed', 'factual', 'extensive', 'envy', 'enoughbr', 'educated', 'edith', 'dynamics', 'dreamy', 'dominic', 'cycle', 'county', 'consequently', 'consequence', 'comeback', 'cheadle', 'chamber', 'capacity', 'campus', 'bosses', 'biker', 'battlestar', 'backed', 'avid', 'assignment', 'apt', 'applies', 'applied', 'angelina', 'ample', 'alot', 'abortion', '1934', 'witnessing', 'wheel', 'wayans', 'valid', 'unstable', 'unfolding', 'ugh', 'trier', 'tones', 'tho', 'therapy', 'soprano', 'smell', 'slim', 'sins', 'sights', 'sheets', 'shaggy', 'sebastian', 'schneider', 'schedule', 'sammo', 'sailor', 'russ', 'rodriguez', 'robertson', 'rips', 'revolving', 'revival', 'reunited', 'resume', 'resistance', 'replacement', 'repeats', 're', 'protest', 'precise', 'pose', 'pornography', 'phantasm', 'pegg', 'paranoid', 'observe', 'nuanced', 'muslims', 'moviemaking', 'moviegoers', 'momentum', 'momentsbr', 'mick', 'medicine', 'marisa', 'knights', 'kells', 'jacks', 'israeli', 'islands', 'investigator', 'invested', 'intact', 'insomnia', 'homicidal', 'gus', 'graduate', 'georgia', 'genrebr', 'gaps', 'frozen', 'entrance', 'eli', 'du', 'diner', 'denouement', 'delirious', 'daytime', 'collins', 'clunky', 'clay', 'characterizations', 'characterisation', 'chamberlain', 'castbr', 'carlos', 'cap', 'cab', 'bubble', 'brooke', 'breast', 'bonnie', 'blockbusters', 'bleed', 'blaise', 'biting', 'bikini', 'benefits', 'beckinsale', 'bats', 'bait', 'awfulbr', 'assure', 'arrow', 'array', 'arkin', 'anita', 'alliance', 'acknowledge', '1992', '101', 'weekly', 'waking', 'vivian', 'villainous', 'unhinged', 'tomb', 'tire', 'throughbr', 'thereby', 'talky', 'supreme', 'sufficient', 'studied', 'stern', 'stadium', 'spider', 'sour', 'sonny', 'skeptical', 'sitcoms', 'similarity', 'silverman', 'shotgun', 'shocks', 'sherlock', 'sheen', 'sensibility', 'seduce', 'sarcasm', 'rolls', 'rightly', 'retelling', 'reserved', 'relying', 'rebels', 'realises', 'raging', 'questioning', 'prophecy', 'playwright', 'pivotal', 'parrot', 'offend', 'networks', 'needing', 'mustve', 'moviei', 'marked', 'lynchs', 'lopez', 'lil', 'landmark', 'laboratory', 'jude', 'joking', 'johns', 'johansson', 'interrupted', 'inadvertently', 'hysterically', 'hooker', 'hayes', 'geisha', 'gathering', 'fuzzy', 'fundamental', 'fortunate', 'fleet', 'famed', 'ernie', 'entertainingbr', 'enchanting', 'displaying', 'detroit', 'deemed', 'customers', 'crushed', 'cow', 'commanding', 'colored', 'collette', 'coke', 'clooney', 'childlike', 'chiba', 'cheers', 'boundaries', 'bias', 'bc', 'bauer', 'balanced', 'babes', 'artistry', 'admits', 'abound', '1967', 'ww2', 'worldwide', 'washed', 'wash', 'visitor', 'vignettes', 'vargas', 'usbr', 'upstairs', 'unnatural', 'unfamiliar', 'understandably', 'unclear', 'truths', 'trivial', 'trauma', 'sweat', 'sunset', 'substitute', 'subsequently', 'subgenre', 'stumble', 'stake', 'spotlight', 'smug', 'shred', 'shameless', 'scheming', 'samuel', 'rice', 'republic', 'reminding', 'reluctantly', 'randall', 'quintessential', 'puppy', 'psychedelic', 'progressed', 'professionals', 'phoenix', 'penned', 'olsen', 'observations', 'northam', 'nauseating', 'myrna', 'maximum', 'mandy', 'madsen', 'madeleine', 'lunatic', 'janet', 'iturbi', 'interviewed', 'interior', 'insert', 'howling', 'hostel', 'hitchcocks', 'harrowing', 'hardened', 'handicapped', 'gackt', 'fuel', 'fruit', 'frombr', 'forgets', 'finishing', 'finishes', 'favourites', 'fassbinder', 'fart', 'evokes', 'epics', 'enduring', 'egyptian', 'drowned', 'doug', 'divided', 'diversity', 'district', 'disco', 'determination', 'despise', 'demille', 'deathtrap', 'criticized', 'coworker', 'courtesy', 'convent', 'controls', 'confined', 'complications', 'comparable', 'commendable', 'chew', 'cheerful', 'charges', 'chaotic', 'celebrities', 'caretaker', 'caprica', 'bust', 'brett', 'boots', 'boogie', 'beckham', 'bakshis', 'baddies', 'awareness', 'arrogance', 'arebr', 'announced', 'ala', 'ajay', 'addressed', 'accompanying', 'accidental', '1943', 'yell', 'wright', 'wholesome', 'whod', 'whimsical', 'verge', 'unnecessarily', 'um', 'travis', 'transparent', 'traditions', 'titular', 'timmy', 'tide', 'thrust', 'thailand', 'testing', 'temper', 'tashan', 'targeted', 'sylvia', 'surround', 'summed', 'spoiling', 'sincerity', 'sholay', 'shannon', 'seth', 'semblance', 'scarlett', 'sanity', 'salvage', 'roses', 'relaxed', 'recover', 'rea', 'python', 'programme', 'perverted', 'participate', 'owl', 'outlandish', 'orchestra', 'olds', 'occult', 'obscurity', 'musicbr', 'monotonous', 'monks', 'misty', 'meadows', 'mccarthy', 'martians', 'magically', 'license', 'lens', 'laying', 'krueger', 'kirsten', 'kindly', 'judges', 'interpretations', 'inserted', 'injury', 'infinitely', 'hunted', 'hostile', 'hostage', 'hiphop', 'himselfbr', 'hawn', 'hallmark', 'gut', 'guardian', 'gorilla', 'galactica', 'flows', 'file', 'fascist', 'fairytale', 'explode', 'entries', 'earliest', 'dynamite', 'distributed', 'destination', 'deeds', 'cutter', 'convenient', 'considers', 'composition', 'colleague', 'cmon', 'chuckles', 'chong', 'characteristic', 'captivated', 'camping', 'cameraman', 'cain', 'burial', 'brent', 'brat', 'bonds', 'bonanza', 'blackandwhite', 'baron', 'backstory', 'aroundbr', 'antagonist', 'annoy', 'affecting', 'adele', '1963', '1951', 'wrestler', 'winners', 'whove', 'wherever', 'wesley', 'walmart', 'vomit', 'variation', 'upbeat', 'understatement', 'underdeveloped', 'unappealing', 'turkish', 'toxic', 'toned', 'thunder', 'taut', 'takashi', 'suzanne', 'sunk', 'stuffed', 'stepmother', 'sporting', 'spoilerbr', 'smiths', 'slashers', 'sho', 'searched', 'se', 'scoobydoo', 'satisfaction', 'sane', 'sales', 'robbed', 'rivals', 'resolve', 'remark', 'recreate', 'raunchy', 'rampant', 'protection', 'preaching', 'portuguese', 'plate', 'pizza', 'pigs', 'philo', 'partbr', 'outrageously', 'othersbr', 'orphan', 'openly', 'observation', 'nun', 'novelist', 'nightmarish', 'motel', 'mister', 'miraculously', 'miikes', 'melancholy', 'marcel', 'manipulation', 'macdonald', 'listened', 'kinski', 'jagger', 'intend', 'inclined', 'incestuous', 'implies', 'hooper', 'herd', 'happenbr', 'gypsy', 'grin', 'ghastly', 'fritz', 'flashing', 'flag', 'finney', 'fetish', 'faded', 'eyesbr', 'exploitative', 'excels', 'engine', 'elsa', 'elliott', 'elephants', 'ealing', 'dwight', 'dvdbr', 'duh', 'drowning', 'drift', 'dragging', 'devotion', 'dangerously', 'dallas', 'dahmer', 'dafoe', 'crosses', 'crossed', 'crooks', 'creasy', 'counting', 'constraints', 'complained', 'compensate', 'communication', 'committing', 'coma', 'cocaine', 'clouds', 'clarity', 'cena', 'cancelled', 'borrow', 'blazing', 'benjamin', 'bearing', 'beard', 'battlefield', 'banks', 'awaiting', 'avoids', 'article', 'almighty', 'aesthetic', 'admission', 'adapt', 'achievements', 'aaron', '010', 'zodiac', 'wheelchair', 'watcher', 'warrant', 'voyager', 'voodoo', 'vcr', 'vapid', 'uneasy', 'unconventional', 'traumatic', 'transport', 'tools', 'tess', 'stabbing', 'ss', 'spontaneous', 'spiral', 'sophia', 'somethings', 'slower', 'sinks', 'shoe', 'sharks', 'shameful', 'shahid', 'shah', 'sexist', 'sergio', 'serbian', 'senator', 'sections', 'seattle', 'screened', 'satanic', 'runaway', 'ruled', 'rolesbr', 'robotic', 'riff', 'restraint', 'rendering', 'remainder', 'reasonbr', 'ram', 'prop', 'progression', 'proceed', 'pretends', 'presidential', 'practical', 'plug', 'permanent', 'peggy', 'palm', 'overtones', 'overshadowed', 'originalbr', 'oblivious', 'nutshell', 'moores', 'mole', 'mock', 'mentor', 'lookalike', 'locke', 'lennon', 'juice', 'joining', 'jj', 'je', 'jan', 'jackman', 'isabelle', 'irritated', 'impending', 'ideabr', 'hometown', 'homebr', 'henchmen', 'gretchen', 'govinda', 'glossy', 'gilliam', 'ghostly', 'gena', 'garfield', 'frat', 'flavia', 'fires', 'fashions', 'fairness', 'facility', 'excellence', 'evoke', 'everett', 'ernest', 'epitome', 'enormously', 'encouraged', 'drivers', 'dreaming', 'distinction', 'desk', 'deepest', 'creations', 'courageous', 'coolest', 'contestant', 'confuse', 'conductor', 'climbing', 'classmates', 'clad', 'circa', 'chloe', 'cheering', 'celebrate', 'cedric', 'carlitos', 'buttons', 'busby', 'burnt', 'betrayed', 'bernsen', 'battling', 'bashing', 'awarded', 'avenge', 'automatic', 'aunts', 'assumes', 'artemisia', 'apple', 'apocalypse', 'advised', 'admiration', 'abundance', 'absorbed', '26', '1932', 'warehouse', 'versionbr', 'val', 'unleashed', 'transforms', 'thingsbr', 'theodore', 'superstar', 'submarine', 'suave', 'stab', 'solved', 'slater', 'sickness', 'sheep', 'shaped', 'selfcentered', 'secure', 'screenplays', 'rourke', 'roller', 'rivalry', 'riders', 'respond', 'reported', 'razor', 'raid', 'qualifies', 'quaint', 'pursuing', 'prologue', 'projected', 'principles', 'priests', 'possiblebr', 'plotline', 'picturebr', 'paz', 'pauline', 'ostensibly', 'organization', 'occupied', 'noting', 'notices', 'ninety', 'myrtle', 'meyer', 'meredith', 'meek', 'masked', 'marijuana', 'magazines', 'macmurray', 'linear', 'lindy', 'labeled', 'jo', 'jar', 'informer', 'incidental', 'incest', 'hum', 'hobgoblins', 'greene', 'goat', 'giovanna', 'gig', 'garage', 'fraud', 'ferrell', 'feinstone', 'failures', 'fades', 'experts', 'espionage', 'employees', 'electronic', 'effortlessly', 'eagle', 'dominate', 'distinctive', 'disregard', 'disappearance', 'diego', 'demeanor', 'defending', 'deadpan', 'dc', 'cursed', 'criticisms', 'convict', 'conveying', 'colony', 'coburn', 'clyde', 'chops', 'choir', 'chip', 'carpet', 'capote', 'caper', 'candle', 'brazilian', 'brashear', 'bout', 'bookbr', 'boobs', 'blondell', 'bimbo', 'bert', 'beforehand', 'beers', 'auto', 'assistance', 'antihero', 'ambiance', '1966', '1958', 'zelah', 'yells', 'worrying', 'woefully', 'weirdness', 'warners', 'warhols', 'vigilante', 'uncertain', 'turtle', 'torment', 'tolerance', 'tits', 'tightly', 'theatres', 'tended', 'tech', 'tackle', 'symbols', 'switching', 'sustain', 'strung', 'starship', 'spoofs', 'socially', 'sober', 'snap', 'slept', 'slavery', 'sites', 'signature', 'sensual', 'sensitivity', 'scriptwriter', 'sandy', 'saints', 'russo', 'revolver', 'responds', 'reject', 'rebellion', 'realbr', 'prostitution', 'prostitutes', 'predecessors', 'prank', 'pornographic', 'pompous', 'playful', 'pierre', 'patty', 'outset', 'ongoing', 'officially', 'offense', 'obrien', 'ninjas', 'nest', 'motivated', 'monroe', 'mira', 'mills', 'middleclass', 'marines', 'manipulated', 'managing', 'malden', 'mae', 'madison', 'lifelong', 'lara', 'lampoon', 'joint', 'jigsaw', 'investment', 'interiors', 'informs', 'inform', 'influential', 'influences', 'ideals', 'idealistic', 'highschool', 'harron', 'grease', 'gershwin', 'geek', 'gandolfini', 'frost', 'framing', 'forgiveness', 'filmography', 'fiend', 'fiancée', 'farmers', 'englund', 'edison', 'edges', 'dunst', 'dreyfuss', 'drawings', 'doyle', 'discipline', 'digging', 'detached', 'davids', 'croc', 'crashed', 'conscious', 'confines', 'combining', 'colman', 'cohesive', 'closure', 'clinic', 'cheech', 'cells', 'burgess', 'budding', 'brandon', 'bodyguard', 'boards', 'bloodbath', 'bless', 'blames', 'bennett', 'bean', 'barney', 'barnes', 'badness', 'associate', 'annoyance', 'ang', 'alonebr', 'ads', 'admirer', 'abomination', '1955', 'waynes', 'vincenzo', 'vet', 'varying', 'unravel', 'troopers', 'travolta', 'transported', 'tramp', 'tolerate', 'throwaway', 'theirs', 'surrender', 'superfluous', 'stupidbr', 'stink', 'standpoint', 'stabs', 'spelling', 'spade', 'spaceship', 'slam', 'shrek', 'shoved', 'shootouts', 'shield', 'seuss', 'seriousness', 'scratching', 'sara', 'sammy', 'sailors', 'sacrifices', 'rewrite', 'replacing', 'reasoning', 'reagan', 'protective', 'programming', 'pressed', 'policemen', 'polar', 'perverse', 'perspectives', 'peril', 'pen', 'peers', 'parodies', 'palmas', 'pairing', 'padding', 'oprah', 'norris', 'nearest', 'mythical', 'mustache', 'morse', 'monica', 'mixes', 'mines', 'midget', 'merry', 'mercifully', 'marrying', 'marine', 'marcus', 'manic', 'maintaining', 'lurid', 'loren', 'lingering', 'liberty', 'lays', 'kareena', 'kalifornia', 'justification', 'jurassic', 'jewelry', 'irving', 'interplay', 'inexperienced', 'inconsistencies', 'imitate', 'imho', 'identified', 'holt', 'happenings', 'hallucinations', 'gruff', 'groove', 'griffiths', 'grating', 'grandpa', 'goodman', 'gino', 'geoffrey', 'gadgets', 'functions', 'forrest', 'fodder', 'flowing', 'fixed', 'facebr', 'fabric', 'existing', 'emphasize', 'egg', 'economy', 'echoes', 'division', 'diving', 'distorted', 'dish', 'directtovideo', 'dim', 'dictator', 'determine', 'dern', 'derived', 'depend', 'damsel', 'cunning', 'crowded', 'cringing', 'cravens', 'cracks', 'coworkers', 'counterparts', 'consciousness', 'connie', 'conclusions', 'concentration', 'collector', 'collapse', 'cody', 'captive', 'cannibals', 'buffy', 'britney', 'breathe', 'boyfriends', 'blessed', 'bites', 'berenger', 'believability', 'beetle', 'awry', 'asset', 'animations', 'anguish', 'amid', 'allan', 'alexandra', 'advances', 'acclaim', '1946', 'yearbr', 'yarn', 'widower', 'weary', 'villa', 'vertigo', 'uptight', 'tsui', 'trigger', 'transplant', 'torturing', 'temptation', 'systems', 'switches', 'surf', 'subtitled', 'structured', 'strained', 'stoned', 'steaming', 'stares', 'staging', 'spelled', 'sorrow', 'slut', 'simons', 'significantly', 'showcases', 'shelter', 'sensibilities', 'sensational', 'seduction', 'sasquatch', 'russians', 'rousing', 'romania', 'representing', 'representative', 'regime', 'reese', 'reckless', 'radiation', 'profoundly', 'portions', 'plagued', 'placement', 'pia', 'paycheck', 'pals', 'paired', 'overwrought', 'outlaw', 'ossessione', 'orlando', 'opposition', 'officials', 'natali', 'muni', 'monologues', 'mobster', 'melbourne', 'mcadams', 'marvin', 'manga', 'mack', 'luxury', 'lords', 'loony', 'longbr', 'locate', 'locale', 'lo', 'linebr', 'lightweight', 'lifts', 'liberties', 'lars', 'kristofferson', 'kidnaps', 'keanu', 'katie', 'k', 'inhabit', 'identities', 'heroines', 'henchman', 'heather', 'heap', 'hartleys', 'hardboiled', 'hanzo', 'hans', 'han', 'hairy', 'haha', 'grossly', 'graces', 'gibson', 'genetic', 'gathered', 'gasp', 'funky', 'foreboding', 'flew', 'fiery', 'federal', 'faye', 'faint', 'examine', 'er', 'entertains', 'engineer', 'elected', 'egypt', 'edmund', 'earns', 'duchovny', 'drummer', 'drastically', 'downfall', 'downbeat', 'dom', 'disappoints', 'depardieu', 'denying', 'dedication', 'deck', 'decency', 'dash', 'darkly', 'czech', 'cradle', 'cowardly', 'coward', 'cousins', 'contributes', 'continuously', 'confronts', 'condemned', 'communism', 'cloak', 'censorship', 'categories', 'cages', 'butchered', 'brush', 'borrows', 'bon', 'benny', 'bastard', 'bartender', 'animators', 'anchors', 'altmans', 'ali', 'airing', 'adultery', 'actionbr', 'abu', 'zu', 'youngsters', 'wielding', 'warbr', 'visconti', 'virtue', 'vaughn', 'uninspiring', 'underused', 'undercover', 'tricked', 'transitions', 'tina', 'threads', 'thereafter', 'tasty', 'taime', 'sykes', 'sweeping', 'surgeon', 'supportive', 'supermarket', 'sucking', 'subdued', 'straighttovideo', 'stirring', 'spotted', 'spells', 'sophistication', 'snowy', 'sleeper', 'sixteen', 'shrill', 'shiny', 'shelves', 'shaun', 'sensation', 'scattered', 'romanian', 'rogue', 'rockets', 'retirement', 'register', 'redford', 'rapes', 'puzzled', 'prolific', 'presume', 'premiered', 'prefers', 'preferably', 'pleasures', 'pepper', 'pecker', 'owe', 'oscarwinning', 'optimism', 'ogre', 'nuns', 'nora', 'nifty', 'myra', 'monday', 'modernday', 'mediocrity', 'maurice', 'massey', 'madman', 'loner', 'liotta', 'lindsey', 'likebr', 'ledger', 'lds', 'lawn', 'latino', 'laser', 'languages', 'knocking', 'knees', 'intelligently', 'intellectually', 'injustice', 'increase', 'imprisoned', 'impressions', 'illustrate', 'il', 'icons', 'hypnotic', 'hurry', 'hunky', 'hugo', 'hmm', 'halfhour', 'golf', 'goldsworthy', 'godard', 'glow', 'glenda', 'gently', 'geniuses', 'fuss', 'freed', 'freaked', 'fierce', 'fewer', 'fence', 'fellini', 'fanning', 'fallon', 'eyed', 'extraordinarily', 'expresses', 'ewoks', 'establishment', 'erabr', 'ensue', 'engagement', 'emmy', 'eh', 'echo', 'ebay', 'drum', 'dreamlike', 'dodgy', 'distinctly', 'developments', 'deservedly', 'della', 'defy', 'dealers', 'crypt', 'crooked', 'cowritten', 'correctness', 'coop', 'consumed', 'conniving', 'confirmed', 'collaboration', 'cockney', 'clutter', 'cloth', 'clockwork', 'client', 'clarence', 'chemical', 'cheesiness', 'chans', 'ceremony', 'ceiling', 'capitalism', 'byron', 'brit', 'bothers', 'booth', 'boost', 'boogeyman', 'bliss', 'bleeding', 'billing', 'belle', 'bart', 'aura', 'atrocity', 'atlantic', 'artistically', 'applause', 'apollo', 'anti', 'alter', 'allies', 'alarm', 'aircraft', 'accomplishment', 'abstract', 'abroad', 'aboard', '20s', 'zhang', 'zany', 'yourselfbr', 'wrongly', 'willingly', 'visceral', 'verhoevens', 'unwilling', 'trusted', 'trendy', 'traveled', 'todaybr', 'thug', 'thereof', 'taker', 'supports', 'succession', 'strain', 'springs', 'slowmotion', 'slips', 'sleepy', 'slaughtered', 'sinatras', 'simpler', 'shout', 'shocker', 'shawn', 'shady', 'sematary', 'scarlet', 'scarier', 'satisfactory', 'roommates', 'romeros', 'rodney', 'robbing', 'roads', 'rhyme', 'retrieve', 'reportedly', 'relates', 'recovering', 'ravishing', 'rapid', 'rant', 'proudly', 'protecting', 'proportions', 'prone', 'promoting', 'predicted', 'predictability', 'preacher', 'potent', 'plummer', 'photograph', 'peterson', 'periodbr', 'perceived', 'overtly', 'operating', 'operate', 'oneill', 'notwithstanding', 'nerdy', 'natasha', 'mutants', 'muscular', 'muriel', 'mud', 'moderately', 'mockery', 'mishmash', 'messbr', 'maturity', 'mastermind', 'manipulate', 'luthor', 'lure', 'lt', 'lorre', 'lists', 'limp', 'legion', 'lawyers', 'launched', 'lansbury', 'knives', 'kilmer', 'kenny', 'judgement', 'joshua', 'imply', 'illusion', 'icy', 'henderson', 'helena', 'heavenly', 'heartless', 'harilal', 'grisly', 'grendel', 'grandparents', 'governments', 'gosh', 'gobr', 'gladiator', 'gi', 'fur', 'fulfilling', 'fulfill', 'friendsbr', 'forsythe', 'forbes', 'fleeting', 'fleeing', 'flamboyant', 'fighters', 'fetched', 'fastforward', 'farrah', 'fagin', 'exgirlfriend', 'encourages', 'electricity', 'elder', 'dunne', 'drain', 'doris', 'denver', 'defining', 'deborah', 'data', 'darius', 'daria', 'cynicism', 'cowrote', 'corbin', 'conflicted', 'comprised', 'cinematographic', 'christensen', 'chevy', 'chandler', 'censors', 'bs', 'brick', 'breakthrough', 'bloke', 'blackmail', 'bitchy', 'bing', 'barton', 'ballroom', 'baddie', 'backdrops', 'autobiography', 'attic', 'attendant', 'astonishingly', 'arnie', 'armor', 'appalled', 'anythingbr', 'anxiety', 'analyze', 'amoral', 'alcoholism', '700', '51', '1964', '1957', '150', 'zabriskie', 'wwi', 'wrath', 'worship', 'wolves', 'wee', 'virginity', 'violently', 'vibe', 'vaudeville', 'ursula', 'urgency', 'upbringing', 'unnerving', 'unlucky', 'unconscious', 'treating', 'tourists', 'tobe', 'throne', 'theo', 'terrorism', 'temporary', 'tasks', 'tango', 'tacked', 'tables', 'swords', 'supremacy', 'superiors', 'stumbling', 'stereotyping', 'steamy', 'sore', 'sibling', 'sheridan', 'shatner', 'shamelessly', 'seventh', 'semi', 'sammi', 'sack', 'rudd', 'rosenstrasse', 'rko', 'ridden', 'richly', 'replay', 'reno', 'relaxing', 'redgrave', 'recurring', 'recreation', 'ratio', 'ranger', 'quirks', 'prolonged', 'prejudices', 'pour', 'poke', 'placing', 'pistol', 'pertwee', 'penguin', 'peaks', 'payne', 'patriotic', 'passions', 'padded', 'overwhelmed', 'overused', 'overacts', 'observed', 'notions', 'neverending', 'needlessly', 'moonstruck', 'miyazakis', 'missions', 'meyers', 'mcdowell', 'mcdermott', 'marx', 'martino', 'mandatory', 'management', 'ma', 'liz', 'liar', 'levy', 'lesbians', 'leaps', 'largest', 'kornbluth', 'jolly', 'jerky', 'jam', 'iti', 'irresponsible', 'irresistible', 'interspersed', 'innuendo', 'inhabited', 'inducing', 'increasing', 'immigrants', 'imitating', 'illustrated', 'honey', 'hilton', 'herrings', 'helmet', 'heir', 'hector', 'hazzard', 'harbor', 'happier', 'hale', 'gusto', 'gravity', 'grady', 'girlbr', 'giggle', 'gays', 'gardens', 'flame', 'fitzgerald', 'fiasco', 'feared', 'farnsworth', 'expressing', 'expand', 'episodebr', 'enthralling', 'elisha', 'ecstasy', 'eastwoods', 'dwarf', 'dukakis', 'doses', 'dodge', 'dive', 'distinguished', 'disasters', 'dillon', 'diaz', 'destructive', 'denial', 'dangers', 'curtain', 'crass', 'countrys', 'counterpart', 'counted', 'coppola', 'continuous', 'confession', 'concentrated', 'compassionate', 'coal', 'clubs', 'climbs', 'climate', 'civilians', 'chop', 'cheung', 'cheat', 'castro', 'cassie', 'burden', 'bullies', 'brunette', 'brilliantbr', 'brennan', 'borderline', 'booker', 'bombed', 'bloodshed', 'bigfoot', 'benoit', 'believablebr', 'behaving', 'behaves', 'azumi', 'aztec', 'auteur', 'attributes', 'athletic', 'astronauts', 'assortment', 'associates', 'archer', 'antichrist', 'anonymous', 'annoyingly', 'aniston', 'alienation', 'alba', 'academic', '98', '27', 'yearning', 'y', 'worm', 'woke', 'whipped', 'whip', 'vulnerability', 'volumes', 'vienna', 'vets', 'versa', 'vera', 'vault', 'valerie', 'unemployed', 'truthful', 'traumatized', 'transformers', 'torch', 'thumb', 'thorn', 'swiss', 'stupidest', 'stripper', 'stretches', 'stalks', 'spitting', 'spinning', 'smarmy', 'sm', 'slew', 'skipping', 'sessions', 'sequelbr', 'segal', 'seal', 'screamed', 'scandal', 'sarne', 'saddest', 'rusty', 'rotting', 'roach', 'restless', 'relied', 'reincarnation', 'regrets', 'recipe', 'rapture', 'purse', 'pub', 'psychiatric', 'prophet', 'profile', 'princes', 'prices', 'pranks', 'practices', 'posh', 'pond', 'poet', 'percent', 'perceive', 'penis', 'penalty', 'paragraph', 'palestinian', 'outs', 'opponents', 'nutty', 'noam', 'nightbr', 'nerds', 'neglect', 'neeson', 'nailed', 'muted', 'montages', 'mindset', 'midway', 'midler', 'melt', 'mechanic', 'meanings', 'marathon', 'maiden', 'maguire', 'lubitsch', 'lowbrow', 'lin', 'lightly', 'lecture', 'lang', 'knack', 'keitel', 'joanna', 'izzard', 'itd', 'italians', 'irrational', 'intellect', 'inherited', 'incompetence', 'improvised', 'idiocy', 'hustler', 'hopeful', 'honeymoon', 'holland', 'hmmm', 'hesitate', 'guru', 'goofs', 'gimmicks', 'gannon', 'frenzy', 'footsteps', 'floriane', 'flipping', 'firsttime', 'finely', 'featurelength', 'farewell', 'fable', 'exwife', 'explanations', 'expanded', 'existential', 'enhances', 'embarrass', 'elmer', 'elevate', 'efficient', 'drugged', 'dopey', 'dogma', 'disdain', 'discernible', 'disappearing', 'dickinson', 'darling', 'dani', 'customs', 'custody', 'crowds', 'crenna', 'coverage', 'cortez', 'corky', 'contemplate', 'consisted', 'conquest', 'confronting', 'concludes', 'concentrates', 'compositions', 'companions', 'collecting', 'cocktail', 'coaster', 'classicbr', 'chocolate', 'celine', 'caution', 'casually', 'casebr', 'camps', 'bursts', 'buildup', 'btk', 'bothering', 'bonding', 'bishop', 'billion', 'beth', 'bald', 'awfulness', 'aweigh', 'astronaut', 'architecture', 'approximately', 'alienate', 'agobr', 'afghanistan', 'adequately', '48', '250', 'zealand', 'wits', 'wisecracking', 'wipe', 'wills', 'welcomed', 'weaver', 'walters', 'waits', 'viggo', 'victorias', 'versatile', 'vengeful', 'undeveloped', 'uncredited', 'toss', 'throats', 'themselvesbr', 'thatll', 'thankful', 'tested', 'tensions', 'tenants', 'teddy', 'suspended', 'surpasses', 'supporters', 'suggestive', 'subtleties', 'submit', 'strikingly', 'stoic', 'stepped', 'stature', 'squeeze', 'spielbergs', 'spectacularly', 'sparse', 'snippets', 'snappy', 'smarter', 'slows', 'slipped', 'sleuth', 'shootings', 'shaolin', 'shakespearean', 'rushes', 'rugged', 'rizzo', 'ripoffs', 'rightfully', 'rico', 'revive', 'rests', 'rehearsal', 'regal', 'regain', 'rebecca', 'rack', 'proverbial', 'profit', 'productionbr', 'prevented', 'prevalent', 'preteen', 'premises', 'postmodern', 'plants', 'planted', 'performancesbr', 'pauses', 'passenger', 'partial', 'pam', 'outrage', 'oppressive', 'oddball', 'norton', 'nineties', 'naval', 'murphys', 'mourning', 'mostel', 'monstrous', 'mold', 'micheal', 'metropolis', 'melinda', 'maverick', 'marred', 'lyrical', 'luzhin', 'lung', 'lucio', 'lovingly', 'loop', 'looney', 'locales', 'listing', 'limbs', 'lange', 'kramer', 'kiddie', 'kerr', 'keeler', 'kaufman', 'kamal', 'jock', 'january', 'it´s', 'islam', 'irs', 'insignificant', 'insects', 'insanely', 'impeccable', 'immersed', 'illiterate', 'hug', 'horn', 'hitchhiker', 'hilariousbr', 'healing', 'harrys', 'harlem', 'guided', 'graves', 'grain', 'goodnatured', 'goers', 'garnered', 'garcia', 'gage', 'fulllength', 'fugitive', 'friendships', 'flip', 'fatherson', 'fanatics', 'examined', 'everybodys', 'empathize', 'elliot', 'ella', 'eliminate', 'dyke', 'dusty', 'duryea', 'durbin', 'dreadfully', 'downtown', 'documents', 'discussions', 'diabolical', 'dental', 'democracy', 'delve', 'december', 'deathstalker', 'daphne', 'daisies', 'cruella', 'creeps', 'cowriter', 'corridors', 'converted', 'continent', 'connor', 'conduct', 'condescending', 'conclusionbr', 'conception', 'compromise', 'comebr', 'collar', 'coleman', 'cocky', 'citys', 'cillian', 'choke', 'chock', 'chewing', 'chapters', 'carole', 'capt', 'candidates', 'callahan', 'bury', 'bucket', 'brink', 'branch', 'braindead', 'bombing', 'bolivia', 'betrays', 'believer', 'bearable', 'bash', 'barbarian', 'balloon', 'backwoods', 'babysitter', 'atomic', 'association', 'assist', 'ash', 'architect', 'apprentice', 'apologize', 'apartheid', 'alternately', 'allison', 'albums', 'ahmad', 'adventurous', 'adopt', 'acknowledged', '400', '2009', '1949', '1938', '1931', '18th', 'woven', 'wondrous', 'witless', 'willem', 'wheels', 'welch', 'weirdo', 'voiceovers', 'villagers', 'variations', 'vanishing', 'untrue', 'unrated', 'universally', 'unimpressive', 'undertaker', 'unborn', 'tucker', 'truebr', 'til', 'throughoutbr', 'thinner', 'tepid', 'telly', 'tedium', 'switzerland', 'swamp', 'surrogate', 'surfers', 'stubborn', 'stripped', 'straw', 'strangest', 'stir', 'stimulating', 'spectrum', 'soulless', 'sorvino', 'societies', 'snatch', 'smoothly', 'smitten', 'sloane', 'siege', 'shouts', 'shinae', 'shack', 'sentenced', 'seinfeld', 'sciencefiction', 'satellite', 'sans', 'sacrificed', 'rollercoaster', 'rohmer', 'rigid', 'revelations', 'retain', 'requisite', 'render', 'recalls', 'ranging', 'rainer', 'psychologically', 'presumed', 'prehistoric', 'practicing', 'plotted', 'platoon', 'pita', 'philadelphia', 'pavarotti', 'pauls', 'paperhouse', 'palette', 'overt', 'overseas', 'outtakes', 'outta', 'oriental', 'obscene', 'nuance', 'november', 'norwegian', 'norma', 'mutated', 'mpaa', 'morgana', 'mocking', 'misplaced', 'mischievous', 'mining', 'millennium', 'menbr', 'matching', 'marquis', 'malcolm', 'mac', 'lotr', 'locks', 'll', 'lizard', 'livesbr', 'lineup', 'lieutenant', 'layered', 'lamas', 'kinky', 'kindness', 'kentucky', 'jessie', 'janitor', 'irwin', 'intruder', 'intestines', 'interpreted', 'insulted', 'insteadbr', 'illustrates', 'hurting', 'hungarian', 'hoods', 'honorable', 'hogan', 'hockey', 'hispanic', 'hisher', 'heroin', 'hedy', 'hating', 'harmony', 'hardest', 'haired', 'guevara', 'grumpy', 'grips', 'greta', 'granger', 'gesture', 'gen', 'gamut', 'gamebr', 'gaining', 'futurebr', 'forgivable', 'floors', 'flee', 'fireworks', 'fatherbr', 'exposing', 'exhibit', 'evolved', 'equals', 'eponymous', 'episodic', 'entertainer', 'edits', 'dw', 'duties', 'duff', 'dominick', 'distributors', 'disgruntled', 'directorbr', 'directionbr', 'dimwitted', 'desolate', 'dense', 'denied', 'darkest', 'culkin', 'crow', 'criminally', 'connolly', 'connecting', 'confirm', 'comicbook', 'cloud', 'classified', 'chore', 'cheaper', 'celebrating', 'cbc', 'cathy', 'casted', 'carson', 'caroline', 'carnival', 'carlito', 'carface', 'careerbr', 'bryan', 'bets', 'benson', 'batwoman', 'basil', 'barker', 'backyard', 'assassins', 'anyonebr', 'andersons', 'anchor', 'amok', 'allegedly', 'admirably', 'administration', 'adapting', 'achieving', '510', '500', 'zatoichi', 'yetbr', 'wicker', 'weaves', 'wb', 'voting', 'voters', 'vivah', 'usage', 'unsuccessful', 'unnamed', 'unfinished', 'unfairly', 'undertones', 'underdog', 'twodimensional', 'transform', 'transferred', 'transcends', 'tigerland', 'texture', 'textbook', 'terriblebr', 'teds', 'tearjerker', 'tasteful', 'talentless', 'swift', 'swat', 'supplies', 'streisands', 'streak', 'stills', 'stealth', 'spreading', 'spears', 'spaces', 'soles', 'societal', 'smalltown', 'smallest', 'slug', 'skywalker', 'skimpy', 'singin', 'shrink', 'shakes', 'shadowy', 'seriouslybr', 'secluded', 'schemes', 'sacred', 'rumors', 'rewatch', 'retrospect', 'rerun', 'request', 'redeemed', 'rabid', 'puzzling', 'pursues', 'prototype', 'prevents', 'preserved', 'positions', 'poppins', 'polite', 'pokes', 'plantation', 'phyllis', 'pets', 'patch', 'participation', 'owning', 'ounce', 'otoole', 'osullivan', 'orphanage', 'orgy', 'organs', 'operas', 'onesided', 'olympic', 'napoleon', 'motif', 'monumental', 'monstrosity', 'monastery', 'mj', 'miracles', 'michel', 'mastroianni', 'marvellous', 'marlene', 'mamet', 'lombard', 'logo', 'liza', 'leno', 'leia', 'lap', 'lambs', 'kisses', 'kingsley', 'jew', 'jed', 'jackass', 'itchy', 'interpret', 'integrated', 'instruments', 'insisted', 'indulge', 'inch', 'inc', 'imdbs', 'hosts', 'holidays', 'historians', 'hiring', 'hi', 'hawaii', 'hardships']\n"
          ]
        }
      ]
    },
    {
      "cell_type": "markdown",
      "source": [
        "**\"UNK\"** stands for unknown token in the vocabulary of a text processing model, especially when working with natural language processing (NLP) tasks. It is used to represent words that are not present in the model’s predefined vocabulary."
      ],
      "metadata": {
        "id": "lgN-vkNMf6yL"
      }
    },
    {
      "cell_type": "code",
      "source": [
        "text = \"One morning in June some twenty years ago I was born a rich man's son.\"\n",
        "text_encoded =encoder(text)\n",
        "print(text_encoded) #word indices"
      ],
      "metadata": {
        "id": "Pa1Hze__f-fj",
        "colab": {
          "base_uri": "https://localhost:8080/"
        },
        "outputId": "a4432d21-0890-4867-e43e-1e32a725d02e"
      },
      "execution_count": null,
      "outputs": [
        {
          "output_type": "stream",
          "name": "stdout",
          "text": [
            "tf.Tensor(\n",
            "[  29 1939    8 4685   47 2115  148  598   10   14 1492    4 1004 1433\n",
            "  501    0    0    0    0    0    0    0    0    0    0    0    0    0\n",
            "    0    0    0    0    0    0    0    0    0    0    0    0    0    0\n",
            "    0    0    0    0    0    0    0    0    0    0    0    0    0    0\n",
            "    0    0    0    0    0    0    0    0    0    0    0    0    0    0\n",
            "    0    0    0    0    0    0    0    0    0    0    0    0    0    0\n",
            "    0    0    0    0    0    0    0    0    0    0    0    0    0    0\n",
            "    0    0    0    0    0    0    0    0    0    0    0    0    0    0\n",
            "    0    0    0    0    0    0    0    0    0    0    0    0    0    0\n",
            "    0    0], shape=(128,), dtype=int64)\n"
          ]
        }
      ]
    },
    {
      "cell_type": "code",
      "source": [
        "vocabulary[29]"
      ],
      "metadata": {
        "id": "OMEoisO3gtku",
        "colab": {
          "base_uri": "https://localhost:8080/",
          "height": 36
        },
        "outputId": "91c9e5e2-65e1-44c5-b89d-501b5222e53d"
      },
      "execution_count": null,
      "outputs": [
        {
          "output_type": "execute_result",
          "data": {
            "text/plain": [
              "'one'"
            ],
            "application/vnd.google.colaboratory.intrinsic+json": {
              "type": "string"
            }
          },
          "metadata": {},
          "execution_count": 41
        }
      ]
    },
    {
      "cell_type": "code",
      "source": [
        "vocabulary[4685]"
      ],
      "metadata": {
        "id": "d65_7jmYg1aP",
        "colab": {
          "base_uri": "https://localhost:8080/",
          "height": 36
        },
        "outputId": "79e3911f-131e-47eb-bc03-3a6e50a8263d"
      },
      "execution_count": null,
      "outputs": [
        {
          "output_type": "execute_result",
          "data": {
            "text/plain": [
              "'june'"
            ],
            "application/vnd.google.colaboratory.intrinsic+json": {
              "type": "string"
            }
          },
          "metadata": {},
          "execution_count": 34
        }
      ]
    },
    {
      "cell_type": "code",
      "source": [
        "model = models.Sequential()\n",
        "model.add(encoder)#Word indices\n",
        "model.build(input_shape=(None,))\n",
        "model.add(layers.Embedding(input_dim=vocabulary_size,output_dim=32)) #word Embedding\n",
        "model.add(layers.Flatten()) #Dimensional Reduction\n",
        "model.add(layers.Dense(1,activation=\"sigmoid\"))\n",
        "model.summary()\n",
        "\n",
        "model.compile(\n",
        "    optimizer=\"adam\",\n",
        "    loss=\"binary_crossentropy\",\n",
        "    metrics=[\"accuracy\"]\n",
        ")\n",
        "\n",
        "history = model.fit(\n",
        "    dataset_train,\n",
        "    epochs=4,\n",
        "    validation_data=dataset_validate\n",
        ")\n",
        "\n",
        "render_history(history)"
      ],
      "metadata": {
        "id": "nqfDRaJeh6cf",
        "colab": {
          "base_uri": "https://localhost:8080/",
          "height": 1000
        },
        "collapsed": true,
        "outputId": "b0025769-266b-41b1-ba27-2f93c9ce6e9a"
      },
      "execution_count": null,
      "outputs": [
        {
          "output_type": "display_data",
          "data": {
            "text/plain": [
              "\u001b[1mModel: \"sequential_11\"\u001b[0m\n"
            ],
            "text/html": [
              "<pre style=\"white-space:pre;overflow-x:auto;line-height:normal;font-family:Menlo,'DejaVu Sans Mono',consolas,'Courier New',monospace\"><span style=\"font-weight: bold\">Model: \"sequential_11\"</span>\n",
              "</pre>\n"
            ]
          },
          "metadata": {}
        },
        {
          "output_type": "display_data",
          "data": {
            "text/plain": [
              "┏━━━━━━━━━━━━━━━━━━━━━━━━━━━━━━━━━━━━━━┳━━━━━━━━━━━━━━━━━━━━━━━━━━━━━┳━━━━━━━━━━━━━━━━━┓\n",
              "┃\u001b[1m \u001b[0m\u001b[1mLayer (type)                        \u001b[0m\u001b[1m \u001b[0m┃\u001b[1m \u001b[0m\u001b[1mOutput Shape               \u001b[0m\u001b[1m \u001b[0m┃\u001b[1m \u001b[0m\u001b[1m        Param #\u001b[0m\u001b[1m \u001b[0m┃\n",
              "┡━━━━━━━━━━━━━━━━━━━━━━━━━━━━━━━━━━━━━━╇━━━━━━━━━━━━━━━━━━━━━━━━━━━━━╇━━━━━━━━━━━━━━━━━┩\n",
              "│ text_vectorization_2                 │ (\u001b[38;5;45mNone\u001b[0m, \u001b[38;5;34m128\u001b[0m)                 │               \u001b[38;5;34m0\u001b[0m │\n",
              "│ (\u001b[38;5;33mTextVectorization\u001b[0m)                  │                             │                 │\n",
              "├──────────────────────────────────────┼─────────────────────────────┼─────────────────┤\n",
              "│ embedding_10 (\u001b[38;5;33mEmbedding\u001b[0m)             │ (\u001b[38;5;45mNone\u001b[0m, \u001b[38;5;34m128\u001b[0m, \u001b[38;5;34m32\u001b[0m)             │         \u001b[38;5;34m320,000\u001b[0m │\n",
              "├──────────────────────────────────────┼─────────────────────────────┼─────────────────┤\n",
              "│ flatten_1 (\u001b[38;5;33mFlatten\u001b[0m)                  │ (\u001b[38;5;45mNone\u001b[0m, \u001b[38;5;34m4096\u001b[0m)                │               \u001b[38;5;34m0\u001b[0m │\n",
              "├──────────────────────────────────────┼─────────────────────────────┼─────────────────┤\n",
              "│ dense_11 (\u001b[38;5;33mDense\u001b[0m)                     │ (\u001b[38;5;45mNone\u001b[0m, \u001b[38;5;34m1\u001b[0m)                   │           \u001b[38;5;34m4,097\u001b[0m │\n",
              "└──────────────────────────────────────┴─────────────────────────────┴─────────────────┘\n"
            ],
            "text/html": [
              "<pre style=\"white-space:pre;overflow-x:auto;line-height:normal;font-family:Menlo,'DejaVu Sans Mono',consolas,'Courier New',monospace\">┏━━━━━━━━━━━━━━━━━━━━━━━━━━━━━━━━━━━━━━┳━━━━━━━━━━━━━━━━━━━━━━━━━━━━━┳━━━━━━━━━━━━━━━━━┓\n",
              "┃<span style=\"font-weight: bold\"> Layer (type)                         </span>┃<span style=\"font-weight: bold\"> Output Shape                </span>┃<span style=\"font-weight: bold\">         Param # </span>┃\n",
              "┡━━━━━━━━━━━━━━━━━━━━━━━━━━━━━━━━━━━━━━╇━━━━━━━━━━━━━━━━━━━━━━━━━━━━━╇━━━━━━━━━━━━━━━━━┩\n",
              "│ text_vectorization_2                 │ (<span style=\"color: #00d7ff; text-decoration-color: #00d7ff\">None</span>, <span style=\"color: #00af00; text-decoration-color: #00af00\">128</span>)                 │               <span style=\"color: #00af00; text-decoration-color: #00af00\">0</span> │\n",
              "│ (<span style=\"color: #0087ff; text-decoration-color: #0087ff\">TextVectorization</span>)                  │                             │                 │\n",
              "├──────────────────────────────────────┼─────────────────────────────┼─────────────────┤\n",
              "│ embedding_10 (<span style=\"color: #0087ff; text-decoration-color: #0087ff\">Embedding</span>)             │ (<span style=\"color: #00d7ff; text-decoration-color: #00d7ff\">None</span>, <span style=\"color: #00af00; text-decoration-color: #00af00\">128</span>, <span style=\"color: #00af00; text-decoration-color: #00af00\">32</span>)             │         <span style=\"color: #00af00; text-decoration-color: #00af00\">320,000</span> │\n",
              "├──────────────────────────────────────┼─────────────────────────────┼─────────────────┤\n",
              "│ flatten_1 (<span style=\"color: #0087ff; text-decoration-color: #0087ff\">Flatten</span>)                  │ (<span style=\"color: #00d7ff; text-decoration-color: #00d7ff\">None</span>, <span style=\"color: #00af00; text-decoration-color: #00af00\">4096</span>)                │               <span style=\"color: #00af00; text-decoration-color: #00af00\">0</span> │\n",
              "├──────────────────────────────────────┼─────────────────────────────┼─────────────────┤\n",
              "│ dense_11 (<span style=\"color: #0087ff; text-decoration-color: #0087ff\">Dense</span>)                     │ (<span style=\"color: #00d7ff; text-decoration-color: #00d7ff\">None</span>, <span style=\"color: #00af00; text-decoration-color: #00af00\">1</span>)                   │           <span style=\"color: #00af00; text-decoration-color: #00af00\">4,097</span> │\n",
              "└──────────────────────────────────────┴─────────────────────────────┴─────────────────┘\n",
              "</pre>\n"
            ]
          },
          "metadata": {}
        },
        {
          "output_type": "display_data",
          "data": {
            "text/plain": [
              "\u001b[1m Total params: \u001b[0m\u001b[38;5;34m324,097\u001b[0m (1.24 MB)\n"
            ],
            "text/html": [
              "<pre style=\"white-space:pre;overflow-x:auto;line-height:normal;font-family:Menlo,'DejaVu Sans Mono',consolas,'Courier New',monospace\"><span style=\"font-weight: bold\"> Total params: </span><span style=\"color: #00af00; text-decoration-color: #00af00\">324,097</span> (1.24 MB)\n",
              "</pre>\n"
            ]
          },
          "metadata": {}
        },
        {
          "output_type": "display_data",
          "data": {
            "text/plain": [
              "\u001b[1m Trainable params: \u001b[0m\u001b[38;5;34m324,097\u001b[0m (1.24 MB)\n"
            ],
            "text/html": [
              "<pre style=\"white-space:pre;overflow-x:auto;line-height:normal;font-family:Menlo,'DejaVu Sans Mono',consolas,'Courier New',monospace\"><span style=\"font-weight: bold\"> Trainable params: </span><span style=\"color: #00af00; text-decoration-color: #00af00\">324,097</span> (1.24 MB)\n",
              "</pre>\n"
            ]
          },
          "metadata": {}
        },
        {
          "output_type": "display_data",
          "data": {
            "text/plain": [
              "\u001b[1m Non-trainable params: \u001b[0m\u001b[38;5;34m0\u001b[0m (0.00 B)\n"
            ],
            "text/html": [
              "<pre style=\"white-space:pre;overflow-x:auto;line-height:normal;font-family:Menlo,'DejaVu Sans Mono',consolas,'Courier New',monospace\"><span style=\"font-weight: bold\"> Non-trainable params: </span><span style=\"color: #00af00; text-decoration-color: #00af00\">0</span> (0.00 B)\n",
              "</pre>\n"
            ]
          },
          "metadata": {}
        },
        {
          "output_type": "stream",
          "name": "stdout",
          "text": [
            "Epoch 1/4\n"
          ]
        },
        {
          "output_type": "error",
          "ename": "InvalidArgumentError",
          "evalue": "Graph execution error:\n\nDetected at node sequential_11_1/flatten_1_1/Reshape defined at (most recent call last):\n  File \"/usr/lib/python3.10/runpy.py\", line 196, in _run_module_as_main\n\n  File \"/usr/lib/python3.10/runpy.py\", line 86, in _run_code\n\n  File \"/usr/local/lib/python3.10/dist-packages/colab_kernel_launcher.py\", line 37, in <module>\n\n  File \"/usr/local/lib/python3.10/dist-packages/traitlets/config/application.py\", line 992, in launch_instance\n\n  File \"/usr/local/lib/python3.10/dist-packages/ipykernel/kernelapp.py\", line 619, in start\n\n  File \"/usr/local/lib/python3.10/dist-packages/tornado/platform/asyncio.py\", line 195, in start\n\n  File \"/usr/lib/python3.10/asyncio/base_events.py\", line 603, in run_forever\n\n  File \"/usr/lib/python3.10/asyncio/base_events.py\", line 1909, in _run_once\n\n  File \"/usr/lib/python3.10/asyncio/events.py\", line 80, in _run\n\n  File \"/usr/local/lib/python3.10/dist-packages/tornado/ioloop.py\", line 685, in <lambda>\n\n  File \"/usr/local/lib/python3.10/dist-packages/tornado/ioloop.py\", line 738, in _run_callback\n\n  File \"/usr/local/lib/python3.10/dist-packages/tornado/gen.py\", line 825, in inner\n\n  File \"/usr/local/lib/python3.10/dist-packages/tornado/gen.py\", line 786, in run\n\n  File \"/usr/local/lib/python3.10/dist-packages/ipykernel/kernelbase.py\", line 361, in process_one\n\n  File \"/usr/local/lib/python3.10/dist-packages/tornado/gen.py\", line 234, in wrapper\n\n  File \"/usr/local/lib/python3.10/dist-packages/ipykernel/kernelbase.py\", line 261, in dispatch_shell\n\n  File \"/usr/local/lib/python3.10/dist-packages/tornado/gen.py\", line 234, in wrapper\n\n  File \"/usr/local/lib/python3.10/dist-packages/ipykernel/kernelbase.py\", line 539, in execute_request\n\n  File \"/usr/local/lib/python3.10/dist-packages/tornado/gen.py\", line 234, in wrapper\n\n  File \"/usr/local/lib/python3.10/dist-packages/ipykernel/ipkernel.py\", line 302, in do_execute\n\n  File \"/usr/local/lib/python3.10/dist-packages/ipykernel/zmqshell.py\", line 539, in run_cell\n\n  File \"/usr/local/lib/python3.10/dist-packages/IPython/core/interactiveshell.py\", line 2975, in run_cell\n\n  File \"/usr/local/lib/python3.10/dist-packages/IPython/core/interactiveshell.py\", line 3030, in _run_cell\n\n  File \"/usr/local/lib/python3.10/dist-packages/IPython/core/async_helpers.py\", line 78, in _pseudo_sync_runner\n\n  File \"/usr/local/lib/python3.10/dist-packages/IPython/core/interactiveshell.py\", line 3257, in run_cell_async\n\n  File \"/usr/local/lib/python3.10/dist-packages/IPython/core/interactiveshell.py\", line 3473, in run_ast_nodes\n\n  File \"/usr/local/lib/python3.10/dist-packages/IPython/core/interactiveshell.py\", line 3553, in run_code\n\n  File \"<ipython-input-46-595da1091931>\", line 15, in <cell line: 15>\n\n  File \"/usr/local/lib/python3.10/dist-packages/keras/src/utils/traceback_utils.py\", line 117, in error_handler\n\n  File \"/usr/local/lib/python3.10/dist-packages/keras/src/backend/tensorflow/trainer.py\", line 318, in fit\n\n  File \"/usr/local/lib/python3.10/dist-packages/keras/src/backend/tensorflow/trainer.py\", line 121, in one_step_on_iterator\n\n  File \"/usr/local/lib/python3.10/dist-packages/keras/src/backend/tensorflow/trainer.py\", line 108, in one_step_on_data\n\n  File \"/usr/local/lib/python3.10/dist-packages/keras/src/backend/tensorflow/trainer.py\", line 51, in train_step\n\n  File \"/usr/local/lib/python3.10/dist-packages/keras/src/utils/traceback_utils.py\", line 117, in error_handler\n\n  File \"/usr/local/lib/python3.10/dist-packages/keras/src/layers/layer.py\", line 882, in __call__\n\n  File \"/usr/local/lib/python3.10/dist-packages/keras/src/utils/traceback_utils.py\", line 117, in error_handler\n\n  File \"/usr/local/lib/python3.10/dist-packages/keras/src/ops/operation.py\", line 46, in __call__\n\n  File \"/usr/local/lib/python3.10/dist-packages/keras/src/utils/traceback_utils.py\", line 156, in error_handler\n\n  File \"/usr/local/lib/python3.10/dist-packages/keras/src/models/sequential.py\", line 209, in call\n\n  File \"/usr/local/lib/python3.10/dist-packages/keras/src/models/functional.py\", line 175, in call\n\n  File \"/usr/local/lib/python3.10/dist-packages/keras/src/ops/function.py\", line 171, in _run_through_graph\n\n  File \"/usr/local/lib/python3.10/dist-packages/keras/src/models/functional.py\", line 556, in call\n\n  File \"/usr/local/lib/python3.10/dist-packages/keras/src/utils/traceback_utils.py\", line 117, in error_handler\n\n  File \"/usr/local/lib/python3.10/dist-packages/keras/src/layers/layer.py\", line 882, in __call__\n\n  File \"/usr/local/lib/python3.10/dist-packages/keras/src/utils/traceback_utils.py\", line 117, in error_handler\n\n  File \"/usr/local/lib/python3.10/dist-packages/keras/src/ops/operation.py\", line 46, in __call__\n\n  File \"/usr/local/lib/python3.10/dist-packages/keras/src/utils/traceback_utils.py\", line 156, in error_handler\n\n  File \"/usr/local/lib/python3.10/dist-packages/keras/src/layers/reshaping/flatten.py\", line 54, in call\n\n  File \"/usr/local/lib/python3.10/dist-packages/keras/src/ops/numpy.py\", line 4440, in reshape\n\n  File \"/usr/local/lib/python3.10/dist-packages/keras/src/backend/tensorflow/numpy.py\", line 1789, in reshape\n\nOnly one input size may be -1, not both 0 and 1\n\t [[{{node sequential_11_1/flatten_1_1/Reshape}}]] [Op:__inference_one_step_on_iterator_70403]",
          "traceback": [
            "\u001b[0;31m---------------------------------------------------------------------------\u001b[0m",
            "\u001b[0;31mInvalidArgumentError\u001b[0m                      Traceback (most recent call last)",
            "\u001b[0;32m<ipython-input-46-595da1091931>\u001b[0m in \u001b[0;36m<cell line: 15>\u001b[0;34m()\u001b[0m\n\u001b[1;32m     13\u001b[0m )\n\u001b[1;32m     14\u001b[0m \u001b[0;34m\u001b[0m\u001b[0m\n\u001b[0;32m---> 15\u001b[0;31m history = model.fit(\n\u001b[0m\u001b[1;32m     16\u001b[0m     \u001b[0mdataset_train\u001b[0m\u001b[0;34m,\u001b[0m\u001b[0;34m\u001b[0m\u001b[0;34m\u001b[0m\u001b[0m\n\u001b[1;32m     17\u001b[0m     \u001b[0mepochs\u001b[0m\u001b[0;34m=\u001b[0m\u001b[0;36m4\u001b[0m\u001b[0;34m,\u001b[0m\u001b[0;34m\u001b[0m\u001b[0;34m\u001b[0m\u001b[0m\n",
            "\u001b[0;32m/usr/local/lib/python3.10/dist-packages/keras/src/utils/traceback_utils.py\u001b[0m in \u001b[0;36merror_handler\u001b[0;34m(*args, **kwargs)\u001b[0m\n\u001b[1;32m    120\u001b[0m             \u001b[0;31m# To get the full stack trace, call:\u001b[0m\u001b[0;34m\u001b[0m\u001b[0;34m\u001b[0m\u001b[0m\n\u001b[1;32m    121\u001b[0m             \u001b[0;31m# `keras.config.disable_traceback_filtering()`\u001b[0m\u001b[0;34m\u001b[0m\u001b[0;34m\u001b[0m\u001b[0m\n\u001b[0;32m--> 122\u001b[0;31m             \u001b[0;32mraise\u001b[0m \u001b[0me\u001b[0m\u001b[0;34m.\u001b[0m\u001b[0mwith_traceback\u001b[0m\u001b[0;34m(\u001b[0m\u001b[0mfiltered_tb\u001b[0m\u001b[0;34m)\u001b[0m \u001b[0;32mfrom\u001b[0m \u001b[0;32mNone\u001b[0m\u001b[0;34m\u001b[0m\u001b[0;34m\u001b[0m\u001b[0m\n\u001b[0m\u001b[1;32m    123\u001b[0m         \u001b[0;32mfinally\u001b[0m\u001b[0;34m:\u001b[0m\u001b[0;34m\u001b[0m\u001b[0;34m\u001b[0m\u001b[0m\n\u001b[1;32m    124\u001b[0m             \u001b[0;32mdel\u001b[0m \u001b[0mfiltered_tb\u001b[0m\u001b[0;34m\u001b[0m\u001b[0;34m\u001b[0m\u001b[0m\n",
            "\u001b[0;32m/usr/local/lib/python3.10/dist-packages/tensorflow/python/eager/execute.py\u001b[0m in \u001b[0;36mquick_execute\u001b[0;34m(op_name, num_outputs, inputs, attrs, ctx, name)\u001b[0m\n\u001b[1;32m     51\u001b[0m   \u001b[0;32mtry\u001b[0m\u001b[0;34m:\u001b[0m\u001b[0;34m\u001b[0m\u001b[0;34m\u001b[0m\u001b[0m\n\u001b[1;32m     52\u001b[0m     \u001b[0mctx\u001b[0m\u001b[0;34m.\u001b[0m\u001b[0mensure_initialized\u001b[0m\u001b[0;34m(\u001b[0m\u001b[0;34m)\u001b[0m\u001b[0;34m\u001b[0m\u001b[0;34m\u001b[0m\u001b[0m\n\u001b[0;32m---> 53\u001b[0;31m     tensors = pywrap_tfe.TFE_Py_Execute(ctx._handle, device_name, op_name,\n\u001b[0m\u001b[1;32m     54\u001b[0m                                         inputs, attrs, num_outputs)\n\u001b[1;32m     55\u001b[0m   \u001b[0;32mexcept\u001b[0m \u001b[0mcore\u001b[0m\u001b[0;34m.\u001b[0m\u001b[0m_NotOkStatusException\u001b[0m \u001b[0;32mas\u001b[0m \u001b[0me\u001b[0m\u001b[0;34m:\u001b[0m\u001b[0;34m\u001b[0m\u001b[0;34m\u001b[0m\u001b[0m\n",
            "\u001b[0;31mInvalidArgumentError\u001b[0m: Graph execution error:\n\nDetected at node sequential_11_1/flatten_1_1/Reshape defined at (most recent call last):\n  File \"/usr/lib/python3.10/runpy.py\", line 196, in _run_module_as_main\n\n  File \"/usr/lib/python3.10/runpy.py\", line 86, in _run_code\n\n  File \"/usr/local/lib/python3.10/dist-packages/colab_kernel_launcher.py\", line 37, in <module>\n\n  File \"/usr/local/lib/python3.10/dist-packages/traitlets/config/application.py\", line 992, in launch_instance\n\n  File \"/usr/local/lib/python3.10/dist-packages/ipykernel/kernelapp.py\", line 619, in start\n\n  File \"/usr/local/lib/python3.10/dist-packages/tornado/platform/asyncio.py\", line 195, in start\n\n  File \"/usr/lib/python3.10/asyncio/base_events.py\", line 603, in run_forever\n\n  File \"/usr/lib/python3.10/asyncio/base_events.py\", line 1909, in _run_once\n\n  File \"/usr/lib/python3.10/asyncio/events.py\", line 80, in _run\n\n  File \"/usr/local/lib/python3.10/dist-packages/tornado/ioloop.py\", line 685, in <lambda>\n\n  File \"/usr/local/lib/python3.10/dist-packages/tornado/ioloop.py\", line 738, in _run_callback\n\n  File \"/usr/local/lib/python3.10/dist-packages/tornado/gen.py\", line 825, in inner\n\n  File \"/usr/local/lib/python3.10/dist-packages/tornado/gen.py\", line 786, in run\n\n  File \"/usr/local/lib/python3.10/dist-packages/ipykernel/kernelbase.py\", line 361, in process_one\n\n  File \"/usr/local/lib/python3.10/dist-packages/tornado/gen.py\", line 234, in wrapper\n\n  File \"/usr/local/lib/python3.10/dist-packages/ipykernel/kernelbase.py\", line 261, in dispatch_shell\n\n  File \"/usr/local/lib/python3.10/dist-packages/tornado/gen.py\", line 234, in wrapper\n\n  File \"/usr/local/lib/python3.10/dist-packages/ipykernel/kernelbase.py\", line 539, in execute_request\n\n  File \"/usr/local/lib/python3.10/dist-packages/tornado/gen.py\", line 234, in wrapper\n\n  File \"/usr/local/lib/python3.10/dist-packages/ipykernel/ipkernel.py\", line 302, in do_execute\n\n  File \"/usr/local/lib/python3.10/dist-packages/ipykernel/zmqshell.py\", line 539, in run_cell\n\n  File \"/usr/local/lib/python3.10/dist-packages/IPython/core/interactiveshell.py\", line 2975, in run_cell\n\n  File \"/usr/local/lib/python3.10/dist-packages/IPython/core/interactiveshell.py\", line 3030, in _run_cell\n\n  File \"/usr/local/lib/python3.10/dist-packages/IPython/core/async_helpers.py\", line 78, in _pseudo_sync_runner\n\n  File \"/usr/local/lib/python3.10/dist-packages/IPython/core/interactiveshell.py\", line 3257, in run_cell_async\n\n  File \"/usr/local/lib/python3.10/dist-packages/IPython/core/interactiveshell.py\", line 3473, in run_ast_nodes\n\n  File \"/usr/local/lib/python3.10/dist-packages/IPython/core/interactiveshell.py\", line 3553, in run_code\n\n  File \"<ipython-input-46-595da1091931>\", line 15, in <cell line: 15>\n\n  File \"/usr/local/lib/python3.10/dist-packages/keras/src/utils/traceback_utils.py\", line 117, in error_handler\n\n  File \"/usr/local/lib/python3.10/dist-packages/keras/src/backend/tensorflow/trainer.py\", line 318, in fit\n\n  File \"/usr/local/lib/python3.10/dist-packages/keras/src/backend/tensorflow/trainer.py\", line 121, in one_step_on_iterator\n\n  File \"/usr/local/lib/python3.10/dist-packages/keras/src/backend/tensorflow/trainer.py\", line 108, in one_step_on_data\n\n  File \"/usr/local/lib/python3.10/dist-packages/keras/src/backend/tensorflow/trainer.py\", line 51, in train_step\n\n  File \"/usr/local/lib/python3.10/dist-packages/keras/src/utils/traceback_utils.py\", line 117, in error_handler\n\n  File \"/usr/local/lib/python3.10/dist-packages/keras/src/layers/layer.py\", line 882, in __call__\n\n  File \"/usr/local/lib/python3.10/dist-packages/keras/src/utils/traceback_utils.py\", line 117, in error_handler\n\n  File \"/usr/local/lib/python3.10/dist-packages/keras/src/ops/operation.py\", line 46, in __call__\n\n  File \"/usr/local/lib/python3.10/dist-packages/keras/src/utils/traceback_utils.py\", line 156, in error_handler\n\n  File \"/usr/local/lib/python3.10/dist-packages/keras/src/models/sequential.py\", line 209, in call\n\n  File \"/usr/local/lib/python3.10/dist-packages/keras/src/models/functional.py\", line 175, in call\n\n  File \"/usr/local/lib/python3.10/dist-packages/keras/src/ops/function.py\", line 171, in _run_through_graph\n\n  File \"/usr/local/lib/python3.10/dist-packages/keras/src/models/functional.py\", line 556, in call\n\n  File \"/usr/local/lib/python3.10/dist-packages/keras/src/utils/traceback_utils.py\", line 117, in error_handler\n\n  File \"/usr/local/lib/python3.10/dist-packages/keras/src/layers/layer.py\", line 882, in __call__\n\n  File \"/usr/local/lib/python3.10/dist-packages/keras/src/utils/traceback_utils.py\", line 117, in error_handler\n\n  File \"/usr/local/lib/python3.10/dist-packages/keras/src/ops/operation.py\", line 46, in __call__\n\n  File \"/usr/local/lib/python3.10/dist-packages/keras/src/utils/traceback_utils.py\", line 156, in error_handler\n\n  File \"/usr/local/lib/python3.10/dist-packages/keras/src/layers/reshaping/flatten.py\", line 54, in call\n\n  File \"/usr/local/lib/python3.10/dist-packages/keras/src/ops/numpy.py\", line 4440, in reshape\n\n  File \"/usr/local/lib/python3.10/dist-packages/keras/src/backend/tensorflow/numpy.py\", line 1789, in reshape\n\nOnly one input size may be -1, not both 0 and 1\n\t [[{{node sequential_11_1/flatten_1_1/Reshape}}]] [Op:__inference_one_step_on_iterator_70403]"
          ]
        }
      ]
    },
    {
      "cell_type": "code",
      "source": [
        "import numpy as np\n",
        "from tensorflow.keras.layers import Embedding\n",
        "from tensorflow.keras.models import Sequential\n",
        "\n",
        "# Assume you have a vocabulary size of 10,000 words (i.e., tokens are indexed from 0 to 9999)\n",
        "vocab_size = 10000\n",
        "\n",
        "# Embedding layer maps each word index to a vector of size 64\n",
        "embedding_dim = 64\n",
        "\n",
        "# Define a Sequential model with an Embedding layer\n",
        "model = Sequential([\n",
        "    Embedding(input_dim=vocab_size, output_dim=embedding_dim, input_length=5) # input_length should match the length of your input sequences\n",
        "])\n",
        "\n",
        "# Example input: a batch of 2 sentences, each represented by a sequence of 5 word indices\n",
        "input_data = [[1, 2, 3, 4, 5], [6, 7, 8, 9, 10]]\n",
        "\n",
        "# Convert input_data to a NumPy array\n",
        "input_data = np.array(input_data)\n",
        "\n",
        "# Forward pass through the Embedding layer (output shape: (batch_size, sequence_length, embedding_dim))\n",
        "output = model.predict(input_data)\n",
        "\n",
        "print(\"Output shape:\", output.shape)"
      ],
      "metadata": {
        "colab": {
          "base_uri": "https://localhost:8080/"
        },
        "id": "RXpfbeJ_GYIk",
        "outputId": "75a1d690-b169-4852-b16f-257491a83422"
      },
      "execution_count": null,
      "outputs": [
        {
          "output_type": "stream",
          "name": "stdout",
          "text": [
            "\u001b[1m1/1\u001b[0m \u001b[32m━━━━━━━━━━━━━━━━━━━━\u001b[0m\u001b[37m\u001b[0m \u001b[1m0s\u001b[0m 140ms/step\n"
          ]
        },
        {
          "output_type": "stream",
          "name": "stderr",
          "text": [
            "/usr/local/lib/python3.10/dist-packages/keras/src/layers/core/embedding.py:90: UserWarning: Argument `input_length` is deprecated. Just remove it.\n",
            "  warnings.warn(\n"
          ]
        },
        {
          "output_type": "stream",
          "name": "stdout",
          "text": [
            "Output shape: (2, 5, 64)\n"
          ]
        }
      ]
    },
    {
      "cell_type": "markdown",
      "source": [
        "**LSTM-Long Short Term Memorry**"
      ],
      "metadata": {
        "id": "VBFgWC4nNRd8"
      }
    },
    {
      "cell_type": "code",
      "source": [
        "model = models.Sequential()\n",
        "model.add(encoder)\n",
        "model.build(input_shape=(None,))\n",
        "model.add(layers.Embedding(input_dim=vocabulary_size,output_dim=32))\n",
        "model.add(layers.LSTM(64))\n",
        "model.add(layers.Dense(1,activation=\"sigmoid\"))\n",
        "model.summary()"
      ],
      "metadata": {
        "colab": {
          "base_uri": "https://localhost:8080/",
          "height": 273
        },
        "id": "6bEBv362NYWd",
        "outputId": "106c20a6-4173-47f0-d91b-f5a2ea53e7da"
      },
      "execution_count": null,
      "outputs": [
        {
          "output_type": "display_data",
          "data": {
            "text/plain": [
              "\u001b[1mModel: \"sequential_14\"\u001b[0m\n"
            ],
            "text/html": [
              "<pre style=\"white-space:pre;overflow-x:auto;line-height:normal;font-family:Menlo,'DejaVu Sans Mono',consolas,'Courier New',monospace\"><span style=\"font-weight: bold\">Model: \"sequential_14\"</span>\n",
              "</pre>\n"
            ]
          },
          "metadata": {}
        },
        {
          "output_type": "display_data",
          "data": {
            "text/plain": [
              "┏━━━━━━━━━━━━━━━━━━━━━━━━━━━━━━━━━━━━━━┳━━━━━━━━━━━━━━━━━━━━━━━━━━━━━┳━━━━━━━━━━━━━━━━━┓\n",
              "┃\u001b[1m \u001b[0m\u001b[1mLayer (type)                        \u001b[0m\u001b[1m \u001b[0m┃\u001b[1m \u001b[0m\u001b[1mOutput Shape               \u001b[0m\u001b[1m \u001b[0m┃\u001b[1m \u001b[0m\u001b[1m        Param #\u001b[0m\u001b[1m \u001b[0m┃\n",
              "┡━━━━━━━━━━━━━━━━━━━━━━━━━━━━━━━━━━━━━━╇━━━━━━━━━━━━━━━━━━━━━━━━━━━━━╇━━━━━━━━━━━━━━━━━┩\n",
              "│ text_vectorization_2                 │ (\u001b[38;5;45mNone\u001b[0m, \u001b[38;5;34m128\u001b[0m)                 │               \u001b[38;5;34m0\u001b[0m │\n",
              "│ (\u001b[38;5;33mTextVectorization\u001b[0m)                  │                             │                 │\n",
              "├──────────────────────────────────────┼─────────────────────────────┼─────────────────┤\n",
              "│ embedding_13 (\u001b[38;5;33mEmbedding\u001b[0m)             │ (\u001b[38;5;45mNone\u001b[0m, \u001b[38;5;34m128\u001b[0m, \u001b[38;5;34m32\u001b[0m)             │         \u001b[38;5;34m320,000\u001b[0m │\n",
              "├──────────────────────────────────────┼─────────────────────────────┼─────────────────┤\n",
              "│ lstm_6 (\u001b[38;5;33mLSTM\u001b[0m)                        │ (\u001b[38;5;45mNone\u001b[0m, \u001b[38;5;34m64\u001b[0m)                  │          \u001b[38;5;34m24,832\u001b[0m │\n",
              "├──────────────────────────────────────┼─────────────────────────────┼─────────────────┤\n",
              "│ dense_12 (\u001b[38;5;33mDense\u001b[0m)                     │ (\u001b[38;5;45mNone\u001b[0m, \u001b[38;5;34m1\u001b[0m)                   │              \u001b[38;5;34m65\u001b[0m │\n",
              "└──────────────────────────────────────┴─────────────────────────────┴─────────────────┘\n"
            ],
            "text/html": [
              "<pre style=\"white-space:pre;overflow-x:auto;line-height:normal;font-family:Menlo,'DejaVu Sans Mono',consolas,'Courier New',monospace\">┏━━━━━━━━━━━━━━━━━━━━━━━━━━━━━━━━━━━━━━┳━━━━━━━━━━━━━━━━━━━━━━━━━━━━━┳━━━━━━━━━━━━━━━━━┓\n",
              "┃<span style=\"font-weight: bold\"> Layer (type)                         </span>┃<span style=\"font-weight: bold\"> Output Shape                </span>┃<span style=\"font-weight: bold\">         Param # </span>┃\n",
              "┡━━━━━━━━━━━━━━━━━━━━━━━━━━━━━━━━━━━━━━╇━━━━━━━━━━━━━━━━━━━━━━━━━━━━━╇━━━━━━━━━━━━━━━━━┩\n",
              "│ text_vectorization_2                 │ (<span style=\"color: #00d7ff; text-decoration-color: #00d7ff\">None</span>, <span style=\"color: #00af00; text-decoration-color: #00af00\">128</span>)                 │               <span style=\"color: #00af00; text-decoration-color: #00af00\">0</span> │\n",
              "│ (<span style=\"color: #0087ff; text-decoration-color: #0087ff\">TextVectorization</span>)                  │                             │                 │\n",
              "├──────────────────────────────────────┼─────────────────────────────┼─────────────────┤\n",
              "│ embedding_13 (<span style=\"color: #0087ff; text-decoration-color: #0087ff\">Embedding</span>)             │ (<span style=\"color: #00d7ff; text-decoration-color: #00d7ff\">None</span>, <span style=\"color: #00af00; text-decoration-color: #00af00\">128</span>, <span style=\"color: #00af00; text-decoration-color: #00af00\">32</span>)             │         <span style=\"color: #00af00; text-decoration-color: #00af00\">320,000</span> │\n",
              "├──────────────────────────────────────┼─────────────────────────────┼─────────────────┤\n",
              "│ lstm_6 (<span style=\"color: #0087ff; text-decoration-color: #0087ff\">LSTM</span>)                        │ (<span style=\"color: #00d7ff; text-decoration-color: #00d7ff\">None</span>, <span style=\"color: #00af00; text-decoration-color: #00af00\">64</span>)                  │          <span style=\"color: #00af00; text-decoration-color: #00af00\">24,832</span> │\n",
              "├──────────────────────────────────────┼─────────────────────────────┼─────────────────┤\n",
              "│ dense_12 (<span style=\"color: #0087ff; text-decoration-color: #0087ff\">Dense</span>)                     │ (<span style=\"color: #00d7ff; text-decoration-color: #00d7ff\">None</span>, <span style=\"color: #00af00; text-decoration-color: #00af00\">1</span>)                   │              <span style=\"color: #00af00; text-decoration-color: #00af00\">65</span> │\n",
              "└──────────────────────────────────────┴─────────────────────────────┴─────────────────┘\n",
              "</pre>\n"
            ]
          },
          "metadata": {}
        },
        {
          "output_type": "display_data",
          "data": {
            "text/plain": [
              "\u001b[1m Total params: \u001b[0m\u001b[38;5;34m344,897\u001b[0m (1.32 MB)\n"
            ],
            "text/html": [
              "<pre style=\"white-space:pre;overflow-x:auto;line-height:normal;font-family:Menlo,'DejaVu Sans Mono',consolas,'Courier New',monospace\"><span style=\"font-weight: bold\"> Total params: </span><span style=\"color: #00af00; text-decoration-color: #00af00\">344,897</span> (1.32 MB)\n",
              "</pre>\n"
            ]
          },
          "metadata": {}
        },
        {
          "output_type": "display_data",
          "data": {
            "text/plain": [
              "\u001b[1m Trainable params: \u001b[0m\u001b[38;5;34m344,897\u001b[0m (1.32 MB)\n"
            ],
            "text/html": [
              "<pre style=\"white-space:pre;overflow-x:auto;line-height:normal;font-family:Menlo,'DejaVu Sans Mono',consolas,'Courier New',monospace\"><span style=\"font-weight: bold\"> Trainable params: </span><span style=\"color: #00af00; text-decoration-color: #00af00\">344,897</span> (1.32 MB)\n",
              "</pre>\n"
            ]
          },
          "metadata": {}
        },
        {
          "output_type": "display_data",
          "data": {
            "text/plain": [
              "\u001b[1m Non-trainable params: \u001b[0m\u001b[38;5;34m0\u001b[0m (0.00 B)\n"
            ],
            "text/html": [
              "<pre style=\"white-space:pre;overflow-x:auto;line-height:normal;font-family:Menlo,'DejaVu Sans Mono',consolas,'Courier New',monospace\"><span style=\"font-weight: bold\"> Non-trainable params: </span><span style=\"color: #00af00; text-decoration-color: #00af00\">0</span> (0.00 B)\n",
              "</pre>\n"
            ]
          },
          "metadata": {}
        }
      ]
    },
    {
      "cell_type": "code",
      "source": [
        "model.compile(\n",
        "    optimizer=\"adam\",\n",
        "    loss=\"binary_crossentropy\",\n",
        "    metrics=[\"accuracy\"]\n",
        ")\n",
        "\n",
        "history = model.fit(\n",
        "    dataset_train,\n",
        "    epochs=4,\n",
        "    validation_data=dataset_validate\n",
        ")\n",
        "\n",
        "render_history(history)\n"
      ],
      "metadata": {
        "colab": {
          "base_uri": "https://localhost:8080/",
          "height": 993
        },
        "id": "NBDwWLJuOtfd",
        "outputId": "87161d85-6769-46a7-b624-11fb778c85eb"
      },
      "execution_count": null,
      "outputs": [
        {
          "output_type": "stream",
          "name": "stdout",
          "text": [
            "Epoch 1/4\n",
            "\u001b[1m196/196\u001b[0m \u001b[32m━━━━━━━━━━━━━━━━━━━━\u001b[0m\u001b[37m\u001b[0m \u001b[1m57s\u001b[0m 275ms/step - accuracy: 0.6246 - loss: 0.6127 - val_accuracy: 0.8301 - val_loss: 0.4029\n",
            "Epoch 2/4\n",
            "\u001b[1m196/196\u001b[0m \u001b[32m━━━━━━━━━━━━━━━━━━━━\u001b[0m\u001b[37m\u001b[0m \u001b[1m53s\u001b[0m 273ms/step - accuracy: 0.8718 - loss: 0.3238 - val_accuracy: 0.8343 - val_loss: 0.3904\n",
            "Epoch 3/4\n",
            "\u001b[1m196/196\u001b[0m \u001b[32m━━━━━━━━━━━━━━━━━━━━\u001b[0m\u001b[37m\u001b[0m \u001b[1m82s\u001b[0m 273ms/step - accuracy: 0.8974 - loss: 0.2810 - val_accuracy: 0.8120 - val_loss: 0.4641\n",
            "Epoch 4/4\n",
            "\u001b[1m196/196\u001b[0m \u001b[32m━━━━━━━━━━━━━━━━━━━━\u001b[0m\u001b[37m\u001b[0m \u001b[1m81s\u001b[0m 269ms/step - accuracy: 0.8452 - loss: 0.3886 - val_accuracy: 0.8166 - val_loss: 0.4461\n"
          ]
        },
        {
          "output_type": "display_data",
          "data": {
            "text/plain": [
              "<Figure size 640x480 with 1 Axes>"
            ],
            "image/png": "[encoded data removed]"
          },
          "metadata": {}
        },
        {
          "output_type": "display_data",
          "data": {
            "text/plain": [
              "<Figure size 640x480 with 1 Axes>"
            ],
            "image/png": "[encoded data removed]"
          },
          "metadata": {}
        }
      ]
    }
  ]
}